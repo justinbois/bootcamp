{
 "cells": [
  {
   "cell_type": "markdown",
   "metadata": {},
   "source": [
    "# Exercise 2.3: Pathogenicity islands\n",
    "\n",
    "This exercise was inspired by [Libeskind-Hadas and Bush, *Computing for Biologists*, Cambridge University Press, 2014](https://www.cs.hmc.edu/CFB).\n",
    "\n",
    "<hr>"
   ]
  },
  {
   "cell_type": "markdown",
   "metadata": {},
   "source": [
    "For this and the [next problem](exercise_2.4.ipynb), we will work with real data from the *Salmonella enterica* genome.  The section of the genome we will work with is in the file `~git/bootcamp/data/salmonella_spi1_region.fna`. I cut it out of the [full genome](http://www.ncbi.nlm.nih.gov/nucleotide/821161554). It contains *Salmonella* pathogenicity island I (SPI1), which contains genes for surface receptors for host-pathogen interactions.\n",
    "\n",
    "Pathogenicity islands are often marked by different GC content than the rest of the genome. We will try to locate the pathogenicity island(s) in our section of the *Salmonella* genome by computing GC content.\n",
    "\n",
    "**a)** Write a function that divides a sequence into blocks and computes the GC content for each block, returning a tuple. The function signature should look like\n",
    "\n",
    "    gc_blocks(seq, block_size)\n",
    "    \n",
    "To be clear, if `seq = 'ATGACTACGT'` and `block_size = 4`, the blocks to be considered are\n",
    "\n",
    "    ATGA\n",
    "    CTAC\n",
    "    \n",
    "and the function should return `(0.25, 0.5)`. Note that the blocks are non-overlapping and that we don't bother with the fact that end of the sequence that does not fit completely in a block."
   ]
  },
  {
   "cell_type": "markdown",
   "metadata": {},
   "source": [
    "**b)** Write a function that takes as input a sequence, block size, and a threshold GC content, and returns the original sequence where every base in a block with GC content above threshold is capitalized and every base below the threshold is lowercase. You would call the function like this:\n",
    "\n",
    "    mapped_seq = gc_map(seq, block_size, gc_thresh)\n",
    "\n",
    "For example, \n",
    "\n",
    "    gc_map('ATGACTACGT', 4, 0.4)\n",
    "\n",
    "returns `'atgaCTAC'`. Note that bases not included in GC blocks (in this case the `GT` at the end of the sequence) are not included in the output sequence."
   ]
  },
  {
   "cell_type": "markdown",
   "metadata": {},
   "source": [
    "**c)** Use the `gc_map()` function to generate a GC content map for the *Salmonella* sequence with `block_size = 1000` and `gc_thresh = 0.45`. Where do you think the pathogenicity island is?"
   ]
  },
  {
   "cell_type": "markdown",
   "metadata": {},
   "source": [
    "**d)** Write the GC-mapped sequence (with upper and lower characters) to a new FASTA file. Use the same description line (which began with a `>` in the original FASTA file), and have line breaks every 60 characters in the sequence."
   ]
  },
  {
   "cell_type": "markdown",
   "metadata": {},
   "source": [
    "<br />"
   ]
  },
  {
   "cell_type": "markdown",
   "metadata": {},
   "source": [
    "## Solution\n",
    "\n",
    "<hr>"
   ]
  },
  {
   "cell_type": "code",
   "execution_count": 1,
   "metadata": {},
   "outputs": [],
   "source": [
    "import numpy as np"
   ]
  },
  {
   "cell_type": "markdown",
   "metadata": {},
   "source": [
    "**a)** In my approach to this problem, I will employ **test-driven development** (TDD). The idea is that you write tests for your functions _first_ and then develop your functions around passing tests. The suite of tests for a function grows with bug fixes and feature additions. \n",
    "\n",
    "So, first let's write our tests. In writing the tests, I am making the design decision that I will count the characters `G`, `g`, `C`, and `c` as contributing to GC content, and that I will not check to make sure the sequence is valid. I also make the design decision that an empty sequence has zero GC content."
   ]
  },
  {
   "cell_type": "code",
   "execution_count": 2,
   "metadata": {},
   "outputs": [],
   "source": [
    "def test_gc_content():\n",
    "    assert gc_content('') == 0.0\n",
    "    assert gc_content('G') == 1.0\n",
    "    assert gc_content('g') == 1.0\n",
    "    assert gc_content('C') == 1.0\n",
    "    assert gc_content('c') == 1.0\n",
    "    assert gc_content('gcgcgc') == 1.0\n",
    "    assert gc_content('aaatatata') == 0.0\n",
    "    assert np.isclose(gc_content('ggatcggcga'), 0.7)\n",
    "    assert np.isclose(gc_content('attgggggcaatta'), 3/7)"
   ]
  },
  {
   "cell_type": "markdown",
   "metadata": {},
   "source": [
    "The function is fairly simple. We loop through the sequence with a stride equal to the block size, computing the GC content for each subsequence of that length. We start with a function to compute GC content for a sequence."
   ]
  },
  {
   "cell_type": "code",
   "execution_count": 3,
   "metadata": {},
   "outputs": [],
   "source": [
    "def gc_content(seq):\n",
    "    \"\"\"GC content of a given sequence\"\"\"\n",
    "    if seq == '':\n",
    "        return 0.0\n",
    "    \n",
    "    seq = seq.upper()\n",
    "    return (seq.count('G') + seq.count('C')) / len(seq)"
   ]
  },
  {
   "cell_type": "markdown",
   "metadata": {},
   "source": [
    "Now let's test it."
   ]
  },
  {
   "cell_type": "code",
   "execution_count": 4,
   "metadata": {},
   "outputs": [],
   "source": [
    "test_gc_content()"
   ]
  },
  {
   "cell_type": "markdown",
   "metadata": {},
   "source": [
    "Passage! Next, we write the looping function, starting with its tests."
   ]
  },
  {
   "cell_type": "code",
   "execution_count": 5,
   "metadata": {},
   "outputs": [],
   "source": [
    "def test_gc_blocks():\n",
    "    assert gc_blocks('', 10) == tuple()\n",
    "    assert gc_blocks('gcgcgcgcg', 10) == tuple()\n",
    "    assert gc_blocks('gcgcgcg', 4) == (1.0,)\n",
    "    assert gc_blocks('gcgcgcgc', 4) == (1.0, 1.0)\n",
    "    assert gc_blocks('gcgcgcgcat', 4) == (1.0, 1.0)\n",
    "\n",
    "    test_tuple = gc_blocks('gcgagcgcat', 4)\n",
    "    assert np.isclose(test_tuple[0], 0.75) and test_tuple[1] == 1.0\n",
    "    \n",
    "    assert gc_blocks('gcgtagagc', 1) == (1.0, 1.0, 1.0, 0.0, 0.0, 1.0, 0.0, 1.0, 1.0)\n",
    "    assert gc_blocks('gcgtagagc', 2) == (1.0, 0.5, 0.5, 0.5)\n",
    "    assert np.isclose(gc_blocks('gcgtagagc', 3), (1.0, 1/3, 2/3)).sum() == 3"
   ]
  },
  {
   "cell_type": "markdown",
   "metadata": {},
   "source": [
    "Now let's write our function."
   ]
  },
  {
   "cell_type": "code",
   "execution_count": 6,
   "metadata": {},
   "outputs": [],
   "source": [
    "def gc_blocks(seq, block_size):\n",
    "    \"\"\"\n",
    "    Divide sequence into non-overlapping blocks\n",
    "    and compute GC content of each block.\n",
    "    \"\"\"\n",
    "    blocks = []\n",
    "    for i in range(0, len(seq) - (len(seq) % block_size), block_size):\n",
    "        blocks.append(gc_content(seq[i:i+block_size]))\n",
    "    return tuple(blocks)"
   ]
  },
  {
   "cell_type": "markdown",
   "metadata": {},
   "source": [
    "And the tests...."
   ]
  },
  {
   "cell_type": "code",
   "execution_count": 7,
   "metadata": {},
   "outputs": [],
   "source": [
    "test_gc_blocks()"
   ]
  },
  {
   "cell_type": "markdown",
   "metadata": {},
   "source": [
    "Success! Let's take this function for a spin, looking at 1000-base blocks. We will use the FASTA reader function from a previous exercise to read in the _Salmonella_ genome fragment."
   ]
  },
  {
   "cell_type": "code",
   "execution_count": 8,
   "metadata": {},
   "outputs": [
    {
     "data": {
      "text/plain": [
       "(0.521,\n",
       " 0.556,\n",
       " 0.54,\n",
       " 0.498,\n",
       " 0.551,\n",
       " 0.508,\n",
       " 0.563,\n",
       " 0.484,\n",
       " 0.58,\n",
       " 0.557,\n",
       " 0.523,\n",
       " 0.524,\n",
       " 0.621,\n",
       " 0.556,\n",
       " 0.481,\n",
       " 0.57,\n",
       " 0.581,\n",
       " 0.614,\n",
       " 0.603,\n",
       " 0.526,\n",
       " 0.524,\n",
       " 0.591,\n",
       " 0.563,\n",
       " 0.596,\n",
       " 0.563,\n",
       " 0.6,\n",
       " 0.613,\n",
       " 0.594,\n",
       " 0.486,\n",
       " 0.554,\n",
       " 0.566,\n",
       " 0.592,\n",
       " 0.563,\n",
       " 0.537,\n",
       " 0.575,\n",
       " 0.501,\n",
       " 0.54,\n",
       " 0.555,\n",
       " 0.487,\n",
       " 0.416,\n",
       " 0.423,\n",
       " 0.371,\n",
       " 0.394,\n",
       " 0.48,\n",
       " 0.454,\n",
       " 0.474,\n",
       " 0.434,\n",
       " 0.396,\n",
       " 0.37,\n",
       " 0.456,\n",
       " 0.409,\n",
       " 0.457,\n",
       " 0.4,\n",
       " 0.405,\n",
       " 0.475,\n",
       " 0.47,\n",
       " 0.479,\n",
       " 0.494,\n",
       " 0.497,\n",
       " 0.516,\n",
       " 0.444,\n",
       " 0.433,\n",
       " 0.471,\n",
       " 0.458,\n",
       " 0.53,\n",
       " 0.458,\n",
       " 0.56,\n",
       " 0.427,\n",
       " 0.47,\n",
       " 0.438,\n",
       " 0.465,\n",
       " 0.473,\n",
       " 0.46,\n",
       " 0.399,\n",
       " 0.426,\n",
       " 0.359,\n",
       " 0.469,\n",
       " 0.433,\n",
       " 0.425,\n",
       " 0.504,\n",
       " 0.578,\n",
       " 0.576,\n",
       " 0.553,\n",
       " 0.531,\n",
       " 0.57,\n",
       " 0.599,\n",
       " 0.562,\n",
       " 0.555,\n",
       " 0.595,\n",
       " 0.586,\n",
       " 0.55,\n",
       " 0.56,\n",
       " 0.545,\n",
       " 0.553,\n",
       " 0.537,\n",
       " 0.519,\n",
       " 0.519,\n",
       " 0.567,\n",
       " 0.551,\n",
       " 0.548,\n",
       " 0.559,\n",
       " 0.527,\n",
       " 0.559,\n",
       " 0.529,\n",
       " 0.49,\n",
       " 0.533,\n",
       " 0.58,\n",
       " 0.545,\n",
       " 0.558,\n",
       " 0.575,\n",
       " 0.555,\n",
       " 0.49,\n",
       " 0.567,\n",
       " 0.515,\n",
       " 0.518,\n",
       " 0.485,\n",
       " 0.38,\n",
       " 0.461,\n",
       " 0.568,\n",
       " 0.575,\n",
       " 0.567,\n",
       " 0.57,\n",
       " 0.472,\n",
       " 0.513,\n",
       " 0.582,\n",
       " 0.476,\n",
       " 0.505,\n",
       " 0.524,\n",
       " 0.51,\n",
       " 0.512,\n",
       " 0.391,\n",
       " 0.463,\n",
       " 0.57,\n",
       " 0.546,\n",
       " 0.535,\n",
       " 0.525,\n",
       " 0.525,\n",
       " 0.529,\n",
       " 0.58,\n",
       " 0.555,\n",
       " 0.558,\n",
       " 0.563,\n",
       " 0.525,\n",
       " 0.505,\n",
       " 0.557,\n",
       " 0.554,\n",
       " 0.484,\n",
       " 0.525,\n",
       " 0.567,\n",
       " 0.467,\n",
       " 0.527,\n",
       " 0.55,\n",
       " 0.577,\n",
       " 0.554,\n",
       " 0.538,\n",
       " 0.429,\n",
       " 0.507,\n",
       " 0.557,\n",
       " 0.592,\n",
       " 0.595,\n",
       " 0.554,\n",
       " 0.521,\n",
       " 0.539,\n",
       " 0.521,\n",
       " 0.45,\n",
       " 0.608,\n",
       " 0.489,\n",
       " 0.477,\n",
       " 0.552,\n",
       " 0.508,\n",
       " 0.544,\n",
       " 0.495,\n",
       " 0.543,\n",
       " 0.56,\n",
       " 0.596,\n",
       " 0.547,\n",
       " 0.581,\n",
       " 0.548,\n",
       " 0.537,\n",
       " 0.529,\n",
       " 0.513,\n",
       " 0.499,\n",
       " 0.545,\n",
       " 0.567,\n",
       " 0.52,\n",
       " 0.545,\n",
       " 0.548,\n",
       " 0.522,\n",
       " 0.533,\n",
       " 0.558,\n",
       " 0.586,\n",
       " 0.469,\n",
       " 0.516,\n",
       " 0.509,\n",
       " 0.511,\n",
       " 0.569,\n",
       " 0.575,\n",
       " 0.559,\n",
       " 0.545,\n",
       " 0.502)"
      ]
     },
     "execution_count": 8,
     "metadata": {},
     "output_type": "execute_result"
    }
   ],
   "source": [
    "def read_fasta(filename):\n",
    "    \"\"\"Read a sequence in from a FASTA file containing a single sequence.\n",
    "    \n",
    "    We assume that the first line of the file is the descriptor and all\n",
    "    subsequent lines are sequence.    \n",
    "    \"\"\"\n",
    "    with open(filename, 'r') as f:\n",
    "        # Read in descriptor\n",
    "        descriptor = f.readline().rstrip()\n",
    "\n",
    "        # Read in sequence, stripping the whitespace from each line\n",
    "        seq = ''\n",
    "        line = f.readline().rstrip()\n",
    "        while line != '':\n",
    "            seq += line\n",
    "            line = f.readline().rstrip()\n",
    "            \n",
    "    return descriptor, seq\n",
    "\n",
    "\n",
    "descriptor, seq = read_fasta('data/salmonella_spi1_region.fna')\n",
    "\n",
    "gc_blocks(seq, 1000)"
   ]
  },
  {
   "cell_type": "markdown",
   "metadata": {},
   "source": [
    "We get a tuple of GC content, which is hard to look at on screen, but this is useful for plotting GC content over the course of a sequence. We will learn how to plot later in the bootcamp."
   ]
  },
  {
   "cell_type": "markdown",
   "metadata": {},
   "source": [
    "**b)** We just use our already-written `gc_content()` function to decide how to modify the string of the sequence. First, the tests. We make the design decision that we will truncate the sequence if the 3'-most end is shorter than the block length."
   ]
  },
  {
   "cell_type": "code",
   "execution_count": 9,
   "metadata": {},
   "outputs": [],
   "source": [
    "def test_gc_map():\n",
    "    assert gc_map('', 10, 0.5) == ''\n",
    "    assert gc_map('ATATATATA', 4, 0.5) == 'atatatat'\n",
    "    assert gc_map('GCGCGCGCG', 4, 0.5) == 'GCGCGCGC'\n",
    "    assert gc_map('GATCGATCC', 4, 0.5) == 'GATCGATC'\n",
    "    assert gc_map('GATCGATCC', 4, 0.51) == 'gatcgatc'\n",
    "    assert gc_map('GATCGATCC', 3, 0.5) == 'gatCGATCC'\n",
    "    assert gc_map('GATCGATCC', 3, 0.75) == 'gatcgatcc'\n",
    "    assert gc_map('GATCGATCC', 3, 0.25) == 'GATCGATCC'"
   ]
  },
  {
   "cell_type": "markdown",
   "metadata": {},
   "source": [
    "Now the function...."
   ]
  },
  {
   "cell_type": "code",
   "execution_count": 10,
   "metadata": {},
   "outputs": [],
   "source": [
    "def gc_map(seq, block_size, gc_thresh):\n",
    "    \"\"\"Give back seq with lowercase letters where GC content is low.\"\"\" \n",
    "    out_seq = ''\n",
    "\n",
    "    # Determine GC content of each block and change string accordingly\n",
    "    for i in range(0, len(seq) - (len(seq) % block_size), block_size):\n",
    "        if gc_content(seq[i:i+block_size]) < gc_thresh:\n",
    "            out_seq += seq[i:i+block_size].lower()\n",
    "        else:\n",
    "            out_seq += seq[i:i+block_size].upper()\n",
    "\n",
    "    return out_seq"
   ]
  },
  {
   "cell_type": "markdown",
   "metadata": {},
   "source": [
    "And the tests."
   ]
  },
  {
   "cell_type": "code",
   "execution_count": 11,
   "metadata": {},
   "outputs": [],
   "source": [
    "test_gc_map()"
   ]
  },
  {
   "cell_type": "markdown",
   "metadata": {},
   "source": [
    "Passage! We can now use these functions to analyze sequences of interest."
   ]
  },
  {
   "cell_type": "markdown",
   "metadata": {},
   "source": [
    "**c)** Let's do it for *Salmonella*!"
   ]
  },
  {
   "cell_type": "code",
   "execution_count": 12,
   "metadata": {},
   "outputs": [],
   "source": [
    "sal_gcmap = gc_map(seq, 1000, 0.45)"
   ]
  },
  {
   "cell_type": "markdown",
   "metadata": {},
   "source": [
    "To save on display space, we will not display the sequence here.  Scrolling through the GC map file generated in the next part, the pathogenicity island appears to occur about a quarter of the way into this subsequence."
   ]
  },
  {
   "cell_type": "markdown",
   "metadata": {},
   "source": [
    "**d)** To write the file out, we use the fact that we conveniently kept the description text when we parsed the *Salmonella* FASTA file in the first place.  We then just write the `sal_gcmap` string in blocks of 60.  We have to make sure to get the last few bases as well."
   ]
  },
  {
   "cell_type": "code",
   "execution_count": 13,
   "metadata": {},
   "outputs": [],
   "source": [
    "# Write the result\n",
    "with open('salmonella_spi1_region_gc_map.fna', 'w') as f:\n",
    "    # Write description text\n",
    "    f.write(descriptor + '\\n')\n",
    "\n",
    "    # Write sequence in blocks of 60\n",
    "    i = 0\n",
    "    while i < len(sal_gcmap) - 59:\n",
    "        f.write(sal_gcmap[i:i+60] + '\\n')\n",
    "        i += 60\n",
    "    \n",
    "    # Write last line\n",
    "    f.write(sal_gcmap[i:] + '\\n')"
   ]
  },
  {
   "cell_type": "markdown",
   "metadata": {},
   "source": [
    "We'll take a quick look to see it worked out ok."
   ]
  },
  {
   "cell_type": "code",
   "execution_count": 14,
   "metadata": {},
   "outputs": [
    {
     "name": "stdout",
     "output_type": "stream",
     "text": [
      ">gi|821161554|gb|CP011428.1| Salmonella enterica subsp. enterica strain YU39, complete genome, subsequence 3000000 to 3200000\n",
      "AAAACCTTAGTAACTGGACTGCTGGGATTTTTCAGCCTGGATACGCTGGTAGATCTCTTC\n",
      "ACGATGGACAGAAACTTCTTTCGGGGCGTTCACGCCAATACGCACCTGGTTGCCCTTCAC\n",
      "CCCTAAAACTGTCACGGTGACCTCATCGCCAATCATGAGGGTCTCACCAACTCGACGAGT\n",
      "CAGAATCAGCATTCTTTGCTCCTTGAAAGATTAAAAGAGTCGGGTCTCTCTGTATCCCGG\n",
      "CATTATCCATCATATAACGCCAAAAAGTAAGCGATGACAAACACCTTAGGTGTAAGCAGT\n",
      "CATGGCATTACATTCTGTTAAACCTAAGTTTAGCCGATATACAAAACTTCAACCTGACTT\n",
      "TATCGTTGTCGATAGCGTTGACGTAAACGCCGCAGCACGGGCTGCGGCGCCAACGAACGC\n",
      "TTATAATTATTGCAATTTTGCGCTGACCCAGCCTTGTACACTGGCTAACGCTGCAGGCAG\n",
      "AGCTGCCGCATCCGTACCACCGGCTTGCGCCATGTCCGGACGACCGCCACCCTTACCGCC\n",
      "...\n",
      "ACGCATTTCTCCCGTGCAGGTCACATTTGCCCGACACGGCGGGGCAAGAGGCTTGAACAG\n",
      "ACGTTCATTTTCCGTAAAACTGGCGTAATGTAAGCGTTTACCCACTATAGGTATTATCAT\n",
      "GGCGACCATAAAAGATGTAGCCCGACTGGCCGGTGTTTCAGTCGCCACCGTTTCTCGCGT\n",
      "TATTAACGATTCGCCAAAAGCCAGCGAAGCGTCCCGGCTGGCGGTAACCAGCGCAATGGA\n",
      "GTCCCTGAGCTATCACCCTAACGCCAACGCGCGCGCGCTGGCACAGCAGGCAACGGAAAC\n",
      "CCTCGGTCTGGTGGTCGGCGACGTTTCCGATCCTTTTTTCGGCGCGATGGTGAAAGCCGT\n",
      "TGAACAGGTGGCGTATCACACCGGCAATTTTTTACTGATTGGCAACGGGTATCATAACGA\n",
      "ACAAAAAGAGCGTCAGGCTATTGAACAGTTGATTCGTCATCGTTGCGCAGCGTTAGTGGT\n",
      "GCACGCCAAAATGATTCCGGATGCGGACCTGGCCTCATTAATGAAGCAAATCCCCGGCAT\n",
      "GGTGCTGATTAACCGCATTT\n"
     ]
    }
   ],
   "source": [
    "!head salmonella_spi1_region_gc_map.fna\n",
    "print('...')\n",
    "!tail salmonella_spi1_region_gc_map.fna"
   ]
  },
  {
   "cell_type": "markdown",
   "metadata": {},
   "source": [
    "Looks good!"
   ]
  },
  {
   "cell_type": "markdown",
   "metadata": {},
   "source": [
    "## Computing environment"
   ]
  },
  {
   "cell_type": "code",
   "execution_count": 15,
   "metadata": {
    "tags": [
     "hide-input"
    ]
   },
   "outputs": [
    {
     "name": "stdout",
     "output_type": "stream",
     "text": [
      "Python implementation: CPython\n",
      "Python version       : 3.9.12\n",
      "IPython version      : 8.3.0\n",
      "\n",
      "numpy     : 1.21.5\n",
      "jupyterlab: 3.3.2\n",
      "\n"
     ]
    }
   ],
   "source": [
    "%load_ext watermark\n",
    "%watermark -v -p numpy,jupyterlab"
   ]
  }
 ],
 "metadata": {
  "anaconda-cloud": {},
  "kernelspec": {
   "display_name": "Python 3 (ipykernel)",
   "language": "python",
   "name": "python3"
  },
  "language_info": {
   "codemirror_mode": {
    "name": "ipython",
    "version": 3
   },
   "file_extension": ".py",
   "mimetype": "text/x-python",
   "name": "python",
   "nbconvert_exporter": "python",
   "pygments_lexer": "ipython3",
   "version": "3.9.12"
  }
 },
 "nbformat": 4,
 "nbformat_minor": 4
}
