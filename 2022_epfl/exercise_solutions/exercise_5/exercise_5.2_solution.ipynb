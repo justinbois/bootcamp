{
 "cells": [
  {
   "cell_type": "markdown",
   "metadata": {},
   "source": [
    "# Exercise 5.2: Hacker stats with bee sperm data\n",
    "\n",
    "<hr>"
   ]
  },
  {
   "cell_type": "markdown",
   "metadata": {},
   "source": [
    "Neonicotinoid pesticides are thought to have inadvertent effects on service-providing insects such as bees. A study of this was [featured in the New York Times](http://www.nytimes.com/2016/07/29/science/neonicotinoid-insecticide-bee-sperm.html) in 2016. The original paper is [Straub, et al.,  Proc. Royal Soc. B 283(1835): 20160506](http://dx.doi.org/10.1098/rspb.2016.0506). Straub and coworkers put their [data in the Dryad repository](http://dx.doi.org/10.5061/dryad.bs515), which means we can work with it!\n",
    "\n",
    "(Do you see a trend here? If you want people to think deeply about your results, explore them, learn from them, further science with them, *make your data publicly available.* Strongly encourage the members of your lab to do the same.)\n",
    "\n",
    "We will look at the weight of drones (male bees) using the data set stored in `~/git/bootcamp/data/bee_weight.csv` and the sperm quality of drone bees using the data set stored in `~/git/bootcamp/data/bee_sperm.csv`.\n",
    "\n",
    "**a)** Load the drone weight data in as a Pandas `DataFrame`.  Note that the unit of the weight is milligrams (mg).\n",
    "\n",
    "**b)** Plot ECDFs of the drone weight for control and also for those exposed to pesticide. Do you think there is a clear difference?\n",
    "\n",
    "**c)** Compute the mean drone weight for control and those exposed to pesticide. Compute 95% bootstrap confidence intervals on the mean.\n",
    "\n",
    "**d)** Repeat parts (a)-(c) for drone sperm. Use the `'Quality'` column as your measure. This is defined as the percent of sperm that are alive in a 500 µL sample.\n",
    "\n",
    "**e)** As you have seen in your analysis in part (d), both the control and pesticide treatments have some outliers with very low sperm quality. This can tug heavily on the mean. So, get 95% bootstrap confidence intervals for the *median* sperm quality of the two treatments."
   ]
  },
  {
   "cell_type": "markdown",
   "metadata": {},
   "source": [
    "<br />"
   ]
  },
  {
   "cell_type": "markdown",
   "metadata": {},
   "source": [
    "## Solution\n"
   ]
  },
  {
   "cell_type": "code",
   "execution_count": 1,
   "metadata": {},
   "outputs": [
    {
     "data": {
      "text/html": [
       "\n",
       "    <div class=\"bk-root\">\n",
       "        <a href=\"https://bokeh.org\" target=\"_blank\" class=\"bk-logo bk-logo-small bk-logo-notebook\"></a>\n",
       "        <span id=\"1002\">Loading BokehJS ...</span>\n",
       "    </div>"
      ]
     },
     "metadata": {},
     "output_type": "display_data"
    },
    {
     "data": {
      "application/javascript": [
       "\n",
       "(function(root) {\n",
       "  function now() {\n",
       "    return new Date();\n",
       "  }\n",
       "\n",
       "  const force = true;\n",
       "\n",
       "  if (typeof root._bokeh_onload_callbacks === \"undefined\" || force === true) {\n",
       "    root._bokeh_onload_callbacks = [];\n",
       "    root._bokeh_is_loading = undefined;\n",
       "  }\n",
       "\n",
       "  const JS_MIME_TYPE = 'application/javascript';\n",
       "  const HTML_MIME_TYPE = 'text/html';\n",
       "  const EXEC_MIME_TYPE = 'application/vnd.bokehjs_exec.v0+json';\n",
       "  const CLASS_NAME = 'output_bokeh rendered_html';\n",
       "\n",
       "  /**\n",
       "   * Render data to the DOM node\n",
       "   */\n",
       "  function render(props, node) {\n",
       "    const script = document.createElement(\"script\");\n",
       "    node.appendChild(script);\n",
       "  }\n",
       "\n",
       "  /**\n",
       "   * Handle when an output is cleared or removed\n",
       "   */\n",
       "  function handleClearOutput(event, handle) {\n",
       "    const cell = handle.cell;\n",
       "\n",
       "    const id = cell.output_area._bokeh_element_id;\n",
       "    const server_id = cell.output_area._bokeh_server_id;\n",
       "    // Clean up Bokeh references\n",
       "    if (id != null && id in Bokeh.index) {\n",
       "      Bokeh.index[id].model.document.clear();\n",
       "      delete Bokeh.index[id];\n",
       "    }\n",
       "\n",
       "    if (server_id !== undefined) {\n",
       "      // Clean up Bokeh references\n",
       "      const cmd_clean = \"from bokeh.io.state import curstate; print(curstate().uuid_to_server['\" + server_id + \"'].get_sessions()[0].document.roots[0]._id)\";\n",
       "      cell.notebook.kernel.execute(cmd_clean, {\n",
       "        iopub: {\n",
       "          output: function(msg) {\n",
       "            const id = msg.content.text.trim();\n",
       "            if (id in Bokeh.index) {\n",
       "              Bokeh.index[id].model.document.clear();\n",
       "              delete Bokeh.index[id];\n",
       "            }\n",
       "          }\n",
       "        }\n",
       "      });\n",
       "      // Destroy server and session\n",
       "      const cmd_destroy = \"import bokeh.io.notebook as ion; ion.destroy_server('\" + server_id + \"')\";\n",
       "      cell.notebook.kernel.execute(cmd_destroy);\n",
       "    }\n",
       "  }\n",
       "\n",
       "  /**\n",
       "   * Handle when a new output is added\n",
       "   */\n",
       "  function handleAddOutput(event, handle) {\n",
       "    const output_area = handle.output_area;\n",
       "    const output = handle.output;\n",
       "\n",
       "    // limit handleAddOutput to display_data with EXEC_MIME_TYPE content only\n",
       "    if ((output.output_type != \"display_data\") || (!Object.prototype.hasOwnProperty.call(output.data, EXEC_MIME_TYPE))) {\n",
       "      return\n",
       "    }\n",
       "\n",
       "    const toinsert = output_area.element.find(\".\" + CLASS_NAME.split(' ')[0]);\n",
       "\n",
       "    if (output.metadata[EXEC_MIME_TYPE][\"id\"] !== undefined) {\n",
       "      toinsert[toinsert.length - 1].firstChild.textContent = output.data[JS_MIME_TYPE];\n",
       "      // store reference to embed id on output_area\n",
       "      output_area._bokeh_element_id = output.metadata[EXEC_MIME_TYPE][\"id\"];\n",
       "    }\n",
       "    if (output.metadata[EXEC_MIME_TYPE][\"server_id\"] !== undefined) {\n",
       "      const bk_div = document.createElement(\"div\");\n",
       "      bk_div.innerHTML = output.data[HTML_MIME_TYPE];\n",
       "      const script_attrs = bk_div.children[0].attributes;\n",
       "      for (let i = 0; i < script_attrs.length; i++) {\n",
       "        toinsert[toinsert.length - 1].firstChild.setAttribute(script_attrs[i].name, script_attrs[i].value);\n",
       "        toinsert[toinsert.length - 1].firstChild.textContent = bk_div.children[0].textContent\n",
       "      }\n",
       "      // store reference to server id on output_area\n",
       "      output_area._bokeh_server_id = output.metadata[EXEC_MIME_TYPE][\"server_id\"];\n",
       "    }\n",
       "  }\n",
       "\n",
       "  function register_renderer(events, OutputArea) {\n",
       "\n",
       "    function append_mime(data, metadata, element) {\n",
       "      // create a DOM node to render to\n",
       "      const toinsert = this.create_output_subarea(\n",
       "        metadata,\n",
       "        CLASS_NAME,\n",
       "        EXEC_MIME_TYPE\n",
       "      );\n",
       "      this.keyboard_manager.register_events(toinsert);\n",
       "      // Render to node\n",
       "      const props = {data: data, metadata: metadata[EXEC_MIME_TYPE]};\n",
       "      render(props, toinsert[toinsert.length - 1]);\n",
       "      element.append(toinsert);\n",
       "      return toinsert\n",
       "    }\n",
       "\n",
       "    /* Handle when an output is cleared or removed */\n",
       "    events.on('clear_output.CodeCell', handleClearOutput);\n",
       "    events.on('delete.Cell', handleClearOutput);\n",
       "\n",
       "    /* Handle when a new output is added */\n",
       "    events.on('output_added.OutputArea', handleAddOutput);\n",
       "\n",
       "    /**\n",
       "     * Register the mime type and append_mime function with output_area\n",
       "     */\n",
       "    OutputArea.prototype.register_mime_type(EXEC_MIME_TYPE, append_mime, {\n",
       "      /* Is output safe? */\n",
       "      safe: true,\n",
       "      /* Index of renderer in `output_area.display_order` */\n",
       "      index: 0\n",
       "    });\n",
       "  }\n",
       "\n",
       "  // register the mime type if in Jupyter Notebook environment and previously unregistered\n",
       "  if (root.Jupyter !== undefined) {\n",
       "    const events = require('base/js/events');\n",
       "    const OutputArea = require('notebook/js/outputarea').OutputArea;\n",
       "\n",
       "    if (OutputArea.prototype.mime_types().indexOf(EXEC_MIME_TYPE) == -1) {\n",
       "      register_renderer(events, OutputArea);\n",
       "    }\n",
       "  }\n",
       "\n",
       "  \n",
       "  if (typeof (root._bokeh_timeout) === \"undefined\" || force === true) {\n",
       "    root._bokeh_timeout = Date.now() + 5000;\n",
       "    root._bokeh_failed_load = false;\n",
       "  }\n",
       "\n",
       "  const NB_LOAD_WARNING = {'data': {'text/html':\n",
       "     \"<div style='background-color: #fdd'>\\n\"+\n",
       "     \"<p>\\n\"+\n",
       "     \"BokehJS does not appear to have successfully loaded. If loading BokehJS from CDN, this \\n\"+\n",
       "     \"may be due to a slow or bad network connection. Possible fixes:\\n\"+\n",
       "     \"</p>\\n\"+\n",
       "     \"<ul>\\n\"+\n",
       "     \"<li>re-rerun `output_notebook()` to attempt to load from CDN again, or</li>\\n\"+\n",
       "     \"<li>use INLINE resources instead, as so:</li>\\n\"+\n",
       "     \"</ul>\\n\"+\n",
       "     \"<code>\\n\"+\n",
       "     \"from bokeh.resources import INLINE\\n\"+\n",
       "     \"output_notebook(resources=INLINE)\\n\"+\n",
       "     \"</code>\\n\"+\n",
       "     \"</div>\"}};\n",
       "\n",
       "  function display_loaded() {\n",
       "    const el = document.getElementById(\"1002\");\n",
       "    if (el != null) {\n",
       "      el.textContent = \"BokehJS is loading...\";\n",
       "    }\n",
       "    if (root.Bokeh !== undefined) {\n",
       "      if (el != null) {\n",
       "        el.textContent = \"BokehJS \" + root.Bokeh.version + \" successfully loaded.\";\n",
       "      }\n",
       "    } else if (Date.now() < root._bokeh_timeout) {\n",
       "      setTimeout(display_loaded, 100)\n",
       "    }\n",
       "  }\n",
       "\n",
       "\n",
       "  function run_callbacks() {\n",
       "    try {\n",
       "      root._bokeh_onload_callbacks.forEach(function(callback) {\n",
       "        if (callback != null)\n",
       "          callback();\n",
       "      });\n",
       "    } finally {\n",
       "      delete root._bokeh_onload_callbacks\n",
       "    }\n",
       "    console.debug(\"Bokeh: all callbacks have finished\");\n",
       "  }\n",
       "\n",
       "  function load_libs(css_urls, js_urls, callback) {\n",
       "    if (css_urls == null) css_urls = [];\n",
       "    if (js_urls == null) js_urls = [];\n",
       "\n",
       "    root._bokeh_onload_callbacks.push(callback);\n",
       "    if (root._bokeh_is_loading > 0) {\n",
       "      console.debug(\"Bokeh: BokehJS is being loaded, scheduling callback at\", now());\n",
       "      return null;\n",
       "    }\n",
       "    if (js_urls == null || js_urls.length === 0) {\n",
       "      run_callbacks();\n",
       "      return null;\n",
       "    }\n",
       "    console.debug(\"Bokeh: BokehJS not loaded, scheduling load and callback at\", now());\n",
       "    root._bokeh_is_loading = css_urls.length + js_urls.length;\n",
       "\n",
       "    function on_load() {\n",
       "      root._bokeh_is_loading--;\n",
       "      if (root._bokeh_is_loading === 0) {\n",
       "        console.debug(\"Bokeh: all BokehJS libraries/stylesheets loaded\");\n",
       "        run_callbacks()\n",
       "      }\n",
       "    }\n",
       "\n",
       "    function on_error(url) {\n",
       "      console.error(\"failed to load \" + url);\n",
       "    }\n",
       "\n",
       "    for (let i = 0; i < css_urls.length; i++) {\n",
       "      const url = css_urls[i];\n",
       "      const element = document.createElement(\"link\");\n",
       "      element.onload = on_load;\n",
       "      element.onerror = on_error.bind(null, url);\n",
       "      element.rel = \"stylesheet\";\n",
       "      element.type = \"text/css\";\n",
       "      element.href = url;\n",
       "      console.debug(\"Bokeh: injecting link tag for BokehJS stylesheet: \", url);\n",
       "      document.body.appendChild(element);\n",
       "    }\n",
       "\n",
       "    for (let i = 0; i < js_urls.length; i++) {\n",
       "      const url = js_urls[i];\n",
       "      const element = document.createElement('script');\n",
       "      element.onload = on_load;\n",
       "      element.onerror = on_error.bind(null, url);\n",
       "      element.async = false;\n",
       "      element.src = url;\n",
       "      console.debug(\"Bokeh: injecting script tag for BokehJS library: \", url);\n",
       "      document.head.appendChild(element);\n",
       "    }\n",
       "  };\n",
       "\n",
       "  function inject_raw_css(css) {\n",
       "    const element = document.createElement(\"style\");\n",
       "    element.appendChild(document.createTextNode(css));\n",
       "    document.body.appendChild(element);\n",
       "  }\n",
       "\n",
       "  \n",
       "  const js_urls = [\"https://cdn.bokeh.org/bokeh/release/bokeh-2.4.2.min.js\", \"https://cdn.bokeh.org/bokeh/release/bokeh-gl-2.4.2.min.js\", \"https://cdn.bokeh.org/bokeh/release/bokeh-widgets-2.4.2.min.js\", \"https://cdn.bokeh.org/bokeh/release/bokeh-tables-2.4.2.min.js\", \"https://cdn.bokeh.org/bokeh/release/bokeh-mathjax-2.4.2.min.js\"];\n",
       "  const css_urls = [];\n",
       "  \n",
       "\n",
       "  const inline_js = [\n",
       "    function(Bokeh) {\n",
       "      Bokeh.set_log_level(\"info\");\n",
       "    },\n",
       "    function(Bokeh) {\n",
       "    \n",
       "    \n",
       "    }\n",
       "  ];\n",
       "\n",
       "  function run_inline_js() {\n",
       "    \n",
       "    if (root.Bokeh !== undefined || force === true) {\n",
       "      \n",
       "    for (let i = 0; i < inline_js.length; i++) {\n",
       "      inline_js[i].call(root, root.Bokeh);\n",
       "    }\n",
       "    if (force === true) {\n",
       "        display_loaded();\n",
       "      }} else if (Date.now() < root._bokeh_timeout) {\n",
       "      setTimeout(run_inline_js, 100);\n",
       "    } else if (!root._bokeh_failed_load) {\n",
       "      console.log(\"Bokeh: BokehJS failed to load within specified timeout.\");\n",
       "      root._bokeh_failed_load = true;\n",
       "    } else if (force !== true) {\n",
       "      const cell = $(document.getElementById(\"1002\")).parents('.cell').data().cell;\n",
       "      cell.output_area.append_execute_result(NB_LOAD_WARNING)\n",
       "    }\n",
       "\n",
       "  }\n",
       "\n",
       "  if (root._bokeh_is_loading === 0) {\n",
       "    console.debug(\"Bokeh: BokehJS loaded, going straight to plotting\");\n",
       "    run_inline_js();\n",
       "  } else {\n",
       "    load_libs(css_urls, js_urls, function() {\n",
       "      console.debug(\"Bokeh: BokehJS plotting callback run at\", now());\n",
       "      run_inline_js();\n",
       "    });\n",
       "  }\n",
       "}(window));"
      ],
      "application/vnd.bokehjs_load.v0+json": "\n(function(root) {\n  function now() {\n    return new Date();\n  }\n\n  const force = true;\n\n  if (typeof root._bokeh_onload_callbacks === \"undefined\" || force === true) {\n    root._bokeh_onload_callbacks = [];\n    root._bokeh_is_loading = undefined;\n  }\n\n  \n\n  \n  if (typeof (root._bokeh_timeout) === \"undefined\" || force === true) {\n    root._bokeh_timeout = Date.now() + 5000;\n    root._bokeh_failed_load = false;\n  }\n\n  const NB_LOAD_WARNING = {'data': {'text/html':\n     \"<div style='background-color: #fdd'>\\n\"+\n     \"<p>\\n\"+\n     \"BokehJS does not appear to have successfully loaded. If loading BokehJS from CDN, this \\n\"+\n     \"may be due to a slow or bad network connection. Possible fixes:\\n\"+\n     \"</p>\\n\"+\n     \"<ul>\\n\"+\n     \"<li>re-rerun `output_notebook()` to attempt to load from CDN again, or</li>\\n\"+\n     \"<li>use INLINE resources instead, as so:</li>\\n\"+\n     \"</ul>\\n\"+\n     \"<code>\\n\"+\n     \"from bokeh.resources import INLINE\\n\"+\n     \"output_notebook(resources=INLINE)\\n\"+\n     \"</code>\\n\"+\n     \"</div>\"}};\n\n  function display_loaded() {\n    const el = document.getElementById(\"1002\");\n    if (el != null) {\n      el.textContent = \"BokehJS is loading...\";\n    }\n    if (root.Bokeh !== undefined) {\n      if (el != null) {\n        el.textContent = \"BokehJS \" + root.Bokeh.version + \" successfully loaded.\";\n      }\n    } else if (Date.now() < root._bokeh_timeout) {\n      setTimeout(display_loaded, 100)\n    }\n  }\n\n\n  function run_callbacks() {\n    try {\n      root._bokeh_onload_callbacks.forEach(function(callback) {\n        if (callback != null)\n          callback();\n      });\n    } finally {\n      delete root._bokeh_onload_callbacks\n    }\n    console.debug(\"Bokeh: all callbacks have finished\");\n  }\n\n  function load_libs(css_urls, js_urls, callback) {\n    if (css_urls == null) css_urls = [];\n    if (js_urls == null) js_urls = [];\n\n    root._bokeh_onload_callbacks.push(callback);\n    if (root._bokeh_is_loading > 0) {\n      console.debug(\"Bokeh: BokehJS is being loaded, scheduling callback at\", now());\n      return null;\n    }\n    if (js_urls == null || js_urls.length === 0) {\n      run_callbacks();\n      return null;\n    }\n    console.debug(\"Bokeh: BokehJS not loaded, scheduling load and callback at\", now());\n    root._bokeh_is_loading = css_urls.length + js_urls.length;\n\n    function on_load() {\n      root._bokeh_is_loading--;\n      if (root._bokeh_is_loading === 0) {\n        console.debug(\"Bokeh: all BokehJS libraries/stylesheets loaded\");\n        run_callbacks()\n      }\n    }\n\n    function on_error(url) {\n      console.error(\"failed to load \" + url);\n    }\n\n    for (let i = 0; i < css_urls.length; i++) {\n      const url = css_urls[i];\n      const element = document.createElement(\"link\");\n      element.onload = on_load;\n      element.onerror = on_error.bind(null, url);\n      element.rel = \"stylesheet\";\n      element.type = \"text/css\";\n      element.href = url;\n      console.debug(\"Bokeh: injecting link tag for BokehJS stylesheet: \", url);\n      document.body.appendChild(element);\n    }\n\n    for (let i = 0; i < js_urls.length; i++) {\n      const url = js_urls[i];\n      const element = document.createElement('script');\n      element.onload = on_load;\n      element.onerror = on_error.bind(null, url);\n      element.async = false;\n      element.src = url;\n      console.debug(\"Bokeh: injecting script tag for BokehJS library: \", url);\n      document.head.appendChild(element);\n    }\n  };\n\n  function inject_raw_css(css) {\n    const element = document.createElement(\"style\");\n    element.appendChild(document.createTextNode(css));\n    document.body.appendChild(element);\n  }\n\n  \n  const js_urls = [\"https://cdn.bokeh.org/bokeh/release/bokeh-2.4.2.min.js\", \"https://cdn.bokeh.org/bokeh/release/bokeh-gl-2.4.2.min.js\", \"https://cdn.bokeh.org/bokeh/release/bokeh-widgets-2.4.2.min.js\", \"https://cdn.bokeh.org/bokeh/release/bokeh-tables-2.4.2.min.js\", \"https://cdn.bokeh.org/bokeh/release/bokeh-mathjax-2.4.2.min.js\"];\n  const css_urls = [];\n  \n\n  const inline_js = [\n    function(Bokeh) {\n      Bokeh.set_log_level(\"info\");\n    },\n    function(Bokeh) {\n    \n    \n    }\n  ];\n\n  function run_inline_js() {\n    \n    if (root.Bokeh !== undefined || force === true) {\n      \n    for (let i = 0; i < inline_js.length; i++) {\n      inline_js[i].call(root, root.Bokeh);\n    }\n    if (force === true) {\n        display_loaded();\n      }} else if (Date.now() < root._bokeh_timeout) {\n      setTimeout(run_inline_js, 100);\n    } else if (!root._bokeh_failed_load) {\n      console.log(\"Bokeh: BokehJS failed to load within specified timeout.\");\n      root._bokeh_failed_load = true;\n    } else if (force !== true) {\n      const cell = $(document.getElementById(\"1002\")).parents('.cell').data().cell;\n      cell.output_area.append_execute_result(NB_LOAD_WARNING)\n    }\n\n  }\n\n  if (root._bokeh_is_loading === 0) {\n    console.debug(\"Bokeh: BokehJS loaded, going straight to plotting\");\n    run_inline_js();\n  } else {\n    load_libs(css_urls, js_urls, function() {\n      console.debug(\"Bokeh: BokehJS plotting callback run at\", now());\n      run_inline_js();\n    });\n  }\n}(window));"
     },
     "metadata": {},
     "output_type": "display_data"
    }
   ],
   "source": [
    "import numpy as np\n",
    "import pandas as pd\n",
    "\n",
    "import iqplot\n",
    "\n",
    "import bokeh.io\n",
    "import bokeh.plotting\n",
    "\n",
    "bokeh.io.output_notebook()"
   ]
  },
  {
   "cell_type": "markdown",
   "metadata": {},
   "source": [
    "**a)** After inspecting the data set, we see that the comments are given by `#`, and this is a standard CSV file."
   ]
  },
  {
   "cell_type": "code",
   "execution_count": 2,
   "metadata": {},
   "outputs": [],
   "source": [
    "df_weight = pd.read_csv('data/bee_weight.csv', comment='#')"
   ]
  },
  {
   "cell_type": "markdown",
   "metadata": {},
   "source": [
    "**b)** We will plot the ECDFs with confidence intervals to help visualize the difference between them."
   ]
  },
  {
   "cell_type": "code",
   "execution_count": 3,
   "metadata": {},
   "outputs": [
    {
     "data": {
      "text/html": [
       "\n",
       "\n",
       "\n",
       "\n",
       "\n",
       "\n",
       "  <div class=\"bk-root\" id=\"65d8e0a9-28ed-4c36-bcc0-74584146780f\" data-root-id=\"1003\"></div>\n"
      ]
     },
     "metadata": {},
     "output_type": "display_data"
    },
    {
     "data": {
      "application/javascript": [
       "(function(root) {\n",
       "  function embed_document(root) {\n",
       "    \n",
       "  const docs_json = {\"c9ea4c0f-a02a-4ef8-9432-bc9067bb299d\":{\"defs\":[],\"roots\":{\"references\":[{\"attributes\":{\"below\":[{\"id\":\"1012\"}],\"center\":[{\"id\":\"1015\"},{\"id\":\"1019\"}],\"frame_height\":275,\"frame_width\":375,\"left\":[{\"id\":\"1016\"}],\"renderers\":[{\"id\":\"1038\"},{\"id\":\"1045\"},{\"id\":\"1051\"},{\"id\":\"1058\"}],\"right\":[{\"id\":\"1060\"}],\"title\":{\"id\":\"1063\"},\"toolbar\":{\"id\":\"1027\"},\"toolbar_location\":\"above\",\"x_range\":{\"id\":\"1004\"},\"x_scale\":{\"id\":\"1008\"},\"y_range\":{\"id\":\"1006\"},\"y_scale\":{\"id\":\"1010\"}},\"id\":\"1003\",\"subtype\":\"Figure\",\"type\":\"Plot\"},{\"attributes\":{\"source\":{\"id\":\"1040\"}},\"id\":\"1046\",\"type\":\"CDSView\"},{\"attributes\":{\"label\":{\"value\":\"Control\"},\"renderers\":[{\"id\":\"1045\"},{\"id\":\"1038\"}]},\"id\":\"1061\",\"type\":\"LegendItem\"},{\"attributes\":{},\"id\":\"1074\",\"type\":\"Selection\"},{\"attributes\":{\"data\":{\"Cage\":[1,1,1,1,1,1,1,1,1,1,2,2,2,2,2,2,2,2,2,2,3,3,3,3,3,3,3,3,3,3,1,1,1,1,1,1,1,1,1,1,2,2,2,2,2,2,2,2,2,2,3,3,3,3,3,3,3,3,3,3,1,1,1,1,1,1,1,1,1,1,2,2,2,2,2,2,2,2,2,2,3,3,3,3,3,3,3,3,3,3,1,1,1,1,1,1,1,1,1,1,2,2,2,2,2,2,2,2,2,2,3,3,3,3,3,3,3,3,3,3,1,1,1,1,1,1,1,1,1,1,2,2,2,2,2,2,2,2,2,2,1,1,1,1,1,1,1,1,1,1,2,2,2,2,2,2,2,2,2,2,3,3,3,3,3,3,3,3,3,3,1,1,1,1,1,1,1,1,1,1,2,2,2,2,2,2,2,2,2,2,3,3,3,3,3,3,3,3,3,3],\"Colony\":[3,3,3,3,3,3,3,3,3,3,3,3,3,3,3,3,3,3,3,3,3,3,3,3,3,3,3,3,3,3,5,5,5,5,5,5,5,5,5,5,5,5,5,5,5,5,5,5,5,5,5,5,5,5,5,5,5,5,5,5,2,2,2,2,2,2,2,2,2,2,2,2,2,2,2,2,2,2,2,2,2,2,2,2,2,2,2,2,2,2,26,26,26,26,26,26,26,26,26,26,26,26,26,26,26,26,26,26,26,26,26,26,26,26,26,26,26,26,26,26,51,51,51,51,51,51,51,51,51,51,51,51,51,51,51,51,51,51,51,51,77,77,77,77,77,77,77,77,77,77,77,77,77,77,77,77,77,77,77,77,77,77,77,77,77,77,77,77,77,77,80,80,80,80,80,80,80,80,80,80,80,80,80,80,80,80,80,80,80,80,80,80,80,80,80,80,80,80,80,80],\"Sample-Nr.\":[1,2,3,4,5,6,7,8,9,10,1,2,3,4,5,6,7,8,9,10,1,2,3,4,5,6,7,8,9,10,1,2,3,4,5,6,7,8,9,10,1,2,3,4,5,6,7,8,9,10,1,2,3,4,5,6,7,8,9,10,1,2,3,4,5,6,7,8,9,10,1,2,3,4,5,6,7,8,9,10,1,2,3,4,5,6,7,8,9,10,1,2,3,4,5,6,7,8,9,10,1,2,3,4,5,6,7,8,9,10,1,2,3,4,5,6,7,8,9,10,1,2,3,4,5,6,7,8,9,10,1,2,3,4,5,6,7,8,9,10,1,2,3,4,5,6,7,8,9,10,1,2,3,4,5,6,7,8,9,10,1,2,3,4,5,6,7,8,9,10,1,2,3,4,5,6,7,8,9,10,1,2,3,4,5,6,7,8,9,10,1,2,3,4,5,6,7,8,9,10],\"Specimen\":[1,2,3,4,5,6,7,8,9,10,11,12,13,14,15,16,17,18,19,20,21,22,23,24,25,26,27,28,29,30,31,32,33,34,35,36,37,38,39,40,41,42,43,44,45,46,47,48,49,50,51,52,53,54,55,56,57,58,59,60,61,62,63,64,65,66,67,68,69,70,71,72,73,74,75,76,77,78,79,80,81,82,83,84,85,86,87,88,89,90,91,92,93,94,95,96,97,98,99,100,101,102,103,104,105,106,107,108,109,110,111,112,113,114,115,116,117,118,119,120,121,122,123,124,125,126,127,128,129,130,131,132,133,134,135,136,137,138,139,140,141,142,143,144,145,146,147,148,149,150,151,152,153,154,155,156,157,158,159,160,161,162,163,164,165,166,167,168,169,170,171,172,173,174,175,176,177,178,179,180,181,182,183,184,185,186,187,188,189,190,191,192,193,194,195,196,197,198,199,200],\"Treatment\":[\"Control\",\"Control\",\"Control\",\"Control\",\"Control\",\"Control\",\"Control\",\"Control\",\"Control\",\"Control\",\"Control\",\"Control\",\"Control\",\"Control\",\"Control\",\"Control\",\"Control\",\"Control\",\"Control\",\"Control\",\"Control\",\"Control\",\"Control\",\"Control\",\"Control\",\"Control\",\"Control\",\"Control\",\"Control\",\"Control\",\"Control\",\"Control\",\"Control\",\"Control\",\"Control\",\"Control\",\"Control\",\"Control\",\"Control\",\"Control\",\"Control\",\"Control\",\"Control\",\"Control\",\"Control\",\"Control\",\"Control\",\"Control\",\"Control\",\"Control\",\"Control\",\"Control\",\"Control\",\"Control\",\"Control\",\"Control\",\"Control\",\"Control\",\"Control\",\"Control\",\"Control\",\"Control\",\"Control\",\"Control\",\"Control\",\"Control\",\"Control\",\"Control\",\"Control\",\"Control\",\"Control\",\"Control\",\"Control\",\"Control\",\"Control\",\"Control\",\"Control\",\"Control\",\"Control\",\"Control\",\"Control\",\"Control\",\"Control\",\"Control\",\"Control\",\"Control\",\"Control\",\"Control\",\"Control\",\"Control\",\"Control\",\"Control\",\"Control\",\"Control\",\"Control\",\"Control\",\"Control\",\"Control\",\"Control\",\"Control\",\"Control\",\"Control\",\"Control\",\"Control\",\"Control\",\"Control\",\"Control\",\"Control\",\"Control\",\"Control\",\"Control\",\"Control\",\"Control\",\"Control\",\"Control\",\"Control\",\"Control\",\"Control\",\"Control\",\"Control\",\"Control\",\"Control\",\"Control\",\"Control\",\"Control\",\"Control\",\"Control\",\"Control\",\"Control\",\"Control\",\"Control\",\"Control\",\"Control\",\"Control\",\"Control\",\"Control\",\"Control\",\"Control\",\"Control\",\"Control\",\"Control\",\"Control\",\"Control\",\"Control\",\"Control\",\"Control\",\"Control\",\"Control\",\"Control\",\"Control\",\"Control\",\"Control\",\"Control\",\"Control\",\"Control\",\"Control\",\"Control\",\"Control\",\"Control\",\"Control\",\"Control\",\"Control\",\"Control\",\"Control\",\"Control\",\"Control\",\"Control\",\"Control\",\"Control\",\"Control\",\"Control\",\"Control\",\"Control\",\"Control\",\"Control\",\"Control\",\"Control\",\"Control\",\"Control\",\"Control\",\"Control\",\"Control\",\"Control\",\"Control\",\"Control\",\"Control\",\"Control\",\"Control\",\"Control\",\"Control\",\"Control\",\"Control\",\"Control\",\"Control\",\"Control\",\"Control\",\"Control\",\"Control\",\"Control\",\"Control\"],\"TreatmentNCSS\":[1,1,1,1,1,1,1,1,1,1,1,1,1,1,1,1,1,1,1,1,1,1,1,1,1,1,1,1,1,1,1,1,1,1,1,1,1,1,1,1,1,1,1,1,1,1,1,1,1,1,1,1,1,1,1,1,1,1,1,1,1,1,1,1,1,1,1,1,1,1,1,1,1,1,1,1,1,1,1,1,1,1,1,1,1,1,1,1,1,1,1,1,1,1,1,1,1,1,1,1,1,1,1,1,1,1,1,1,1,1,1,1,1,1,1,1,1,1,1,1,1,1,1,1,1,1,1,1,1,1,1,1,1,1,1,1,1,1,1,1,1,1,1,1,1,1,1,1,1,1,1,1,1,1,1,1,1,1,1,1,1,1,1,1,1,1,1,1,1,1,1,1,1,1,1,1,1,1,1,1,1,1,1,1,1,1,1,1,1,1,1,1,1,1,1,1,1,1,1,1],\"Weight\":{\"__ndarray__\":\"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\",\"dtype\":\"float64\",\"order\":\"little\",\"shape\":[200]},\"__ECDF\":{\"__ndarray__\":\"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\",\"dtype\":\"float64\",\"order\":\"little\",\"shape\":[200]},\"__label\":[\"Control\",\"Control\",\"Control\",\"Control\",\"Control\",\"Control\",\"Control\",\"Control\",\"Control\",\"Control\",\"Control\",\"Control\",\"Control\",\"Control\",\"Control\",\"Control\",\"Control\",\"Control\",\"Control\",\"Control\",\"Control\",\"Control\",\"Control\",\"Control\",\"Control\",\"Control\",\"Control\",\"Control\",\"Control\",\"Control\",\"Control\",\"Control\",\"Control\",\"Control\",\"Control\",\"Control\",\"Control\",\"Control\",\"Control\",\"Control\",\"Control\",\"Control\",\"Control\",\"Control\",\"Control\",\"Control\",\"Control\",\"Control\",\"Control\",\"Control\",\"Control\",\"Control\",\"Control\",\"Control\",\"Control\",\"Control\",\"Control\",\"Control\",\"Control\",\"Control\",\"Control\",\"Control\",\"Control\",\"Control\",\"Control\",\"Control\",\"Control\",\"Control\",\"Control\",\"Control\",\"Control\",\"Control\",\"Control\",\"Control\",\"Control\",\"Control\",\"Control\",\"Control\",\"Control\",\"Control\",\"Control\",\"Control\",\"Control\",\"Control\",\"Control\",\"Control\",\"Control\",\"Control\",\"Control\",\"Control\",\"Control\",\"Control\",\"Control\",\"Control\",\"Control\",\"Control\",\"Control\",\"Control\",\"Control\",\"Control\",\"Control\",\"Control\",\"Control\",\"Control\",\"Control\",\"Control\",\"Control\",\"Control\",\"Control\",\"Control\",\"Control\",\"Control\",\"Control\",\"Control\",\"Control\",\"Control\",\"Control\",\"Control\",\"Control\",\"Control\",\"Control\",\"Control\",\"Control\",\"Control\",\"Control\",\"Control\",\"Control\",\"Control\",\"Control\",\"Control\",\"Control\",\"Control\",\"Control\",\"Control\",\"Control\",\"Control\",\"Control\",\"Control\",\"Control\",\"Control\",\"Control\",\"Control\",\"Control\",\"Control\",\"Control\",\"Control\",\"Control\",\"Control\",\"Control\",\"Control\",\"Control\",\"Control\",\"Control\",\"Control\",\"Control\",\"Control\",\"Control\",\"Control\",\"Control\",\"Control\",\"Control\",\"Control\",\"Control\",\"Control\",\"Control\",\"Control\",\"Control\",\"Control\",\"Control\",\"Control\",\"Control\",\"Control\",\"Control\",\"Control\",\"Control\",\"Control\",\"Control\",\"Control\",\"Control\",\"Control\",\"Control\",\"Control\",\"Control\",\"Control\",\"Control\",\"Control\",\"Control\",\"Control\",\"Control\",\"Control\",\"Control\",\"Control\",\"Control\",\"Control\",\"Control\",\"Control\",\"Control\",\"Control\",\"Control\",\"Control\"],\"index\":[0,1,2,3,4,5,6,7,8,9,10,11,12,13,14,15,16,17,18,19,20,21,22,23,24,25,26,27,28,29,30,31,32,33,34,35,36,37,38,39,40,41,42,43,44,45,46,47,48,49,50,51,52,53,54,55,56,57,58,59,60,61,62,63,64,65,66,67,68,69,70,71,72,73,74,75,76,77,78,79,80,81,82,83,84,85,86,87,88,89,90,91,92,93,94,95,96,97,98,99,100,101,102,103,104,105,106,107,108,109,110,111,112,113,114,115,116,117,118,119,120,121,122,123,124,125,126,127,128,129,130,131,132,133,134,135,136,137,138,139,140,141,142,143,144,145,146,147,148,149,150,151,152,153,154,155,156,157,158,159,160,161,162,163,164,165,166,167,168,169,170,171,172,173,174,175,176,177,178,179,180,181,182,183,184,185,186,187,188,189,190,191,192,193,194,195,196,197,198,199]},\"selected\":{\"id\":\"1074\"},\"selection_policy\":{\"id\":\"1073\"}},\"id\":\"1040\",\"type\":\"ColumnDataSource\"},{\"attributes\":{\"data\":{\"x\":{\"__ndarray__\":\"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\",\"dtype\":\"float64\",\"order\":\"little\",\"shape\":[800]},\"y\":{\"__ndarray__\":\"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\",\"dtype\":\"float64\",\"order\":\"little\",\"shape\":[800]}},\"selected\":{\"id\":\"1072\"},\"selection_policy\":{\"id\":\"1071\"}},\"id\":\"1034\",\"type\":\"ColumnDataSource\"},{\"attributes\":{},\"id\":\"1069\",\"type\":\"BasicTickFormatter\"},{\"attributes\":{},\"id\":\"1073\",\"type\":\"UnionRenderers\"},{\"attributes\":{\"click_policy\":\"hide\",\"coordinates\":null,\"group\":null,\"items\":[{\"id\":\"1061\"},{\"id\":\"1062\"}],\"location\":\"center\"},\"id\":\"1060\",\"type\":\"Legend\"},{\"attributes\":{\"fill_alpha\":0.5,\"fill_color\":\"#1f77b3\",\"line_alpha\":0,\"line_color\":\"#1f77b4\",\"x\":{\"field\":\"x\"},\"y\":{\"field\":\"y\"}},\"id\":\"1035\",\"type\":\"Patch\"},{\"attributes\":{},\"id\":\"1021\",\"type\":\"WheelZoomTool\"},{\"attributes\":{},\"id\":\"1070\",\"type\":\"AllLabels\"},{\"attributes\":{\"fill_color\":{\"value\":\"#ff7e0e\"},\"hatch_color\":{\"value\":\"#ff7e0e\"},\"line_color\":{\"value\":\"#ff7e0e\"},\"x\":{\"field\":\"Weight\"},\"y\":{\"field\":\"__ECDF\"}},\"id\":\"1055\",\"type\":\"Circle\"},{\"attributes\":{\"coordinates\":null,\"data_source\":{\"id\":\"1040\"},\"glyph\":{\"id\":\"1042\"},\"group\":null,\"hover_glyph\":null,\"muted_glyph\":{\"id\":\"1044\"},\"nonselection_glyph\":{\"id\":\"1043\"},\"view\":{\"id\":\"1046\"}},\"id\":\"1045\",\"type\":\"GlyphRenderer\"},{\"attributes\":{\"fill_alpha\":{\"value\":0.1},\"fill_color\":{\"value\":\"#ff7e0e\"},\"hatch_alpha\":{\"value\":0.1},\"hatch_color\":{\"value\":\"#ff7e0e\"},\"line_alpha\":{\"value\":0.1},\"line_color\":{\"value\":\"#ff7e0e\"},\"x\":{\"field\":\"Weight\"},\"y\":{\"field\":\"__ECDF\"}},\"id\":\"1056\",\"type\":\"Circle\"},{\"attributes\":{},\"id\":\"1023\",\"type\":\"SaveTool\"},{\"attributes\":{\"data\":{\"Cage\":[1,1,1,1,1,1,1,1,1,1,2,2,2,2,2,2,2,2,2,2,3,3,3,3,3,3,3,3,3,3,1,1,1,1,1,1,1,1,1,1,2,2,2,2,2,2,2,2,2,2,3,3,3,3,3,3,3,3,3,3,1,1,1,1,1,1,1,1,1,1,2,2,2,2,2,2,2,2,2,2,3,3,3,3,3,3,3,3,3,3,1,1,1,1,1,1,1,1,1,1,2,2,2,2,2,2,2,2,2,2,3,3,3,3,3,3,3,3,3,3],\"Colony\":[9,9,9,9,9,9,9,9,9,9,9,9,9,9,9,9,9,9,9,9,9,9,9,9,9,9,9,9,9,9,10,10,10,10,10,10,10,10,10,10,10,10,10,10,10,10,10,10,10,10,10,10,10,10,10,10,10,10,10,10,27,27,27,27,27,27,27,27,27,27,27,27,27,27,27,27,27,27,27,27,27,27,27,27,27,27,27,27,27,27,84,84,84,84,84,84,84,84,84,84,84,84,84,84,84,84,84,84,84,84,84,84,84,84,84,84,84,84,84,84],\"Sample-Nr.\":[1,2,3,4,5,6,7,8,9,10,1,2,3,4,5,6,7,8,9,10,1,2,3,4,5,6,7,8,9,10,1,2,3,4,5,6,7,8,9,10,1,2,3,4,5,6,7,8,9,10,1,2,3,4,5,6,7,8,9,10,1,2,3,4,5,6,7,8,9,10,1,2,3,4,5,6,7,8,9,10,1,2,3,4,5,6,7,8,9,10,1,2,3,4,5,6,7,8,9,10,1,2,3,4,5,6,7,8,9,10,1,2,3,4,5,6,7,8,9,10],\"Specimen\":[201,202,203,204,205,206,207,208,209,210,211,212,213,214,215,216,217,218,219,220,221,222,223,224,225,226,227,228,229,230,231,232,233,234,235,236,237,238,239,240,241,242,243,244,245,246,247,248,249,250,251,252,253,254,255,256,257,258,259,260,261,262,263,264,265,266,267,268,269,270,271,272,273,274,275,276,277,278,279,280,281,282,283,284,285,286,287,288,289,290,291,292,293,294,295,296,297,298,299,300,301,302,303,304,305,306,307,308,309,310,311,312,313,314,315,316,317,318,319,320],\"Treatment\":[\"Pesticide\",\"Pesticide\",\"Pesticide\",\"Pesticide\",\"Pesticide\",\"Pesticide\",\"Pesticide\",\"Pesticide\",\"Pesticide\",\"Pesticide\",\"Pesticide\",\"Pesticide\",\"Pesticide\",\"Pesticide\",\"Pesticide\",\"Pesticide\",\"Pesticide\",\"Pesticide\",\"Pesticide\",\"Pesticide\",\"Pesticide\",\"Pesticide\",\"Pesticide\",\"Pesticide\",\"Pesticide\",\"Pesticide\",\"Pesticide\",\"Pesticide\",\"Pesticide\",\"Pesticide\",\"Pesticide\",\"Pesticide\",\"Pesticide\",\"Pesticide\",\"Pesticide\",\"Pesticide\",\"Pesticide\",\"Pesticide\",\"Pesticide\",\"Pesticide\",\"Pesticide\",\"Pesticide\",\"Pesticide\",\"Pesticide\",\"Pesticide\",\"Pesticide\",\"Pesticide\",\"Pesticide\",\"Pesticide\",\"Pesticide\",\"Pesticide\",\"Pesticide\",\"Pesticide\",\"Pesticide\",\"Pesticide\",\"Pesticide\",\"Pesticide\",\"Pesticide\",\"Pesticide\",\"Pesticide\",\"Pesticide\",\"Pesticide\",\"Pesticide\",\"Pesticide\",\"Pesticide\",\"Pesticide\",\"Pesticide\",\"Pesticide\",\"Pesticide\",\"Pesticide\",\"Pesticide\",\"Pesticide\",\"Pesticide\",\"Pesticide\",\"Pesticide\",\"Pesticide\",\"Pesticide\",\"Pesticide\",\"Pesticide\",\"Pesticide\",\"Pesticide\",\"Pesticide\",\"Pesticide\",\"Pesticide\",\"Pesticide\",\"Pesticide\",\"Pesticide\",\"Pesticide\",\"Pesticide\",\"Pesticide\",\"Pesticide\",\"Pesticide\",\"Pesticide\",\"Pesticide\",\"Pesticide\",\"Pesticide\",\"Pesticide\",\"Pesticide\",\"Pesticide\",\"Pesticide\",\"Pesticide\",\"Pesticide\",\"Pesticide\",\"Pesticide\",\"Pesticide\",\"Pesticide\",\"Pesticide\",\"Pesticide\",\"Pesticide\",\"Pesticide\",\"Pesticide\",\"Pesticide\",\"Pesticide\",\"Pesticide\",\"Pesticide\",\"Pesticide\",\"Pesticide\",\"Pesticide\",\"Pesticide\",\"Pesticide\"],\"TreatmentNCSS\":[2,2,2,2,2,2,2,2,2,2,2,2,2,2,2,2,2,2,2,2,2,2,2,2,2,2,2,2,2,2,2,2,2,2,2,2,2,2,2,2,2,2,2,2,2,2,2,2,2,2,2,2,2,2,2,2,2,2,2,2,2,2,2,2,2,2,2,2,2,2,2,2,2,2,2,2,2,2,2,2,2,2,2,2,2,2,2,2,2,2,2,2,2,2,2,2,2,2,2,2,2,2,2,2,2,2,2,2,2,2,2,2,2,2,2,2,2,2,2,2],\"Weight\":{\"__ndarray__\":\"AAAAAABQc0CamZmZmXlxQM3MzMzMNHFAAAAAAAAgcECamZmZmQlxQM3MzMzM7G9AMzMzMzOLckDNzMzMzCRyQDMzMzMzA29AzczMzMzkcEAAAAAAAFBwQM3MzMzM7HFAzczMzMyMcEAzMzMzMzNwQGZmZmZmdnFAAAAAAADwb0AzMzMzM8NtQAAAAAAAuHFAmpmZmZmJcEDNzMzMzNRwQAAAAAAA8HBAAAAAAABgcEAzMzMzM1txQJqZmZmZwXBAZmZmZmaGcEDNzMzMzOxwQAAAAAAA0G5AMzMzMzNDckCamZmZmSFwQAAAAAAAQHFAZmZmZmYGc0CamZmZmXlyQGZmZmZmhnFAMzMzMzN7cUCamZmZmelvQM3MzMzMhHJAAAAAAADIc0BmZmZmZp5yQJqZmZmZUXJAZmZmZmamcEAzMzMzM8txQAAAAAAAUHNAZmZmZmauckCamZmZmblzQAAAAAAAAHRAzczMzMyEc0DNzMzMzDxzQM3MzMzMnHJAMzMzMzMrc0AAAAAAAEByQJqZmZmZIXJAZmZmZmaWcEAAAAAAABByQAAAAAAAYHBAZmZmZmbOcUBmZmZmZv5yQM3MzMzMlHJAzczMzMxkckBmZmZmZnZxQDMzMzMzi3FAAAAAAACocUAAAAAAAMBwQAAAAAAAMHJAAAAAAADwbkAzMzMzM/NvQDMzMzMzi3BAZmZmZmYmb0BmZmZmZl5wQJqZmZmZyXBAMzMzMzPzcEAzMzMzM4NxQJqZmZmZ6XJAzczMzMxEcUAAAAAAAFhxQM3MzMzMXHBAMzMzMzPjcUAAAAAAAHBwQJqZmZmZmXBAmpmZmZnJbUCamZmZmZlvQDMzMzMzE3FAAAAAAABAckBmZmZmZj5wQJqZmZmZOXFAZmZmZmYmcUCamZmZmUFwQM3MzMzMhHBAzczMzMxMcUAAAAAAAMBuQGZmZmZmrnFAzczMzMxEcUDNzMzMzFRxQJqZmZmZKXBAzczMzMxkcUBmZmZmZn5xQAAAAAAAQHJAmpmZmZmRcECamZmZmblwQAAAAAAAEHBAAAAAAABAc0AAAAAAAIhxQJqZmZmZ+XBAMzMzMzODcUBmZmZmZkZyQGZmZmZmpnBAmpmZmZmRcUDNzMzMzIxzQDMzMzMzs3BAAAAAAAAYc0DNzMzMzHxxQDMzMzMzC3FAAAAAAABQc0DNzMzMzOxxQAAAAAAAMHNAMzMzMzM7cUCamZmZmYlyQJqZmZmZiXFAzczMzMwscUAzMzMzMytwQGZmZmZmnnFA\",\"dtype\":\"float64\",\"order\":\"little\",\"shape\":[120]},\"__ECDF\":{\"__ndarray__\":\"IiIiIiIi7j+amZmZmZnhP0RERERERNw/3t3d3d3dvT+amZmZmZnZP1VVVVVVVbU/q6qqqqqq6j93d3d3d3fnP5qZmZmZmak/7+7u7u7u1j9mZmZmZmbGP2ZmZmZmZuY/iYiIiIiI0D8zMzMzMzPDPxEREREREeE/d3d3d3d3tz8RERERERGBP1VVVVVVVeU/7+7u7u7uzj9mZmZmZmbWPwAAAAAAANg/mpmZmZmZyT+JiIiIiIjgP1VVVVVVVdU/3t3d3d3dzT93d3d3d3fXPxEREREREaE/zczMzMzM6D8AAAAAAADAP97d3d3d3d0/iYiIiIiI7D/e3d3d3d3pPzMzMzMzM+M/3t3d3d3d4T8zMzMzMzOzPyIiIiIiIuo/vLu7u7u77z93d3d3d3frP1VVVVVVVek/q6qqqqqq0j+amZmZmZnlP2ZmZmZmZu4/vLu7u7u76z93d3d3d3fvPwAAAAAAAPA/7+7u7u7u7j+amZmZmZntPzMzMzMzM+s/ERERERER7T8AAAAAAADoPzMzMzMzM+c/mpmZmZmZ0T/v7u7u7u7mP6uqqqqqqso/3t3d3d3d5T9ERERERETsP+/u7u7u7uo/mpmZmZmZ6T9VVVVVVVXhPwAAAAAAAOQ/zczMzMzM5D/NzMzMzMzUP7y7u7u7u+c/VVVVVVVVpT+amZmZmZm5PwAAAAAAANA/3t3d3d3drT+JiIiIiIjIP97d3d3d3dU/iYiIiIiI2D+rqqqqqqriPwAAAAAAAOw/ZmZmZmZm3j9ERERERETgP3d3d3d3d8c/IiIiIiIi5j+8u7u7u7vLPyIiIiIiItI/ERERERERkT8RERERERGxP6uqqqqqqto/RERERERE6D9ERERERETEP83MzMzMzNw/MzMzMzMz2z9VVVVVVVXFP83MzMzMzMw/d3d3d3d33z+amZmZmZmZPxEREREREeU/7+7u7u7u3j8AAAAAAADgPxEREREREcE/zczMzMzM4D9mZmZmZmbiP4mIiIiIiOg/ERERERER0T9ERERERETUP7y7u7u7u7s/3t3d3d3d7T93d3d3d3fjPxEREREREdk/7+7u7u7u4j8RERERERHpPzMzMzMzM9M/RERERERE5D8zMzMzMzPvP7y7u7u7u9M/zczMzMzM7D8iIiIiIiLiPyIiIiIiIto/q6qqqqqq7j+rqqqqqqrmP1VVVVVVVe0/VVVVVVVV3T9mZmZmZmbqP7y7u7u7u+M/vLu7u7u72z8iIiIiIiLCP4mIiIiIiOQ/\",\"dtype\":\"float64\",\"order\":\"little\",\"shape\":[120]},\"__label\":[\"Pesticide\",\"Pesticide\",\"Pesticide\",\"Pesticide\",\"Pesticide\",\"Pesticide\",\"Pesticide\",\"Pesticide\",\"Pesticide\",\"Pesticide\",\"Pesticide\",\"Pesticide\",\"Pesticide\",\"Pesticide\",\"Pesticide\",\"Pesticide\",\"Pesticide\",\"Pesticide\",\"Pesticide\",\"Pesticide\",\"Pesticide\",\"Pesticide\",\"Pesticide\",\"Pesticide\",\"Pesticide\",\"Pesticide\",\"Pesticide\",\"Pesticide\",\"Pesticide\",\"Pesticide\",\"Pesticide\",\"Pesticide\",\"Pesticide\",\"Pesticide\",\"Pesticide\",\"Pesticide\",\"Pesticide\",\"Pesticide\",\"Pesticide\",\"Pesticide\",\"Pesticide\",\"Pesticide\",\"Pesticide\",\"Pesticide\",\"Pesticide\",\"Pesticide\",\"Pesticide\",\"Pesticide\",\"Pesticide\",\"Pesticide\",\"Pesticide\",\"Pesticide\",\"Pesticide\",\"Pesticide\",\"Pesticide\",\"Pesticide\",\"Pesticide\",\"Pesticide\",\"Pesticide\",\"Pesticide\",\"Pesticide\",\"Pesticide\",\"Pesticide\",\"Pesticide\",\"Pesticide\",\"Pesticide\",\"Pesticide\",\"Pesticide\",\"Pesticide\",\"Pesticide\",\"Pesticide\",\"Pesticide\",\"Pesticide\",\"Pesticide\",\"Pesticide\",\"Pesticide\",\"Pesticide\",\"Pesticide\",\"Pesticide\",\"Pesticide\",\"Pesticide\",\"Pesticide\",\"Pesticide\",\"Pesticide\",\"Pesticide\",\"Pesticide\",\"Pesticide\",\"Pesticide\",\"Pesticide\",\"Pesticide\",\"Pesticide\",\"Pesticide\",\"Pesticide\",\"Pesticide\",\"Pesticide\",\"Pesticide\",\"Pesticide\",\"Pesticide\",\"Pesticide\",\"Pesticide\",\"Pesticide\",\"Pesticide\",\"Pesticide\",\"Pesticide\",\"Pesticide\",\"Pesticide\",\"Pesticide\",\"Pesticide\",\"Pesticide\",\"Pesticide\",\"Pesticide\",\"Pesticide\",\"Pesticide\",\"Pesticide\",\"Pesticide\",\"Pesticide\",\"Pesticide\",\"Pesticide\",\"Pesticide\",\"Pesticide\"],\"index\":[200,201,202,203,204,205,206,207,208,209,210,211,212,213,214,215,216,217,218,219,220,221,222,223,224,225,226,227,228,229,230,231,232,233,234,235,236,237,238,239,240,241,242,243,244,245,246,247,248,249,250,251,252,253,254,255,256,257,258,259,260,261,262,263,264,265,266,267,268,269,270,271,272,273,274,275,276,277,278,279,280,281,282,283,284,285,286,287,288,289,290,291,292,293,294,295,296,297,298,299,300,301,302,303,304,305,306,307,308,309,310,311,312,313,314,315,316,317,318,319]},\"selected\":{\"id\":\"1078\"},\"selection_policy\":{\"id\":\"1077\"}},\"id\":\"1053\",\"type\":\"ColumnDataSource\"},{\"attributes\":{\"fill_alpha\":0.1,\"fill_color\":\"#1f77b3\",\"hatch_alpha\":0.1,\"line_alpha\":0.1,\"line_color\":\"#1f77b4\",\"x\":{\"field\":\"x\"},\"y\":{\"field\":\"y\"}},\"id\":\"1036\",\"type\":\"Patch\"},{\"attributes\":{\"fill_alpha\":0.2,\"fill_color\":\"#ff7e0e\",\"hatch_alpha\":0.2,\"line_alpha\":0.2,\"line_color\":\"#1f77b4\",\"x\":{\"field\":\"x\"},\"y\":{\"field\":\"y\"}},\"id\":\"1050\",\"type\":\"Patch\"},{\"attributes\":{\"axis\":{\"id\":\"1012\"},\"coordinates\":null,\"group\":null,\"ticker\":null},\"id\":\"1015\",\"type\":\"Grid\"},{\"attributes\":{\"coordinates\":null,\"data_source\":{\"id\":\"1034\"},\"glyph\":{\"id\":\"1035\"},\"group\":null,\"hover_glyph\":null,\"muted_glyph\":{\"id\":\"1037\"},\"nonselection_glyph\":{\"id\":\"1036\"},\"view\":{\"id\":\"1039\"}},\"id\":\"1038\",\"type\":\"GlyphRenderer\"},{\"attributes\":{},\"id\":\"1071\",\"type\":\"UnionRenderers\"},{\"attributes\":{},\"id\":\"1075\",\"type\":\"UnionRenderers\"},{\"attributes\":{\"tools\":[{\"id\":\"1020\"},{\"id\":\"1021\"},{\"id\":\"1022\"},{\"id\":\"1023\"},{\"id\":\"1024\"},{\"id\":\"1025\"}]},\"id\":\"1027\",\"type\":\"Toolbar\"},{\"attributes\":{\"fill_alpha\":{\"value\":0.2},\"fill_color\":{\"value\":\"#ff7e0e\"},\"hatch_alpha\":{\"value\":0.2},\"hatch_color\":{\"value\":\"#ff7e0e\"},\"line_alpha\":{\"value\":0.2},\"line_color\":{\"value\":\"#ff7e0e\"},\"x\":{\"field\":\"Weight\"},\"y\":{\"field\":\"__ECDF\"}},\"id\":\"1057\",\"type\":\"Circle\"},{\"attributes\":{},\"id\":\"1076\",\"type\":\"Selection\"},{\"attributes\":{},\"id\":\"1072\",\"type\":\"Selection\"},{\"attributes\":{\"coordinates\":null,\"data_source\":{\"id\":\"1047\"},\"glyph\":{\"id\":\"1048\"},\"group\":null,\"hover_glyph\":null,\"muted_glyph\":{\"id\":\"1050\"},\"nonselection_glyph\":{\"id\":\"1049\"},\"view\":{\"id\":\"1052\"}},\"id\":\"1051\",\"type\":\"GlyphRenderer\"},{\"attributes\":{\"axis\":{\"id\":\"1016\"},\"coordinates\":null,\"dimension\":1,\"group\":null,\"ticker\":null},\"id\":\"1019\",\"type\":\"Grid\"},{\"attributes\":{},\"id\":\"1024\",\"type\":\"ResetTool\"},{\"attributes\":{\"label\":{\"value\":\"Pesticide\"},\"renderers\":[{\"id\":\"1058\"},{\"id\":\"1051\"}]},\"id\":\"1062\",\"type\":\"LegendItem\"},{\"attributes\":{},\"id\":\"1010\",\"type\":\"LinearScale\"},{\"attributes\":{},\"id\":\"1066\",\"type\":\"BasicTickFormatter\"},{\"attributes\":{\"fill_alpha\":{\"value\":0.1},\"fill_color\":{\"value\":\"#1f77b3\"},\"hatch_alpha\":{\"value\":0.1},\"hatch_color\":{\"value\":\"#1f77b3\"},\"line_alpha\":{\"value\":0.1},\"line_color\":{\"value\":\"#1f77b3\"},\"x\":{\"field\":\"Weight\"},\"y\":{\"field\":\"__ECDF\"}},\"id\":\"1043\",\"type\":\"Circle\"},{\"attributes\":{\"fill_alpha\":0.1,\"fill_color\":\"#ff7e0e\",\"hatch_alpha\":0.1,\"line_alpha\":0.1,\"line_color\":\"#1f77b4\",\"x\":{\"field\":\"x\"},\"y\":{\"field\":\"y\"}},\"id\":\"1049\",\"type\":\"Patch\"},{\"attributes\":{},\"id\":\"1017\",\"type\":\"BasicTicker\"},{\"attributes\":{\"axis_label\":\"weight (mg)\",\"coordinates\":null,\"formatter\":{\"id\":\"1069\"},\"group\":null,\"major_label_policy\":{\"id\":\"1070\"},\"ticker\":{\"id\":\"1013\"}},\"id\":\"1012\",\"type\":\"LinearAxis\"},{\"attributes\":{\"coordinates\":null,\"group\":null},\"id\":\"1063\",\"type\":\"Title\"},{\"attributes\":{\"fill_color\":{\"value\":\"#1f77b3\"},\"hatch_color\":{\"value\":\"#1f77b3\"},\"line_color\":{\"value\":\"#1f77b3\"},\"x\":{\"field\":\"Weight\"},\"y\":{\"field\":\"__ECDF\"}},\"id\":\"1042\",\"type\":\"Circle\"},{\"attributes\":{\"fill_alpha\":{\"value\":0.2},\"fill_color\":{\"value\":\"#1f77b3\"},\"hatch_alpha\":{\"value\":0.2},\"hatch_color\":{\"value\":\"#1f77b3\"},\"line_alpha\":{\"value\":0.2},\"line_color\":{\"value\":\"#1f77b3\"},\"x\":{\"field\":\"Weight\"},\"y\":{\"field\":\"__ECDF\"}},\"id\":\"1044\",\"type\":\"Circle\"},{\"attributes\":{},\"id\":\"1006\",\"type\":\"DataRange1d\"},{\"attributes\":{\"fill_alpha\":0.5,\"fill_color\":\"#ff7e0e\",\"line_alpha\":0,\"line_color\":\"#1f77b4\",\"x\":{\"field\":\"x\"},\"y\":{\"field\":\"y\"}},\"id\":\"1048\",\"type\":\"Patch\"},{\"attributes\":{\"bottom_units\":\"screen\",\"coordinates\":null,\"fill_alpha\":0.5,\"fill_color\":\"lightgrey\",\"group\":null,\"left_units\":\"screen\",\"level\":\"overlay\",\"line_alpha\":1.0,\"line_color\":\"black\",\"line_dash\":[4,4],\"line_width\":2,\"right_units\":\"screen\",\"syncable\":false,\"top_units\":\"screen\"},\"id\":\"1026\",\"type\":\"BoxAnnotation\"},{\"attributes\":{},\"id\":\"1077\",\"type\":\"UnionRenderers\"},{\"attributes\":{},\"id\":\"1008\",\"type\":\"LinearScale\"},{\"attributes\":{\"source\":{\"id\":\"1053\"}},\"id\":\"1059\",\"type\":\"CDSView\"},{\"attributes\":{\"overlay\":{\"id\":\"1026\"}},\"id\":\"1022\",\"type\":\"BoxZoomTool\"},{\"attributes\":{\"fill_alpha\":0.2,\"fill_color\":\"#1f77b3\",\"hatch_alpha\":0.2,\"line_alpha\":0.2,\"line_color\":\"#1f77b4\",\"x\":{\"field\":\"x\"},\"y\":{\"field\":\"y\"}},\"id\":\"1037\",\"type\":\"Patch\"},{\"attributes\":{\"source\":{\"id\":\"1047\"}},\"id\":\"1052\",\"type\":\"CDSView\"},{\"attributes\":{\"coordinates\":null,\"data_source\":{\"id\":\"1053\"},\"glyph\":{\"id\":\"1055\"},\"group\":null,\"hover_glyph\":null,\"muted_glyph\":{\"id\":\"1057\"},\"nonselection_glyph\":{\"id\":\"1056\"},\"view\":{\"id\":\"1059\"}},\"id\":\"1058\",\"type\":\"GlyphRenderer\"},{\"attributes\":{\"source\":{\"id\":\"1034\"}},\"id\":\"1039\",\"type\":\"CDSView\"},{\"attributes\":{},\"id\":\"1020\",\"type\":\"PanTool\"},{\"attributes\":{\"data\":{\"x\":{\"__ndarray__\":\"MzMzMzPDbUAzMzMzM8NtQDMzMzMzw21AMzMzMzPDbUAzMzMzM8NtQDMzMzMzw21AmpmZmZnJbUCamZmZmcltQJqZmZmZyW1AmpmZmZnJbUAAAAAAAMBuQAAAAAAAwG5AAAAAAADAbkAAAAAAAMBuQAAAAAAA0G5AAAAAAADQbkAAAAAAAPBuQAAAAAAA8G5AAAAAAADwbkAAAAAAAPBuQDMzMzMzA29AMzMzMzMDb0BmZmZmZiZvQGZmZmZmJm9AmpmZmZmZb0CamZmZmZlvQJqZmZmZmW9AmpmZmZmZb0CamZmZmelvQJqZmZmZ6W9AzczMzMzsb0DNzMzMzOxvQM3MzMzM7G9AzczMzMzsb0AAAAAAAPBvQAAAAAAA8G9AMzMzMzPzb0AzMzMzM/NvQAAAAAAAEHBAAAAAAAAQcEAAAAAAACBwQAAAAAAAIHBAmpmZmZkhcECamZmZmSFwQJqZmZmZIXBAmpmZmZkhcECamZmZmSlwQJqZmZmZKXBAMzMzMzMrcEAzMzMzMytwQDMzMzMzM3BAMzMzMzMzcEBmZmZmZj5wQGZmZmZmPnBAmpmZmZlBcECamZmZmUFwQJqZmZmZQXBAmpmZmZlBcEAAAAAAAFBwQAAAAAAAUHBAzczMzMxccEDNzMzMzFxwQGZmZmZmXnBAZmZmZmZecEAAAAAAAGBwQAAAAAAAYHBAAAAAAABgcEAAAAAAAGBwQAAAAAAAcHBAAAAAAABwcEDNzMzMzIRwQM3MzMzMhHBAZmZmZmaGcEBmZmZmZoZwQJqZmZmZiXBAmpmZmZmJcECamZmZmYlwQJqZmZmZiXBAMzMzMzOLcEAzMzMzM4twQM3MzMzMjHBAzczMzMyMcECamZmZmZFwQJqZmZmZkXBAZmZmZmaWcEBmZmZmZpZwQJqZmZmZmXBAmpmZmZmZcEBmZmZmZqZwQGZmZmZmpnBAZmZmZmamcEBmZmZmZqZwQDMzMzMzs3BAMzMzMzOzcEAzMzMzM7NwQDMzMzMzs3BAmpmZmZm5cECamZmZmblwQAAAAAAAwHBAAAAAAADAcECamZmZmcFwQJqZmZmZwXBAmpmZmZnJcECamZmZmclwQM3MzMzM1HBAzczMzMzUcEDNzMzMzORwQM3MzMzM5HBAzczMzMzscEDNzMzMzOxwQAAAAAAA8HBAAAAAAADwcEAzMzMzM/NwQDMzMzMz83BAmpmZmZn5cECamZmZmflwQJqZmZmZCXFAmpmZmZkJcUAzMzMzMwtxQDMzMzMzC3FAMzMzMzMTcUAzMzMzMxNxQGZmZmZmJnFAZmZmZmYmcUDNzMzMzCxxQM3MzMzMLHFAzczMzMw0cUDNzMzMzDRxQJqZmZmZOXFAmpmZmZk5cUAzMzMzMztxQDMzMzMzO3FAAAAAAABAcUAAAAAAAEBxQM3MzMzMRHFAzczMzMxEcUDNzMzMzERxQM3MzMzMRHFAzczMzMxMcUDNzMzMzExxQM3MzMzMVHFAzczMzMxUcUAAAAAAAFhxQAAAAAAAWHFAMzMzMzNbcUAzMzMzM1txQM3MzMzMZHFAzczMzMxkcUBmZmZmZnZxQGZmZmZmdnFAZmZmZmZ2cUBmZmZmZnZxQJqZmZmZeXFAmpmZmZl5cUAzMzMzM3txQDMzMzMze3FAzczMzMx8cUDNzMzMzHxxQGZmZmZmfnFAZmZmZmZ+cUAzMzMzM4NxQDMzMzMzg3FAMzMzMzODcUAzMzMzM4NxQGZmZmZmhnFAZmZmZmaGcUAAAAAAAIhxQAAAAAAAiHFAmpmZmZmJcUCamZmZmYlxQJqZmZmZkXFAmpmZmZmRcUBmZmZmZp5xQGZmZmZmnnFAAAAAAACocUAAAAAAAKhxQGZmZmZmrnFAZmZmZmaucUAAAAAAALhxQAAAAAAAuHFAMzMzMzPLcUAzMzMzM8txQGZmZmZmznFAZmZmZmbOcUAzMzMzM+NxQDMzMzMz43FAzczMzMzscUDNzMzMzOxxQM3MzMzM7HFAzczMzMzscUAAAAAAABByQAAAAAAAEHJAmpmZmZkhckCamZmZmSFyQAAAAAAAMHJAAAAAAAAwckAAAAAAAEByQAAAAAAAQHJAAAAAAABAckAAAAAAAEByQAAAAAAAQHJAAAAAAABAckAzMzMzM0NyQDMzMzMzQ3JAZmZmZmZGckBmZmZmZkZyQJqZmZmZUXJAmpmZmZlRckCamZmZmXlyQJqZmZmZeXJAzczMzMyEckDNzMzMzIRyQJqZmZmZiXJAmpmZmZmJckAzMzMzM4tyQDMzMzMzi3JAzczMzMyUckDNzMzMzJRyQGZmZmZmnnJAZmZmZmaeckBmZmZmZq5yQGZmZmZmrnJAmpmZmZnpckCamZmZmelyQGZmZmZm/nJAZmZmZmb+ckAAAAAAABhzQAAAAAAAGHNAMzMzMzMrc0AzMzMzMytzQAAAAAAAMHNAAAAAAAAwc0AAAAAAAEBzQAAAAAAAQHNAAAAAAABQc0AAAAAAAFBzQAAAAAAAUHNAAAAAAABQc0DNzMzMzIxzQM3MzMzMjHNAAAAAAAAAdEAAAAAAAAB0QAAAAAAAAHRAAAAAAAAAdEAAAAAAAAB0QAAAAAAAAHRAAAAAAADIc0AAAAAAAMhzQAAAAAAAyHNAAAAAAADIc0CamZmZmblzQJqZmZmZuXNAmpmZmZm5c0CamZmZmblzQM3MzMzMjHNAzczMzMyMc0DNzMzMzIRzQM3MzMzMhHNAzczMzMyEc0DNzMzMzIRzQAAAAAAAUHNAAAAAAABQc0AAAAAAAFBzQAAAAAAAUHNAAAAAAABQc0AAAAAAAFBzQAAAAAAAUHNAAAAAAABQc0AAAAAAAEBzQAAAAAAAQHNAzczMzMw8c0DNzMzMzDxzQAAAAAAAMHNAAAAAAAAwc0AAAAAAADBzQAAAAAAAMHNAMzMzMzMrc0AzMzMzMytzQAAAAAAAGHNAAAAAAAAYc0BmZmZmZgZzQGZmZmZmBnNAZmZmZmb+ckBmZmZmZv5yQJqZmZmZ6XJAmpmZmZnpckCamZmZmelyQJqZmZmZ6XJAZmZmZmauckBmZmZmZq5yQGZmZmZmnnJAZmZmZmaeckDNzMzMzJxyQM3MzMzMnHJAzczMzMyUckDNzMzMzJRyQDMzMzMzi3JAMzMzMzOLckAzMzMzM4tyQDMzMzMzi3JAmpmZmZmJckCamZmZmYlyQM3MzMzMhHJAzczMzMyEckCamZmZmXlyQJqZmZmZeXJAzczMzMxkckDNzMzMzGRyQJqZmZmZUXJAmpmZmZlRckBmZmZmZkZyQGZmZmZmRnJAMzMzMzNDckAzMzMzM0NyQAAAAAAAQHJAAAAAAABAckAAAAAAAEByQAAAAAAAQHJAAAAAAABAckAAAAAAAEByQAAAAAAAQHJAAAAAAABAckAAAAAAADByQAAAAAAAMHJAzczMzMwkckDNzMzMzCRyQJqZmZmZIXJAmpmZmZkhckAAAAAAABByQAAAAAAAEHJAzczMzMzscUDNzMzMzOxxQM3MzMzM7HFAzczMzMzscUAzMzMzM+NxQDMzMzMz43FAZmZmZmbOcUBmZmZmZs5xQDMzMzMzy3FAMzMzMzPLcUAAAAAAALhxQAAAAAAAuHFAZmZmZmaucUBmZmZmZq5xQAAAAAAAqHFAAAAAAACocUBmZmZmZp5xQGZmZmZmnnFAmpmZmZmRcUCamZmZmZFxQJqZmZmZkXFAmpmZmZmRcUAzMzMzM4txQDMzMzMzi3FAAAAAAACIcUAAAAAAAIhxQAAAAAAAiHFAAAAAAACIcUBmZmZmZoZxQGZmZmZmhnFAMzMzMzODcUAzMzMzM4NxQDMzMzMzg3FAMzMzMzODcUBmZmZmZn5xQGZmZmZmfnFAzczMzMx8cUDNzMzMzHxxQDMzMzMze3FAMzMzMzN7cUCamZmZmXlxQJqZmZmZeXFAZmZmZmZ2cUBmZmZmZnZxQGZmZmZmdnFAZmZmZmZ2cUDNzMzMzGRxQM3MzMzMZHFAMzMzMzNbcUAzMzMzM1txQAAAAAAAWHFAAAAAAABYcUDNzMzMzFRxQM3MzMzMVHFAzczMzMxMcUDNzMzMzExxQM3MzMzMRHFAzczMzMxEcUDNzMzMzERxQM3MzMzMRHFAAAAAAABAcUAAAAAAAEBxQJqZmZmZOXFAmpmZmZk5cUCamZmZmTlxQJqZmZmZOXFAzczMzMw0cUDNzMzMzDRxQM3MzMzMLHFAzczMzMwscUBmZmZmZiZxQGZmZmZmJnFAMzMzMzMTcUAzMzMzMxNxQDMzMzMzC3FAMzMzMzMLcUCamZmZmQlxQJqZmZmZCXFAMzMzMzPzcEAzMzMzM/NwQAAAAAAA8HBAAAAAAADwcEDNzMzMzOxwQM3MzMzM7HBAzczMzMzkcEDNzMzMzORwQM3MzMzM1HBAzczMzMzUcECamZmZmclwQJqZmZmZyXBAmpmZmZnBcECamZmZmcFwQAAAAAAAwHBAAAAAAADAcECamZmZmblwQJqZmZmZuXBAMzMzMzOzcEAzMzMzM7NwQGZmZmZmpnBAZmZmZmamcEBmZmZmZqZwQGZmZmZmpnBAZmZmZmaWcEBmZmZmZpZwQJqZmZmZkXBAmpmZmZmRcEDNzMzMzIxwQM3MzMzMjHBAMzMzMzOLcEAzMzMzM4twQJqZmZmZiXBAmpmZmZmJcEBmZmZmZoZwQGZmZmZmhnBAzczMzMyEcEDNzMzMzIRwQAAAAAAAYHBAAAAAAABgcEAAAAAAAGBwQAAAAAAAYHBAZmZmZmZecEBmZmZmZl5wQM3MzMzMXHBAzczMzMxccEAAAAAAAFBwQAAAAAAAUHBAZmZmZmY+cEBmZmZmZj5wQDMzMzMzM3BAMzMzMzMzcEAzMzMzMytwQDMzMzMzK3BAmpmZmZkpcECamZmZmSlwQAAAAAAAIHBAAAAAAAAgcEAAAAAAABBwQAAAAAAAEHBAMzMzMzPzb0AzMzMzM/NvQM3MzMzM7G9AzczMzMzsb0CamZmZmelvQJqZmZmZ6W9AZmZmZmYmb0BmZmZmZiZvQDMzMzMzA29AMzMzMzMDb0AAAAAAANBuQAAAAAAA0G5A\",\"dtype\":\"float64\",\"order\":\"little\",\"shape\":[480]},\"y\":{\"__ndarray__\":\"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\",\"dtype\":\"float64\",\"order\":\"little\",\"shape\":[480]}},\"selected\":{\"id\":\"1076\"},\"selection_policy\":{\"id\":\"1075\"}},\"id\":\"1047\",\"type\":\"ColumnDataSource\"},{\"attributes\":{},\"id\":\"1004\",\"type\":\"DataRange1d\"},{\"attributes\":{},\"id\":\"1025\",\"type\":\"HelpTool\"},{\"attributes\":{},\"id\":\"1067\",\"type\":\"AllLabels\"},{\"attributes\":{},\"id\":\"1013\",\"type\":\"BasicTicker\"},{\"attributes\":{},\"id\":\"1078\",\"type\":\"Selection\"},{\"attributes\":{\"axis_label\":\"ECDF\",\"coordinates\":null,\"formatter\":{\"id\":\"1066\"},\"group\":null,\"major_label_policy\":{\"id\":\"1067\"},\"ticker\":{\"id\":\"1017\"}},\"id\":\"1016\",\"type\":\"LinearAxis\"}],\"root_ids\":[\"1003\"]},\"title\":\"Bokeh Application\",\"version\":\"2.4.2\"}};\n",
       "  const render_items = [{\"docid\":\"c9ea4c0f-a02a-4ef8-9432-bc9067bb299d\",\"root_ids\":[\"1003\"],\"roots\":{\"1003\":\"65d8e0a9-28ed-4c36-bcc0-74584146780f\"}}];\n",
       "  root.Bokeh.embed.embed_items_notebook(docs_json, render_items);\n",
       "\n",
       "  }\n",
       "  if (root.Bokeh !== undefined) {\n",
       "    embed_document(root);\n",
       "  } else {\n",
       "    let attempts = 0;\n",
       "    const timer = setInterval(function(root) {\n",
       "      if (root.Bokeh !== undefined) {\n",
       "        clearInterval(timer);\n",
       "        embed_document(root);\n",
       "      } else {\n",
       "        attempts++;\n",
       "        if (attempts > 100) {\n",
       "          clearInterval(timer);\n",
       "          console.log(\"Bokeh: ERROR: Unable to run BokehJS code because BokehJS library is missing\");\n",
       "        }\n",
       "      }\n",
       "    }, 10, root)\n",
       "  }\n",
       "})(window);"
      ],
      "application/vnd.bokehjs_exec.v0+json": ""
     },
     "metadata": {
      "application/vnd.bokehjs_exec.v0+json": {
       "id": "1003"
      }
     },
     "output_type": "display_data"
    }
   ],
   "source": [
    "p = iqplot.ecdf(\n",
    "    data=df_weight,\n",
    "    q='Weight',\n",
    "    cats='Treatment',\n",
    "    conf_int=True,\n",
    "    x_axis_label='weight (mg)',\n",
    ")\n",
    "\n",
    "bokeh.io.show(p)"
   ]
  },
  {
   "cell_type": "markdown",
   "metadata": {},
   "source": [
    "There is strong overlap of the ECDFs, which suggests there is no difference between pesticide and control. Now, let's compute confidence intervals on the mean weight of the drones."
   ]
  },
  {
   "cell_type": "markdown",
   "metadata": {},
   "source": [
    "**c)** First, we'll get point estimates for the mean weight under control and pesticide conditions."
   ]
  },
  {
   "cell_type": "code",
   "execution_count": 4,
   "metadata": {},
   "outputs": [
    {
     "name": "stdout",
     "output_type": "stream",
     "text": [
      "Mean control:   277.0563 mg\n",
      "Mean pesticide: 278.27333333333326 mg\n"
     ]
    }
   ],
   "source": [
    "mean_control = np.mean(df_weight.loc[df_weight['Treatment']=='Control', 'Weight'])\n",
    "mean_pest = np.mean(df_weight.loc[df_weight['Treatment']=='Pesticide', 'Weight'])\n",
    "\n",
    "print('Mean control:  ', mean_control, 'mg')\n",
    "print('Mean pesticide:', mean_pest, 'mg')"
   ]
  },
  {
   "cell_type": "markdown",
   "metadata": {},
   "source": [
    "The means are really close. Let's now compute the confidence intervals. We'll use the bootstrap replicate generating function we wrote in [Exercise 4.1](exercise_4.1.ipynb)."
   ]
  },
  {
   "cell_type": "code",
   "execution_count": 5,
   "metadata": {},
   "outputs": [],
   "source": [
    "def draw_bs_reps(data, func, rg, size=1, args=()):\n",
    "    return np.array(\n",
    "        [\n",
    "            func(rg.choice(data, replace=True, size=len(data)), *args)\n",
    "            for _ in range(size)\n",
    "        ]\n",
    "    )\n",
    "\n",
    "\n",
    "rg = np.random.default_rng()\n",
    "\n",
    "# Draw 10,000 bootstrap reps for both.\n",
    "bs_reps_control = draw_bs_reps(\n",
    "    df_weight.loc[df_weight[\"Treatment\"] == \"Control\", \"Weight\"].values,\n",
    "    np.mean,\n",
    "    rg,\n",
    "    size=10000,\n",
    ")\n",
    "bs_reps_pest = draw_bs_reps(\n",
    "    df_weight.loc[df_weight[\"Treatment\"] == \"Pesticide\", \"Weight\"].values,\n",
    "    np.mean,\n",
    "    rg,\n",
    "    size=10000,\n",
    ")"
   ]
  },
  {
   "cell_type": "markdown",
   "metadata": {},
   "source": [
    "Now, we can use `np.percentile()` to compute the 95% confidence interval."
   ]
  },
  {
   "cell_type": "code",
   "execution_count": 6,
   "metadata": {},
   "outputs": [
    {
     "name": "stdout",
     "output_type": "stream",
     "text": [
      "Confidence interval for control: [274.69325875 279.37617   ]\n",
      "Confidence interval for pesticide: [275.06833333 281.51764583]\n"
     ]
    }
   ],
   "source": [
    "conf_int_control = np.percentile(bs_reps_control, [2.5, 97.5])\n",
    "conf_int_pest = np.percentile(bs_reps_pest, [2.5, 97.5])\n",
    "\n",
    "print('Confidence interval for control:', conf_int_control)\n",
    "print('Confidence interval for pesticide:', conf_int_pest)"
   ]
  },
  {
   "cell_type": "markdown",
   "metadata": {},
   "source": [
    "They have nearly the same confidence interval, as we would expect from the ECDFs."
   ]
  },
  {
   "cell_type": "markdown",
   "metadata": {},
   "source": [
    "**d)** We just go through the same steps as before. First, the ECDF."
   ]
  },
  {
   "cell_type": "code",
   "execution_count": 7,
   "metadata": {},
   "outputs": [
    {
     "data": {
      "text/html": [
       "\n",
       "\n",
       "\n",
       "\n",
       "\n",
       "\n",
       "  <div class=\"bk-root\" id=\"04f5ba15-0e4e-4562-b6d1-2382d2121918\" data-root-id=\"1165\"></div>\n"
      ]
     },
     "metadata": {},
     "output_type": "display_data"
    },
    {
     "data": {
      "application/javascript": [
       "(function(root) {\n",
       "  function embed_document(root) {\n",
       "    \n",
       "  const docs_json = {\"f69b2314-e53a-4acf-9206-673345468f53\":{\"defs\":[],\"roots\":{\"references\":[{\"attributes\":{\"below\":[{\"id\":\"1174\"}],\"center\":[{\"id\":\"1177\"},{\"id\":\"1181\"}],\"frame_height\":275,\"frame_width\":375,\"left\":[{\"id\":\"1178\"}],\"renderers\":[{\"id\":\"1200\"},{\"id\":\"1207\"},{\"id\":\"1213\"},{\"id\":\"1220\"}],\"right\":[{\"id\":\"1222\"}],\"title\":{\"id\":\"1242\"},\"toolbar\":{\"id\":\"1189\"},\"toolbar_location\":\"above\",\"x_range\":{\"id\":\"1166\"},\"x_scale\":{\"id\":\"1170\"},\"y_range\":{\"id\":\"1168\"},\"y_scale\":{\"id\":\"1172\"}},\"id\":\"1165\",\"subtype\":\"Figure\",\"type\":\"Plot\"},{\"attributes\":{\"fill_alpha\":0.5,\"fill_color\":\"#1f77b3\",\"line_alpha\":0,\"line_color\":\"#1f77b4\",\"x\":{\"field\":\"x\"},\"y\":{\"field\":\"y\"}},\"id\":\"1197\",\"type\":\"Patch\"},{\"attributes\":{\"axis_label\":\"quality\",\"coordinates\":null,\"formatter\":{\"id\":\"1248\"},\"group\":null,\"major_label_policy\":{\"id\":\"1249\"},\"ticker\":{\"id\":\"1175\"}},\"id\":\"1174\",\"type\":\"LinearAxis\"},{\"attributes\":{\"fill_alpha\":0.1,\"fill_color\":\"#ff7e0e\",\"hatch_alpha\":0.1,\"line_alpha\":0.1,\"line_color\":\"#1f77b4\",\"x\":{\"field\":\"x\"},\"y\":{\"field\":\"y\"}},\"id\":\"1211\",\"type\":\"Patch\"},{\"attributes\":{\"data\":{\"Age (d)\":[14,14,14,14,14,14,14,14,14,14,14,14,14,14,14,14,14,14,14,14,14,14,14,14,14,14,14,14,14,14,14,14,14,14,14,14,14,14,14,14,14,14,14,14,14,14,14,14,14,14,14,14,14,14,14,14,14,14,14,14,14,14,14,14,14,14,14,14,14,14,14,14,14,14,14,14,14,14,14,14,14,14,14,14,14,14,14,14,14,14,14,14,14,14,14,14,14,14,14,14,14,14,14,14,14,14,14,14,14,14,14,14,14,14,14,14,14,14,14,14,14,14,14,14,14,14,14,14,14,14,14,14,14,14,14,14,14,14,14,14,14,14,14,14,14],\"Alive Sperm Millions\":{\"__ndarray__\":\"IqXZPA6jAEB0z7pGy6EBQPGcLSC0HrY/wocSLXn8+z/jqUca3Nb4P/1pozodqARA3+LhPQd2CkCR1hh0QogCQLwGfentz7U/MzMzMzMz9T9mZmZmZmamP1NZFHZR9O8/220Xmuu0C0AMsmX5ukwCQLjOv132K/8/xvgwe9nWBEBmZmZmZqb9PwAAAAAAAAAA/yH99nWAAkCvCP63kh34P/Eqa5vicdc/mpmZmZmZyT8dVyO70hIKQGZmZmZm5gRA6Qsh5/3fCEBWurvOhlwLQHUhVn+EYeM/IPEr1nCRxz/PoKF/gsv8P81WXvI/2QBAc/ON6J41CEC8IY0KnOzwP0IhAg6hagpAQgkzbf8KBUBfB84ZUToIQO8AT1q47AlAKVsk7UZf+T/rUiP0M3X4P5w0DYrmAbw/m+jzUUbcBEA6lQwAVdwBQBzO/GoOUPI/9bhvtU7c/T+u8C4X8V3xP2w9QzhmWe0/RdrGn6hMCEBTzhd7L14HQDPd66S+DBFADhKifEHLAkCU3GETmbn3P/hVuVD5l/I/Obh0zHlG+z9ivyfWqVIDQJqZmZmZmak/AAAAAAAAAABNEkvK3WcAQAaFQZlG0/s/TZ6ymq4n4D8vGFxzR/8DQAt72uGvSQFAtyqJ7IMswz/CoiJOJ9n8PwxZ3eo5KQ5AzR39L9ciAUDqtG6D2m+dPyk900uMJQhADw72JoZk9z8zw0ZZv5kAQKDf929eHOQ/198SgH+qAkBrmQzH8zkDQFDCTNu/MvQ/JNQMqaI48D8C8bp+wS70PxUDJJpA8QJAG2ZoPBFE8D8AAAAAAAAAAKwb746MtQhAiPccWI7Q9D82ct2U8lr8P7x0kxgE1vw/7GrylNUUBkC1GhL3WDoDQAithy8TBfg/ZTiez4B6/D8sZK4Mqk0MQAAAAAAAABRA6MByhAzksT+rlQm/1K8IQPZE14UfnPk/5gMCnUnrEEDs+gW7Ydu2PzcWFAZlWgxA76mc9pT8BUAdHOxNDKkFQD1kyoeg6u4/Q+IeSx86+D96jV2ieusNQMy0/Ssrze0/rws/OJ9aD0BINIEiFvHxPwPQKF36V/o/54u9F190CUAejUP9LowBQIidKXRe8xBAmu/gJw6gAEASh2wgXWznP2jr4GBvIgJA1NFxNbJLBkBK0jWTb7bkP3y3eeOkMA5A2VpfJLRl/z8lIZG28UcHQBFtx9RdeQBAAAAAAACAAED9oC5SKEvyPxDqIoWy8NI/Ewt8Rbde5D8AAAAAAAAAAAAAAAAAAAAAAAAAAAAAAABQ5EnSNXMYQDaSBOEKaA5A2iCTjJxFBkAPe6GA7eDqP18M5US7ihFADTSfc7dLB0DCvwgaM4nAPwAAAAAAAAAAHottUtGYB0B6HXHIBvIFQFDIztvYbPA/JZLoZRQL+j8DWyVYHM71Py2vXG+b6fo/RRK9jGJ58z9qM05DVCEFQBgjEoWWtf8/kE5d+SzPvz8mVHB4QUTGP1uzlZf8LwBAycnErYLYBUAFiljEsEMAQAAAAAAAAAAApHA9CtejoD8=\",\"dtype\":\"float64\",\"order\":\"little\",\"shape\":[145]},\"AliveSperm\":[2079617,2204001,86406,1749139,1552456,2582087,3307631,2316533,85204,1325000,43750,998574,3463340,2287466,1948233,2604907,1853125,0,2312725,1507220,366326,200000,3259191,2612500,3109371,3420179,605654,184126,1799685,2106079,3026182,1057766,3302065,2630370,3028475,3240586,1585761,1528614,109404,2607556,2232584,1144545,1866286,1085435,917163,3037431,2920989,4262446,2349246,1482812,1162103,1704706,2415363,50000,0,2050716,1739081,504844,2499648,2160980,149796,1803016,3770130,2142012,28747,3018334,1462042,2075072,628463,2333251,2403297,1262390,1013827,1261415,2367799,1016618,0,3088647,1300917,1772204,1802250,2760173,2403490,1501239,1779908,3537922,5000000,69886,3085855,1600616,4229773,89285,3544138,2748331,2707543,966141,1514190,3739980,931295,3919249,1121359,1646479,3181822,2193449,4237665,2078152,731978,2266814,2786961,647270,3773752,1962330,2910129,2059261,2062500,1143349,295941,636562,0,0,0,6112510,3800802,2783990,839957,4385480,2911971,129187,0,2949618,2743177,1026574,1627705,1362820,1682033,1217135,2641274,1981833,124255,173958,2023431,2730718,2033052,0,32500],\"Cage\":[1,1,1,1,1,1,1,1,1,2,2,2,2,2,2,2,2,2,3,3,3,3,3,3,3,3,3,3,4,4,4,4,4,4,4,4,5,5,5,5,5,5,5,6,6,6,6,13,13,13,13,13,13,13,13,13,13,14,14,14,14,14,14,14,14,14,15,15,15,15,15,15,15,15,15,15,18,18,18,18,18,18,18,19,19,19,19,19,19,19,19,19,20,20,20,20,20,20,20,20,20,21,21,21,21,21,21,22,22,22,22,22,22,22,22,22,22,23,23,23,23,23,23,23,23,24,24,24,24,24,24,24,24,24,24,25,25,25,25,25,25,25,25,25,25],\"Colony\":[2,2,2,2,2,2,2,2,2,2,2,2,2,2,2,2,2,2,2,2,2,2,2,2,2,2,2,2,5,5,5,5,5,5,5,5,5,5,5,5,5,5,5,5,5,5,5,26,26,26,26,26,26,26,26,26,26,26,26,26,26,26,26,26,26,26,26,26,26,26,26,26,26,26,26,26,51,51,51,51,51,51,51,51,51,51,51,51,51,51,51,51,77,77,77,77,77,77,77,77,77,77,77,77,77,77,77,77,77,77,77,77,77,77,77,77,77,80,80,80,80,80,80,80,80,80,80,80,80,80,80,80,80,80,80,80,80,80,80,80,80,80,80,80,80],\"Dead Sperm Millions\":{\"__ndarray__\":\"GsIxy54Esj8Rqz/CMGC1P0pdMo6R7FE/8MFrlzYcwD91kNeDSfGhP+xnsRTJV5I/yT1d3bHYuj/2lnK+2HvPP1H1K50Pz2I/AAAAAAAAAABmZmZmZmamPy9vDtdqD5s/TIkkehnFoj/mWrQAbauJP7tHNlfNc7A/nE1HADeLuz/NzMzMzMzKPwAAAAAAAAAAtFn1udqKuT/bbRea6zSSP7gdGhajrpU/AAAAAAAAAAAp6WFodXK6PwAAAAAAAAAAC7YRT3Yztz889N2tLNHLP2fROxVwz5M/0ENtG0ZBkD+YLy/APpoBQMMstHOaBcw/mpfD7juG1T9DrP4Iw4DTPxVXlX1XxPY/tvgUAOMZlD88vVKWIY7HPw/xD1t6NMk/j8ahfhe20T+G56ViY17RPyFblq/L8I8/LLtgcM0d2T8Zq83/q47oP25RZoNMMr4/rye6Lvzg5T/rqGqCqDv1P9BHGXEBaLg/3C3JAbua1T8bLQd6qO3qP5j5Dn7iANg/yLd3DfrS5D99WkV/aObVP9wNorWizak/jo8WZwxz4T+y1lBqL6LPPwAAAAAAAAAAAAAAAAAAAABlUG1wIvrhP1BSYAFMGdc/Yto391ePuz8SbFz/rs/gPwZHyatzDOI/xt0gWivavD/3dHXHYpvYP9CbilQYW+k/lBEXgEbp3j/6Yu/FF+2BP/SkTGpoA+M/SFLSw9DqvD9nJhjONczkPzI5tTNMbaE/5ZoCmZ1F1D9enznrU461PyVdM/lmm9k/ca/MW3Ud1z9eonprYKvdP1FoWfePhcI/jzUjg9xFzD+amZmZmZmJPzi8ICI17dc/qKj6lc6Hrz/mB67yBMLGP9NNYhBYObw/wy0fSUkPvz8bu0T11sDCP3nlettMhdE/0Chd+pek6j86eCY0SSzbPwAAAAAAAAAAtyQH7GrydD+oUrMHWoHeP0iphCf0+uc/zuDvF7Ol4D9v9Zz0vvGFPxCxwcJJmp8/cceb/Badxj9ccXFUbqLIP5oiwOldvKc/ZHWr56T3tT+WW1oNiXvEP+2ZJQFqank/yCO4kbJFvj8TYi6p2m7XP5/MP/omTbc/BabTug1qnz/o9SfxuRO4P/GdmPViKLM/s5lDUgslgz/hQ4mWPJ52P5SFr691qeI/H0lJD0OryT+lg/V/DvPJP+0Q/7ClR98/NSkF3V7SzD8VVFT9SufBP9wQ4zWv6pw/AAAAAAAAAAALfEW3XtPSP9hIEoQroHA/yk4/qIsUqj9mZmZmZmb1PwAAAAAAAAAAmpmZmZmZqT+RYRVvZB7NP8akv5fCg74/Crq9pDFa5D/xhF5/Eh/lPx8RUyKJXt4/L/mf/N070z8rNBDLZg6hPwAAAAAAAAAAI04n2epyxj+Qozmy8svfP7fwvFRszMc/CqLuA5Dayj+y9KEL6lvOP/XZAdcVM74/0h3EzhQ6pz8v+Z/83TuyP8AGRIgrZ58/KLhYUYNpSD86IAn7dhJRP8FxGTc10Iw/uLHZkeo72T9TPgRVo1fjP3sUrkfhepQ/SOF6FK5HsT8=\",\"dtype\":\"float64\",\"order\":\"little\",\"shape\":[145]},\"Environment\":[\"Cage\",\"Cage\",\"Cage\",\"Cage\",\"Cage\",\"Cage\",\"Cage\",\"Cage\",\"Cage\",\"Cage\",\"Cage\",\"Cage\",\"Cage\",\"Cage\",\"Cage\",\"Cage\",\"Cage\",\"Cage\",\"Cage\",\"Cage\",\"Cage\",\"Cage\",\"Cage\",\"Cage\",\"Cage\",\"Cage\",\"Cage\",\"Cage\",\"Cage\",\"Cage\",\"Cage\",\"Cage\",\"Cage\",\"Cage\",\"Cage\",\"Cage\",\"Cage\",\"Cage\",\"Cage\",\"Cage\",\"Cage\",\"Cage\",\"Cage\",\"Cage\",\"Cage\",\"Cage\",\"Cage\",\"Cage\",\"Cage\",\"Cage\",\"Cage\",\"Cage\",\"Cage\",\"Cage\",\"Cage\",\"Cage\",\"Cage\",\"Cage\",\"Cage\",\"Cage\",\"Cage\",\"Cage\",\"Cage\",\"Cage\",\"Cage\",\"Cage\",\"Cage\",\"Cage\",\"Cage\",\"Cage\",\"Cage\",\"Cage\",\"Cage\",\"Cage\",\"Cage\",\"Cage\",\"Cage\",\"Cage\",\"Cage\",\"Cage\",\"Cage\",\"Cage\",\"Cage\",\"Cage\",\"Cage\",\"Cage\",\"Cage\",\"Cage\",\"Cage\",\"Cage\",\"Cage\",\"Cage\",\"Cage\",\"Cage\",\"Cage\",\"Cage\",\"Cage\",\"Cage\",\"Cage\",\"Cage\",\"Cage\",\"Cage\",\"Cage\",\"Cage\",\"Cage\",\"Cage\",\"Cage\",\"Cage\",\"Cage\",\"Cage\",\"Cage\",\"Cage\",\"Cage\",\"Cage\",\"Cage\",\"Cage\",\"Cage\",\"Cage\",\"Cage\",\"Cage\",\"Cage\",\"Cage\",\"Cage\",\"Cage\",\"Cage\",\"Cage\",\"Cage\",\"Cage\",\"Cage\",\"Cage\",\"Cage\",\"Cage\",\"Cage\",\"Cage\",\"Cage\",\"Cage\",\"Cage\",\"Cage\",\"Cage\",\"Cage\",\"Cage\",\"Cage\",\"Cage\",\"Cage\",\"Cage\"],\"Infertil\":[0,0,0,0,0,0,0,0,0,0,0,0,0,0,0,0,0,1,0,0,0,0,0,0,0,0,0,0,0,0,0,0,0,0,0,0,0,0,0,0,0,0,0,0,0,0,0,0,0,0,0,0,0,0,1,0,0,0,0,0,0,0,0,0,0,0,0,0,0,0,0,0,0,0,0,0,0,0,0,0,0,0,0,0,0,0,0,0,0,0,0,0,0,0,0,0,0,0,0,0,0,0,0,0,0,0,0,0,0,0,0,0,0,0,0,0,0,0,0,1,0,0,0,0,0,0,0,0,1,0,0,0,0,0,0,0,0,0,0,0,0,0,0,0,0],\"Quality\":{\"__ndarray__\":\"UJSrCH0uWECNQ/5AYxZYQAAAAAAAsFhA7zlaGmVSV0BruIZruHJYQC1KRiPo01hAbH91yVI7WEDbLf8jr5lWQNT8sEgZWFhAAAAAAAAAWUAAAAAAAABJQEro0CIBW1hAFHG1Uve8WEBtTEHoH91YQH/OLfSfM1hA2c5MLCQCWEAz2WSTTXZWQAAAAAAAAPh/P1mMFVD3V0A8RO3IYrVYQLigjCtNoldAAAAAAAAAWUCg8rdWXjtYQAAAAAAAAFlAe3VEdL5KWEAJ2NSaooFXQK3KdJ7nOVhAXVAAQRAEV0B4s0gL/n5GQOCMcTBhpVZAl5cV7d5/VkCjl2rJl2hTQNm/gJijeFFAprgmtJfQWEC8jXLVYZFXQLyNctVhkVdA9XC4RQ9JVUBkJSAFEztVQPHXAWN/4VVAnMC2dsm6VUCsbnnV2JpSQI7ZJ7oNqlZAFmRwOQNMUkCfaz4L/n5GQK1PczBhpVZA+TwT7d5/VkCz8mvJl2hTQAngzv9n+lZABUJ1AbqTU0AAAAAAAFBUQO8XCOb99VdAT9q3L/HwUkDVDKSR8a1WQAAAAAAAAFlAAAAAAAAA+H+upHCYw59TQCnD7bgOtFRAiwGpfhybVEA6gtj2gqhUQBxYE3tU01NAGpceC1mITEAzTqZ+HJtUQO1e1faCqFRA8aYR6W1mVEDQ9uCcLipTQEWLhYRc41RAJzfEV/80V0CDYvG8kAlTQJeTDt4wt1dAd9E+8wUDVkB11TTWWydYQL4uw3+6+1JADMQ20uduUkAcJY7ACEhSQJjBGJFoj1dAnSci7KmJVEAAAAAAAAAAAJRGKRr7TFZAvg05z7veV0Ao+jIHd7hWQBCZijAPj1dAJ6+hvIbyV0AQYbf9SZBXQNjV5CnrJFVApWo30VkIUUDjIjEgP1JWQAAAAAAAAFlAbdYqC7BLV0Cd7dmMtqdVQCIE3NofB1FAGJRIJhBDVkDjIjEgP1JWQInACIzAyFhANzMLOnF9V0C3KdGmRFdXQGbstoz42ldAtEH5oMKoV0BnyAKXZ/lXQAgkRkuk1VhAAQhXoo5EWEA+4Gzgq9hSQCK2qyK7sFdAcQICXOLCWEDD3AWU3fhXQDAs2RPxkFhAUc5u4VfjWEDPuFvnFdBYQEo7PQhk4lNA7zlaGmVSV0A0UfC8kAlTQFB6tnkpIlZA+5tIFzhtVkA486s5gNpXQKJ7GFJsqVhAAAAAAAAAWUBaNT0IZOJTQAAEGVJsqVhAYh1cdNElV0AAAAAAAAD4fwAAAAAAAPh/AAAAAAAA+H9w6bGKWxpYQO6rLm9kPVhAAOpEXM5ZVECCd/yXov9LQMhJ1CYej1ZAIZ2YM0ipVkAAAAAAAOBTQAAAAAAAAPh/Tt4lytGYV0CQKPobnypVQJAo+hufKlVA746lpkklVkBXCzj8R0tVQCgogUOQXFdAKOeW+AcaWEArPZh28ldYQOl5nud5nlhAnud5nufZWECe53me59lYQDzP8zzP01hAgjLz1ILYVUAJHh3PSEVTQAAAAAAAAAAAAAAAAABAQEA=\",\"dtype\":\"float64\",\"order\":\"little\",\"shape\":[145]},\"Quantity\":[2150000,2287500,87500,1875000,1587500,2600000,3412500,2562500,87500,1325000,87500,1025000,3500000,2300000,2012500,2712500,2062500,0,2412500,1525000,387500,200000,3362500,2612500,3200000,3637500,625000,200000,4000000,2325000,3362500,1362500,4725000,2650000,3212500,3437500,1862500,1800000,125000,3000000,3000000,1262500,2550000,2412500,1012500,3375000,3762500,4637500,3000000,1825000,1212500,2250000,2662500,50000,0,2612500,2100000,612500,3025000,2725000,262500,2187500,4562500,2625000,37500,3612500,1575000,2725000,662500,2650000,2487500,1662500,1375000,1725000,2512500,1237500,12500,3462500,1362500,1950000,1912500,2881500,2550000,1775000,2612500,3962500,5000000,75000,3562500,2350000,4750000,100000,3575000,2925000,2900000,1012500,1600000,3900000,937500,4037500,1487500,1737500,3212500,2287500,4312500,2087500,737500,2850000,2987500,850000,4262500,2187500,3050000,2087500,2062500,1437500,300000,687500,1337500,0,50000,6340000,3920000,3420000,1500000,4860000,3212500,162500,0,3125000,3240000,1212500,1837500,1600000,1800000,1262500,2712500,2012500,125000,175000,2037500,3125000,2637500,20000,100000],\"Quantity Millions\":{\"__ndarray__\":\"MzMzMzMzAUDNzMzMzEwCQGZmZmZmZrY/AAAAAAAA/j9mZmZmZmb5P83MzMzMzARAzczMzMxMC0AAAAAAAIAEQGZmZmZmZrY/MzMzMzMz9T9mZmZmZma2P2ZmZmZmZvA/AAAAAAAADEBmZmZmZmYCQJqZmZmZGQBAMzMzMzOzBUAAAAAAAIAAQAAAAAAAAAAAzczMzMxMA0BmZmZmZmb4P83MzMzMzNg/mpmZmZmZyT9mZmZmZuYKQGZmZmZm5gRAmpmZmZmZCUCamZmZmRkNQAAAAAAAAOQ/mpmZmZmZyT8AAAAAAAAQQJqZmZmZmQJAZmZmZmbmCkDNzMzMzMz1P2ZmZmZm5hJAMzMzMzMzBUAzMzMzM7MJQAAAAAAAgAtAzczMzMzM/T/NzMzMzMz8PwAAAAAAAMA/AAAAAAAACEAAAAAAAAAIQDMzMzMzM/Q/ZmZmZmZmBEDNzMzMzEwDQDMzMzMzM/A/AAAAAAAAC0CamZmZmRkOQM3MzMzMjBJAAAAAAAAACEAzMzMzMzP9P2ZmZmZmZvM/AAAAAAAAAkDNzMzMzEwFQJqZmZmZmak/AAAAAAAAAABmZmZmZuYEQM3MzMzMzABAmpmZmZmZ4z8zMzMzMzMIQM3MzMzMzAVAzczMzMzM0D8AAAAAAIABQAAAAAAAQBJAAAAAAAAABUAzMzMzMzOjP2ZmZmZm5gxAMzMzMzMz+T/NzMzMzMwFQDMzMzMzM+U/MzMzMzMzBUBmZmZmZuYDQJqZmZmZmfo/AAAAAAAA9j+amZmZmZn7P5qZmZmZGQRAzczMzMzM8z+amZmZmZmJPzMzMzMzswtAzczMzMzM9T8zMzMzMzP/P5qZmZmZmf4/WmQ7308NB0BmZmZmZmYEQGZmZmZmZvw/ZmZmZmbmBEAzMzMzM7MPQAAAAAAAABRAMzMzMzMzsz8AAAAAAIAMQM3MzMzMzAJAAAAAAAAAE0CamZmZmZm5P5qZmZmZmQxAZmZmZmZmB0AzMzMzMzMHQDMzMzMzM/A/mpmZmZmZ+T8zMzMzMzMPQAAAAAAAAO4/ZmZmZmYmEEDNzMzMzMz3P83MzMzMzPs/MzMzMzOzCUDNzMzMzEwCQAAAAAAAQBFAMzMzMzOzAECamZmZmZnnP83MzMzMzAZAZmZmZmbmB0AzMzMzMzPrP83MzMzMDBFAAAAAAACAAUBmZmZmZmYIQDMzMzMzswBAAAAAAACAAEAAAAAAAAD3PzMzMzMzM9M/AAAAAAAA5j9mZmZmZmb1PwAAAAAAAAAAmpmZmZmZqT9cj8L1KFwZQFyPwvUoXA9AXI/C9ShcC0AAAAAAAAD4P3E9CtejcBNAMzMzMzOzCUDNzMzMzMzEPwAAAAAAAAAAAAAAAAAACUDsUbgehesJQGZmZmZmZvM/ZmZmZmZm/T+amZmZmZn5P83MzMzMzPw/MzMzMzMz9D8zMzMzM7MFQJqZmZmZGQBAAAAAAAAAwD9mZmZmZmbGP83MzMzMTABAAAAAAAAACUCamZmZmRkFQHsUrkfhepQ/mpmZmZmZuT8=\",\"dtype\":\"float64\",\"order\":\"little\",\"shape\":[145]},\"Sample\":[1,2,3,4,5,6,7,8,9,1,10,2,3,4,5,6,7,8,1,10,2,3,4,5,6,7,8,9,1,2,3,4,5,6,7,8,1,2,3,4,5,6,7,1,2,3,4,1,10,2,3,4,5,6,7,8,9,1,2,3,4,5,6,7,8,9,1,10,2,3,4,5,6,7,8,9,2,5,1,3,4,6,7,1,2,3,4,5,6,7,8,9,1,2,3,4,5,6,7,8,9,1,2,3,4,5,6,5,1,10,2,3,4,6,7,8,9,1,2,4,5,6,7,8,9,1,10,2,3,4,5,6,7,8,9,3,1,2,3,4,5,6,7,8,9],\"Sample ID\":[\"C2-1-1\",\"C2-1-2\",\"C2-1-3\",\"C2-1-4\",\"C2-1-5\",\"C2-1-6\",\"C2-1-7\",\"C2-1-8\",\"C2-1-9\",\"C2-2-1\",\"C2-2-10\",\"C2-2-2\",\"C2-2-3\",\"C2-2-4\",\"C2-2-5\",\"C2-2-6\",\"C2-2-7\",\"C2-2-8\",\"C2-3-1\",\"C2-3-10\",\"C2-3-2\",\"C2-3-3\",\"C2-3-4\",\"C2-3-5\",\"C2-3-6\",\"C2-3-7\",\"C2-3-8\",\"C2-3-9\",\"C5-1-1\",\"C5-1-2\",\"C5-1-3\",\"C5-1-4\",\"C5-1-5\",\"C5-1-6\",\"C5-1-7\",\"C5-1-8\",\"C5-2-1\",\"C5-2-2\",\"C5-2-3\",\"C5-2-4\",\"C5-2-5\",\"C5-2-6\",\"C5-2-7\",\"C5-3-1\",\"C5-3-2\",\"C5-3-3\",\"C5-3-4\",\"C26-1-1\",\"C26-1-10\",\"C26-1-2\",\"C26-1-3\",\"C26-1-4\",\"C26-1-5\",\"C26-1-6\",\"C26-1-7\",\"C26-1-8\",\"C26-1-9\",\"C26-2-1\",\"C26-2-2\",\"C26-2-3\",\"C26-2-4\",\"C26-2-5\",\"C26-2-6\",\"C26-2-7\",\"C26-2-8\",\"C26-2-9\",\"C26-3-1\",\"C26-3-10\",\"C26-3-2\",\"C26-3-3\",\"C26-3-4\",\"C26-3-5\",\"C26-3-6\",\"C26-3-7\",\"C26-3-8\",\"C26-3-9\",\"51-1-2\",\"51-1-5\",\"C51-1-1\",\"c51-1-3\",\"C51-1-4\",\"C51-1-6\",\"C51-1-7\",\"C51-2-1\",\"C51-2-2\",\"C51-2-3\",\"C51-2-4\",\"C51-2-5\",\"C51-2-6\",\"C51-2-7\",\"C51-2-8\",\"C51-2-9\",\"77-1-1\",\"77-1-2\",\"77-1-3\",\"77-1-4\",\"77-1-5\",\"77-1-6\",\"77-1-7\",\"77-1-8\",\"77-1-9\",\"77-2-1\",\"77-2-2\",\"77-2-3\",\"77-2-4\",\"77-2-5\",\"77-2-6\",\"77-3-5\",\"C77-3-1\",\"C77-3-10\",\"C77-3-2\",\"C77-3-3\",\"C77-3-4\",\"C77-3-6\",\"C77-3-7\",\"C77-3-8\",\"C77-3-9\",\"C80-1-1\",\"C80-1-2\",\"C80-1-4\",\"C80-1-5\",\"C80-1-6\",\"C80-1-7\",\"C80-1-8\",\"C80-1-9\",\"C80-2-1\",\"C80-2-10\",\"C80-2-2\",\"C80-2-3\",\"C80-2-4\",\"C80-2-5\",\"C80-2-6\",\"C80-2-7\",\"C80-2-8\",\"C80-2-9\",\"C80-1-3\",\"C80-3-1\",\"C80-3-2\",\"C80-3-3\",\"C80-3-4\",\"C80-3-5\",\"C80-3-6\",\"C80-3-7\",\"C80-3-8\",\"C80-3-9\"],\"Specimen\":[227,228,229,230,231,232,233,234,235,236,244,237,238,239,240,241,242,243,247,255,248,249,250,256,251,252,253,254,167,168,169,170,171,172,173,174,127,128,129,130,131,132,134,71,70,69,68,47,199,186,59,196,61,197,198,133,50,65,62,66,175,176,177,48,178,179,157,166,158,159,160,161,162,163,164,165,43,41,185,108,224,217,51,117,116,115,114,113,112,111,110,109,1,2,3,4,5,6,7,8,9,10,11,12,13,14,15,42,91,52,180,181,182,183,184,90,58,258,105,107,257,220,221,222,223,218,86,200,201,202,219,203,204,205,206,106,77,78,79,80,81,82,83,84,85],\"Sperm Volume per 500 ul\":[2150000,2287500,87500,1875000,1587500,2600000,3412500,2562500,87500,1325000,87500,1025000,3500000,2300000,2012500,2712500,2062500,0,2412500,1525000,387500,200000,3362500,2612500,3200000,3637500,625000,200000,4000000,2325000,3362500,1362500,4725000,2650000,3212500,3437500,1862500,1800000,125000,3000000,3000000,1262500,2550000,2412500,1012500,3375000,3762500,4637500,3000000,1825000,1212500,2250000,2662500,50000,0,2612500,2100000,612500,3025000,2725000,262500,2187500,4562500,2625000,37500,3612500,1575000,2725000,662500,2650000,2487500,1662500,1375000,1725000,2512500,1237500,12500,3462500,1362500,1950000,1912500,2881500,2550000,1775000,2612500,3962500,5000000,75000,3562500,2350000,4750000,100000,3575000,2925000,2900000,1012500,1600000,3900000,937500,4037500,1487500,1737500,3212500,2287500,4312500,2087500,737500,2850000,2987500,850000,4262500,2187500,3050000,2087500,2062500,1437500,300000,687500,1337500,0,50000,6340000,3920000,3420000,1500000,4860000,3212500,162500,0,3125000,3240000,1212500,1837500,1600000,1800000,1262500,2712500,2012500,125000,175000,2037500,3125000,2637500,20000,100000],\"Treatment\":[\"Control\",\"Control\",\"Control\",\"Control\",\"Control\",\"Control\",\"Control\",\"Control\",\"Control\",\"Control\",\"Control\",\"Control\",\"Control\",\"Control\",\"Control\",\"Control\",\"Control\",\"Control\",\"Control\",\"Control\",\"Control\",\"Control\",\"Control\",\"Control\",\"Control\",\"Control\",\"Control\",\"Control\",\"Control\",\"Control\",\"Control\",\"Control\",\"Control\",\"Control\",\"Control\",\"Control\",\"Control\",\"Control\",\"Control\",\"Control\",\"Control\",\"Control\",\"Control\",\"Control\",\"Control\",\"Control\",\"Control\",\"Control\",\"Control\",\"Control\",\"Control\",\"Control\",\"Control\",\"Control\",\"Control\",\"Control\",\"Control\",\"Control\",\"Control\",\"Control\",\"Control\",\"Control\",\"Control\",\"Control\",\"Control\",\"Control\",\"Control\",\"Control\",\"Control\",\"Control\",\"Control\",\"Control\",\"Control\",\"Control\",\"Control\",\"Control\",\"Control\",\"Control\",\"Control\",\"Control\",\"Control\",\"Control\",\"Control\",\"Control\",\"Control\",\"Control\",\"Control\",\"Control\",\"Control\",\"Control\",\"Control\",\"Control\",\"Control\",\"Control\",\"Control\",\"Control\",\"Control\",\"Control\",\"Control\",\"Control\",\"Control\",\"Control\",\"Control\",\"Control\",\"Control\",\"Control\",\"Control\",\"Control\",\"Control\",\"Control\",\"Control\",\"Control\",\"Control\",\"Control\",\"Control\",\"Control\",\"Control\",\"Control\",\"Control\",\"Control\",\"Control\",\"Control\",\"Control\",\"Control\",\"Control\",\"Control\",\"Control\",\"Control\",\"Control\",\"Control\",\"Control\",\"Control\",\"Control\",\"Control\",\"Control\",\"Control\",\"Control\",\"Control\",\"Control\",\"Control\",\"Control\",\"Control\",\"Control\",\"Control\",\"Control\"],\"TreatmentNCSS\":[1,1,1,1,1,1,1,1,1,1,1,1,1,1,1,1,1,1,1,1,1,1,1,1,1,1,1,1,1,1,1,1,1,1,1,1,1,1,1,1,1,1,1,1,1,1,1,1,1,1,1,1,1,1,1,1,1,1,1,1,1,1,1,1,1,1,1,1,1,1,1,1,1,1,1,1,1,1,1,1,1,1,1,1,1,1,1,1,1,1,1,1,1,1,1,1,1,1,1,1,1,1,1,1,1,1,1,1,1,1,1,1,1,1,1,1,1,1,1,1,1,1,1,1,1,1,1,1,1,1,1,1,1,1,1,1,1,1,1,1,1,1,1,1,1],\"ViabilityRaw (%)\":[\"96.7263814616756\",\"96.3498079760595\",\"98.75\",\"93.2874208336941\",\"97.7925061050061\",\"99.3110435663627\",\"96.9269279143752\",\"90.4013147346481\",\"97.3765432098765\",\"100\",\"50\",\"97.4219443359481\",\"98.952595402898\",\"99.4550724637681\",\"96.8066378066378\",\"96.0334578275755\",\"89.8484848484848\",\"97.1783101955516\",\"95.86426295\",\"98.83415435\",\"94.53596009\",\"100\",\"96.92763298\",\"100\",\"97.1678744\",\"94.02554961\",\"96.9047619\",\"92.06349206\",\"44.99212781\",\"90.58405696\",\"89.99798133\",\"77.63426433\",\"69.88498509\",\"99.25925926\",\"94.2715963\",\"94.2715963\",\"85.14155715\",\"84.92303589\",\"87.52340007\",\"86.91854637\",\"74.41948449\",\"90.65708784\",\"73.1876968\",\"44.9921278052127\",\"90.58405696164\",\"89.9979813278077\",\"77.6342643312626\",\"91.9125976104989\",\"78.308227886686\",\"81.25\",\"95.8436217383421\",\"75.7647208495557\",\"90.7178691961338\",\"100\",\"0\",\"78.4963132\",\"82.8133985826395\",\"82.4236141825151\",\"82.6329934229224\",\"79.3020312966259\",\"57.06521739\",\"82.42361418\",\"82.63299342\",\"81.6004584\",\"76.65909502\",\"83.55252183\",\"92.82808489\",\"76.14945911\",\"94.86235763\",\"88.04723817\",\"96.61498027\",\"75.933258\",\"73.73289924\",\"73.12553419\",\"94.24075725\",\"82.15099624\",\"0\",\"89.2028260615428\",\"95.48021298\",\"90.8822649\",\"94.2353021005149\",\"95.7894736842105\",\"94.2545160570919\",\"84.57685325\",\"68.13048201\",\"89.28510289\",\"100\",\"93.18261985\",\"86.62051698\",\"68.11131927\",\"89.04786069\",\"89.28510289\",\"99.1367521367521\",\"93.9600358113647\",\"93.3635651629073\",\"95.4214202677118\",\"94.6368791994235\",\"95.8969476248909\",\"99.3381527123421\",\"97.0712056970515\",\"75.3854905188791\",\"94.7614218403692\",\"99.0450658816933\",\"95.8885240609407\",\"98.264714204867\",\"99.5522388059701\",\"99.2513368983957\",\"79.53735548\",\"93.2874208336941\",\"76.1494591090057\",\"88.53378146\",\"89.70654852\",\"95.41407625\",\"98.64723637\",\"100\",\"79.5373554799784\",\"98.6472363704961\",\"92.59090909\",\"NO SPERM\",\"No Sperm\",\"NO SPERM\",\"96.411837266676\",\"96.9592550235536\",\"81.403220240878\",\"55.997149465823\",\"90.2362153123023\",\"90.6450318327302\",\"79.5\",\"No Sperm\",\"94.3878045434769\",\"84.6659612601236\",\"84.6659612601236\",\"88.5826202980786\",\"85.176268629771\",\"93.4463051568315\",\"96.4067365144407\",\"97.3741737829884\",\"98.4761904761905\",\"99.4047619047619\",\"99.4047619047619\",\"99.3095238095238\",\"87.3829853415464\",\"77.0825689110135\",\"0\",\"32.5\"],\"__ECDF\":{\"__ndarray__\":\"QzpvMaTz5j98GmG5pxHmP2G5pxGWe+o/3dMIyz2N4D+oEZZ7GmHpP/D4wwGPP+w/GdJ5iyGd5z8M6bzFkM7bP8QBjz8c8Og/myjZtYmS7T+0+lJBqy+lP7aJkl2bKOk/RcmuTZTs6j+4GNJ5iyHtPzXCck8jLOc/ipJdmyjZ5T99qaDVlwraPwAAAAAAAPh/tPpSQasv5T9TQasvFbTqPzMzMzMzM+M/jbDc0wjL7T8LWn2poNXnP3844PGHA+4/4PGHAx5/6D+WexphuafhPydKdm2iZOc/Kmj1pYJW3z+WexphuaehP/D4wwGPP9w/RcmuTZTs2j/t2kTJrk3EPyW7NlGya7M/DOm8xZDO6z9emyjZtYniP08jLPc0wuI/Ccs9jbDc0z8luzZRsmvTP3waYbmnEdY/tPpSQasv1T9huacRlnu6P5so2bWJkt0/QzpvMaTztj/w+MMBjz+cP9QIyz2NsNw/YbmnEZZ72j+0+lJBqy/FP0dY7mmE5d4/fBphuacRxj8p2bWJkl3LP8JyTyMs9+Q/fzjg8YcDvj9/OODxhwPeP3HA4w8HPO4/AAAAAAAA+H9DOm8xpPPGP7JrEyW7NtE/Dnj84YDHzz/PWwzpvMXQPwtafamg1cc/8PjDAY8/rD9HWO5phOXOP+tLBa2+VNA/uBjSeYshzT9emyjZtYnCP5Z7GmG5p9E/+cMBjz8c4D+WexphuafBPwnLPY2w3OM/Xypo9aWC1j9RsmsTJbvmPw54/OGAx78/0nmLIZ23uD+0+lJBqy+1P3qLIZ23GOI/fzjg8YcDzj/w+MMBjz98P+5phOWeRtg/3mJI5y2G5D9jSOcthnTeP4gDHn844OE/0OpLBa2+5D9sEyW7NlHiP3qLIZ23GNI/lnsaYbmnsT/SeYshnbfYP2NI5y2GdO4/60sFrb5U4D/Q6ksFrb7UPw54/OGAx68/C1p9qaDV1z+2iZJdmyjZPynZtYmSXes/pPMWQzpv4T/A4w8HPP7gP+3aRMmuTeQ/Jbs2UbJr4z+YClp9qaDlP+KAxx8OeOw/7mmE5Z5G6D/w+MMBjz+8PxdDOm8xpOM/N1GyaxMl6z+mglZfKmjlP5qZmZmZmek/qaDVlwpa7T8aYbmnEZbrP2G5pxGWe8o/z1sM6bzF4D/PWwzpvMXAP0M6bzGk89Y/mpmZmZmZ2T/7UkGrLxXkP32poNWXCuo/VdDqSwWt7j+amZmZmZnJP28xpPMWQ+o/Dnj84YDH3z8AAAAAAAD4fwAAAAAAAPh/AAAAAAAA+H9fKmj1pYLmP/zhgMcfDug/8PjDAY8/zD/SeYshnbeoPynZtYmSXds/uBjSeYsh3T/SeYshnbfIPwAAAAAAAPh/QasvFbT64j9emyjZtYnSP0GrLxW0+tI/J0p2baJk1z/t2kTJrk3UP7JrEyW7NuE/baJk1yZK5j/SeYshnbfoP4shnbcY0uk/1AjLPY2w7D/GkM5bDOnsP/5wwOMPB+w/mApafamg1T8luzZRsmvDP/D4wwGPP4w/tPpSQasvlT8=\",\"dtype\":\"float64\",\"order\":\"little\",\"shape\":[145]},\"__label\":[\"Control\",\"Control\",\"Control\",\"Control\",\"Control\",\"Control\",\"Control\",\"Control\",\"Control\",\"Control\",\"Control\",\"Control\",\"Control\",\"Control\",\"Control\",\"Control\",\"Control\",\"Control\",\"Control\",\"Control\",\"Control\",\"Control\",\"Control\",\"Control\",\"Control\",\"Control\",\"Control\",\"Control\",\"Control\",\"Control\",\"Control\",\"Control\",\"Control\",\"Control\",\"Control\",\"Control\",\"Control\",\"Control\",\"Control\",\"Control\",\"Control\",\"Control\",\"Control\",\"Control\",\"Control\",\"Control\",\"Control\",\"Control\",\"Control\",\"Control\",\"Control\",\"Control\",\"Control\",\"Control\",\"Control\",\"Control\",\"Control\",\"Control\",\"Control\",\"Control\",\"Control\",\"Control\",\"Control\",\"Control\",\"Control\",\"Control\",\"Control\",\"Control\",\"Control\",\"Control\",\"Control\",\"Control\",\"Control\",\"Control\",\"Control\",\"Control\",\"Control\",\"Control\",\"Control\",\"Control\",\"Control\",\"Control\",\"Control\",\"Control\",\"Control\",\"Control\",\"Control\",\"Control\",\"Control\",\"Control\",\"Control\",\"Control\",\"Control\",\"Control\",\"Control\",\"Control\",\"Control\",\"Control\",\"Control\",\"Control\",\"Control\",\"Control\",\"Control\",\"Control\",\"Control\",\"Control\",\"Control\",\"Control\",\"Control\",\"Control\",\"Control\",\"Control\",\"Control\",\"Control\",\"Control\",\"Control\",\"Control\",\"Control\",\"Control\",\"Control\",\"Control\",\"Control\",\"Control\",\"Control\",\"Control\",\"Control\",\"Control\",\"Control\",\"Control\",\"Control\",\"Control\",\"Control\",\"Control\",\"Control\",\"Control\",\"Control\",\"Control\",\"Control\",\"Control\",\"Control\",\"Control\",\"Control\",\"Control\",\"Control\",\"Control\"],\"index\":[0,1,2,3,4,5,6,7,8,9,10,11,12,13,14,15,16,17,18,19,20,21,22,23,24,25,26,27,28,29,30,31,32,33,34,35,36,37,38,39,40,41,42,43,44,45,46,99,100,101,102,103,104,105,106,107,108,109,110,111,112,113,114,115,116,117,118,119,120,121,122,123,124,125,126,127,139,140,141,142,143,144,145,146,147,148,149,150,151,152,153,154,155,156,157,158,159,160,161,162,163,164,165,166,167,168,169,170,171,172,173,174,175,176,177,178,179,180,181,182,183,184,185,186,187,188,189,190,191,192,193,194,195,196,197,198,199,200,201,202,203,204,205,206,207]},\"selected\":{\"id\":\"1253\"},\"selection_policy\":{\"id\":\"1252\"}},\"id\":\"1202\",\"type\":\"ColumnDataSource\"},{\"attributes\":{\"click_policy\":\"hide\",\"coordinates\":null,\"group\":null,\"items\":[{\"id\":\"1223\"},{\"id\":\"1224\"}],\"location\":\"top_left\"},\"id\":\"1222\",\"type\":\"Legend\"},{\"attributes\":{},\"id\":\"1248\",\"type\":\"BasicTickFormatter\"},{\"attributes\":{\"coordinates\":null,\"data_source\":{\"id\":\"1209\"},\"glyph\":{\"id\":\"1210\"},\"group\":null,\"hover_glyph\":null,\"muted_glyph\":{\"id\":\"1212\"},\"nonselection_glyph\":{\"id\":\"1211\"},\"view\":{\"id\":\"1214\"}},\"id\":\"1213\",\"type\":\"GlyphRenderer\"},{\"attributes\":{},\"id\":\"1187\",\"type\":\"HelpTool\"},{\"attributes\":{},\"id\":\"1252\",\"type\":\"UnionRenderers\"},{\"attributes\":{\"data\":{\"Age (d)\":[14,14,14,14,14,14,14,14,14,14,14,14,14,14,14,14,14,14,14,14,14,14,14,14,14,14,14,14,14,14,14,14,14,14,14,14,14,14,14,14,14,14,14,14,14,14,14,14,14,14,14,14,14,14,14,14,14,14,14,14,14,14,14,14,14,14,14,14,14,14,14,14,14,14,14,14,14,14,14,14,14,14,14,14,14,14,14,14,14,14],\"Alive Sperm Millions\":{\"__ndarray__\":\"vsCsUKR75T9FnbmHhO/gP1u0AG2rWf4/AFKbOLnfyT84ZW6+ER0CQP2Es1vLJPE/YK+w4H6A/z+amZmZmZmxP2ak3lM5rQtAAAAAAAAAAAA1QGmoUcj8P1yv6UFByQRAVHQkl/9Q9j/3Bl+YTJXyP7Bx/bs+c+E/w5rKorBLBUAvFLAdjFjgP9uIJ7uZ0d0/PQrXo3A99j91IVZ/hGHKP13Aywwb5eI/OGdEaW/w9j8AAAAAAAAAAI7lXfWAeaA/ZOWXwRgR+D8n+RG/Yg3cPwAAAAAAAAAA5IV0eAjjA0BtcY3PZB8NQHHJcad0MANAtMpMaf2t8D+f46PFGQP6Pz81XrpJDO8//Bu0Vx8P6T+4zOmymNjSPxU42Qbu4ARAkLsIU5RL3z/D1mzlJf/4P5p4B3jSwuQ/sg5HV+nu5j9hTzv8NfkAQMuBHmrbMNw/x0j2CDUD8z9Robq5+Bv+P8+8HHbfse4/7FG4HoXr/T8Ni1HX2rv+P83km21uzAJA323eOCmMAUAAAAAAAAAAAAVsByP2CeI/mWclrfiG7T/5Eb9iDRfWP+1JYHMOvgBAVP8gkiFH8j8+527XS/MMQMRb598ue/E/8parH5tk9j/a4a/JGnX7P6Cmlq31RdQ/Gvm84qlH4j+Nl24Sg8DSP25qoPmc+/I/A1slWBzO7D86AyMva6L6P9f5t8t+HQBADp4JTRLL+z8vGcdI9ggOQPUwtDo5Q/A/eVxUi4hi5T/tRh/zAYHuP8dim1Q0VuY/0F/oEaPn8z80vi8uVQkDQP0TXKyoQeE/Y5eo3hqY+T/pnnWNloP+P0jBU8iVGgFALgH4p1SJ9j/aVN0jm6vRPz7L8+DuLPo/vHSTGAR2BEBCP1OvW4TwPwAAAAAAAAAAJt9sc2O6+j/8cfvlk7UIQAAAAAAAAAAAcRsN4C1Q/T8kRPmCFtLyP8+fNqrTgeg/\",\"dtype\":\"float64\",\"order\":\"little\",\"shape\":[90]},\"AliveSperm\":[671343,529238,1896892,202140,2264194,1071483,1968871,68750,3459582,0,1798906,2598269,1394775,1161450,545318,2661958,510809,465918,1390000,206101,590467,1433700,0,32177,1504174,438317,0,2485856,3640329,2398660,1042478,1625757,970250,783096,294470,2609829,488988,1562292,648782,716664,2121685,440482,1188283,1881829,959213,1870000,1920863,2349820,2193438,0,563716,922726,345157,2092801,1142366,3618797,1092574,1399562,1716090,316770,571248,293000,1186429,900160,1664653,2014402,1737078,3754376,1016412,668278,953248,698023,1244052,2379557,539265,1599635,1907126,2137981,1408528,276099,1635970,2557625,1032314,0,1670505,3088661,0,1832075,1176291,765848],\"Cage\":[7,7,7,7,7,7,7,7,7,7,8,8,8,8,8,8,8,8,9,9,9,9,9,9,9,9,9,10,10,10,10,10,10,10,10,11,11,11,11,11,11,11,11,11,11,12,12,12,12,12,12,12,16,16,16,16,16,16,17,17,17,17,17,26,26,26,26,26,26,26,26,26,26,27,27,27,27,27,27,27,27,27,28,28,28,28,28,28,28,28],\"Colony\":[9,9,9,9,9,9,9,9,9,9,9,9,9,9,9,9,9,9,9,9,9,9,9,9,9,9,9,10,10,10,10,10,10,10,10,10,10,10,10,10,10,10,10,10,10,10,10,10,10,10,10,10,27,27,27,27,27,27,27,27,27,27,27,84,84,84,84,84,84,84,84,84,84,84,84,84,84,84,84,84,84,84,84,84,84,84,84,84,84,84],\"Dead Sperm Millions\":{\"__ndarray__\":\"q5MzFHe8vT+Piv87okKVP4XtJ2N8mL0//1vJjo1AvD/gEoB/SpXEP/p8lBEXgLo/GtzWFp6X1z+amZmZmZmxP2x2pPrOL9Q/AAAAAAAAAACHMenvpfDEP4wUysLX17Y/YVRSJ6CJtD/ysFBrmnfWP8ix9QzhmKU/S5ARUOEI3D9SK0zfawi6P2GpLuBlhrU/PQrXo3A91j8WvVMB9zy7P4knu5nRj5Y/kst/SL99nT8AAAAAAAAAACZtqu6RzXU/bmqg+Zy70z/LgR5q2zC2PzMzMzMzM8M/n1p9dVWg8T/Kp8e2DDjeP98a2CrB4tw/MgQAx5495D/0a+un/yzhPzeJQWDl0Lo/3Vz8bU+QwD9IMxZNZyfVPxKGAUuu4uo/ngjiPJzA6j/huIybGmjqP0CIZMixNQJATvG4qBYR4T/X+iKhLafwP6DFUiRfCbw/LiC0Hr5Mxj98KxIT1LDwP2KGxhNBnNo/7FG4HoXr3T8ZHZCEfbvvP1Fmg0wycrY/2SH+YUuPpj8zMzMzMzMJQKRskbQbfbw/nP2Bctu+1T+1UZ0OZD2xP5qw/WSMD94/Rpp4B3hS9T+mXyLeOv/ZP7tDigESTbg/1a4JaY1Bwz8XK2owDcOnP8Cy0qQUdM8/yk4/qIsUyj956SYxCKx8Pw3+fjFbspo/MbYQ5KCEqT8lk1M7w1TqP14vTRHg9Mo/YCFzZVBt2j/iOVtAaD3EP7fwvFRszLs/hPQUOUTcyD/zPo7myMrXP3E6yVaXU9c/5Gcj100pxz/MttPWiCD1P/yMCwdCsqg/bATidf0C5D9+x/DYz+LxP771Yb1RK98/FcjsLHqn0j+Uv3tHjQmpP3QMyF7v/sw/DAIrhxbZuj/Ez38PXrvaPwAAAAAAAAAAAB3mywuw2j8icCTQYFPaP83MzMzMTAJAQfFjzF1Lyj9GRZxOstXHP5BN8iN+xcI/\",\"dtype\":\"float64\",\"order\":\"little\",\"shape\":[90]},\"Environment\":[\"Cage\",\"Cage\",\"Cage\",\"Cage\",\"Cage\",\"Cage\",\"Cage\",\"Cage\",\"Cage\",\"Cage\",\"Cage\",\"Cage\",\"Cage\",\"Cage\",\"Cage\",\"Cage\",\"Cage\",\"Cage\",\"Cage\",\"Cage\",\"Cage\",\"Cage\",\"Cage\",\"Cage\",\"Cage\",\"Cage\",\"Cage\",\"Cage\",\"Cage\",\"Cage\",\"Cage\",\"Cage\",\"Cage\",\"Cage\",\"Cage\",\"Cage\",\"Cage\",\"Cage\",\"Cage\",\"Cage\",\"Cage\",\"Cage\",\"Cage\",\"Cage\",\"Cage\",\"Cage\",\"Cage\",\"Cage\",\"Cage\",\"Cage\",\"Cage\",\"Cage\",\"Cage\",\"Cage\",\"Cage\",\"Cage\",\"Cage\",\"Cage\",\"Cage\",\"Cage\",\"Cage\",\"Cage\",\"Cage\",\"Cage\",\"Cage\",\"Cage\",\"Cage\",\"Cage\",\"Cage\",\"Cage\",\"Cage\",\"Cage\",\"Cage\",\"Cage\",\"Cage\",\"Cage\",\"Cage\",\"Cage\",\"Cage\",\"Cage\",\"Cage\",\"Cage\",\"Cage\",\"Cage\",\"Cage\",\"Cage\",\"Cage\",\"Cage\",\"Cage\",\"Cage\"],\"Infertil\":[0,0,0,0,0,0,0,0,0,1,0,0,0,0,0,0,0,0,0,0,0,0,1,0,0,0,0,0,0,0,0,0,0,0,0,0,0,0,0,0,0,0,0,0,0,0,0,0,0,0,0,0,0,0,0,0,0,0,0,0,0,0,0,0,0,0,0,0,0,0,0,0,0,0,0,0,0,0,0,0,0,0,0,1,0,0,0,0,0,0],\"Quality\":{\"__ndarray__\":\"AAAAAABQVUCqIDpYag5YQFbegONakFdAvtZrvdYrUEAir74Dm1dXQKlw89kqzFZAZZtLDbUOVUAAAAAAAABJQI7ohalA6VZAAAAAAAAA+H/briNBf+pWQIixItuBK1hAEZGEweijV0DSrflhkTJTQHRr9N1+NFdAIRbzJqh3VUCXb/mWb9lUQBpr86aZLVVAAAAAAAAAVEDT8zzP83xQQAfJ+QXJGVhAHfiBH/iBWEAAAAAAAAD4f7buZ56Rc1VAhGzVhUq/VEAs1QW8TN9UQAAAAAAAAPh/3I9897JSUUBceiCVMSFWQKjGCRt3ClVAvENrPWceT0C5wmmHfctSQI5jjWxgkFZAUlwR+2Z0VUCG6M4bwI5HQDhIRlJs6VJAPM/zPM9zQkC66Z4F7VtQQJOt0yo7LjZAePT21qOqTEDKzycisMVQQEVeYrmeBVRA6pc+wKnNVUBO+pgLghVQQAq0QAu0cFFAAAAAAAAAVEBXZTrP83xQQHiS+AXJGVhAriSBH/iBWEAAAAAAAAAAAKz9QjTf4FRAvW/fF5VFUkAYtl2lKutUQOkZXnLmalRAPqalqP4TR0Ch2BDQHHpWQMvwNYZmAFdA+pduMdeSVkD5Q6vceVdYQNDIgFhMKExAP7WPT2dtUkDtPq6qqmpYQGpjNmZjdlhAVFCTET6wV0D7VUZE7bpQQJ1dCIM8olZA45U9bNYyVECJDmAVWP1XQNW/NcFBllZATbwkStJeU0DNvOo7XvxRQAnCNl6RbFBAfDFKhlLTVUDgckis/RNQQD1vtvuN8lZA7Dpt8DL5UUB87dtB04VPQI1HBD6aXFRACg/9h7K2VECY6rjQCz1VQNbYDA2X9VVAwn1PcugDWEArT//da8xRQAAAAAAAAPh/AJilfIwBVEDsrHGR1g9WQAAAAAAAAAAA54JlMr16VkATwVFVVZVVQMLavYFu+1RA\",\"dtype\":\"float64\",\"order\":\"little\",\"shape\":[90]},\"Quantity\":[787500,550000,2012500,312500,2425000,1175000,2337500,137500,3775000,0,1962500,2687500,1475000,1512500,587500,3100000,612500,550000,1737500,312500,612500,1462500,0,37500,1812500,525000,150000,3587500,4112500,2850000,1675000,2162500,1075000,912500,625000,3450000,1325000,2387500,2925000,1250000,3162500,550000,1362500,2925000,1375000,2337500,2912500,2437500,2237500,3150000,675000,1262500,412500,2562500,2475000,4025000,1187500,1550000,1762500,562500,775000,300000,1212500,950000,2487500,2225000,2150000,3912500,1125000,862500,1325000,1062500,1425000,3700000,587500,2225000,3025000,2625000,1700000,325000,1862500,2662500,1450000,0,2087500,3500000,2287500,2037500,1362500,912500],\"Quantity Millions\":{\"__ndarray__\":\"MzMzMzMz6T+amZmZmZnhP5qZmZmZGQBAAAAAAAAA1D9mZmZmZmYDQM3MzMzMzPI/MzMzMzOzAkCamZmZmZnBPzMzMzMzMw5AAAAAAAAAAABmZmZmZmb/PwAAAAAAgAVAmpmZmZmZ9z8zMzMzMzP4P83MzMzMzOI/zczMzMzMCECamZmZmZnjP5qZmZmZmeE/zczMzMzM+z8AAAAAAADUP5qZmZmZmeM/ZmZmZmZm9z8AAAAAAAAAADMzMzMzM6M/AAAAAAAA/T/NzMzMzMzgPzMzMzMzM8M/MzMzMzOzDEAzMzMzM3MQQM3MzMzMzAZAzczMzMzM+j/NzMzMzEwBQDMzMzMzM/E/MzMzMzMz7T8AAAAAAADkP5qZmZmZmQtAMzMzMzMz9T+amZmZmRkDQGZmZmZmZgdAAAAAAAAA9D/NzMzMzEwJQJqZmZmZmeE/zczMzMzM9T9mZmZmZmYHQAAAAAAAAPY/MzMzMzOzAkDNzMzMzEwHQAAAAAAAgANAZmZmZmbmAUAzMzMzMzMJQJqZmZmZmeU/MzMzMzMz9D9mZmZmZmbaPwAAAAAAgARAzczMzMzMA0CamZmZmRkQQAAAAAAAAPM/zczMzMzM+D8zMzMzMzP8PwAAAAAAAOI/zczMzMzM6D8zMzMzMzPTP2ZmZmZmZvM/ZmZmZmZm7j9mZmZmZuYDQM3MzMzMzAFAMzMzMzMzAUDNzMzMzEwPQAAAAAAAAPI/mpmZmZmZ6z8zMzMzMzP1PwAAAAAAAPE/zczMzMzM9j+amZmZmZkNQM3MzMzMzOI/zczMzMzMAUAzMzMzMzMIQAAAAAAAAAVAMzMzMzMz+z/NzMzMzMzUP83MzMzMzP0/zczMzMxMBUAzMzMzMzP3PwAAAAAAAAAAMzMzMzOzAEAAAAAAAAAMQM3MzMzMTAJAzczMzMxMAEDNzMzMzMz1PzMzMzMzM+0/\",\"dtype\":\"float64\",\"order\":\"little\",\"shape\":[90]},\"Sample\":[1,10,2,3,4,5,6,7,8,9,1,10,4,5,6,7,8,9,1,2,3,4,5,6,7,8,9,1,2,3,4,5,6,7,8,1,10,2,3,4,5,6,7,8,9,1,2,3,4,5,6,7,1,2,3,4,5,6,1,2,3,4,5,1,10,2,3,4,5,6,7,8,9,1,2,3,4,5,6,7,8,9,1,2,3,4,5,6,7,8],\"Sample ID\":[\"P9-1-1\",\"P9-1-10\",\"P9-1-2\",\"P9-1-3\",\"P9-1-4\",\"P9-1-5\",\"P9-1-6\",\"P9-1-7\",\"P9-1-8\",\"P9-1-9\",\"P9-2-1\",\"P9-2-10\",\"P9-2-4\",\"P9-2-5\",\"P9-2-6\",\"P9-2-7\",\"P9-2-8\",\"P9-2-9\",\"P9-3-1\",\"P9-3-2\",\"P9-3-3\",\"P9-3-4\",\"P9-3-5\",\"P9-3-6\",\"P9-3-7\",\"P9-3-8\",\"P9-3-9\",\"P10-1-1\",\"P10-1-2\",\"P10-1-3\",\"P10-1-4\",\"P10-1-5\",\"P10-1-6\",\"P10-1-7\",\"P10-1-8\",\"P10-2-1\",\"P10-2-10\",\"P10-2-2\",\"P10-2-3\",\"P10-2-4\",\"P10-2-5\",\"P10-2-6\",\"P10-2-7\",\"P10-2-8\",\"P10-2-9\",\"P10-3-1\",\"P10-3-2\",\"P10-3-3\",\"P10-3-4\",\"P10-3-5\",\"P10-3-6\",\"P10-3-7\",\"P27-2-1\",\"P27-2-2\",\"P27-2-3\",\"P27-2-4\",\"P27-2-5\",\"P27-2-6\",\"P27-3-1\",\"P27-3-2\",\"P27-3-3\",\"P27-3-4\",\"P27-3-5\",\"P84-1-1\",\"P84-1-10\",\"P84-1-2\",\"P84-1-3\",\"P84-1-4\",\"P84-1-5\",\"P84-1-6\",\"P84-1-7\",\"P84-1-8\",\"P84-1-9\",\"P84-2-1\",\"P84-2-2\",\"P84-2-3\",\"P84-2-4\",\"P84-2-5\",\"P84-2-6\",\"P84-2-7\",\"P84-2-8\",\"P84-2-9\",\"P84-3-1\",\"P84-3-2\",\"P84-3-3\",\"P84-3-4\",\"P84-3-5\",\"P84-3-6\",\"P84-3-7\",\"P84-3-8\"],\"Specimen\":[16,19,17,21,22,23,24,25,26,18,33,104,34,35,36,20,101,103,99,38,98,37,40,39,92,93,94,45,44,135,64,67,46,63,156,60,87,56,55,54,53,49,89,88,57,72,73,74,75,76,137,136,27,28,29,30,31,32,97,102,95,96,100,138,147,139,140,141,142,143,144,145,146,118,119,120,121,122,123,124,125,126,148,149,150,151,152,153,154,155],\"Sperm Volume per 500 ul\":[787500,550000,2012500,312500,2425000,1175000,2337500,137500,3775000,0,1962500,2687500,1475000,1512500,587500,3100000,612500,550000,1737500,312500,612500,1462500,0,37500,1812500,525000,150000,3587500,4112500,2850000,1675000,2162500,1075000,912500,625000,3450000,1325000,2387500,2925000,1250000,3162500,550000,1362500,2925000,1375000,2337500,2912500,2437500,2237500,3150000,675000,1262500,412500,2562500,2475000,4025000,1187500,1550000,1762500,562500,775000,300000,1212500,950000,2487500,2225000,2150000,3912500,1125000,862500,1325000,1062500,1425000,3700000,587500,2225000,3025000,2625000,1700000,325000,1862500,2662500,1450000,0,2087500,3500000,2287500,2037500,1362500,912500],\"Treatment\":[\"Pesticide\",\"Pesticide\",\"Pesticide\",\"Pesticide\",\"Pesticide\",\"Pesticide\",\"Pesticide\",\"Pesticide\",\"Pesticide\",\"Pesticide\",\"Pesticide\",\"Pesticide\",\"Pesticide\",\"Pesticide\",\"Pesticide\",\"Pesticide\",\"Pesticide\",\"Pesticide\",\"Pesticide\",\"Pesticide\",\"Pesticide\",\"Pesticide\",\"Pesticide\",\"Pesticide\",\"Pesticide\",\"Pesticide\",\"Pesticide\",\"Pesticide\",\"Pesticide\",\"Pesticide\",\"Pesticide\",\"Pesticide\",\"Pesticide\",\"Pesticide\",\"Pesticide\",\"Pesticide\",\"Pesticide\",\"Pesticide\",\"Pesticide\",\"Pesticide\",\"Pesticide\",\"Pesticide\",\"Pesticide\",\"Pesticide\",\"Pesticide\",\"Pesticide\",\"Pesticide\",\"Pesticide\",\"Pesticide\",\"Pesticide\",\"Pesticide\",\"Pesticide\",\"Pesticide\",\"Pesticide\",\"Pesticide\",\"Pesticide\",\"Pesticide\",\"Pesticide\",\"Pesticide\",\"Pesticide\",\"Pesticide\",\"Pesticide\",\"Pesticide\",\"Pesticide\",\"Pesticide\",\"Pesticide\",\"Pesticide\",\"Pesticide\",\"Pesticide\",\"Pesticide\",\"Pesticide\",\"Pesticide\",\"Pesticide\",\"Pesticide\",\"Pesticide\",\"Pesticide\",\"Pesticide\",\"Pesticide\",\"Pesticide\",\"Pesticide\",\"Pesticide\",\"Pesticide\",\"Pesticide\",\"Pesticide\",\"Pesticide\",\"Pesticide\",\"Pesticide\",\"Pesticide\",\"Pesticide\",\"Pesticide\"],\"TreatmentNCSS\":[2,2,2,2,2,2,2,2,2,2,2,2,2,2,2,2,2,2,2,2,2,2,2,2,2,2,2,2,2,2,2,2,2,2,2,2,2,2,2,2,2,2,2,2,2,2,2,2,2,2,2,2,2,2,2,2,2,2,2,2,2,2,2,2,2,2,2,2,2,2,2,2,2,2,2,2,2,2,2,2,2,2,2,2,2,2,2,2,2,2],\"ViabilityRaw (%)\":[\"85.25\",\"96.225240761533\",\"94.2555474050981\",\"64.6849816849817\",\"93.3688363420629\",\"91.1901154401154\",\"84.2298005331373\",\"50\",\"91.6445716674518\",\"76.3333333333333\",\"91.6640169952838\",\"96.6798007811359\",\"94.5610812944981\",\"76.7901234567901\",\"92.8202433478271\",\"85.8696381925479\",\"83.3974358974359\",\"84.7125031830914\",\"80\",\"65.952380952381\",\"96.4028944911298\",\"98.0307692307692\",\"0\",\"85.8057628645864\",\"82.98892351\",\"83.4890585\",\"0\",\"69.2921732632089\",\"88.518651277272\",\"84.16351963\",\"62.2375256322625\",\"75.1795366795367\",\"90.2558852558852\",\"85.8187854451692\",\"47.11523769\",\"75.6472364126538\",\"36.9047619047619\",\"65.4363416721234\",\"22.1805903212349\",\"57.3331249910197\",\"67.0888753308092\",\"80.0878127537372\",\"87.2134857760681\",\"64.3360623353885\",\"69.760989010989\",\"80\",\"65.95238095\",\"96.40289449\",\"98.03076923\",\"0\",\"83.5136233\",\"73.08722493\",\"83.6744779029035\",\"81.6703153532941\",\"46.1562090691409\",\"89.9080085911287\",\"92.0062575842632\",\"90.2943843441025\",\"97.3668128654971\",\"56.3148298863249\",\"73.70943059\",\"97.66666667\",\"97.8498168498169\",\"94.75378837\",\"66.92073161\",\"90.53494335\",\"80.79433733\",\"95.95850119\",\"90.34776335\",\"77.48158506\",\"71.94325159\",\"65.69637256\",\"87.3019119\",\"64.31235797\",\"91.78991597\",\"71.89373408\",\"63.04550956\",\"81.4469142\",\"82.85464668\",\"84.95384615\",\"87.83734442\",\"96.06106241\",\"71.19408369\",\"NO SPERM\",\"80.02419964\",\"88.2474712\",\"0\",\"89.91779766\",\"86.33333333\",\"83.9286198\"],\"__ECDF\":{\"__ndarray__\":\"chzHcRzH4T+8u7u7u7vrP0qf9Emf9Ok/lD7pkz7pwz+amZmZmZnpP3d3d3d3d+c/YQu2YAu24D+UPumTPumzPyh90id90uc/AAAAAAAA+H/Ygi3Ygi3oP83MzMzMzOw/+qRP+qRP6j9VVVVVVVXVP+mTPumTPuk/gy3Ygi3Y4j990id90ifdPxEREREREeE/F2zBFmzB1j+amZmZmZnJPxzHcRzHcew/P+mTPumT7j8AAAAAAAD4fyIiIiIiIuI/HMdxHMdx3D/e3d3d3d3dPwAAAAAAAPh/3t3d3d3dzT+lT/qkT/rkP7AFW7AFW+A/HMdxHMdxvD+UPumTPunTP7ZgC7ZgC+Y/0id90id94j8RERERERGxP/VJn/RJn9Q/F2zBFmzBpj9VVVVVVVXFPxEREREREaE/mpmZmZmZuT8cx3Ecx3HMPzmO4ziO49g/5DiO4ziO4z/SJ33SJ33CP5/0SZ/0Sc8/d3d3d3d31z/Ygi3Ygi3IP2zBFmzBFuw/juM4juM47j8XbMEWbMGGPz/pkz7pk94/0id90id90j+f9Emf9EnfP1uwBVuwBds/HMdxHMdxrD9VVVVVVVXlPzmO4ziO4+g/ZmZmZmZm5j990id90iftPxdswRZswbY/MzMzMzMz0z8u2IIt2ILtP97d3d3d3e0/q6qqqqqq6j9bsAVbsAXLP8dxHMdxHOc/mpmZmZmZ2T9bsAVbsAXrPxdswRZsweY/tmALtmAL1j9yHMdxHMfRPxdswRZswcY/lD7pkz7p4z8RERERERHBP4mIiIiIiOg/ERERERER0T+f9Emf9Em/P/qkT/qkT9o/vLu7u7u72z/BFmzBFmzhP0REREREROQ/C7ZgC7Zg6z+wBVuwBVvQPwAAAAAAAPh/2IIt2IIt2D/1SZ/0SZ/kPxdswRZswZY/BluwBVuw5T8zMzMzMzPjPwAAAAAAAOA/\",\"dtype\":\"float64\",\"order\":\"little\",\"shape\":[90]},\"__label\":[\"Pesticide\",\"Pesticide\",\"Pesticide\",\"Pesticide\",\"Pesticide\",\"Pesticide\",\"Pesticide\",\"Pesticide\",\"Pesticide\",\"Pesticide\",\"Pesticide\",\"Pesticide\",\"Pesticide\",\"Pesticide\",\"Pesticide\",\"Pesticide\",\"Pesticide\",\"Pesticide\",\"Pesticide\",\"Pesticide\",\"Pesticide\",\"Pesticide\",\"Pesticide\",\"Pesticide\",\"Pesticide\",\"Pesticide\",\"Pesticide\",\"Pesticide\",\"Pesticide\",\"Pesticide\",\"Pesticide\",\"Pesticide\",\"Pesticide\",\"Pesticide\",\"Pesticide\",\"Pesticide\",\"Pesticide\",\"Pesticide\",\"Pesticide\",\"Pesticide\",\"Pesticide\",\"Pesticide\",\"Pesticide\",\"Pesticide\",\"Pesticide\",\"Pesticide\",\"Pesticide\",\"Pesticide\",\"Pesticide\",\"Pesticide\",\"Pesticide\",\"Pesticide\",\"Pesticide\",\"Pesticide\",\"Pesticide\",\"Pesticide\",\"Pesticide\",\"Pesticide\",\"Pesticide\",\"Pesticide\",\"Pesticide\",\"Pesticide\",\"Pesticide\",\"Pesticide\",\"Pesticide\",\"Pesticide\",\"Pesticide\",\"Pesticide\",\"Pesticide\",\"Pesticide\",\"Pesticide\",\"Pesticide\",\"Pesticide\",\"Pesticide\",\"Pesticide\",\"Pesticide\",\"Pesticide\",\"Pesticide\",\"Pesticide\",\"Pesticide\",\"Pesticide\",\"Pesticide\",\"Pesticide\",\"Pesticide\",\"Pesticide\",\"Pesticide\",\"Pesticide\",\"Pesticide\",\"Pesticide\",\"Pesticide\"],\"index\":[47,48,49,50,51,52,53,54,55,56,57,58,59,60,61,62,63,64,65,66,67,68,69,70,71,72,73,74,75,76,77,78,79,80,81,82,83,84,85,86,87,88,89,90,91,92,93,94,95,96,97,98,128,129,130,131,132,133,134,135,136,137,138,208,209,210,211,212,213,214,215,216,217,218,219,220,221,222,223,224,225,226,227,228,229,230,231,232,233,234]},\"selected\":{\"id\":\"1257\"},\"selection_policy\":{\"id\":\"1256\"}},\"id\":\"1215\",\"type\":\"ColumnDataSource\"},{\"attributes\":{\"label\":{\"value\":\"Pesticide\"},\"renderers\":[{\"id\":\"1220\"},{\"id\":\"1213\"}]},\"id\":\"1224\",\"type\":\"LegendItem\"},{\"attributes\":{\"axis\":{\"id\":\"1174\"},\"coordinates\":null,\"group\":null,\"ticker\":null},\"id\":\"1177\",\"type\":\"Grid\"},{\"attributes\":{\"coordinates\":null,\"group\":null},\"id\":\"1242\",\"type\":\"Title\"},{\"attributes\":{\"fill_alpha\":0.1,\"fill_color\":\"#1f77b3\",\"hatch_alpha\":0.1,\"line_alpha\":0.1,\"line_color\":\"#1f77b4\",\"x\":{\"field\":\"x\"},\"y\":{\"field\":\"y\"}},\"id\":\"1198\",\"type\":\"Patch\"},{\"attributes\":{},\"id\":\"1168\",\"type\":\"DataRange1d\"},{\"attributes\":{\"fill_alpha\":0.2,\"fill_color\":\"#ff7e0e\",\"hatch_alpha\":0.2,\"line_alpha\":0.2,\"line_color\":\"#1f77b4\",\"x\":{\"field\":\"x\"},\"y\":{\"field\":\"y\"}},\"id\":\"1212\",\"type\":\"Patch\"},{\"attributes\":{\"label\":{\"value\":\"Control\"},\"renderers\":[{\"id\":\"1207\"},{\"id\":\"1200\"}]},\"id\":\"1223\",\"type\":\"LegendItem\"},{\"attributes\":{},\"id\":\"1250\",\"type\":\"UnionRenderers\"},{\"attributes\":{},\"id\":\"1182\",\"type\":\"PanTool\"},{\"attributes\":{\"fill_alpha\":0.5,\"fill_color\":\"#ff7e0e\",\"line_alpha\":0,\"line_color\":\"#1f77b4\",\"x\":{\"field\":\"x\"},\"y\":{\"field\":\"y\"}},\"id\":\"1210\",\"type\":\"Patch\"},{\"attributes\":{},\"id\":\"1253\",\"type\":\"Selection\"},{\"attributes\":{},\"id\":\"1175\",\"type\":\"BasicTicker\"},{\"attributes\":{},\"id\":\"1170\",\"type\":\"LinearScale\"},{\"attributes\":{},\"id\":\"1257\",\"type\":\"Selection\"},{\"attributes\":{},\"id\":\"1183\",\"type\":\"WheelZoomTool\"},{\"attributes\":{},\"id\":\"1256\",\"type\":\"UnionRenderers\"},{\"attributes\":{\"data\":{\"x\":{\"__ndarray__\":\"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\",\"dtype\":\"float64\",\"order\":\"little\",\"shape\":[344]},\"y\":{\"__ndarray__\":\"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\",\"dtype\":\"float64\",\"order\":\"little\",\"shape\":[344]}},\"selected\":{\"id\":\"1255\"},\"selection_policy\":{\"id\":\"1254\"}},\"id\":\"1209\",\"type\":\"ColumnDataSource\"},{\"attributes\":{\"tools\":[{\"id\":\"1182\"},{\"id\":\"1183\"},{\"id\":\"1184\"},{\"id\":\"1185\"},{\"id\":\"1186\"},{\"id\":\"1187\"}]},\"id\":\"1189\",\"type\":\"Toolbar\"},{\"attributes\":{\"fill_color\":{\"value\":\"#ff7e0e\"},\"hatch_color\":{\"value\":\"#ff7e0e\"},\"line_color\":{\"value\":\"#ff7e0e\"},\"x\":{\"field\":\"Quality\"},\"y\":{\"field\":\"__ECDF\"}},\"id\":\"1217\",\"type\":\"Circle\"},{\"attributes\":{},\"id\":\"1249\",\"type\":\"AllLabels\"},{\"attributes\":{},\"id\":\"1172\",\"type\":\"LinearScale\"},{\"attributes\":{},\"id\":\"1251\",\"type\":\"Selection\"},{\"attributes\":{\"coordinates\":null,\"data_source\":{\"id\":\"1196\"},\"glyph\":{\"id\":\"1197\"},\"group\":null,\"hover_glyph\":null,\"muted_glyph\":{\"id\":\"1199\"},\"nonselection_glyph\":{\"id\":\"1198\"},\"view\":{\"id\":\"1201\"}},\"id\":\"1200\",\"type\":\"GlyphRenderer\"},{\"attributes\":{\"fill_alpha\":{\"value\":0.2},\"fill_color\":{\"value\":\"#ff7e0e\"},\"hatch_alpha\":{\"value\":0.2},\"hatch_color\":{\"value\":\"#ff7e0e\"},\"line_alpha\":{\"value\":0.2},\"line_color\":{\"value\":\"#ff7e0e\"},\"x\":{\"field\":\"Quality\"},\"y\":{\"field\":\"__ECDF\"}},\"id\":\"1219\",\"type\":\"Circle\"},{\"attributes\":{\"overlay\":{\"id\":\"1188\"}},\"id\":\"1184\",\"type\":\"BoxZoomTool\"},{\"attributes\":{},\"id\":\"1254\",\"type\":\"UnionRenderers\"},{\"attributes\":{},\"id\":\"1255\",\"type\":\"Selection\"},{\"attributes\":{\"coordinates\":null,\"data_source\":{\"id\":\"1215\"},\"glyph\":{\"id\":\"1217\"},\"group\":null,\"hover_glyph\":null,\"muted_glyph\":{\"id\":\"1219\"},\"nonselection_glyph\":{\"id\":\"1218\"},\"view\":{\"id\":\"1221\"}},\"id\":\"1220\",\"type\":\"GlyphRenderer\"},{\"attributes\":{\"axis_label\":\"ECDF\",\"coordinates\":null,\"formatter\":{\"id\":\"1245\"},\"group\":null,\"major_label_policy\":{\"id\":\"1246\"},\"ticker\":{\"id\":\"1179\"}},\"id\":\"1178\",\"type\":\"LinearAxis\"},{\"attributes\":{\"data\":{\"x\":{\"__ndarray__\":\"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\",\"dtype\":\"float64\",\"order\":\"little\",\"shape\":[556]},\"y\":{\"__ndarray__\":\"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\",\"dtype\":\"float64\",\"order\":\"little\",\"shape\":[556]}},\"selected\":{\"id\":\"1251\"},\"selection_policy\":{\"id\":\"1250\"}},\"id\":\"1196\",\"type\":\"ColumnDataSource\"},{\"attributes\":{\"source\":{\"id\":\"1202\"}},\"id\":\"1208\",\"type\":\"CDSView\"},{\"attributes\":{\"source\":{\"id\":\"1196\"}},\"id\":\"1201\",\"type\":\"CDSView\"},{\"attributes\":{\"fill_alpha\":{\"value\":0.1},\"fill_color\":{\"value\":\"#1f77b3\"},\"hatch_alpha\":{\"value\":0.1},\"hatch_color\":{\"value\":\"#1f77b3\"},\"line_alpha\":{\"value\":0.1},\"line_color\":{\"value\":\"#1f77b3\"},\"x\":{\"field\":\"Quality\"},\"y\":{\"field\":\"__ECDF\"}},\"id\":\"1205\",\"type\":\"Circle\"},{\"attributes\":{\"coordinates\":null,\"data_source\":{\"id\":\"1202\"},\"glyph\":{\"id\":\"1204\"},\"group\":null,\"hover_glyph\":null,\"muted_glyph\":{\"id\":\"1206\"},\"nonselection_glyph\":{\"id\":\"1205\"},\"view\":{\"id\":\"1208\"}},\"id\":\"1207\",\"type\":\"GlyphRenderer\"},{\"attributes\":{\"fill_alpha\":{\"value\":0.2},\"fill_color\":{\"value\":\"#1f77b3\"},\"hatch_alpha\":{\"value\":0.2},\"hatch_color\":{\"value\":\"#1f77b3\"},\"line_alpha\":{\"value\":0.2},\"line_color\":{\"value\":\"#1f77b3\"},\"x\":{\"field\":\"Quality\"},\"y\":{\"field\":\"__ECDF\"}},\"id\":\"1206\",\"type\":\"Circle\"},{\"attributes\":{},\"id\":\"1245\",\"type\":\"BasicTickFormatter\"},{\"attributes\":{\"fill_alpha\":0.2,\"fill_color\":\"#1f77b3\",\"hatch_alpha\":0.2,\"line_alpha\":0.2,\"line_color\":\"#1f77b4\",\"x\":{\"field\":\"x\"},\"y\":{\"field\":\"y\"}},\"id\":\"1199\",\"type\":\"Patch\"},{\"attributes\":{},\"id\":\"1185\",\"type\":\"SaveTool\"},{\"attributes\":{\"source\":{\"id\":\"1209\"}},\"id\":\"1214\",\"type\":\"CDSView\"},{\"attributes\":{},\"id\":\"1166\",\"type\":\"DataRange1d\"},{\"attributes\":{},\"id\":\"1246\",\"type\":\"AllLabels\"},{\"attributes\":{\"axis\":{\"id\":\"1178\"},\"coordinates\":null,\"dimension\":1,\"group\":null,\"ticker\":null},\"id\":\"1181\",\"type\":\"Grid\"},{\"attributes\":{\"bottom_units\":\"screen\",\"coordinates\":null,\"fill_alpha\":0.5,\"fill_color\":\"lightgrey\",\"group\":null,\"left_units\":\"screen\",\"level\":\"overlay\",\"line_alpha\":1.0,\"line_color\":\"black\",\"line_dash\":[4,4],\"line_width\":2,\"right_units\":\"screen\",\"syncable\":false,\"top_units\":\"screen\"},\"id\":\"1188\",\"type\":\"BoxAnnotation\"},{\"attributes\":{},\"id\":\"1179\",\"type\":\"BasicTicker\"},{\"attributes\":{\"source\":{\"id\":\"1215\"}},\"id\":\"1221\",\"type\":\"CDSView\"},{\"attributes\":{\"fill_alpha\":{\"value\":0.1},\"fill_color\":{\"value\":\"#ff7e0e\"},\"hatch_alpha\":{\"value\":0.1},\"hatch_color\":{\"value\":\"#ff7e0e\"},\"line_alpha\":{\"value\":0.1},\"line_color\":{\"value\":\"#ff7e0e\"},\"x\":{\"field\":\"Quality\"},\"y\":{\"field\":\"__ECDF\"}},\"id\":\"1218\",\"type\":\"Circle\"},{\"attributes\":{\"fill_color\":{\"value\":\"#1f77b3\"},\"hatch_color\":{\"value\":\"#1f77b3\"},\"line_color\":{\"value\":\"#1f77b3\"},\"x\":{\"field\":\"Quality\"},\"y\":{\"field\":\"__ECDF\"}},\"id\":\"1204\",\"type\":\"Circle\"},{\"attributes\":{},\"id\":\"1186\",\"type\":\"ResetTool\"}],\"root_ids\":[\"1165\"]},\"title\":\"Bokeh Application\",\"version\":\"2.4.2\"}};\n",
       "  const render_items = [{\"docid\":\"f69b2314-e53a-4acf-9206-673345468f53\",\"root_ids\":[\"1165\"],\"roots\":{\"1165\":\"04f5ba15-0e4e-4562-b6d1-2382d2121918\"}}];\n",
       "  root.Bokeh.embed.embed_items_notebook(docs_json, render_items);\n",
       "\n",
       "  }\n",
       "  if (root.Bokeh !== undefined) {\n",
       "    embed_document(root);\n",
       "  } else {\n",
       "    let attempts = 0;\n",
       "    const timer = setInterval(function(root) {\n",
       "      if (root.Bokeh !== undefined) {\n",
       "        clearInterval(timer);\n",
       "        embed_document(root);\n",
       "      } else {\n",
       "        attempts++;\n",
       "        if (attempts > 100) {\n",
       "          clearInterval(timer);\n",
       "          console.log(\"Bokeh: ERROR: Unable to run BokehJS code because BokehJS library is missing\");\n",
       "        }\n",
       "      }\n",
       "    }, 10, root)\n",
       "  }\n",
       "})(window);"
      ],
      "application/vnd.bokehjs_exec.v0+json": ""
     },
     "metadata": {
      "application/vnd.bokehjs_exec.v0+json": {
       "id": "1165"
      }
     },
     "output_type": "display_data"
    }
   ],
   "source": [
    "# Load data set\n",
    "df_sperm = pd.read_csv('data/bee_sperm.csv', comment='#')\n",
    "\n",
    "# Make ECDF\n",
    "p = iqplot.ecdf(\n",
    "    data=df_sperm,\n",
    "    q='Quality',\n",
    "    cats='Treatment',\n",
    "    conf_int=True,\n",
    "    x_axis_label='quality',\n",
    ")\n",
    "\n",
    "p.legend.location = 'top_left'\n",
    "\n",
    "bokeh.io.show(p)"
   ]
  },
  {
   "cell_type": "markdown",
   "metadata": {},
   "source": [
    "We have some very low quality samples from both, but it is pretty clear that on a whole the pesticide samples have much lower sperm quality. Let's compute the confidence interval on the mean. We have to be careful, though, because there are some `NaN`s in the data set, so we have to use `dropna()`."
   ]
  },
  {
   "cell_type": "code",
   "execution_count": 8,
   "metadata": {},
   "outputs": [
    {
     "name": "stdout",
     "output_type": "stream",
     "text": [
      "Confidence interval for control: [84.26541319 89.46672476]\n",
      "Confidence interval for pesticide: [73.98761529 82.00900716]\n"
     ]
    }
   ],
   "source": [
    "# Draw 10,000 bootstrap reps for both.\n",
    "bs_reps_control = draw_bs_reps(\n",
    "    df_sperm.loc[df_sperm[\"Treatment\"] == \"Control\", \"Quality\"].dropna().values,\n",
    "    np.mean,\n",
    "    rg,\n",
    "    size=10000,\n",
    ")\n",
    "bs_reps_pest = draw_bs_reps(\n",
    "    df_sperm.loc[df_sperm[\"Treatment\"] == \"Pesticide\", \"Quality\"].dropna().values,\n",
    "    np.mean,\n",
    "    rg,\n",
    "    size=10000,\n",
    ")\n",
    "\n",
    "# Compute and print confidence interval\n",
    "conf_int_control = np.percentile(bs_reps_control, [2.5, 97.5])\n",
    "conf_int_pest = np.percentile(bs_reps_pest, [2.5, 97.5])\n",
    "\n",
    "print(\"Confidence interval for control:\", conf_int_control)\n",
    "print(\"Confidence interval for pesticide:\", conf_int_pest)"
   ]
  },
  {
   "cell_type": "markdown",
   "metadata": {},
   "source": [
    "The confidence intervals of the mean do not overlap, further confirming that the pesticide-tested drones have lower sperm quality.\n",
    "\n",
    "**e)** Now, let's try bootstrapping the median. This is the same procedure as before, except we just put `np.median` for our function where we have `np.median`."
   ]
  },
  {
   "cell_type": "code",
   "execution_count": 9,
   "metadata": {},
   "outputs": [
    {
     "name": "stdout",
     "output_type": "stream",
     "text": [
      "Confidence interval for control: [89.70654852 94.2353021 ]\n",
      "Confidence interval for pesticide: [80.0560062  85.84421182]\n"
     ]
    }
   ],
   "source": [
    "# Draw 10,000 bootstrap reps for both.\n",
    "bs_reps_control = draw_bs_reps(\n",
    "    df_sperm.loc[df_sperm[\"Treatment\"] == \"Control\", \"Quality\"].dropna().values,\n",
    "    np.median,\n",
    "    rg,\n",
    "    size=10000,\n",
    ")\n",
    "bs_reps_pest = draw_bs_reps(\n",
    "    df_sperm.loc[df_sperm[\"Treatment\"] == \"Pesticide\", \"Quality\"].dropna().values,\n",
    "    np.median,\n",
    "    rg,\n",
    "    size=10000,\n",
    ")\n",
    "\n",
    "# Compute and print confidence interval\n",
    "conf_int_control = np.percentile(bs_reps_control, [2.5, 97.5])\n",
    "conf_int_pest = np.percentile(bs_reps_pest, [2.5, 97.5])\n",
    "\n",
    "print(\"Confidence interval for control:\", conf_int_control)\n",
    "print(\"Confidence interval for pesticide:\", conf_int_pest)"
   ]
  },
  {
   "cell_type": "markdown",
   "metadata": {},
   "source": [
    "Again, we see that the confidence intervals do not overlap. The median is of course higher than the mean, since the low-quality outliers have little effect on the median."
   ]
  },
  {
   "cell_type": "markdown",
   "metadata": {},
   "source": [
    "## Computing environment"
   ]
  },
  {
   "cell_type": "code",
   "execution_count": 10,
   "metadata": {
    "tags": [
     "hide-input"
    ]
   },
   "outputs": [
    {
     "name": "stdout",
     "output_type": "stream",
     "text": [
      "Python implementation: CPython\n",
      "Python version       : 3.9.12\n",
      "IPython version      : 8.3.0\n",
      "\n",
      "numpy     : 1.21.5\n",
      "pandas    : 1.4.2\n",
      "bokeh     : 2.4.2\n",
      "iqplot    : 0.2.4\n",
      "jupyterlab: 3.3.2\n",
      "\n"
     ]
    }
   ],
   "source": [
    "%load_ext watermark\n",
    "%watermark -v -p numpy,pandas,bokeh,iqplot,jupyterlab"
   ]
  }
 ],
 "metadata": {
  "anaconda-cloud": {},
  "kernelspec": {
   "display_name": "Python 3 (ipykernel)",
   "language": "python",
   "name": "python3"
  },
  "language_info": {
   "codemirror_mode": {
    "name": "ipython",
    "version": 3
   },
   "file_extension": ".py",
   "mimetype": "text/x-python",
   "name": "python",
   "nbconvert_exporter": "python",
   "pygments_lexer": "ipython3",
   "version": "3.9.12"
  }
 },
 "nbformat": 4,
 "nbformat_minor": 4
}
