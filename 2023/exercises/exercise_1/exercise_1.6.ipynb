{
 "cells": [
  {
   "cell_type": "markdown",
   "metadata": {},
   "source": [
    "# Exercise 1.6: RNA secondary structure validator\n",
    "\n",
    "<hr>"
   ]
  },
  {
   "cell_type": "markdown",
   "metadata": {},
   "source": [
    "## RNA secondary structure validator\n",
    "\n",
    "In this problem, we will write a function that takes an RNA sequence and an RNA secondary structure and decides if the secondary structure is possible given the sequence. Remember, single stranded RNA can fold back on itself and form base pairs. An RNA secondary structure is simply the list of base pairs that are present. We will represent the base pairs in dot-parentheses notation. For example, a sequence/secondary structure pair would be\n",
    "\n",
    "    0123456789\n",
    "    GCAUCUAUGC\n",
    "    (((....)))\n",
    "\n",
    "For convenience of discussion, I have labeled the indices of the bases on the top row. In this case, base `0`, a `G`, pairs with base `9`, a `C`. Base `1` pairs with base `8`, and base `2` pairs with base `7`.  Bases `3`, `4`, `5`, and `6` are unpaired. (This structure is aptly called a \"hairpin.\")\n",
    "\n",
    "I hope the dot-parentheses notation is clear. An open parenthesis is paired with the parenthesis that closes it. Dots are unpaired.\n",
    "\n",
    "So, the goal of our function is to check all base pairs present in a secondary structure and see if they are with `G-C`, `A-U`, or (optionally) `G-U`."
   ]
  },
  {
   "cell_type": "markdown",
   "metadata": {},
   "source": [
    "**a)** Write a function to make sure that the number of closed parentheses is equal to the number of open parentheses, a requirement for a valid secondary structure. It should return `True` if the parentheses are valid and `False` otherwise."
   ]
  },
  {
   "cell_type": "markdown",
   "metadata": {},
   "source": [
    "**b)** Write a function that converts the dot-parens notation to a tuple of 2-tuples representing the base pairs.  We'll call this function `dotparen_to_bp()`. An example input/output of this function would be:\n",
    "\n",
    "    dotparen_to_bp('(((....)))')\n",
    "    \n",
    "    ((0, 9), (1, 8), (2, 7))\n",
    "    \n",
    "*Hint*: You should look at [methods that are available for lists](https://docs.python.org/3/tutorial/datastructures.html#more-on-lists). You might find the `append()` and `pop()` methods useful."
   ]
  },
  {
   "cell_type": "markdown",
   "metadata": {},
   "source": [
    "**c)** Because of sterics, the minimal length of a hairpin loop is three bases. A hairpin loop is a series of unpaired bases that are closed by a base pair. For example, the secondary structure `(.(....).)` has a single hairpin loop of length 4. So, the structure `((((..))))` is not valid because it has a hairpin loop of only two bases.\n",
    "\n",
    "Write a function that verifies that a list of base pairs (as outputted by `dotparen_to_bp()`) satisfies the minimal hairpin length requirement."
   ]
  },
  {
   "cell_type": "markdown",
   "metadata": {},
   "source": [
    "**d)** Now write your validator function. The function definition should look like this:\n",
    "\n",
    "    def rna_ss_validator(seq, sec_struc, wobble=True):\n",
    "    \n",
    "It should return `True` if the sequence is commensurate with a valid secondary structure and `False` otherwise. The `wobble` keyword argument is `True` if we allow wobble pairs (`G` paired with `U`). Here are some expected results:\n",
    "\n",
    "Returns `True`:\n",
    "\n",
    "    rna_ss_validator('GCAUCUAUGC', '(((....)))')\n",
    "    rna_ss_validator('GCAUCUAUGU', '(((....)))') \n",
    "    rna_ss_validator('GCAUCUAUGU', '(.(....).)') \n",
    "\n",
    "Returns `False`:\n",
    "\n",
    "    rna_ss_validator('GCAUCUACGC', '(((....)))')\n",
    "    rna_ss_validator('GCAUCUAUGU', '(((....)))', wobble=False) \n",
    "    rna_ss_validator('GCAUCUAUGU', '(.(....)).') \n",
    "    rna_ss_validator('GCCCUUGGCA', '(.((..))).')"
   ]
  },
  {
   "cell_type": "markdown",
   "metadata": {},
   "source": [
    "<br />"
   ]
  }
 ],
 "metadata": {
  "anaconda-cloud": {},
  "kernelspec": {
   "display_name": "Python 3 (ipykernel)",
   "language": "python",
   "name": "python3"
  },
  "language_info": {
   "codemirror_mode": {
    "name": "ipython",
    "version": 3
   },
   "file_extension": ".py",
   "mimetype": "text/x-python",
   "name": "python",
   "nbconvert_exporter": "python",
   "pygments_lexer": "ipython3",
   "version": "3.9.12"
  }
 },
 "nbformat": 4,
 "nbformat_minor": 4
}
