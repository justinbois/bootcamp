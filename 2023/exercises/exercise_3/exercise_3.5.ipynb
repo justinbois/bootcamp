{
 "cells": [
  {
   "cell_type": "markdown",
   "metadata": {},
   "source": [
    "# Exercise 3.5: Automating scatter plots\n",
    "\n",
    "<hr>"
   ]
  },
  {
   "cell_type": "markdown",
   "metadata": {},
   "source": [
    "You may notice that we often have to retype things like,\n",
    "\n",
    "```python\n",
    "p = bokeh.plotting.figure(\n",
    "    frame_width=300,\n",
    "    frame_height=250,\n",
    "    x_axis_label='x',\n",
    "    y_axis_label='y',\n",
    ")\n",
    "```\n",
    "\n",
    "and the like when making plots. You may have a certain kind of plot you often make in your work, so you might want make functions to quickly generate the kinds of plots you want. Scatter plots come up very often. Write a function that takes as input a tidy data frame and generates a scatter plot based on two columns of the data frame and colors the glyphs according to a third column that contains categorical variables. The minimal (you can add other kwargs if you want) call signature should be\n",
    "\n",
    "```python\n",
    "scatter(data, x, y, cat)\n",
    "```\n",
    "\n",
    "You will of course test out your function while writing it, and the next exercises give you lots of opportunities to use it."
   ]
  },
  {
   "cell_type": "markdown",
   "metadata": {},
   "source": [
    "<br />"
   ]
  }
 ],
 "metadata": {
  "anaconda-cloud": {},
  "kernelspec": {
   "display_name": "Python 3 (ipykernel)",
   "language": "python",
   "name": "python3"
  },
  "language_info": {
   "codemirror_mode": {
    "name": "ipython",
    "version": 3
   },
   "file_extension": ".py",
   "mimetype": "text/x-python",
   "name": "python",
   "nbconvert_exporter": "python",
   "pygments_lexer": "ipython3",
   "version": "3.9.12"
  }
 },
 "nbformat": 4,
 "nbformat_minor": 4
}
