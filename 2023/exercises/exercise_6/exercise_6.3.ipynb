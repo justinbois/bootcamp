{
 "cells": [
  {
   "cell_type": "markdown",
   "metadata": {},
   "source": [
    "# Exercise 6.3: Growth curves from a movie\n",
    "\n",
    "<hr>"
   ]
  },
  {
   "cell_type": "markdown",
   "metadata": {},
   "source": [
    "At the dawn of the molecular revolution in biology, key experiments by Jacques Monod in which he measured growth curves of bacteria under different conditions exposed some of the mechanisms of regulation of gene expression. Those growth curves were measured in a bulk solution. In this exercise, we will measure bacterial growth starting from *two bacteria*. The movie shows *Bacillus subtilis* constitutively expressing mCherry growing under slow growth conditions. These data were kindly donated by Jin Park from the [Elowitz lab](http://www.elowitz.caltech.edu) at Caltech.\n",
    "\n",
    "**a)** Load in the series of images contained in the directory `~git/bootcamp/data/bacterial_growth/`. Be sure that however you store them (a list or tuple or other object) has the frames in the proper order."
   ]
  },
  {
   "cell_type": "markdown",
   "metadata": {},
   "source": [
    "**b)** Segment the images to separate bacteria from background. You do not need to segment individual bacteria; this would likely require some more advanced techniques involving edge detection that we haven't covered in bootcamp."
   ]
  },
  {
   "cell_type": "markdown",
   "metadata": {},
   "source": [
    "**c)** Show a representative image from the stack (with the segmentation overlayed) of images. Be sure to check out the `README` file in the directory containing the images to get the interpixel distance."
   ]
  },
  {
   "cell_type": "markdown",
   "metadata": {},
   "source": [
    "**d)** If $m$ is the mass of bacteria, which is proportional to the area in the images, then, for exponential growth,\n",
    "\n",
    "\\begin{align}\n",
    "m(t) = m_0\\,\\mathrm{e}^{rt},\n",
    "\\end{align}\n",
    "\n",
    "where $r$ is the growth rate. Taking the logarithm of both sides gives\n",
    "\n",
    "\\begin{align}\n",
    "\\ln m(t) = \\ln m_0 + rt.\n",
    "\\end{align}\n",
    "\n",
    "So, the slope of the line on a log-log scale is the growth rate.\n",
    "\n",
    "With this in mind, plot the bacterial area as a function of time with the area on a log scale. If the plot is linear, the bacteria are performing exponential growth."
   ]
  },
  {
   "cell_type": "markdown",
   "metadata": {},
   "source": [
    "**e)** To get the slope of the line, you can use the `np.polyfit()` function and perform the regression on a semilog scale. Alternatively, you can fit the exponential function directly using `scipy.optimize.curve_fit()`. Once you find the growth rate (and intercept), plot the theoretical growth curve along with the data."
   ]
  }
 ],
 "metadata": {
  "anaconda-cloud": {},
  "kernelspec": {
   "display_name": "Python 3 (ipykernel)",
   "language": "python",
   "name": "python3"
  },
  "language_info": {
   "codemirror_mode": {
    "name": "ipython",
    "version": 3
   },
   "file_extension": ".py",
   "mimetype": "text/x-python",
   "name": "python",
   "nbconvert_exporter": "python",
   "pygments_lexer": "ipython3",
   "version": "3.9.12"
  }
 },
 "nbformat": 4,
 "nbformat_minor": 4
}
