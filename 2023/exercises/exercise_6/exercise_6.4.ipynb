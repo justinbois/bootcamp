{
 "cells": [
  {
   "cell_type": "markdown",
   "metadata": {},
   "source": [
    "# Exercise 6.4: Filter, extract, rinse, repeat\n",
    "\n",
    "This exercise was written in collaboration with Griffin Chure.\n",
    "\n",
    "<hr>"
   ]
  },
  {
   "cell_type": "markdown",
   "metadata": {},
   "source": [
    "So far we have seen that in a single (very clean) image, we can get somewhere around 20 - 30 well-separated cells in a single 100$\\times$ magnification phase contrast image. However, if you wish to report a mean fluorescence intensity for a single strain, you would certainly want more cells to have a good degree of confidence. Using the principles you learned above, your job will be to report a mean fluorescence value for the HG105 *E. coli* strain using **all** of the images located in `data/HG105_images/`. To do this, you should do the following:\n",
    "\n",
    "1. Get a list of all of the image files in `~/git/data/HG105_images/`.\n",
    "2. Separate them by phase contrast (for segmentation) and FITC (for measurement). \n",
    "3. Iterate through each image file and perform segmentation and fluorescence intensity extraction for each cell. These values should be stored in a NumPy array or Pandas `DataFrame`.  \n",
    "4. Plot an ECDF of all extracted fluorescence intensities and report a mean and standard deviation as well as the number of cells you successfully measured. \n",
    "5. Obtain 95% bootstrap confidence intervals for the mean and standard deviation of the fluorescence intensities.\n",
    "\n",
    "As a reminder, the interpixel distance of these images is 0.0626 µm per pixel."
   ]
  }
 ],
 "metadata": {
  "anaconda-cloud": {},
  "kernelspec": {
   "display_name": "Python 3 (ipykernel)",
   "language": "python",
   "name": "python3"
  },
  "language_info": {
   "codemirror_mode": {
    "name": "ipython",
    "version": 3
   },
   "file_extension": ".py",
   "mimetype": "text/x-python",
   "name": "python",
   "nbconvert_exporter": "python",
   "pygments_lexer": "ipython3",
   "version": "3.9.12"
  }
 },
 "nbformat": 4,
 "nbformat_minor": 4
}
