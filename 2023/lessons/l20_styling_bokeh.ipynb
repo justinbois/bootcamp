{
 "cells": [
  {
   "cell_type": "markdown",
   "metadata": {},
   "source": [
    "# Lesson 20: Styling Bokeh plots\n",
    "\n",
    "<hr>"
   ]
  },
  {
   "cell_type": "code",
   "execution_count": 1,
   "metadata": {},
   "outputs": [
    {
     "data": {
      "text/html": [
       "<style>\n",
       "        .bk-notebook-logo {\n",
       "            display: block;\n",
       "            width: 20px;\n",
       "            height: 20px;\n",
       "            background-image: url(data:image/png;base64,iVBORw0KGgoAAAANSUhEUgAAABQAAAAUCAYAAACNiR0NAAAABHNCSVQICAgIfAhkiAAAAAlwSFlzAAALEgAACxIB0t1+/AAAABx0RVh0U29mdHdhcmUAQWRvYmUgRmlyZXdvcmtzIENTNui8sowAAAOkSURBVDiNjZRtaJVlGMd/1/08zzln5zjP1LWcU9N0NkN8m2CYjpgQYQXqSs0I84OLIC0hkEKoPtiH3gmKoiJDU7QpLgoLjLIQCpEsNJ1vqUOdO7ppbuec5+V+rj4ctwzd8IIbbi6u+8f1539dt3A78eXC7QizUF7gyV1fD1Yqg4JWz84yffhm0qkFqBogB9rM8tZdtwVsPUhWhGcFJngGeWrPzHm5oaMmkfEg1usvLFyc8jLRqDOMru7AyC8saQr7GG7f5fvDeH7Ej8CM66nIF+8yngt6HWaKh7k49Soy9nXurCi1o3qUbS3zWfrYeQDTB/Qj6kX6Ybhw4B+bOYoLKCC9H3Nu/leUTZ1JdRWkkn2ldcCamzrcf47KKXdAJllSlxAOkRgyHsGC/zRday5Qld9DyoM4/q/rUoy/CXh3jzOu3bHUVZeU+DEn8FInkPBFlu3+nW3Nw0mk6vCDiWg8CeJaxEwuHS3+z5RgY+YBR6V1Z1nxSOfoaPa4LASWxxdNp+VWTk7+4vzaou8v8PN+xo+KY2xsw6une2frhw05CTYOmQvsEhjhWjn0bmXPjpE1+kplmmkP3suftwTubK9Vq22qKmrBhpY4jvd5afdRA3wGjFAgcnTK2s4hY0/GPNIb0nErGMCRxWOOX64Z8RAC4oCXdklmEvcL8o0BfkNK4lUg9HTl+oPlQxdNo3Mg4Nv175e/1LDGzZen30MEjRUtmXSfiTVu1kK8W4txyV6BMKlbgk3lMwYCiusNy9fVfvvwMxv8Ynl6vxoByANLTWplvuj/nF9m2+PDtt1eiHPBr1oIfhCChQMBw6Aw0UulqTKZdfVvfG7VcfIqLG9bcldL/+pdWTLxLUy8Qq38heUIjh4XlzZxzQm19lLFlr8vdQ97rjZVOLf8nclzckbcD4wxXMidpX30sFd37Fv/GtwwhzhxGVAprjbg0gCAEeIgwCZyTV2Z1REEW8O4py0wsjeloKoMr6iCY6dP92H6Vw/oTyICIthibxjm/DfN9lVz8IqtqKYLUXfoKVMVQVVJOElGjrnnUt9T9wbgp8AyYKaGlqingHZU/uG2NTZSVqwHQTWkx9hxjkpWDaCg6Ckj5qebgBVbT3V3NNXMSiWSDdGV3hrtzla7J+duwPOToIg42ChPQOQjspnSlp1V+Gjdged7+8UN5CRAV7a5EdFNwCjEaBR27b3W890TE7g24NAP/mMDXRWrGoFPQI9ls/MWO2dWFAar/xcOIImbbpA3zgAAAABJRU5ErkJggg==);\n",
       "        }\n",
       "    </style>\n",
       "    <div>\n",
       "        <a href=\"https://bokeh.org\" target=\"_blank\" class=\"bk-notebook-logo\"></a>\n",
       "        <span id=\"b8de8cd5-0ba7-4a92-98ec-1bd9f00b5245\">Loading BokehJS ...</span>\n",
       "    </div>\n"
      ]
     },
     "metadata": {},
     "output_type": "display_data"
    },
    {
     "data": {
      "application/javascript": [
       "(function(root) {\n",
       "  function now() {\n",
       "    return new Date();\n",
       "  }\n",
       "\n",
       "  const force = true;\n",
       "\n",
       "  if (typeof root._bokeh_onload_callbacks === \"undefined\" || force === true) {\n",
       "    root._bokeh_onload_callbacks = [];\n",
       "    root._bokeh_is_loading = undefined;\n",
       "  }\n",
       "\n",
       "const JS_MIME_TYPE = 'application/javascript';\n",
       "  const HTML_MIME_TYPE = 'text/html';\n",
       "  const EXEC_MIME_TYPE = 'application/vnd.bokehjs_exec.v0+json';\n",
       "  const CLASS_NAME = 'output_bokeh rendered_html';\n",
       "\n",
       "  /**\n",
       "   * Render data to the DOM node\n",
       "   */\n",
       "  function render(props, node) {\n",
       "    const script = document.createElement(\"script\");\n",
       "    node.appendChild(script);\n",
       "  }\n",
       "\n",
       "  /**\n",
       "   * Handle when an output is cleared or removed\n",
       "   */\n",
       "  function handleClearOutput(event, handle) {\n",
       "    const cell = handle.cell;\n",
       "\n",
       "    const id = cell.output_area._bokeh_element_id;\n",
       "    const server_id = cell.output_area._bokeh_server_id;\n",
       "    // Clean up Bokeh references\n",
       "    if (id != null && id in Bokeh.index) {\n",
       "      Bokeh.index[id].model.document.clear();\n",
       "      delete Bokeh.index[id];\n",
       "    }\n",
       "\n",
       "    if (server_id !== undefined) {\n",
       "      // Clean up Bokeh references\n",
       "      const cmd_clean = \"from bokeh.io.state import curstate; print(curstate().uuid_to_server['\" + server_id + \"'].get_sessions()[0].document.roots[0]._id)\";\n",
       "      cell.notebook.kernel.execute(cmd_clean, {\n",
       "        iopub: {\n",
       "          output: function(msg) {\n",
       "            const id = msg.content.text.trim();\n",
       "            if (id in Bokeh.index) {\n",
       "              Bokeh.index[id].model.document.clear();\n",
       "              delete Bokeh.index[id];\n",
       "            }\n",
       "          }\n",
       "        }\n",
       "      });\n",
       "      // Destroy server and session\n",
       "      const cmd_destroy = \"import bokeh.io.notebook as ion; ion.destroy_server('\" + server_id + \"')\";\n",
       "      cell.notebook.kernel.execute(cmd_destroy);\n",
       "    }\n",
       "  }\n",
       "\n",
       "  /**\n",
       "   * Handle when a new output is added\n",
       "   */\n",
       "  function handleAddOutput(event, handle) {\n",
       "    const output_area = handle.output_area;\n",
       "    const output = handle.output;\n",
       "\n",
       "    // limit handleAddOutput to display_data with EXEC_MIME_TYPE content only\n",
       "    if ((output.output_type != \"display_data\") || (!Object.prototype.hasOwnProperty.call(output.data, EXEC_MIME_TYPE))) {\n",
       "      return\n",
       "    }\n",
       "\n",
       "    const toinsert = output_area.element.find(\".\" + CLASS_NAME.split(' ')[0]);\n",
       "\n",
       "    if (output.metadata[EXEC_MIME_TYPE][\"id\"] !== undefined) {\n",
       "      toinsert[toinsert.length - 1].firstChild.textContent = output.data[JS_MIME_TYPE];\n",
       "      // store reference to embed id on output_area\n",
       "      output_area._bokeh_element_id = output.metadata[EXEC_MIME_TYPE][\"id\"];\n",
       "    }\n",
       "    if (output.metadata[EXEC_MIME_TYPE][\"server_id\"] !== undefined) {\n",
       "      const bk_div = document.createElement(\"div\");\n",
       "      bk_div.innerHTML = output.data[HTML_MIME_TYPE];\n",
       "      const script_attrs = bk_div.children[0].attributes;\n",
       "      for (let i = 0; i < script_attrs.length; i++) {\n",
       "        toinsert[toinsert.length - 1].firstChild.setAttribute(script_attrs[i].name, script_attrs[i].value);\n",
       "        toinsert[toinsert.length - 1].firstChild.textContent = bk_div.children[0].textContent\n",
       "      }\n",
       "      // store reference to server id on output_area\n",
       "      output_area._bokeh_server_id = output.metadata[EXEC_MIME_TYPE][\"server_id\"];\n",
       "    }\n",
       "  }\n",
       "\n",
       "  function register_renderer(events, OutputArea) {\n",
       "\n",
       "    function append_mime(data, metadata, element) {\n",
       "      // create a DOM node to render to\n",
       "      const toinsert = this.create_output_subarea(\n",
       "        metadata,\n",
       "        CLASS_NAME,\n",
       "        EXEC_MIME_TYPE\n",
       "      );\n",
       "      this.keyboard_manager.register_events(toinsert);\n",
       "      // Render to node\n",
       "      const props = {data: data, metadata: metadata[EXEC_MIME_TYPE]};\n",
       "      render(props, toinsert[toinsert.length - 1]);\n",
       "      element.append(toinsert);\n",
       "      return toinsert\n",
       "    }\n",
       "\n",
       "    /* Handle when an output is cleared or removed */\n",
       "    events.on('clear_output.CodeCell', handleClearOutput);\n",
       "    events.on('delete.Cell', handleClearOutput);\n",
       "\n",
       "    /* Handle when a new output is added */\n",
       "    events.on('output_added.OutputArea', handleAddOutput);\n",
       "\n",
       "    /**\n",
       "     * Register the mime type and append_mime function with output_area\n",
       "     */\n",
       "    OutputArea.prototype.register_mime_type(EXEC_MIME_TYPE, append_mime, {\n",
       "      /* Is output safe? */\n",
       "      safe: true,\n",
       "      /* Index of renderer in `output_area.display_order` */\n",
       "      index: 0\n",
       "    });\n",
       "  }\n",
       "\n",
       "  // register the mime type if in Jupyter Notebook environment and previously unregistered\n",
       "  if (root.Jupyter !== undefined) {\n",
       "    const events = require('base/js/events');\n",
       "    const OutputArea = require('notebook/js/outputarea').OutputArea;\n",
       "\n",
       "    if (OutputArea.prototype.mime_types().indexOf(EXEC_MIME_TYPE) == -1) {\n",
       "      register_renderer(events, OutputArea);\n",
       "    }\n",
       "  }\n",
       "  if (typeof (root._bokeh_timeout) === \"undefined\" || force === true) {\n",
       "    root._bokeh_timeout = Date.now() + 5000;\n",
       "    root._bokeh_failed_load = false;\n",
       "  }\n",
       "\n",
       "  const NB_LOAD_WARNING = {'data': {'text/html':\n",
       "     \"<div style='background-color: #fdd'>\\n\"+\n",
       "     \"<p>\\n\"+\n",
       "     \"BokehJS does not appear to have successfully loaded. If loading BokehJS from CDN, this \\n\"+\n",
       "     \"may be due to a slow or bad network connection. Possible fixes:\\n\"+\n",
       "     \"</p>\\n\"+\n",
       "     \"<ul>\\n\"+\n",
       "     \"<li>re-rerun `output_notebook()` to attempt to load from CDN again, or</li>\\n\"+\n",
       "     \"<li>use INLINE resources instead, as so:</li>\\n\"+\n",
       "     \"</ul>\\n\"+\n",
       "     \"<code>\\n\"+\n",
       "     \"from bokeh.resources import INLINE\\n\"+\n",
       "     \"output_notebook(resources=INLINE)\\n\"+\n",
       "     \"</code>\\n\"+\n",
       "     \"</div>\"}};\n",
       "\n",
       "  function display_loaded() {\n",
       "    const el = document.getElementById(\"b8de8cd5-0ba7-4a92-98ec-1bd9f00b5245\");\n",
       "    if (el != null) {\n",
       "      el.textContent = \"BokehJS is loading...\";\n",
       "    }\n",
       "    if (root.Bokeh !== undefined) {\n",
       "      if (el != null) {\n",
       "        el.textContent = \"BokehJS \" + root.Bokeh.version + \" successfully loaded.\";\n",
       "      }\n",
       "    } else if (Date.now() < root._bokeh_timeout) {\n",
       "      setTimeout(display_loaded, 100)\n",
       "    }\n",
       "  }\n",
       "\n",
       "  function run_callbacks() {\n",
       "    try {\n",
       "      root._bokeh_onload_callbacks.forEach(function(callback) {\n",
       "        if (callback != null)\n",
       "          callback();\n",
       "      });\n",
       "    } finally {\n",
       "      delete root._bokeh_onload_callbacks\n",
       "    }\n",
       "    console.debug(\"Bokeh: all callbacks have finished\");\n",
       "  }\n",
       "\n",
       "  function load_libs(css_urls, js_urls, callback) {\n",
       "    if (css_urls == null) css_urls = [];\n",
       "    if (js_urls == null) js_urls = [];\n",
       "\n",
       "    root._bokeh_onload_callbacks.push(callback);\n",
       "    if (root._bokeh_is_loading > 0) {\n",
       "      console.debug(\"Bokeh: BokehJS is being loaded, scheduling callback at\", now());\n",
       "      return null;\n",
       "    }\n",
       "    if (js_urls == null || js_urls.length === 0) {\n",
       "      run_callbacks();\n",
       "      return null;\n",
       "    }\n",
       "    console.debug(\"Bokeh: BokehJS not loaded, scheduling load and callback at\", now());\n",
       "    root._bokeh_is_loading = css_urls.length + js_urls.length;\n",
       "\n",
       "    function on_load() {\n",
       "      root._bokeh_is_loading--;\n",
       "      if (root._bokeh_is_loading === 0) {\n",
       "        console.debug(\"Bokeh: all BokehJS libraries/stylesheets loaded\");\n",
       "        run_callbacks()\n",
       "      }\n",
       "    }\n",
       "\n",
       "    function on_error(url) {\n",
       "      console.error(\"failed to load \" + url);\n",
       "    }\n",
       "\n",
       "    for (let i = 0; i < css_urls.length; i++) {\n",
       "      const url = css_urls[i];\n",
       "      const element = document.createElement(\"link\");\n",
       "      element.onload = on_load;\n",
       "      element.onerror = on_error.bind(null, url);\n",
       "      element.rel = \"stylesheet\";\n",
       "      element.type = \"text/css\";\n",
       "      element.href = url;\n",
       "      console.debug(\"Bokeh: injecting link tag for BokehJS stylesheet: \", url);\n",
       "      document.body.appendChild(element);\n",
       "    }\n",
       "\n",
       "    for (let i = 0; i < js_urls.length; i++) {\n",
       "      const url = js_urls[i];\n",
       "      const element = document.createElement('script');\n",
       "      element.onload = on_load;\n",
       "      element.onerror = on_error.bind(null, url);\n",
       "      element.async = false;\n",
       "      element.src = url;\n",
       "      console.debug(\"Bokeh: injecting script tag for BokehJS library: \", url);\n",
       "      document.head.appendChild(element);\n",
       "    }\n",
       "  };\n",
       "\n",
       "  function inject_raw_css(css) {\n",
       "    const element = document.createElement(\"style\");\n",
       "    element.appendChild(document.createTextNode(css));\n",
       "    document.body.appendChild(element);\n",
       "  }\n",
       "\n",
       "  const js_urls = [\"https://cdn.bokeh.org/bokeh/release/bokeh-3.1.1.min.js\", \"https://cdn.bokeh.org/bokeh/release/bokeh-gl-3.1.1.min.js\", \"https://cdn.bokeh.org/bokeh/release/bokeh-widgets-3.1.1.min.js\", \"https://cdn.bokeh.org/bokeh/release/bokeh-tables-3.1.1.min.js\", \"https://cdn.bokeh.org/bokeh/release/bokeh-mathjax-3.1.1.min.js\"];\n",
       "  const css_urls = [];\n",
       "\n",
       "  const inline_js = [    function(Bokeh) {\n",
       "      Bokeh.set_log_level(\"info\");\n",
       "    },\n",
       "function(Bokeh) {\n",
       "    }\n",
       "  ];\n",
       "\n",
       "  function run_inline_js() {\n",
       "    if (root.Bokeh !== undefined || force === true) {\n",
       "          for (let i = 0; i < inline_js.length; i++) {\n",
       "      inline_js[i].call(root, root.Bokeh);\n",
       "    }\n",
       "if (force === true) {\n",
       "        display_loaded();\n",
       "      }} else if (Date.now() < root._bokeh_timeout) {\n",
       "      setTimeout(run_inline_js, 100);\n",
       "    } else if (!root._bokeh_failed_load) {\n",
       "      console.log(\"Bokeh: BokehJS failed to load within specified timeout.\");\n",
       "      root._bokeh_failed_load = true;\n",
       "    } else if (force !== true) {\n",
       "      const cell = $(document.getElementById(\"b8de8cd5-0ba7-4a92-98ec-1bd9f00b5245\")).parents('.cell').data().cell;\n",
       "      cell.output_area.append_execute_result(NB_LOAD_WARNING)\n",
       "    }\n",
       "  }\n",
       "\n",
       "  if (root._bokeh_is_loading === 0) {\n",
       "    console.debug(\"Bokeh: BokehJS loaded, going straight to plotting\");\n",
       "    run_inline_js();\n",
       "  } else {\n",
       "    load_libs(css_urls, js_urls, function() {\n",
       "      console.debug(\"Bokeh: BokehJS plotting callback run at\", now());\n",
       "      run_inline_js();\n",
       "    });\n",
       "  }\n",
       "}(window));"
      ],
      "application/vnd.bokehjs_load.v0+json": "(function(root) {\n  function now() {\n    return new Date();\n  }\n\n  const force = true;\n\n  if (typeof root._bokeh_onload_callbacks === \"undefined\" || force === true) {\n    root._bokeh_onload_callbacks = [];\n    root._bokeh_is_loading = undefined;\n  }\n\n\n  if (typeof (root._bokeh_timeout) === \"undefined\" || force === true) {\n    root._bokeh_timeout = Date.now() + 5000;\n    root._bokeh_failed_load = false;\n  }\n\n  const NB_LOAD_WARNING = {'data': {'text/html':\n     \"<div style='background-color: #fdd'>\\n\"+\n     \"<p>\\n\"+\n     \"BokehJS does not appear to have successfully loaded. If loading BokehJS from CDN, this \\n\"+\n     \"may be due to a slow or bad network connection. Possible fixes:\\n\"+\n     \"</p>\\n\"+\n     \"<ul>\\n\"+\n     \"<li>re-rerun `output_notebook()` to attempt to load from CDN again, or</li>\\n\"+\n     \"<li>use INLINE resources instead, as so:</li>\\n\"+\n     \"</ul>\\n\"+\n     \"<code>\\n\"+\n     \"from bokeh.resources import INLINE\\n\"+\n     \"output_notebook(resources=INLINE)\\n\"+\n     \"</code>\\n\"+\n     \"</div>\"}};\n\n  function display_loaded() {\n    const el = document.getElementById(\"b8de8cd5-0ba7-4a92-98ec-1bd9f00b5245\");\n    if (el != null) {\n      el.textContent = \"BokehJS is loading...\";\n    }\n    if (root.Bokeh !== undefined) {\n      if (el != null) {\n        el.textContent = \"BokehJS \" + root.Bokeh.version + \" successfully loaded.\";\n      }\n    } else if (Date.now() < root._bokeh_timeout) {\n      setTimeout(display_loaded, 100)\n    }\n  }\n\n  function run_callbacks() {\n    try {\n      root._bokeh_onload_callbacks.forEach(function(callback) {\n        if (callback != null)\n          callback();\n      });\n    } finally {\n      delete root._bokeh_onload_callbacks\n    }\n    console.debug(\"Bokeh: all callbacks have finished\");\n  }\n\n  function load_libs(css_urls, js_urls, callback) {\n    if (css_urls == null) css_urls = [];\n    if (js_urls == null) js_urls = [];\n\n    root._bokeh_onload_callbacks.push(callback);\n    if (root._bokeh_is_loading > 0) {\n      console.debug(\"Bokeh: BokehJS is being loaded, scheduling callback at\", now());\n      return null;\n    }\n    if (js_urls == null || js_urls.length === 0) {\n      run_callbacks();\n      return null;\n    }\n    console.debug(\"Bokeh: BokehJS not loaded, scheduling load and callback at\", now());\n    root._bokeh_is_loading = css_urls.length + js_urls.length;\n\n    function on_load() {\n      root._bokeh_is_loading--;\n      if (root._bokeh_is_loading === 0) {\n        console.debug(\"Bokeh: all BokehJS libraries/stylesheets loaded\");\n        run_callbacks()\n      }\n    }\n\n    function on_error(url) {\n      console.error(\"failed to load \" + url);\n    }\n\n    for (let i = 0; i < css_urls.length; i++) {\n      const url = css_urls[i];\n      const element = document.createElement(\"link\");\n      element.onload = on_load;\n      element.onerror = on_error.bind(null, url);\n      element.rel = \"stylesheet\";\n      element.type = \"text/css\";\n      element.href = url;\n      console.debug(\"Bokeh: injecting link tag for BokehJS stylesheet: \", url);\n      document.body.appendChild(element);\n    }\n\n    for (let i = 0; i < js_urls.length; i++) {\n      const url = js_urls[i];\n      const element = document.createElement('script');\n      element.onload = on_load;\n      element.onerror = on_error.bind(null, url);\n      element.async = false;\n      element.src = url;\n      console.debug(\"Bokeh: injecting script tag for BokehJS library: \", url);\n      document.head.appendChild(element);\n    }\n  };\n\n  function inject_raw_css(css) {\n    const element = document.createElement(\"style\");\n    element.appendChild(document.createTextNode(css));\n    document.body.appendChild(element);\n  }\n\n  const js_urls = [\"https://cdn.bokeh.org/bokeh/release/bokeh-3.1.1.min.js\", \"https://cdn.bokeh.org/bokeh/release/bokeh-gl-3.1.1.min.js\", \"https://cdn.bokeh.org/bokeh/release/bokeh-widgets-3.1.1.min.js\", \"https://cdn.bokeh.org/bokeh/release/bokeh-tables-3.1.1.min.js\", \"https://cdn.bokeh.org/bokeh/release/bokeh-mathjax-3.1.1.min.js\"];\n  const css_urls = [];\n\n  const inline_js = [    function(Bokeh) {\n      Bokeh.set_log_level(\"info\");\n    },\nfunction(Bokeh) {\n    }\n  ];\n\n  function run_inline_js() {\n    if (root.Bokeh !== undefined || force === true) {\n          for (let i = 0; i < inline_js.length; i++) {\n      inline_js[i].call(root, root.Bokeh);\n    }\nif (force === true) {\n        display_loaded();\n      }} else if (Date.now() < root._bokeh_timeout) {\n      setTimeout(run_inline_js, 100);\n    } else if (!root._bokeh_failed_load) {\n      console.log(\"Bokeh: BokehJS failed to load within specified timeout.\");\n      root._bokeh_failed_load = true;\n    } else if (force !== true) {\n      const cell = $(document.getElementById(\"b8de8cd5-0ba7-4a92-98ec-1bd9f00b5245\")).parents('.cell').data().cell;\n      cell.output_area.append_execute_result(NB_LOAD_WARNING)\n    }\n  }\n\n  if (root._bokeh_is_loading === 0) {\n    console.debug(\"Bokeh: BokehJS loaded, going straight to plotting\");\n    run_inline_js();\n  } else {\n    load_libs(css_urls, js_urls, function() {\n      console.debug(\"Bokeh: BokehJS plotting callback run at\", now());\n      run_inline_js();\n    });\n  }\n}(window));"
     },
     "metadata": {},
     "output_type": "display_data"
    }
   ],
   "source": [
    "import numpy as np\n",
    "import pandas as pd\n",
    "\n",
    "import iqplot\n",
    "\n",
    "import colorcet\n",
    "\n",
    "import bokeh.io\n",
    "import bokeh.plotting\n",
    "import bokeh.models\n",
    "import bokeh.themes\n",
    "\n",
    "bokeh.io.output_notebook()"
   ]
  },
  {
   "cell_type": "markdown",
   "metadata": {},
   "source": [
    "<hr>\n",
    "\n",
    "We have seen how to use Bokeh (and the higher-level plotting package iqplot) to make interactive plots. We have seen how to adjust plot size, axis labels, glyph color, etc., but we have just started to touch the surface of how we might customize plots. In this lesson, we investigate ways to stylize Bokeh plots to our visual preferences.\n",
    "\n",
    "Before we get into the lower-level styling, we will first go over some of the styling available in iqplot. We will again use the frog strike data set, so let's load it in."
   ]
  },
  {
   "cell_type": "code",
   "execution_count": 2,
   "metadata": {},
   "outputs": [],
   "source": [
    "df = pd.read_csv('data/frog_tongue_adhesion.csv', comment='#')"
   ]
  },
  {
   "cell_type": "markdown",
   "metadata": {},
   "source": [
    "## Customization with iqplot\n",
    "\n",
    "All of `iqplot`'s high-level plotting functions take `data`, `q`, and `cats` arguments. Additionally, each of the plotting functions also has the following additional optional keyword arguments, as described above.\n",
    "\n",
    "- `q_axis`: Along which axis, x or y that the quantitative variable varies. The default is `'x'`.\n",
    "- `palette`: A list of hex colors to use for coloring the markers for each category. By default, it uses the Glasbey Category 10 color palette from [colorcet](https://colorcet.holoviz.org/).\n",
    "- `order`: If specified, the ordering of the categories to use on the categorical axis and legend (if applicable). Otherwise, the order of the inputted data frame is used.\n",
    "- `p`: If specified, the `bokeh.plotting.Figure` object to use for the plot. If not specified, a new figure is created.\n",
    "\n",
    "The respective plotting functions also have kwargs that are specific to each (such as `style` for `iqplot.ecdf()`. Examples highlighting some, but not all, customizations follow. You can find out what kwargs are available for each function by reading their doc strings, e.g., with\n",
    "\n",
    "```python\n",
    "iqplot.box?\n",
    "```\n",
    "\n",
    "Any kwargs not in the function call signature are passed to `bokeh.plotting.figure()` when the figure is instantiated."
   ]
  },
  {
   "cell_type": "markdown",
   "metadata": {},
   "source": [
    "### Customizing box plots\n",
    "\n",
    "We can also have vertical box plots."
   ]
  },
  {
   "cell_type": "code",
   "execution_count": 3,
   "metadata": {},
   "outputs": [
    {
     "data": {
      "text/html": [
       "\n",
       "  <div id=\"d752196d-3f69-4f8e-8036-5203d4a7545a\" data-root-id=\"p1002\" style=\"display: contents;\"></div>\n"
      ]
     },
     "metadata": {},
     "output_type": "display_data"
    },
    {
     "data": {
      "application/javascript": [
       "(function(root) {\n",
       "  function embed_document(root) {\n",
       "  const docs_json = {\"891d77a9-0d89-45ea-aa2c-4c059cf8eea1\":{\"version\":\"3.1.1\",\"title\":\"Bokeh Application\",\"defs\":[],\"roots\":[{\"type\":\"object\",\"name\":\"Figure\",\"id\":\"p1002\",\"attributes\":{\"x_range\":{\"type\":\"object\",\"name\":\"FactorRange\",\"id\":\"p1001\",\"attributes\":{\"factors\":[\"I\",\"II\",\"III\",\"IV\"]}},\"y_range\":{\"type\":\"object\",\"name\":\"DataRange1d\",\"id\":\"p1004\"},\"x_scale\":{\"type\":\"object\",\"name\":\"CategoricalScale\",\"id\":\"p1014\"},\"y_scale\":{\"type\":\"object\",\"name\":\"LinearScale\",\"id\":\"p1016\"},\"title\":{\"type\":\"object\",\"name\":\"Title\",\"id\":\"p1006\"},\"renderers\":[{\"type\":\"object\",\"name\":\"GlyphRenderer\",\"id\":\"p1061\",\"attributes\":{\"data_source\":{\"type\":\"object\",\"name\":\"ColumnDataSource\",\"id\":\"p1046\",\"attributes\":{\"selected\":{\"type\":\"object\",\"name\":\"Selection\",\"id\":\"p1047\",\"attributes\":{\"indices\":[],\"line_indices\":[]}},\"selection_policy\":{\"type\":\"object\",\"name\":\"UnionRenderers\",\"id\":\"p1048\"},\"data\":{\"type\":\"map\",\"entries\":[[\"middle\",[1550.5,573.0,544.0,460.5]],[\"bottom\",[1231.25,422.0,458.75,198.0]],[\"top\",[1904.75,799.75,615.75,599.0]],[\"top_whisker\",[2641.0,1182.0,806.0,815.0]],[\"bottom_whisker\",[473.0,245.0,324.0,22.0]],[\"cat\",[\"I\",\"II\",\"III\",\"IV\"]],[\"__label\",[\"I\",\"II\",\"III\",\"IV\"]]]}}},\"view\":{\"type\":\"object\",\"name\":\"CDSView\",\"id\":\"p1062\",\"attributes\":{\"filter\":{\"type\":\"object\",\"name\":\"AllIndices\",\"id\":\"p1063\"}}},\"glyph\":{\"type\":\"object\",\"name\":\"Segment\",\"id\":\"p1058\",\"attributes\":{\"x0\":{\"type\":\"field\",\"field\":\"cat\"},\"y0\":{\"type\":\"field\",\"field\":\"top\"},\"x1\":{\"type\":\"field\",\"field\":\"cat\"},\"y1\":{\"type\":\"field\",\"field\":\"top_whisker\"}}},\"nonselection_glyph\":{\"type\":\"object\",\"name\":\"Segment\",\"id\":\"p1059\",\"attributes\":{\"x0\":{\"type\":\"field\",\"field\":\"cat\"},\"y0\":{\"type\":\"field\",\"field\":\"top\"},\"x1\":{\"type\":\"field\",\"field\":\"cat\"},\"y1\":{\"type\":\"field\",\"field\":\"top_whisker\"},\"line_alpha\":{\"type\":\"value\",\"value\":0.1}}},\"muted_glyph\":{\"type\":\"object\",\"name\":\"Segment\",\"id\":\"p1060\",\"attributes\":{\"x0\":{\"type\":\"field\",\"field\":\"cat\"},\"y0\":{\"type\":\"field\",\"field\":\"top\"},\"x1\":{\"type\":\"field\",\"field\":\"cat\"},\"y1\":{\"type\":\"field\",\"field\":\"top_whisker\"},\"line_alpha\":{\"type\":\"value\",\"value\":0.2}}}}},{\"type\":\"object\",\"name\":\"GlyphRenderer\",\"id\":\"p1070\",\"attributes\":{\"data_source\":{\"id\":\"p1046\"},\"view\":{\"type\":\"object\",\"name\":\"CDSView\",\"id\":\"p1071\",\"attributes\":{\"filter\":{\"type\":\"object\",\"name\":\"AllIndices\",\"id\":\"p1072\"}}},\"glyph\":{\"type\":\"object\",\"name\":\"Segment\",\"id\":\"p1067\",\"attributes\":{\"x0\":{\"type\":\"field\",\"field\":\"cat\"},\"y0\":{\"type\":\"field\",\"field\":\"bottom\"},\"x1\":{\"type\":\"field\",\"field\":\"cat\"},\"y1\":{\"type\":\"field\",\"field\":\"bottom_whisker\"}}},\"nonselection_glyph\":{\"type\":\"object\",\"name\":\"Segment\",\"id\":\"p1068\",\"attributes\":{\"x0\":{\"type\":\"field\",\"field\":\"cat\"},\"y0\":{\"type\":\"field\",\"field\":\"bottom\"},\"x1\":{\"type\":\"field\",\"field\":\"cat\"},\"y1\":{\"type\":\"field\",\"field\":\"bottom_whisker\"},\"line_alpha\":{\"type\":\"value\",\"value\":0.1}}},\"muted_glyph\":{\"type\":\"object\",\"name\":\"Segment\",\"id\":\"p1069\",\"attributes\":{\"x0\":{\"type\":\"field\",\"field\":\"cat\"},\"y0\":{\"type\":\"field\",\"field\":\"bottom\"},\"x1\":{\"type\":\"field\",\"field\":\"cat\"},\"y1\":{\"type\":\"field\",\"field\":\"bottom_whisker\"},\"line_alpha\":{\"type\":\"value\",\"value\":0.2}}}}},{\"type\":\"object\",\"name\":\"GlyphRenderer\",\"id\":\"p1079\",\"attributes\":{\"data_source\":{\"id\":\"p1046\"},\"view\":{\"type\":\"object\",\"name\":\"CDSView\",\"id\":\"p1080\",\"attributes\":{\"filter\":{\"type\":\"object\",\"name\":\"AllIndices\",\"id\":\"p1081\"}}},\"glyph\":{\"type\":\"object\",\"name\":\"VBar\",\"id\":\"p1076\",\"attributes\":{\"x\":{\"type\":\"field\",\"field\":\"cat\"},\"width\":{\"type\":\"value\",\"value\":0.4},\"bottom\":{\"type\":\"field\",\"field\":\"bottom\"},\"top\":{\"type\":\"field\",\"field\":\"top\"},\"line_color\":{\"type\":\"value\",\"value\":null},\"fill_color\":{\"type\":\"field\",\"field\":\"cat\",\"transform\":{\"type\":\"object\",\"name\":\"CategoricalColorMapper\",\"id\":\"p1054\",\"attributes\":{\"palette\":[\"#1f77b3\",\"#ff7e0e\",\"#2ba02b\",\"#d62628\",\"#9367bc\",\"#8c564b\",\"#e277c1\",\"#7e7e7e\",\"#bcbc21\",\"#16bdcf\",\"#3a0182\",\"#004201\",\"#0fffa8\",\"#5d003f\",\"#bcbcff\",\"#d8afa1\",\"#b80080\",\"#004d52\",\"#6b6400\",\"#7c0100\",\"#6026ff\",\"#ffff9a\",\"#564964\",\"#8cb893\",\"#93fbff\",\"#018267\",\"#90ff00\",\"#8200a0\",\"#ac8944\",\"#5b3400\",\"#ffbff2\",\"#ff6e75\",\"#798cff\",\"#dd00ff\",\"#505646\",\"#004489\",\"#ffbf60\",\"#ff018c\",\"#bdc8cf\",\"#af97b5\",\"#b65600\",\"#017000\",\"#cd87ff\",\"#1cd646\",\"#bfebc3\",\"#7997b5\",\"#a56089\",\"#6e8956\",\"#bc7c75\",\"#8a2844\",\"#00acff\",\"#8ed4ff\",\"#4b6d77\",\"#00d4b1\",\"#9300f2\",\"#8a9500\",\"#5d5b9e\",\"#fddfba\",\"#00939e\",\"#ffdb00\",\"#00aa79\",\"#520067\",\"#000091\",\"#0a5d3d\",\"#a5e275\",\"#623b41\",\"#c6c689\",\"#ff9eb5\",\"#cd4f6b\",\"#ff07d6\",\"#8a3a05\",\"#7e3d70\",\"#ff4901\",\"#602ba5\",\"#1c00ff\",\"#e6dfff\",\"#aa3baf\",\"#d89c00\",\"#a3a39e\",\"#3f69ff\",\"#46490c\",\"#7b6985\",\"#6b978c\",\"#ff9a75\",\"#835bff\",\"#7c6b46\",\"#80b654\",\"#bc0049\",\"#fd93ff\",\"#5d0018\",\"#89d1d1\",\"#9c8cd3\",\"#da6d42\",\"#8a5700\",\"#3b5069\",\"#4b6b3b\",\"#edcfd8\",\"#cfedff\",\"#aa1500\",\"#dfff4f\",\"#ff2a56\",\"#d1499e\",\"#707cb8\",\"#598000\",\"#00e4fd\",\"#774b95\",\"#67d48c\",\"#3d3a72\",\"#ac413f\",\"#d6a166\",\"#c169cd\",\"#69595d\",\"#87aced\",\"#a0a569\",\"#d1aae6\",\"#870062\",\"#00fddb\",\"#672818\",\"#b342ff\",\"#0e59c4\",\"#168742\",\"#90d300\",\"#cd7900\",\"#f959ff\",\"#5b7466\",\"#8eaeb3\",\"#9c7c8c\",\"#4600c6\",\"#6b4d2d\",\"#a56d46\",\"#9e8972\",\"#a8afca\",\"#cd8ca7\",\"#00fd64\",\"#917900\",\"#ff62a1\",\"#f4ffd8\",\"#018cf0\",\"#13aca0\",\"#5b2d59\",\"#89859e\",\"#cfccba\",\"#d4afc4\",\"#dbdd6d\",\"#cffff4\",\"#006485\",\"#006962\",\"#a84167\",\"#2d97c4\",\"#a874ff\",\"#26ba5d\",\"#57b600\",\"#caffa7\",\"#a379aa\",\"#ffbc93\",\"#89e2c1\",\"#0fc8ff\",\"#d400c4\",\"#626d89\",\"#69858e\",\"#4b4d52\",\"#aa6067\",\"#79b5d4\",\"#2b5916\",\"#9a0024\",\"#bdd1f2\",\"#896e67\",\"#69a56b\",\"#855467\",\"#aecdba\",\"#87997e\",\"#cadb00\",\"#9a0390\",\"#ebbc1a\",\"#eb9cd1\",\"#70006e\",\"#b1a131\",\"#ca6b93\",\"#4146a3\",\"#e48c89\",\"#d44400\",\"#c68aca\",\"#b69597\",\"#d41f75\",\"#724bcc\",\"#674d00\",\"#672138\",\"#38564f\",\"#6ebaaa\",\"#853a31\",\"#a5d397\",\"#b8af8e\",\"#d8e4df\",\"#aa00df\",\"#cac1db\",\"#ffdf8c\",\"#e2524d\",\"#66696e\",\"#ff001c\",\"#522d72\",\"#4d906b\",\"#a86d11\",\"#ff9e26\",\"#5ea3af\",\"#c88556\",\"#915997\",\"#a3a1ff\",\"#fdbaba\",\"#242a87\",\"#dbe6a8\",\"#97f2a7\",\"#6793d6\",\"#ba5b3f\",\"#3a5d91\",\"#364f2f\",\"#267c95\",\"#89959a\",\"#cfb356\",\"#004664\",\"#5e5d2f\",\"#8e8e41\",\"#ac3f13\",\"#69953b\",\"#a13d85\",\"#bfb6ba\",\"#acc667\",\"#6469cf\",\"#91af00\",\"#2be2da\",\"#016e36\",\"#ff7952\",\"#42807e\",\"#4fe800\",\"#995428\",\"#5d0a00\",\"#a30057\",\"#0c8700\",\"#5982a7\",\"#ffebfb\",\"#4b6901\",\"#8775d4\",\"#e6c6ff\",\"#a5ffda\",\"#d86e77\",\"#df014b\",\"#69675b\",\"#776ba1\",\"#7e8067\",\"#594685\",\"#0000ca\",\"#7c002a\",\"#97ff72\",\"#b5e2e1\",\"#db52c8\",\"#777734\",\"#57bd8e\"],\"factors\":[\"I\",\"II\",\"III\",\"IV\"]}}}}},\"nonselection_glyph\":{\"type\":\"object\",\"name\":\"VBar\",\"id\":\"p1077\",\"attributes\":{\"x\":{\"type\":\"field\",\"field\":\"cat\"},\"width\":{\"type\":\"value\",\"value\":0.4},\"bottom\":{\"type\":\"field\",\"field\":\"bottom\"},\"top\":{\"type\":\"field\",\"field\":\"top\"},\"line_color\":{\"type\":\"value\",\"value\":null},\"line_alpha\":{\"type\":\"value\",\"value\":0.1},\"fill_color\":{\"type\":\"field\",\"field\":\"cat\",\"transform\":{\"id\":\"p1054\"}},\"fill_alpha\":{\"type\":\"value\",\"value\":0.1},\"hatch_alpha\":{\"type\":\"value\",\"value\":0.1}}},\"muted_glyph\":{\"type\":\"object\",\"name\":\"VBar\",\"id\":\"p1078\",\"attributes\":{\"x\":{\"type\":\"field\",\"field\":\"cat\"},\"width\":{\"type\":\"value\",\"value\":0.4},\"bottom\":{\"type\":\"field\",\"field\":\"bottom\"},\"top\":{\"type\":\"field\",\"field\":\"top\"},\"line_color\":{\"type\":\"value\",\"value\":null},\"line_alpha\":{\"type\":\"value\",\"value\":0.2},\"fill_color\":{\"type\":\"field\",\"field\":\"cat\",\"transform\":{\"id\":\"p1054\"}},\"fill_alpha\":{\"type\":\"value\",\"value\":0.2},\"hatch_alpha\":{\"type\":\"value\",\"value\":0.2}}}}},{\"type\":\"object\",\"name\":\"GlyphRenderer\",\"id\":\"p1088\",\"attributes\":{\"data_source\":{\"id\":\"p1046\"},\"view\":{\"type\":\"object\",\"name\":\"CDSView\",\"id\":\"p1089\",\"attributes\":{\"filter\":{\"type\":\"object\",\"name\":\"AllIndices\",\"id\":\"p1090\"}}},\"glyph\":{\"type\":\"object\",\"name\":\"VBar\",\"id\":\"p1085\",\"attributes\":{\"x\":{\"type\":\"field\",\"field\":\"cat\"},\"width\":{\"type\":\"value\",\"value\":0.4},\"bottom\":{\"type\":\"field\",\"field\":\"middle\"},\"top\":{\"type\":\"field\",\"field\":\"middle\"},\"line_color\":{\"type\":\"value\",\"value\":\"white\"},\"fill_color\":{\"type\":\"value\",\"value\":\"#1f77b4\"}}},\"nonselection_glyph\":{\"type\":\"object\",\"name\":\"VBar\",\"id\":\"p1086\",\"attributes\":{\"x\":{\"type\":\"field\",\"field\":\"cat\"},\"width\":{\"type\":\"value\",\"value\":0.4},\"bottom\":{\"type\":\"field\",\"field\":\"middle\"},\"top\":{\"type\":\"field\",\"field\":\"middle\"},\"line_color\":{\"type\":\"value\",\"value\":\"white\"},\"line_alpha\":{\"type\":\"value\",\"value\":0.1},\"fill_color\":{\"type\":\"value\",\"value\":\"#1f77b4\"},\"fill_alpha\":{\"type\":\"value\",\"value\":0.1},\"hatch_alpha\":{\"type\":\"value\",\"value\":0.1}}},\"muted_glyph\":{\"type\":\"object\",\"name\":\"VBar\",\"id\":\"p1087\",\"attributes\":{\"x\":{\"type\":\"field\",\"field\":\"cat\"},\"width\":{\"type\":\"value\",\"value\":0.4},\"bottom\":{\"type\":\"field\",\"field\":\"middle\"},\"top\":{\"type\":\"field\",\"field\":\"middle\"},\"line_color\":{\"type\":\"value\",\"value\":\"white\"},\"line_alpha\":{\"type\":\"value\",\"value\":0.2},\"fill_color\":{\"type\":\"value\",\"value\":\"#1f77b4\"},\"fill_alpha\":{\"type\":\"value\",\"value\":0.2},\"hatch_alpha\":{\"type\":\"value\",\"value\":0.2}}}}},{\"type\":\"object\",\"name\":\"GlyphRenderer\",\"id\":\"p1097\",\"attributes\":{\"data_source\":{\"type\":\"object\",\"name\":\"ColumnDataSource\",\"id\":\"p1049\",\"attributes\":{\"selected\":{\"type\":\"object\",\"name\":\"Selection\",\"id\":\"p1050\",\"attributes\":{\"indices\":[],\"line_indices\":[]}},\"selection_policy\":{\"type\":\"object\",\"name\":\"UnionRenderers\",\"id\":\"p1051\"},\"data\":{\"type\":\"map\",\"entries\":[[\"impact force (mN)\",[1612,1539,1453]],[\"ID\",[\"II\",\"II\",\"II\"]],[\"cat\",[\"II\",\"II\",\"II\"]],[\"__label\",[\"II\",\"II\",\"II\"]]]}}},\"view\":{\"type\":\"object\",\"name\":\"CDSView\",\"id\":\"p1098\",\"attributes\":{\"filter\":{\"type\":\"object\",\"name\":\"AllIndices\",\"id\":\"p1099\"}}},\"glyph\":{\"type\":\"object\",\"name\":\"Circle\",\"id\":\"p1094\",\"attributes\":{\"x\":{\"type\":\"field\",\"field\":\"cat\"},\"y\":{\"type\":\"field\",\"field\":\"impact force (mN)\"},\"line_color\":{\"type\":\"field\",\"field\":\"cat\",\"transform\":{\"type\":\"object\",\"name\":\"CategoricalColorMapper\",\"id\":\"p1053\",\"attributes\":{\"palette\":[\"#1f77b3\",\"#ff7e0e\",\"#2ba02b\",\"#d62628\",\"#9367bc\",\"#8c564b\",\"#e277c1\",\"#7e7e7e\",\"#bcbc21\",\"#16bdcf\",\"#3a0182\",\"#004201\",\"#0fffa8\",\"#5d003f\",\"#bcbcff\",\"#d8afa1\",\"#b80080\",\"#004d52\",\"#6b6400\",\"#7c0100\",\"#6026ff\",\"#ffff9a\",\"#564964\",\"#8cb893\",\"#93fbff\",\"#018267\",\"#90ff00\",\"#8200a0\",\"#ac8944\",\"#5b3400\",\"#ffbff2\",\"#ff6e75\",\"#798cff\",\"#dd00ff\",\"#505646\",\"#004489\",\"#ffbf60\",\"#ff018c\",\"#bdc8cf\",\"#af97b5\",\"#b65600\",\"#017000\",\"#cd87ff\",\"#1cd646\",\"#bfebc3\",\"#7997b5\",\"#a56089\",\"#6e8956\",\"#bc7c75\",\"#8a2844\",\"#00acff\",\"#8ed4ff\",\"#4b6d77\",\"#00d4b1\",\"#9300f2\",\"#8a9500\",\"#5d5b9e\",\"#fddfba\",\"#00939e\",\"#ffdb00\",\"#00aa79\",\"#520067\",\"#000091\",\"#0a5d3d\",\"#a5e275\",\"#623b41\",\"#c6c689\",\"#ff9eb5\",\"#cd4f6b\",\"#ff07d6\",\"#8a3a05\",\"#7e3d70\",\"#ff4901\",\"#602ba5\",\"#1c00ff\",\"#e6dfff\",\"#aa3baf\",\"#d89c00\",\"#a3a39e\",\"#3f69ff\",\"#46490c\",\"#7b6985\",\"#6b978c\",\"#ff9a75\",\"#835bff\",\"#7c6b46\",\"#80b654\",\"#bc0049\",\"#fd93ff\",\"#5d0018\",\"#89d1d1\",\"#9c8cd3\",\"#da6d42\",\"#8a5700\",\"#3b5069\",\"#4b6b3b\",\"#edcfd8\",\"#cfedff\",\"#aa1500\",\"#dfff4f\",\"#ff2a56\",\"#d1499e\",\"#707cb8\",\"#598000\",\"#00e4fd\",\"#774b95\",\"#67d48c\",\"#3d3a72\",\"#ac413f\",\"#d6a166\",\"#c169cd\",\"#69595d\",\"#87aced\",\"#a0a569\",\"#d1aae6\",\"#870062\",\"#00fddb\",\"#672818\",\"#b342ff\",\"#0e59c4\",\"#168742\",\"#90d300\",\"#cd7900\",\"#f959ff\",\"#5b7466\",\"#8eaeb3\",\"#9c7c8c\",\"#4600c6\",\"#6b4d2d\",\"#a56d46\",\"#9e8972\",\"#a8afca\",\"#cd8ca7\",\"#00fd64\",\"#917900\",\"#ff62a1\",\"#f4ffd8\",\"#018cf0\",\"#13aca0\",\"#5b2d59\",\"#89859e\",\"#cfccba\",\"#d4afc4\",\"#dbdd6d\",\"#cffff4\",\"#006485\",\"#006962\",\"#a84167\",\"#2d97c4\",\"#a874ff\",\"#26ba5d\",\"#57b600\",\"#caffa7\",\"#a379aa\",\"#ffbc93\",\"#89e2c1\",\"#0fc8ff\",\"#d400c4\",\"#626d89\",\"#69858e\",\"#4b4d52\",\"#aa6067\",\"#79b5d4\",\"#2b5916\",\"#9a0024\",\"#bdd1f2\",\"#896e67\",\"#69a56b\",\"#855467\",\"#aecdba\",\"#87997e\",\"#cadb00\",\"#9a0390\",\"#ebbc1a\",\"#eb9cd1\",\"#70006e\",\"#b1a131\",\"#ca6b93\",\"#4146a3\",\"#e48c89\",\"#d44400\",\"#c68aca\",\"#b69597\",\"#d41f75\",\"#724bcc\",\"#674d00\",\"#672138\",\"#38564f\",\"#6ebaaa\",\"#853a31\",\"#a5d397\",\"#b8af8e\",\"#d8e4df\",\"#aa00df\",\"#cac1db\",\"#ffdf8c\",\"#e2524d\",\"#66696e\",\"#ff001c\",\"#522d72\",\"#4d906b\",\"#a86d11\",\"#ff9e26\",\"#5ea3af\",\"#c88556\",\"#915997\",\"#a3a1ff\",\"#fdbaba\",\"#242a87\",\"#dbe6a8\",\"#97f2a7\",\"#6793d6\",\"#ba5b3f\",\"#3a5d91\",\"#364f2f\",\"#267c95\",\"#89959a\",\"#cfb356\",\"#004664\",\"#5e5d2f\",\"#8e8e41\",\"#ac3f13\",\"#69953b\",\"#a13d85\",\"#bfb6ba\",\"#acc667\",\"#6469cf\",\"#91af00\",\"#2be2da\",\"#016e36\",\"#ff7952\",\"#42807e\",\"#4fe800\",\"#995428\",\"#5d0a00\",\"#a30057\",\"#0c8700\",\"#5982a7\",\"#ffebfb\",\"#4b6901\",\"#8775d4\",\"#e6c6ff\",\"#a5ffda\",\"#d86e77\",\"#df014b\",\"#69675b\",\"#776ba1\",\"#7e8067\",\"#594685\",\"#0000ca\",\"#7c002a\",\"#97ff72\",\"#b5e2e1\",\"#db52c8\",\"#777734\",\"#57bd8e\"],\"factors\":[\"I\",\"II\",\"III\",\"IV\"]}}},\"fill_color\":{\"type\":\"field\",\"field\":\"cat\",\"transform\":{\"type\":\"object\",\"name\":\"CategoricalColorMapper\",\"id\":\"p1052\",\"attributes\":{\"palette\":[\"#1f77b3\",\"#ff7e0e\",\"#2ba02b\",\"#d62628\",\"#9367bc\",\"#8c564b\",\"#e277c1\",\"#7e7e7e\",\"#bcbc21\",\"#16bdcf\",\"#3a0182\",\"#004201\",\"#0fffa8\",\"#5d003f\",\"#bcbcff\",\"#d8afa1\",\"#b80080\",\"#004d52\",\"#6b6400\",\"#7c0100\",\"#6026ff\",\"#ffff9a\",\"#564964\",\"#8cb893\",\"#93fbff\",\"#018267\",\"#90ff00\",\"#8200a0\",\"#ac8944\",\"#5b3400\",\"#ffbff2\",\"#ff6e75\",\"#798cff\",\"#dd00ff\",\"#505646\",\"#004489\",\"#ffbf60\",\"#ff018c\",\"#bdc8cf\",\"#af97b5\",\"#b65600\",\"#017000\",\"#cd87ff\",\"#1cd646\",\"#bfebc3\",\"#7997b5\",\"#a56089\",\"#6e8956\",\"#bc7c75\",\"#8a2844\",\"#00acff\",\"#8ed4ff\",\"#4b6d77\",\"#00d4b1\",\"#9300f2\",\"#8a9500\",\"#5d5b9e\",\"#fddfba\",\"#00939e\",\"#ffdb00\",\"#00aa79\",\"#520067\",\"#000091\",\"#0a5d3d\",\"#a5e275\",\"#623b41\",\"#c6c689\",\"#ff9eb5\",\"#cd4f6b\",\"#ff07d6\",\"#8a3a05\",\"#7e3d70\",\"#ff4901\",\"#602ba5\",\"#1c00ff\",\"#e6dfff\",\"#aa3baf\",\"#d89c00\",\"#a3a39e\",\"#3f69ff\",\"#46490c\",\"#7b6985\",\"#6b978c\",\"#ff9a75\",\"#835bff\",\"#7c6b46\",\"#80b654\",\"#bc0049\",\"#fd93ff\",\"#5d0018\",\"#89d1d1\",\"#9c8cd3\",\"#da6d42\",\"#8a5700\",\"#3b5069\",\"#4b6b3b\",\"#edcfd8\",\"#cfedff\",\"#aa1500\",\"#dfff4f\",\"#ff2a56\",\"#d1499e\",\"#707cb8\",\"#598000\",\"#00e4fd\",\"#774b95\",\"#67d48c\",\"#3d3a72\",\"#ac413f\",\"#d6a166\",\"#c169cd\",\"#69595d\",\"#87aced\",\"#a0a569\",\"#d1aae6\",\"#870062\",\"#00fddb\",\"#672818\",\"#b342ff\",\"#0e59c4\",\"#168742\",\"#90d300\",\"#cd7900\",\"#f959ff\",\"#5b7466\",\"#8eaeb3\",\"#9c7c8c\",\"#4600c6\",\"#6b4d2d\",\"#a56d46\",\"#9e8972\",\"#a8afca\",\"#cd8ca7\",\"#00fd64\",\"#917900\",\"#ff62a1\",\"#f4ffd8\",\"#018cf0\",\"#13aca0\",\"#5b2d59\",\"#89859e\",\"#cfccba\",\"#d4afc4\",\"#dbdd6d\",\"#cffff4\",\"#006485\",\"#006962\",\"#a84167\",\"#2d97c4\",\"#a874ff\",\"#26ba5d\",\"#57b600\",\"#caffa7\",\"#a379aa\",\"#ffbc93\",\"#89e2c1\",\"#0fc8ff\",\"#d400c4\",\"#626d89\",\"#69858e\",\"#4b4d52\",\"#aa6067\",\"#79b5d4\",\"#2b5916\",\"#9a0024\",\"#bdd1f2\",\"#896e67\",\"#69a56b\",\"#855467\",\"#aecdba\",\"#87997e\",\"#cadb00\",\"#9a0390\",\"#ebbc1a\",\"#eb9cd1\",\"#70006e\",\"#b1a131\",\"#ca6b93\",\"#4146a3\",\"#e48c89\",\"#d44400\",\"#c68aca\",\"#b69597\",\"#d41f75\",\"#724bcc\",\"#674d00\",\"#672138\",\"#38564f\",\"#6ebaaa\",\"#853a31\",\"#a5d397\",\"#b8af8e\",\"#d8e4df\",\"#aa00df\",\"#cac1db\",\"#ffdf8c\",\"#e2524d\",\"#66696e\",\"#ff001c\",\"#522d72\",\"#4d906b\",\"#a86d11\",\"#ff9e26\",\"#5ea3af\",\"#c88556\",\"#915997\",\"#a3a1ff\",\"#fdbaba\",\"#242a87\",\"#dbe6a8\",\"#97f2a7\",\"#6793d6\",\"#ba5b3f\",\"#3a5d91\",\"#364f2f\",\"#267c95\",\"#89959a\",\"#cfb356\",\"#004664\",\"#5e5d2f\",\"#8e8e41\",\"#ac3f13\",\"#69953b\",\"#a13d85\",\"#bfb6ba\",\"#acc667\",\"#6469cf\",\"#91af00\",\"#2be2da\",\"#016e36\",\"#ff7952\",\"#42807e\",\"#4fe800\",\"#995428\",\"#5d0a00\",\"#a30057\",\"#0c8700\",\"#5982a7\",\"#ffebfb\",\"#4b6901\",\"#8775d4\",\"#e6c6ff\",\"#a5ffda\",\"#d86e77\",\"#df014b\",\"#69675b\",\"#776ba1\",\"#7e8067\",\"#594685\",\"#0000ca\",\"#7c002a\",\"#97ff72\",\"#b5e2e1\",\"#db52c8\",\"#777734\",\"#57bd8e\"],\"factors\":[\"I\",\"II\",\"III\",\"IV\"]}}}}},\"nonselection_glyph\":{\"type\":\"object\",\"name\":\"Circle\",\"id\":\"p1095\",\"attributes\":{\"x\":{\"type\":\"field\",\"field\":\"cat\"},\"y\":{\"type\":\"field\",\"field\":\"impact force (mN)\"},\"line_color\":{\"type\":\"field\",\"field\":\"cat\",\"transform\":{\"id\":\"p1053\"}},\"line_alpha\":{\"type\":\"value\",\"value\":0.1},\"fill_color\":{\"type\":\"field\",\"field\":\"cat\",\"transform\":{\"id\":\"p1052\"}},\"fill_alpha\":{\"type\":\"value\",\"value\":0.1},\"hatch_alpha\":{\"type\":\"value\",\"value\":0.1}}},\"muted_glyph\":{\"type\":\"object\",\"name\":\"Circle\",\"id\":\"p1096\",\"attributes\":{\"x\":{\"type\":\"field\",\"field\":\"cat\"},\"y\":{\"type\":\"field\",\"field\":\"impact force (mN)\"},\"line_color\":{\"type\":\"field\",\"field\":\"cat\",\"transform\":{\"id\":\"p1053\"}},\"line_alpha\":{\"type\":\"value\",\"value\":0.2},\"fill_color\":{\"type\":\"field\",\"field\":\"cat\",\"transform\":{\"id\":\"p1052\"}},\"fill_alpha\":{\"type\":\"value\",\"value\":0.2},\"hatch_alpha\":{\"type\":\"value\",\"value\":0.2}}}}}],\"toolbar\":{\"type\":\"object\",\"name\":\"Toolbar\",\"id\":\"p1010\",\"attributes\":{\"tools\":[{\"type\":\"object\",\"name\":\"PanTool\",\"id\":\"p1031\"},{\"type\":\"object\",\"name\":\"WheelZoomTool\",\"id\":\"p1032\"},{\"type\":\"object\",\"name\":\"BoxZoomTool\",\"id\":\"p1033\",\"attributes\":{\"overlay\":{\"type\":\"object\",\"name\":\"BoxAnnotation\",\"id\":\"p1034\",\"attributes\":{\"syncable\":false,\"level\":\"overlay\",\"visible\":false,\"left_units\":\"canvas\",\"right_units\":\"canvas\",\"bottom_units\":\"canvas\",\"top_units\":\"canvas\",\"line_color\":\"black\",\"line_alpha\":1.0,\"line_width\":2,\"line_dash\":[4,4],\"fill_color\":\"lightgrey\",\"fill_alpha\":0.5}}}},{\"type\":\"object\",\"name\":\"SaveTool\",\"id\":\"p1035\"},{\"type\":\"object\",\"name\":\"ResetTool\",\"id\":\"p1036\"},{\"type\":\"object\",\"name\":\"HelpTool\",\"id\":\"p1037\"}]}},\"toolbar_location\":\"above\",\"left\":[{\"type\":\"object\",\"name\":\"LinearAxis\",\"id\":\"p1024\",\"attributes\":{\"ticker\":{\"type\":\"object\",\"name\":\"BasicTicker\",\"id\":\"p1025\",\"attributes\":{\"mantissas\":[1,2,5]}},\"formatter\":{\"type\":\"object\",\"name\":\"BasicTickFormatter\",\"id\":\"p1026\"},\"axis_label\":\"impact force (mN)\",\"major_label_policy\":{\"type\":\"object\",\"name\":\"AllLabels\",\"id\":\"p1027\"}}}],\"below\":[{\"type\":\"object\",\"name\":\"CategoricalAxis\",\"id\":\"p1018\",\"attributes\":{\"ticker\":{\"type\":\"object\",\"name\":\"CategoricalTicker\",\"id\":\"p1019\"},\"formatter\":{\"type\":\"object\",\"name\":\"CategoricalTickFormatter\",\"id\":\"p1020\"},\"major_label_policy\":{\"type\":\"object\",\"name\":\"AllLabels\",\"id\":\"p1021\"}}}],\"center\":[{\"type\":\"object\",\"name\":\"Grid\",\"id\":\"p1023\",\"attributes\":{\"axis\":{\"id\":\"p1018\"},\"grid_line_color\":null}},{\"type\":\"object\",\"name\":\"Grid\",\"id\":\"p1030\",\"attributes\":{\"dimension\":1,\"axis\":{\"id\":\"p1024\"}}}],\"frame_width\":375,\"frame_height\":275}}],\"callbacks\":{\"type\":\"map\"}}};\n",
       "  const render_items = [{\"docid\":\"891d77a9-0d89-45ea-aa2c-4c059cf8eea1\",\"roots\":{\"p1002\":\"d752196d-3f69-4f8e-8036-5203d4a7545a\"},\"root_ids\":[\"p1002\"]}];\n",
       "  root.Bokeh.embed.embed_items_notebook(docs_json, render_items);\n",
       "  }\n",
       "  if (root.Bokeh !== undefined) {\n",
       "    embed_document(root);\n",
       "  } else {\n",
       "    let attempts = 0;\n",
       "    const timer = setInterval(function(root) {\n",
       "      if (root.Bokeh !== undefined) {\n",
       "        clearInterval(timer);\n",
       "        embed_document(root);\n",
       "      } else {\n",
       "        attempts++;\n",
       "        if (attempts > 100) {\n",
       "          clearInterval(timer);\n",
       "          console.log(\"Bokeh: ERROR: Unable to run BokehJS code because BokehJS library is missing\");\n",
       "        }\n",
       "      }\n",
       "    }, 10, root)\n",
       "  }\n",
       "})(window);"
      ],
      "application/vnd.bokehjs_exec.v0+json": ""
     },
     "metadata": {
      "application/vnd.bokehjs_exec.v0+json": {
       "id": "p1002"
      }
     },
     "output_type": "display_data"
    }
   ],
   "source": [
    "p = iqplot.box(\n",
    "    data=df,\n",
    "    q=\"impact force (mN)\",\n",
    "    cats=\"ID\",\n",
    "    q_axis='y',\n",
    ")\n",
    "\n",
    "bokeh.io.show(p)"
   ]
  },
  {
   "cell_type": "markdown",
   "metadata": {},
   "source": [
    "We can independently specify properties of the glyphs using `box_kwargs`, `whisker_kwargs`, `median_kwargs`, and `outlier_kwargs`. For example, say we wanted our colors to be [Betancourt red](https://betanalpha.github.io/assets/case_studies/principled_bayesian_workflow.html#step_four:_build_a_generative_model19), and that we wanted the outliers to also be that color and use diamond glyphs."
   ]
  },
  {
   "cell_type": "code",
   "execution_count": 4,
   "metadata": {},
   "outputs": [
    {
     "data": {
      "text/html": [
       "\n",
       "  <div id=\"bb7ef18f-2c22-4a7a-a76c-6b167d3e9634\" data-root-id=\"p1269\" style=\"display: contents;\"></div>\n"
      ]
     },
     "metadata": {},
     "output_type": "display_data"
    },
    {
     "data": {
      "application/javascript": [
       "(function(root) {\n",
       "  function embed_document(root) {\n",
       "  const docs_json = {\"b4d03e1e-66a5-4c47-98e4-f0a9902075aa\":{\"version\":\"3.1.1\",\"title\":\"Bokeh Application\",\"defs\":[],\"roots\":[{\"type\":\"object\",\"name\":\"Figure\",\"id\":\"p1269\",\"attributes\":{\"x_range\":{\"type\":\"object\",\"name\":\"DataRange1d\",\"id\":\"p1271\"},\"y_range\":{\"type\":\"object\",\"name\":\"FactorRange\",\"id\":\"p1268\",\"attributes\":{\"factors\":[\"IV\",\"III\",\"II\",\"I\"]}},\"x_scale\":{\"type\":\"object\",\"name\":\"LinearScale\",\"id\":\"p1281\"},\"y_scale\":{\"type\":\"object\",\"name\":\"CategoricalScale\",\"id\":\"p1283\"},\"title\":{\"type\":\"object\",\"name\":\"Title\",\"id\":\"p1273\"},\"renderers\":[{\"type\":\"object\",\"name\":\"GlyphRenderer\",\"id\":\"p1325\",\"attributes\":{\"data_source\":{\"type\":\"object\",\"name\":\"ColumnDataSource\",\"id\":\"p1313\",\"attributes\":{\"selected\":{\"type\":\"object\",\"name\":\"Selection\",\"id\":\"p1314\",\"attributes\":{\"indices\":[],\"line_indices\":[]}},\"selection_policy\":{\"type\":\"object\",\"name\":\"UnionRenderers\",\"id\":\"p1315\"},\"data\":{\"type\":\"map\",\"entries\":[[\"middle\",[1550.5,573.0,544.0,460.5]],[\"bottom\",[1231.25,422.0,458.75,198.0]],[\"top\",[1904.75,799.75,615.75,599.0]],[\"top_whisker\",[2641.0,1182.0,806.0,815.0]],[\"bottom_whisker\",[473.0,245.0,324.0,22.0]],[\"cat\",[\"I\",\"II\",\"III\",\"IV\"]],[\"__label\",[\"I\",\"II\",\"III\",\"IV\"]]]}}},\"view\":{\"type\":\"object\",\"name\":\"CDSView\",\"id\":\"p1326\",\"attributes\":{\"filter\":{\"type\":\"object\",\"name\":\"AllIndices\",\"id\":\"p1327\"}}},\"glyph\":{\"type\":\"object\",\"name\":\"Segment\",\"id\":\"p1322\",\"attributes\":{\"x0\":{\"type\":\"field\",\"field\":\"top\"},\"y0\":{\"type\":\"field\",\"field\":\"cat\"},\"x1\":{\"type\":\"field\",\"field\":\"top_whisker\"},\"y1\":{\"type\":\"field\",\"field\":\"cat\"},\"line_color\":{\"type\":\"value\",\"value\":\"#7C0000\"},\"line_width\":{\"type\":\"value\",\"value\":2}}},\"nonselection_glyph\":{\"type\":\"object\",\"name\":\"Segment\",\"id\":\"p1323\",\"attributes\":{\"x0\":{\"type\":\"field\",\"field\":\"top\"},\"y0\":{\"type\":\"field\",\"field\":\"cat\"},\"x1\":{\"type\":\"field\",\"field\":\"top_whisker\"},\"y1\":{\"type\":\"field\",\"field\":\"cat\"},\"line_color\":{\"type\":\"value\",\"value\":\"#7C0000\"},\"line_alpha\":{\"type\":\"value\",\"value\":0.1},\"line_width\":{\"type\":\"value\",\"value\":2}}},\"muted_glyph\":{\"type\":\"object\",\"name\":\"Segment\",\"id\":\"p1324\",\"attributes\":{\"x0\":{\"type\":\"field\",\"field\":\"top\"},\"y0\":{\"type\":\"field\",\"field\":\"cat\"},\"x1\":{\"type\":\"field\",\"field\":\"top_whisker\"},\"y1\":{\"type\":\"field\",\"field\":\"cat\"},\"line_color\":{\"type\":\"value\",\"value\":\"#7C0000\"},\"line_alpha\":{\"type\":\"value\",\"value\":0.2},\"line_width\":{\"type\":\"value\",\"value\":2}}}}},{\"type\":\"object\",\"name\":\"GlyphRenderer\",\"id\":\"p1334\",\"attributes\":{\"data_source\":{\"id\":\"p1313\"},\"view\":{\"type\":\"object\",\"name\":\"CDSView\",\"id\":\"p1335\",\"attributes\":{\"filter\":{\"type\":\"object\",\"name\":\"AllIndices\",\"id\":\"p1336\"}}},\"glyph\":{\"type\":\"object\",\"name\":\"Segment\",\"id\":\"p1331\",\"attributes\":{\"x0\":{\"type\":\"field\",\"field\":\"bottom\"},\"y0\":{\"type\":\"field\",\"field\":\"cat\"},\"x1\":{\"type\":\"field\",\"field\":\"bottom_whisker\"},\"y1\":{\"type\":\"field\",\"field\":\"cat\"},\"line_color\":{\"type\":\"value\",\"value\":\"#7C0000\"},\"line_width\":{\"type\":\"value\",\"value\":2}}},\"nonselection_glyph\":{\"type\":\"object\",\"name\":\"Segment\",\"id\":\"p1332\",\"attributes\":{\"x0\":{\"type\":\"field\",\"field\":\"bottom\"},\"y0\":{\"type\":\"field\",\"field\":\"cat\"},\"x1\":{\"type\":\"field\",\"field\":\"bottom_whisker\"},\"y1\":{\"type\":\"field\",\"field\":\"cat\"},\"line_color\":{\"type\":\"value\",\"value\":\"#7C0000\"},\"line_alpha\":{\"type\":\"value\",\"value\":0.1},\"line_width\":{\"type\":\"value\",\"value\":2}}},\"muted_glyph\":{\"type\":\"object\",\"name\":\"Segment\",\"id\":\"p1333\",\"attributes\":{\"x0\":{\"type\":\"field\",\"field\":\"bottom\"},\"y0\":{\"type\":\"field\",\"field\":\"cat\"},\"x1\":{\"type\":\"field\",\"field\":\"bottom_whisker\"},\"y1\":{\"type\":\"field\",\"field\":\"cat\"},\"line_color\":{\"type\":\"value\",\"value\":\"#7C0000\"},\"line_alpha\":{\"type\":\"value\",\"value\":0.2},\"line_width\":{\"type\":\"value\",\"value\":2}}}}},{\"type\":\"object\",\"name\":\"GlyphRenderer\",\"id\":\"p1343\",\"attributes\":{\"data_source\":{\"id\":\"p1313\"},\"view\":{\"type\":\"object\",\"name\":\"CDSView\",\"id\":\"p1344\",\"attributes\":{\"filter\":{\"type\":\"object\",\"name\":\"AllIndices\",\"id\":\"p1345\"}}},\"glyph\":{\"type\":\"object\",\"name\":\"HBar\",\"id\":\"p1340\",\"attributes\":{\"y\":{\"type\":\"field\",\"field\":\"cat\"},\"height\":{\"type\":\"value\",\"value\":0.1},\"left\":{\"type\":\"field\",\"field\":\"top_whisker\"},\"right\":{\"type\":\"field\",\"field\":\"top_whisker\"},\"line_color\":{\"type\":\"value\",\"value\":\"#7C0000\"},\"line_width\":{\"type\":\"value\",\"value\":2},\"fill_color\":{\"type\":\"value\",\"value\":\"#1f77b4\"}}},\"nonselection_glyph\":{\"type\":\"object\",\"name\":\"HBar\",\"id\":\"p1341\",\"attributes\":{\"y\":{\"type\":\"field\",\"field\":\"cat\"},\"height\":{\"type\":\"value\",\"value\":0.1},\"left\":{\"type\":\"field\",\"field\":\"top_whisker\"},\"right\":{\"type\":\"field\",\"field\":\"top_whisker\"},\"line_color\":{\"type\":\"value\",\"value\":\"#7C0000\"},\"line_alpha\":{\"type\":\"value\",\"value\":0.1},\"line_width\":{\"type\":\"value\",\"value\":2},\"fill_color\":{\"type\":\"value\",\"value\":\"#1f77b4\"},\"fill_alpha\":{\"type\":\"value\",\"value\":0.1},\"hatch_alpha\":{\"type\":\"value\",\"value\":0.1}}},\"muted_glyph\":{\"type\":\"object\",\"name\":\"HBar\",\"id\":\"p1342\",\"attributes\":{\"y\":{\"type\":\"field\",\"field\":\"cat\"},\"height\":{\"type\":\"value\",\"value\":0.1},\"left\":{\"type\":\"field\",\"field\":\"top_whisker\"},\"right\":{\"type\":\"field\",\"field\":\"top_whisker\"},\"line_color\":{\"type\":\"value\",\"value\":\"#7C0000\"},\"line_alpha\":{\"type\":\"value\",\"value\":0.2},\"line_width\":{\"type\":\"value\",\"value\":2},\"fill_color\":{\"type\":\"value\",\"value\":\"#1f77b4\"},\"fill_alpha\":{\"type\":\"value\",\"value\":0.2},\"hatch_alpha\":{\"type\":\"value\",\"value\":0.2}}}}},{\"type\":\"object\",\"name\":\"GlyphRenderer\",\"id\":\"p1352\",\"attributes\":{\"data_source\":{\"id\":\"p1313\"},\"view\":{\"type\":\"object\",\"name\":\"CDSView\",\"id\":\"p1353\",\"attributes\":{\"filter\":{\"type\":\"object\",\"name\":\"AllIndices\",\"id\":\"p1354\"}}},\"glyph\":{\"type\":\"object\",\"name\":\"HBar\",\"id\":\"p1349\",\"attributes\":{\"y\":{\"type\":\"field\",\"field\":\"cat\"},\"height\":{\"type\":\"value\",\"value\":0.1},\"left\":{\"type\":\"field\",\"field\":\"bottom_whisker\"},\"right\":{\"type\":\"field\",\"field\":\"bottom_whisker\"},\"line_color\":{\"type\":\"value\",\"value\":\"#7C0000\"},\"line_width\":{\"type\":\"value\",\"value\":2},\"fill_color\":{\"type\":\"value\",\"value\":\"#1f77b4\"}}},\"nonselection_glyph\":{\"type\":\"object\",\"name\":\"HBar\",\"id\":\"p1350\",\"attributes\":{\"y\":{\"type\":\"field\",\"field\":\"cat\"},\"height\":{\"type\":\"value\",\"value\":0.1},\"left\":{\"type\":\"field\",\"field\":\"bottom_whisker\"},\"right\":{\"type\":\"field\",\"field\":\"bottom_whisker\"},\"line_color\":{\"type\":\"value\",\"value\":\"#7C0000\"},\"line_alpha\":{\"type\":\"value\",\"value\":0.1},\"line_width\":{\"type\":\"value\",\"value\":2},\"fill_color\":{\"type\":\"value\",\"value\":\"#1f77b4\"},\"fill_alpha\":{\"type\":\"value\",\"value\":0.1},\"hatch_alpha\":{\"type\":\"value\",\"value\":0.1}}},\"muted_glyph\":{\"type\":\"object\",\"name\":\"HBar\",\"id\":\"p1351\",\"attributes\":{\"y\":{\"type\":\"field\",\"field\":\"cat\"},\"height\":{\"type\":\"value\",\"value\":0.1},\"left\":{\"type\":\"field\",\"field\":\"bottom_whisker\"},\"right\":{\"type\":\"field\",\"field\":\"bottom_whisker\"},\"line_color\":{\"type\":\"value\",\"value\":\"#7C0000\"},\"line_alpha\":{\"type\":\"value\",\"value\":0.2},\"line_width\":{\"type\":\"value\",\"value\":2},\"fill_color\":{\"type\":\"value\",\"value\":\"#1f77b4\"},\"fill_alpha\":{\"type\":\"value\",\"value\":0.2},\"hatch_alpha\":{\"type\":\"value\",\"value\":0.2}}}}},{\"type\":\"object\",\"name\":\"GlyphRenderer\",\"id\":\"p1361\",\"attributes\":{\"data_source\":{\"id\":\"p1313\"},\"view\":{\"type\":\"object\",\"name\":\"CDSView\",\"id\":\"p1362\",\"attributes\":{\"filter\":{\"type\":\"object\",\"name\":\"AllIndices\",\"id\":\"p1363\"}}},\"glyph\":{\"type\":\"object\",\"name\":\"HBar\",\"id\":\"p1358\",\"attributes\":{\"y\":{\"type\":\"field\",\"field\":\"cat\"},\"height\":{\"type\":\"value\",\"value\":0.4},\"left\":{\"type\":\"field\",\"field\":\"bottom\"},\"right\":{\"type\":\"field\",\"field\":\"top\"},\"line_color\":{\"type\":\"value\",\"value\":null},\"fill_color\":{\"type\":\"value\",\"value\":\"#7C0000\"}}},\"nonselection_glyph\":{\"type\":\"object\",\"name\":\"HBar\",\"id\":\"p1359\",\"attributes\":{\"y\":{\"type\":\"field\",\"field\":\"cat\"},\"height\":{\"type\":\"value\",\"value\":0.4},\"left\":{\"type\":\"field\",\"field\":\"bottom\"},\"right\":{\"type\":\"field\",\"field\":\"top\"},\"line_color\":{\"type\":\"value\",\"value\":null},\"line_alpha\":{\"type\":\"value\",\"value\":0.1},\"fill_color\":{\"type\":\"value\",\"value\":\"#7C0000\"},\"fill_alpha\":{\"type\":\"value\",\"value\":0.1},\"hatch_alpha\":{\"type\":\"value\",\"value\":0.1}}},\"muted_glyph\":{\"type\":\"object\",\"name\":\"HBar\",\"id\":\"p1360\",\"attributes\":{\"y\":{\"type\":\"field\",\"field\":\"cat\"},\"height\":{\"type\":\"value\",\"value\":0.4},\"left\":{\"type\":\"field\",\"field\":\"bottom\"},\"right\":{\"type\":\"field\",\"field\":\"top\"},\"line_color\":{\"type\":\"value\",\"value\":null},\"line_alpha\":{\"type\":\"value\",\"value\":0.2},\"fill_color\":{\"type\":\"value\",\"value\":\"#7C0000\"},\"fill_alpha\":{\"type\":\"value\",\"value\":0.2},\"hatch_alpha\":{\"type\":\"value\",\"value\":0.2}}}}},{\"type\":\"object\",\"name\":\"GlyphRenderer\",\"id\":\"p1370\",\"attributes\":{\"data_source\":{\"id\":\"p1313\"},\"view\":{\"type\":\"object\",\"name\":\"CDSView\",\"id\":\"p1371\",\"attributes\":{\"filter\":{\"type\":\"object\",\"name\":\"AllIndices\",\"id\":\"p1372\"}}},\"glyph\":{\"type\":\"object\",\"name\":\"HBar\",\"id\":\"p1367\",\"attributes\":{\"y\":{\"type\":\"field\",\"field\":\"cat\"},\"height\":{\"type\":\"value\",\"value\":0.4},\"left\":{\"type\":\"field\",\"field\":\"middle\"},\"right\":{\"type\":\"field\",\"field\":\"middle\"},\"line_color\":{\"type\":\"value\",\"value\":\"white\"},\"fill_color\":{\"type\":\"value\",\"value\":\"#1f77b4\"}}},\"nonselection_glyph\":{\"type\":\"object\",\"name\":\"HBar\",\"id\":\"p1368\",\"attributes\":{\"y\":{\"type\":\"field\",\"field\":\"cat\"},\"height\":{\"type\":\"value\",\"value\":0.4},\"left\":{\"type\":\"field\",\"field\":\"middle\"},\"right\":{\"type\":\"field\",\"field\":\"middle\"},\"line_color\":{\"type\":\"value\",\"value\":\"white\"},\"line_alpha\":{\"type\":\"value\",\"value\":0.1},\"fill_color\":{\"type\":\"value\",\"value\":\"#1f77b4\"},\"fill_alpha\":{\"type\":\"value\",\"value\":0.1},\"hatch_alpha\":{\"type\":\"value\",\"value\":0.1}}},\"muted_glyph\":{\"type\":\"object\",\"name\":\"HBar\",\"id\":\"p1369\",\"attributes\":{\"y\":{\"type\":\"field\",\"field\":\"cat\"},\"height\":{\"type\":\"value\",\"value\":0.4},\"left\":{\"type\":\"field\",\"field\":\"middle\"},\"right\":{\"type\":\"field\",\"field\":\"middle\"},\"line_color\":{\"type\":\"value\",\"value\":\"white\"},\"line_alpha\":{\"type\":\"value\",\"value\":0.2},\"fill_color\":{\"type\":\"value\",\"value\":\"#1f77b4\"},\"fill_alpha\":{\"type\":\"value\",\"value\":0.2},\"hatch_alpha\":{\"type\":\"value\",\"value\":0.2}}}}},{\"type\":\"object\",\"name\":\"GlyphRenderer\",\"id\":\"p1379\",\"attributes\":{\"data_source\":{\"type\":\"object\",\"name\":\"ColumnDataSource\",\"id\":\"p1316\",\"attributes\":{\"selected\":{\"type\":\"object\",\"name\":\"Selection\",\"id\":\"p1317\",\"attributes\":{\"indices\":[],\"line_indices\":[]}},\"selection_policy\":{\"type\":\"object\",\"name\":\"UnionRenderers\",\"id\":\"p1318\"},\"data\":{\"type\":\"map\",\"entries\":[[\"impact force (mN)\",[1612,1539,1453]],[\"ID\",[\"II\",\"II\",\"II\"]],[\"cat\",[\"II\",\"II\",\"II\"]],[\"__label\",[\"II\",\"II\",\"II\"]]]}}},\"view\":{\"type\":\"object\",\"name\":\"CDSView\",\"id\":\"p1380\",\"attributes\":{\"filter\":{\"type\":\"object\",\"name\":\"AllIndices\",\"id\":\"p1381\"}}},\"glyph\":{\"type\":\"object\",\"name\":\"Scatter\",\"id\":\"p1376\",\"attributes\":{\"x\":{\"type\":\"field\",\"field\":\"impact force (mN)\"},\"y\":{\"type\":\"field\",\"field\":\"cat\"},\"line_color\":{\"type\":\"value\",\"value\":\"#7C0000\"},\"fill_color\":{\"type\":\"value\",\"value\":\"#7C0000\"},\"marker\":{\"type\":\"value\",\"value\":\"diamond\"}}},\"nonselection_glyph\":{\"type\":\"object\",\"name\":\"Scatter\",\"id\":\"p1377\",\"attributes\":{\"x\":{\"type\":\"field\",\"field\":\"impact force (mN)\"},\"y\":{\"type\":\"field\",\"field\":\"cat\"},\"line_color\":{\"type\":\"value\",\"value\":\"#7C0000\"},\"line_alpha\":{\"type\":\"value\",\"value\":0.1},\"fill_color\":{\"type\":\"value\",\"value\":\"#7C0000\"},\"fill_alpha\":{\"type\":\"value\",\"value\":0.1},\"hatch_alpha\":{\"type\":\"value\",\"value\":0.1},\"marker\":{\"type\":\"value\",\"value\":\"diamond\"}}},\"muted_glyph\":{\"type\":\"object\",\"name\":\"Scatter\",\"id\":\"p1378\",\"attributes\":{\"x\":{\"type\":\"field\",\"field\":\"impact force (mN)\"},\"y\":{\"type\":\"field\",\"field\":\"cat\"},\"line_color\":{\"type\":\"value\",\"value\":\"#7C0000\"},\"line_alpha\":{\"type\":\"value\",\"value\":0.2},\"fill_color\":{\"type\":\"value\",\"value\":\"#7C0000\"},\"fill_alpha\":{\"type\":\"value\",\"value\":0.2},\"hatch_alpha\":{\"type\":\"value\",\"value\":0.2},\"marker\":{\"type\":\"value\",\"value\":\"diamond\"}}}}}],\"toolbar\":{\"type\":\"object\",\"name\":\"Toolbar\",\"id\":\"p1277\",\"attributes\":{\"tools\":[{\"type\":\"object\",\"name\":\"PanTool\",\"id\":\"p1298\"},{\"type\":\"object\",\"name\":\"WheelZoomTool\",\"id\":\"p1299\"},{\"type\":\"object\",\"name\":\"BoxZoomTool\",\"id\":\"p1300\",\"attributes\":{\"overlay\":{\"type\":\"object\",\"name\":\"BoxAnnotation\",\"id\":\"p1301\",\"attributes\":{\"syncable\":false,\"level\":\"overlay\",\"visible\":false,\"left_units\":\"canvas\",\"right_units\":\"canvas\",\"bottom_units\":\"canvas\",\"top_units\":\"canvas\",\"line_color\":\"black\",\"line_alpha\":1.0,\"line_width\":2,\"line_dash\":[4,4],\"fill_color\":\"lightgrey\",\"fill_alpha\":0.5}}}},{\"type\":\"object\",\"name\":\"SaveTool\",\"id\":\"p1302\"},{\"type\":\"object\",\"name\":\"ResetTool\",\"id\":\"p1303\"},{\"type\":\"object\",\"name\":\"HelpTool\",\"id\":\"p1304\"}]}},\"toolbar_location\":\"above\",\"left\":[{\"type\":\"object\",\"name\":\"CategoricalAxis\",\"id\":\"p1292\",\"attributes\":{\"ticker\":{\"type\":\"object\",\"name\":\"CategoricalTicker\",\"id\":\"p1293\"},\"formatter\":{\"type\":\"object\",\"name\":\"CategoricalTickFormatter\",\"id\":\"p1294\"},\"major_label_policy\":{\"type\":\"object\",\"name\":\"AllLabels\",\"id\":\"p1295\"}}}],\"below\":[{\"type\":\"object\",\"name\":\"LinearAxis\",\"id\":\"p1285\",\"attributes\":{\"ticker\":{\"type\":\"object\",\"name\":\"BasicTicker\",\"id\":\"p1286\",\"attributes\":{\"mantissas\":[1,2,5]}},\"formatter\":{\"type\":\"object\",\"name\":\"BasicTickFormatter\",\"id\":\"p1287\"},\"axis_label\":\"impact force (mN)\",\"major_label_policy\":{\"type\":\"object\",\"name\":\"AllLabels\",\"id\":\"p1288\"}}}],\"center\":[{\"type\":\"object\",\"name\":\"Grid\",\"id\":\"p1291\",\"attributes\":{\"axis\":{\"id\":\"p1285\"}}},{\"type\":\"object\",\"name\":\"Grid\",\"id\":\"p1297\",\"attributes\":{\"dimension\":1,\"axis\":{\"id\":\"p1292\"},\"grid_line_color\":null}}],\"frame_width\":375,\"frame_height\":275}}],\"callbacks\":{\"type\":\"map\"}}};\n",
       "  const render_items = [{\"docid\":\"b4d03e1e-66a5-4c47-98e4-f0a9902075aa\",\"roots\":{\"p1269\":\"bb7ef18f-2c22-4a7a-a76c-6b167d3e9634\"},\"root_ids\":[\"p1269\"]}];\n",
       "  root.Bokeh.embed.embed_items_notebook(docs_json, render_items);\n",
       "  }\n",
       "  if (root.Bokeh !== undefined) {\n",
       "    embed_document(root);\n",
       "  } else {\n",
       "    let attempts = 0;\n",
       "    const timer = setInterval(function(root) {\n",
       "      if (root.Bokeh !== undefined) {\n",
       "        clearInterval(timer);\n",
       "        embed_document(root);\n",
       "      } else {\n",
       "        attempts++;\n",
       "        if (attempts > 100) {\n",
       "          clearInterval(timer);\n",
       "          console.log(\"Bokeh: ERROR: Unable to run BokehJS code because BokehJS library is missing\");\n",
       "        }\n",
       "      }\n",
       "    }, 10, root)\n",
       "  }\n",
       "})(window);"
      ],
      "application/vnd.bokehjs_exec.v0+json": ""
     },
     "metadata": {
      "application/vnd.bokehjs_exec.v0+json": {
       "id": "p1269"
      }
     },
     "output_type": "display_data"
    }
   ],
   "source": [
    "p = iqplot.box(\n",
    "    data=df,\n",
    "    q=\"impact force (mN)\",\n",
    "    cats=\"ID\",\n",
    "    whisker_caps=True,\n",
    "    outlier_marker='diamond',\n",
    "    box_kwargs=dict(fill_color='#7C0000'),\n",
    "    whisker_kwargs=dict(line_color='#7C0000', line_width=2),\n",
    ")\n",
    "\n",
    "bokeh.io.show(p)"
   ]
  },
  {
   "cell_type": "markdown",
   "metadata": {},
   "source": [
    "### Custominzing strip plots\n",
    "\n",
    "To help alleviate the overlap problem, we can make a strip plot with dash markers and add some transparency."
   ]
  },
  {
   "cell_type": "code",
   "execution_count": 5,
   "metadata": {},
   "outputs": [
    {
     "data": {
      "text/html": [
       "\n",
       "  <div id=\"c86b1dd5-ccec-44ec-aa49-2051ee0af7de\" data-root-id=\"p1615\" style=\"display: contents;\"></div>\n"
      ]
     },
     "metadata": {},
     "output_type": "display_data"
    },
    {
     "data": {
      "application/javascript": [
       "(function(root) {\n",
       "  function embed_document(root) {\n",
       "  const docs_json = {\"baadc0ab-5ff9-464d-a3c7-db00c6f217ed\":{\"version\":\"3.1.1\",\"title\":\"Bokeh Application\",\"defs\":[],\"roots\":[{\"type\":\"object\",\"name\":\"Figure\",\"id\":\"p1615\",\"attributes\":{\"x_range\":{\"type\":\"object\",\"name\":\"DataRange1d\",\"id\":\"p1617\"},\"y_range\":{\"type\":\"object\",\"name\":\"FactorRange\",\"id\":\"p1614\",\"attributes\":{\"factors\":[\"IV\",\"III\",\"II\",\"I\"]}},\"x_scale\":{\"type\":\"object\",\"name\":\"LinearScale\",\"id\":\"p1627\"},\"y_scale\":{\"type\":\"object\",\"name\":\"CategoricalScale\",\"id\":\"p1629\"},\"title\":{\"type\":\"object\",\"name\":\"Title\",\"id\":\"p1619\"},\"renderers\":[{\"type\":\"object\",\"name\":\"GlyphRenderer\",\"id\":\"p1670\",\"attributes\":{\"name\":\"hover_glyphs\",\"data_source\":{\"type\":\"object\",\"name\":\"ColumnDataSource\",\"id\":\"p1661\",\"attributes\":{\"selected\":{\"type\":\"object\",\"name\":\"Selection\",\"id\":\"p1662\",\"attributes\":{\"indices\":[],\"line_indices\":[]}},\"selection_policy\":{\"type\":\"object\",\"name\":\"UnionRenderers\",\"id\":\"p1663\"},\"data\":{\"type\":\"map\",\"entries\":[[\"impact force (mN)\",[1205,2527,1745,1556,493,2276,556,1928,2641,1897,1891,1545,1307,1692,1543,1282,775,2032,1240,473,1612,605,327,946,541,1539,529,628,1453,297,703,269,751,245,1182,515,435,383,457,730,614,414,324,776,611,544,538,579,806,459,458,626,621,544,535,385,401,614,665,488,172,142,37,453,355,22,502,273,720,582,198,198,597,516,815,402,605,711,614,468]],[\"ID\",[\"I\",\"I\",\"I\",\"I\",\"I\",\"I\",\"I\",\"I\",\"I\",\"I\",\"I\",\"I\",\"I\",\"I\",\"I\",\"I\",\"I\",\"I\",\"I\",\"I\",\"II\",\"II\",\"II\",\"II\",\"II\",\"II\",\"II\",\"II\",\"II\",\"II\",\"II\",\"II\",\"II\",\"II\",\"II\",\"II\",\"II\",\"II\",\"II\",\"II\",\"III\",\"III\",\"III\",\"III\",\"III\",\"III\",\"III\",\"III\",\"III\",\"III\",\"III\",\"III\",\"III\",\"III\",\"III\",\"III\",\"III\",\"III\",\"III\",\"III\",\"IV\",\"IV\",\"IV\",\"IV\",\"IV\",\"IV\",\"IV\",\"IV\",\"IV\",\"IV\",\"IV\",\"IV\",\"IV\",\"IV\",\"IV\",\"IV\",\"IV\",\"IV\",\"IV\",\"IV\"]],[\"cat\",[\"I\",\"I\",\"I\",\"I\",\"I\",\"I\",\"I\",\"I\",\"I\",\"I\",\"I\",\"I\",\"I\",\"I\",\"I\",\"I\",\"I\",\"I\",\"I\",\"I\",\"II\",\"II\",\"II\",\"II\",\"II\",\"II\",\"II\",\"II\",\"II\",\"II\",\"II\",\"II\",\"II\",\"II\",\"II\",\"II\",\"II\",\"II\",\"II\",\"II\",\"III\",\"III\",\"III\",\"III\",\"III\",\"III\",\"III\",\"III\",\"III\",\"III\",\"III\",\"III\",\"III\",\"III\",\"III\",\"III\",\"III\",\"III\",\"III\",\"III\",\"IV\",\"IV\",\"IV\",\"IV\",\"IV\",\"IV\",\"IV\",\"IV\",\"IV\",\"IV\",\"IV\",\"IV\",\"IV\",\"IV\",\"IV\",\"IV\",\"IV\",\"IV\",\"IV\",\"IV\"]],[\"__label\",[\"I\",\"I\",\"I\",\"I\",\"I\",\"I\",\"I\",\"I\",\"I\",\"I\",\"I\",\"I\",\"I\",\"I\",\"I\",\"I\",\"I\",\"I\",\"I\",\"I\",\"II\",\"II\",\"II\",\"II\",\"II\",\"II\",\"II\",\"II\",\"II\",\"II\",\"II\",\"II\",\"II\",\"II\",\"II\",\"II\",\"II\",\"II\",\"II\",\"II\",\"III\",\"III\",\"III\",\"III\",\"III\",\"III\",\"III\",\"III\",\"III\",\"III\",\"III\",\"III\",\"III\",\"III\",\"III\",\"III\",\"III\",\"III\",\"III\",\"III\",\"IV\",\"IV\",\"IV\",\"IV\",\"IV\",\"IV\",\"IV\",\"IV\",\"IV\",\"IV\",\"IV\",\"IV\",\"IV\",\"IV\",\"IV\",\"IV\",\"IV\",\"IV\",\"IV\",\"IV\"]]]}}},\"view\":{\"type\":\"object\",\"name\":\"CDSView\",\"id\":\"p1671\",\"attributes\":{\"filter\":{\"type\":\"object\",\"name\":\"AllIndices\",\"id\":\"p1672\"}}},\"glyph\":{\"type\":\"object\",\"name\":\"Scatter\",\"id\":\"p1667\",\"attributes\":{\"x\":{\"type\":\"field\",\"field\":\"impact force (mN)\"},\"y\":{\"type\":\"field\",\"field\":\"cat\"},\"size\":{\"type\":\"value\",\"value\":17.1875},\"angle\":{\"type\":\"value\",\"value\":1.5707963267948966},\"line_color\":{\"type\":\"field\",\"field\":\"cat\",\"transform\":{\"type\":\"object\",\"name\":\"CategoricalColorMapper\",\"id\":\"p1660\",\"attributes\":{\"palette\":[\"#1f77b3\",\"#ff7e0e\",\"#2ba02b\",\"#d62628\",\"#9367bc\",\"#8c564b\",\"#e277c1\",\"#7e7e7e\",\"#bcbc21\",\"#16bdcf\",\"#3a0182\",\"#004201\",\"#0fffa8\",\"#5d003f\",\"#bcbcff\",\"#d8afa1\",\"#b80080\",\"#004d52\",\"#6b6400\",\"#7c0100\",\"#6026ff\",\"#ffff9a\",\"#564964\",\"#8cb893\",\"#93fbff\",\"#018267\",\"#90ff00\",\"#8200a0\",\"#ac8944\",\"#5b3400\",\"#ffbff2\",\"#ff6e75\",\"#798cff\",\"#dd00ff\",\"#505646\",\"#004489\",\"#ffbf60\",\"#ff018c\",\"#bdc8cf\",\"#af97b5\",\"#b65600\",\"#017000\",\"#cd87ff\",\"#1cd646\",\"#bfebc3\",\"#7997b5\",\"#a56089\",\"#6e8956\",\"#bc7c75\",\"#8a2844\",\"#00acff\",\"#8ed4ff\",\"#4b6d77\",\"#00d4b1\",\"#9300f2\",\"#8a9500\",\"#5d5b9e\",\"#fddfba\",\"#00939e\",\"#ffdb00\",\"#00aa79\",\"#520067\",\"#000091\",\"#0a5d3d\",\"#a5e275\",\"#623b41\",\"#c6c689\",\"#ff9eb5\",\"#cd4f6b\",\"#ff07d6\",\"#8a3a05\",\"#7e3d70\",\"#ff4901\",\"#602ba5\",\"#1c00ff\",\"#e6dfff\",\"#aa3baf\",\"#d89c00\",\"#a3a39e\",\"#3f69ff\",\"#46490c\",\"#7b6985\",\"#6b978c\",\"#ff9a75\",\"#835bff\",\"#7c6b46\",\"#80b654\",\"#bc0049\",\"#fd93ff\",\"#5d0018\",\"#89d1d1\",\"#9c8cd3\",\"#da6d42\",\"#8a5700\",\"#3b5069\",\"#4b6b3b\",\"#edcfd8\",\"#cfedff\",\"#aa1500\",\"#dfff4f\",\"#ff2a56\",\"#d1499e\",\"#707cb8\",\"#598000\",\"#00e4fd\",\"#774b95\",\"#67d48c\",\"#3d3a72\",\"#ac413f\",\"#d6a166\",\"#c169cd\",\"#69595d\",\"#87aced\",\"#a0a569\",\"#d1aae6\",\"#870062\",\"#00fddb\",\"#672818\",\"#b342ff\",\"#0e59c4\",\"#168742\",\"#90d300\",\"#cd7900\",\"#f959ff\",\"#5b7466\",\"#8eaeb3\",\"#9c7c8c\",\"#4600c6\",\"#6b4d2d\",\"#a56d46\",\"#9e8972\",\"#a8afca\",\"#cd8ca7\",\"#00fd64\",\"#917900\",\"#ff62a1\",\"#f4ffd8\",\"#018cf0\",\"#13aca0\",\"#5b2d59\",\"#89859e\",\"#cfccba\",\"#d4afc4\",\"#dbdd6d\",\"#cffff4\",\"#006485\",\"#006962\",\"#a84167\",\"#2d97c4\",\"#a874ff\",\"#26ba5d\",\"#57b600\",\"#caffa7\",\"#a379aa\",\"#ffbc93\",\"#89e2c1\",\"#0fc8ff\",\"#d400c4\",\"#626d89\",\"#69858e\",\"#4b4d52\",\"#aa6067\",\"#79b5d4\",\"#2b5916\",\"#9a0024\",\"#bdd1f2\",\"#896e67\",\"#69a56b\",\"#855467\",\"#aecdba\",\"#87997e\",\"#cadb00\",\"#9a0390\",\"#ebbc1a\",\"#eb9cd1\",\"#70006e\",\"#b1a131\",\"#ca6b93\",\"#4146a3\",\"#e48c89\",\"#d44400\",\"#c68aca\",\"#b69597\",\"#d41f75\",\"#724bcc\",\"#674d00\",\"#672138\",\"#38564f\",\"#6ebaaa\",\"#853a31\",\"#a5d397\",\"#b8af8e\",\"#d8e4df\",\"#aa00df\",\"#cac1db\",\"#ffdf8c\",\"#e2524d\",\"#66696e\",\"#ff001c\",\"#522d72\",\"#4d906b\",\"#a86d11\",\"#ff9e26\",\"#5ea3af\",\"#c88556\",\"#915997\",\"#a3a1ff\",\"#fdbaba\",\"#242a87\",\"#dbe6a8\",\"#97f2a7\",\"#6793d6\",\"#ba5b3f\",\"#3a5d91\",\"#364f2f\",\"#267c95\",\"#89959a\",\"#cfb356\",\"#004664\",\"#5e5d2f\",\"#8e8e41\",\"#ac3f13\",\"#69953b\",\"#a13d85\",\"#bfb6ba\",\"#acc667\",\"#6469cf\",\"#91af00\",\"#2be2da\",\"#016e36\",\"#ff7952\",\"#42807e\",\"#4fe800\",\"#995428\",\"#5d0a00\",\"#a30057\",\"#0c8700\",\"#5982a7\",\"#ffebfb\",\"#4b6901\",\"#8775d4\",\"#e6c6ff\",\"#a5ffda\",\"#d86e77\",\"#df014b\",\"#69675b\",\"#776ba1\",\"#7e8067\",\"#594685\",\"#0000ca\",\"#7c002a\",\"#97ff72\",\"#b5e2e1\",\"#db52c8\",\"#777734\",\"#57bd8e\"],\"factors\":[\"I\",\"II\",\"III\",\"IV\"]}}},\"line_alpha\":{\"type\":\"value\",\"value\":0.5},\"fill_color\":{\"type\":\"field\",\"field\":\"cat\",\"transform\":{\"type\":\"object\",\"name\":\"CategoricalColorMapper\",\"id\":\"p1659\",\"attributes\":{\"palette\":[\"#1f77b3\",\"#ff7e0e\",\"#2ba02b\",\"#d62628\",\"#9367bc\",\"#8c564b\",\"#e277c1\",\"#7e7e7e\",\"#bcbc21\",\"#16bdcf\",\"#3a0182\",\"#004201\",\"#0fffa8\",\"#5d003f\",\"#bcbcff\",\"#d8afa1\",\"#b80080\",\"#004d52\",\"#6b6400\",\"#7c0100\",\"#6026ff\",\"#ffff9a\",\"#564964\",\"#8cb893\",\"#93fbff\",\"#018267\",\"#90ff00\",\"#8200a0\",\"#ac8944\",\"#5b3400\",\"#ffbff2\",\"#ff6e75\",\"#798cff\",\"#dd00ff\",\"#505646\",\"#004489\",\"#ffbf60\",\"#ff018c\",\"#bdc8cf\",\"#af97b5\",\"#b65600\",\"#017000\",\"#cd87ff\",\"#1cd646\",\"#bfebc3\",\"#7997b5\",\"#a56089\",\"#6e8956\",\"#bc7c75\",\"#8a2844\",\"#00acff\",\"#8ed4ff\",\"#4b6d77\",\"#00d4b1\",\"#9300f2\",\"#8a9500\",\"#5d5b9e\",\"#fddfba\",\"#00939e\",\"#ffdb00\",\"#00aa79\",\"#520067\",\"#000091\",\"#0a5d3d\",\"#a5e275\",\"#623b41\",\"#c6c689\",\"#ff9eb5\",\"#cd4f6b\",\"#ff07d6\",\"#8a3a05\",\"#7e3d70\",\"#ff4901\",\"#602ba5\",\"#1c00ff\",\"#e6dfff\",\"#aa3baf\",\"#d89c00\",\"#a3a39e\",\"#3f69ff\",\"#46490c\",\"#7b6985\",\"#6b978c\",\"#ff9a75\",\"#835bff\",\"#7c6b46\",\"#80b654\",\"#bc0049\",\"#fd93ff\",\"#5d0018\",\"#89d1d1\",\"#9c8cd3\",\"#da6d42\",\"#8a5700\",\"#3b5069\",\"#4b6b3b\",\"#edcfd8\",\"#cfedff\",\"#aa1500\",\"#dfff4f\",\"#ff2a56\",\"#d1499e\",\"#707cb8\",\"#598000\",\"#00e4fd\",\"#774b95\",\"#67d48c\",\"#3d3a72\",\"#ac413f\",\"#d6a166\",\"#c169cd\",\"#69595d\",\"#87aced\",\"#a0a569\",\"#d1aae6\",\"#870062\",\"#00fddb\",\"#672818\",\"#b342ff\",\"#0e59c4\",\"#168742\",\"#90d300\",\"#cd7900\",\"#f959ff\",\"#5b7466\",\"#8eaeb3\",\"#9c7c8c\",\"#4600c6\",\"#6b4d2d\",\"#a56d46\",\"#9e8972\",\"#a8afca\",\"#cd8ca7\",\"#00fd64\",\"#917900\",\"#ff62a1\",\"#f4ffd8\",\"#018cf0\",\"#13aca0\",\"#5b2d59\",\"#89859e\",\"#cfccba\",\"#d4afc4\",\"#dbdd6d\",\"#cffff4\",\"#006485\",\"#006962\",\"#a84167\",\"#2d97c4\",\"#a874ff\",\"#26ba5d\",\"#57b600\",\"#caffa7\",\"#a379aa\",\"#ffbc93\",\"#89e2c1\",\"#0fc8ff\",\"#d400c4\",\"#626d89\",\"#69858e\",\"#4b4d52\",\"#aa6067\",\"#79b5d4\",\"#2b5916\",\"#9a0024\",\"#bdd1f2\",\"#896e67\",\"#69a56b\",\"#855467\",\"#aecdba\",\"#87997e\",\"#cadb00\",\"#9a0390\",\"#ebbc1a\",\"#eb9cd1\",\"#70006e\",\"#b1a131\",\"#ca6b93\",\"#4146a3\",\"#e48c89\",\"#d44400\",\"#c68aca\",\"#b69597\",\"#d41f75\",\"#724bcc\",\"#674d00\",\"#672138\",\"#38564f\",\"#6ebaaa\",\"#853a31\",\"#a5d397\",\"#b8af8e\",\"#d8e4df\",\"#aa00df\",\"#cac1db\",\"#ffdf8c\",\"#e2524d\",\"#66696e\",\"#ff001c\",\"#522d72\",\"#4d906b\",\"#a86d11\",\"#ff9e26\",\"#5ea3af\",\"#c88556\",\"#915997\",\"#a3a1ff\",\"#fdbaba\",\"#242a87\",\"#dbe6a8\",\"#97f2a7\",\"#6793d6\",\"#ba5b3f\",\"#3a5d91\",\"#364f2f\",\"#267c95\",\"#89959a\",\"#cfb356\",\"#004664\",\"#5e5d2f\",\"#8e8e41\",\"#ac3f13\",\"#69953b\",\"#a13d85\",\"#bfb6ba\",\"#acc667\",\"#6469cf\",\"#91af00\",\"#2be2da\",\"#016e36\",\"#ff7952\",\"#42807e\",\"#4fe800\",\"#995428\",\"#5d0a00\",\"#a30057\",\"#0c8700\",\"#5982a7\",\"#ffebfb\",\"#4b6901\",\"#8775d4\",\"#e6c6ff\",\"#a5ffda\",\"#d86e77\",\"#df014b\",\"#69675b\",\"#776ba1\",\"#7e8067\",\"#594685\",\"#0000ca\",\"#7c002a\",\"#97ff72\",\"#b5e2e1\",\"#db52c8\",\"#777734\",\"#57bd8e\"],\"factors\":[\"I\",\"II\",\"III\",\"IV\"]}}},\"fill_alpha\":{\"type\":\"value\",\"value\":0.5},\"hatch_alpha\":{\"type\":\"value\",\"value\":0.5},\"marker\":{\"type\":\"value\",\"value\":\"dash\"}}},\"nonselection_glyph\":{\"type\":\"object\",\"name\":\"Scatter\",\"id\":\"p1668\",\"attributes\":{\"x\":{\"type\":\"field\",\"field\":\"impact force (mN)\"},\"y\":{\"type\":\"field\",\"field\":\"cat\"},\"size\":{\"type\":\"value\",\"value\":17.1875},\"angle\":{\"type\":\"value\",\"value\":1.5707963267948966},\"line_color\":{\"type\":\"field\",\"field\":\"cat\",\"transform\":{\"id\":\"p1660\"}},\"line_alpha\":{\"type\":\"value\",\"value\":0.1},\"fill_color\":{\"type\":\"field\",\"field\":\"cat\",\"transform\":{\"id\":\"p1659\"}},\"fill_alpha\":{\"type\":\"value\",\"value\":0.1},\"hatch_alpha\":{\"type\":\"value\",\"value\":0.1},\"marker\":{\"type\":\"value\",\"value\":\"dash\"}}},\"muted_glyph\":{\"type\":\"object\",\"name\":\"Scatter\",\"id\":\"p1669\",\"attributes\":{\"x\":{\"type\":\"field\",\"field\":\"impact force (mN)\"},\"y\":{\"type\":\"field\",\"field\":\"cat\"},\"size\":{\"type\":\"value\",\"value\":17.1875},\"angle\":{\"type\":\"value\",\"value\":1.5707963267948966},\"line_color\":{\"type\":\"field\",\"field\":\"cat\",\"transform\":{\"id\":\"p1660\"}},\"line_alpha\":{\"type\":\"value\",\"value\":0.2},\"fill_color\":{\"type\":\"field\",\"field\":\"cat\",\"transform\":{\"id\":\"p1659\"}},\"fill_alpha\":{\"type\":\"value\",\"value\":0.2},\"hatch_alpha\":{\"type\":\"value\",\"value\":0.2},\"marker\":{\"type\":\"value\",\"value\":\"dash\"}}}}}],\"toolbar\":{\"type\":\"object\",\"name\":\"Toolbar\",\"id\":\"p1623\",\"attributes\":{\"tools\":[{\"type\":\"object\",\"name\":\"PanTool\",\"id\":\"p1644\"},{\"type\":\"object\",\"name\":\"WheelZoomTool\",\"id\":\"p1645\"},{\"type\":\"object\",\"name\":\"BoxZoomTool\",\"id\":\"p1646\",\"attributes\":{\"overlay\":{\"type\":\"object\",\"name\":\"BoxAnnotation\",\"id\":\"p1647\",\"attributes\":{\"syncable\":false,\"level\":\"overlay\",\"visible\":false,\"left_units\":\"canvas\",\"right_units\":\"canvas\",\"bottom_units\":\"canvas\",\"top_units\":\"canvas\",\"line_color\":\"black\",\"line_alpha\":1.0,\"line_width\":2,\"line_dash\":[4,4],\"fill_color\":\"lightgrey\",\"fill_alpha\":0.5}}}},{\"type\":\"object\",\"name\":\"SaveTool\",\"id\":\"p1648\"},{\"type\":\"object\",\"name\":\"ResetTool\",\"id\":\"p1649\"},{\"type\":\"object\",\"name\":\"HelpTool\",\"id\":\"p1650\"}]}},\"toolbar_location\":\"above\",\"left\":[{\"type\":\"object\",\"name\":\"CategoricalAxis\",\"id\":\"p1638\",\"attributes\":{\"ticker\":{\"type\":\"object\",\"name\":\"CategoricalTicker\",\"id\":\"p1639\"},\"formatter\":{\"type\":\"object\",\"name\":\"CategoricalTickFormatter\",\"id\":\"p1640\"},\"major_label_policy\":{\"type\":\"object\",\"name\":\"AllLabels\",\"id\":\"p1641\"}}}],\"below\":[{\"type\":\"object\",\"name\":\"LinearAxis\",\"id\":\"p1631\",\"attributes\":{\"ticker\":{\"type\":\"object\",\"name\":\"BasicTicker\",\"id\":\"p1632\",\"attributes\":{\"mantissas\":[1,2,5]}},\"formatter\":{\"type\":\"object\",\"name\":\"BasicTickFormatter\",\"id\":\"p1633\"},\"axis_label\":\"impact force (mN)\",\"major_label_policy\":{\"type\":\"object\",\"name\":\"AllLabels\",\"id\":\"p1634\"}}}],\"center\":[{\"type\":\"object\",\"name\":\"Grid\",\"id\":\"p1637\",\"attributes\":{\"axis\":{\"id\":\"p1631\"}}},{\"type\":\"object\",\"name\":\"Grid\",\"id\":\"p1643\",\"attributes\":{\"dimension\":1,\"axis\":{\"id\":\"p1638\"},\"grid_line_color\":null}}],\"frame_width\":375,\"frame_height\":275}}],\"callbacks\":{\"type\":\"map\"}}};\n",
       "  const render_items = [{\"docid\":\"baadc0ab-5ff9-464d-a3c7-db00c6f217ed\",\"roots\":{\"p1615\":\"c86b1dd5-ccec-44ec-aa49-2051ee0af7de\"},\"root_ids\":[\"p1615\"]}];\n",
       "  root.Bokeh.embed.embed_items_notebook(docs_json, render_items);\n",
       "  }\n",
       "  if (root.Bokeh !== undefined) {\n",
       "    embed_document(root);\n",
       "  } else {\n",
       "    let attempts = 0;\n",
       "    const timer = setInterval(function(root) {\n",
       "      if (root.Bokeh !== undefined) {\n",
       "        clearInterval(timer);\n",
       "        embed_document(root);\n",
       "      } else {\n",
       "        attempts++;\n",
       "        if (attempts > 100) {\n",
       "          clearInterval(timer);\n",
       "          console.log(\"Bokeh: ERROR: Unable to run BokehJS code because BokehJS library is missing\");\n",
       "        }\n",
       "      }\n",
       "    }, 10, root)\n",
       "  }\n",
       "})(window);"
      ],
      "application/vnd.bokehjs_exec.v0+json": ""
     },
     "metadata": {
      "application/vnd.bokehjs_exec.v0+json": {
       "id": "p1615"
      }
     },
     "output_type": "display_data"
    }
   ],
   "source": [
    "p = iqplot.strip(\n",
    "    data=df,\n",
    "    q=\"impact force (mN)\",\n",
    "    cats=\"ID\",\n",
    "    marker='dash',\n",
    "    marker_kwargs=dict(alpha=0.5)\n",
    ")\n",
    "\n",
    "bokeh.io.show(p)"
   ]
  },
  {
   "cell_type": "markdown",
   "metadata": {},
   "source": [
    "The problem with strip plots is that they can have trouble with overlapping data points. A common approach to deal with this is to \"**jitter**,\" or place the glyphs with small random displacements along the categorical axis. This is accomplished with the `spread='jitter'` keyword argument. I do that here, allowing for hover tools that give more information about the respective data points."
   ]
  },
  {
   "cell_type": "code",
   "execution_count": 6,
   "metadata": {},
   "outputs": [
    {
     "data": {
      "text/html": [
       "\n",
       "  <div id=\"d6ab9ac5-d515-43d2-94be-a55221159614\" data-root-id=\"p1820\" style=\"display: contents;\"></div>\n"
      ]
     },
     "metadata": {},
     "output_type": "display_data"
    },
    {
     "data": {
      "application/javascript": [
       "(function(root) {\n",
       "  function embed_document(root) {\n",
       "  const docs_json = {\"13b8ff3c-8d0c-44d9-940d-35fac89518af\":{\"version\":\"3.1.1\",\"title\":\"Bokeh Application\",\"defs\":[],\"roots\":[{\"type\":\"object\",\"name\":\"Figure\",\"id\":\"p1820\",\"attributes\":{\"x_range\":{\"type\":\"object\",\"name\":\"DataRange1d\",\"id\":\"p1822\"},\"y_range\":{\"type\":\"object\",\"name\":\"FactorRange\",\"id\":\"p1819\",\"attributes\":{\"factors\":[\"IV\",\"III\",\"II\",\"I\"]}},\"x_scale\":{\"type\":\"object\",\"name\":\"LinearScale\",\"id\":\"p1832\"},\"y_scale\":{\"type\":\"object\",\"name\":\"CategoricalScale\",\"id\":\"p1834\"},\"title\":{\"type\":\"object\",\"name\":\"Title\",\"id\":\"p1824\"},\"renderers\":[{\"type\":\"object\",\"name\":\"GlyphRenderer\",\"id\":\"p1878\",\"attributes\":{\"name\":\"hover_glyphs\",\"data_source\":{\"type\":\"object\",\"name\":\"ColumnDataSource\",\"id\":\"p1869\",\"attributes\":{\"selected\":{\"type\":\"object\",\"name\":\"Selection\",\"id\":\"p1870\",\"attributes\":{\"indices\":[],\"line_indices\":[]}},\"selection_policy\":{\"type\":\"object\",\"name\":\"UnionRenderers\",\"id\":\"p1871\"},\"data\":{\"type\":\"map\",\"entries\":[[\"trial number\",[3,4,1,2,3,4,1,2,3,4,1,2,3,4,5,1,2,3,4,5,1,2,3,4,1,2,3,4,1,2,3,4,1,2,1,2,1,2,3,1,1,2,3,1,2,3,1,2,1,2,3,4,1,2,3,4,1,2,3,4,2,3,4,1,2,3,1,1,2,3,4,1,1,2,3,4,1,2,3,4]],[\"impact force (mN)\",[1205,2527,1745,1556,493,2276,556,1928,2641,1897,1891,1545,1307,1692,1543,1282,775,2032,1240,473,1612,605,327,946,541,1539,529,628,1453,297,703,269,751,245,1182,515,435,383,457,730,614,414,324,776,611,544,538,579,806,459,458,626,621,544,535,385,401,614,665,488,172,142,37,453,355,22,502,273,720,582,198,198,597,516,815,402,605,711,614,468]],[\"ID\",[\"I\",\"I\",\"I\",\"I\",\"I\",\"I\",\"I\",\"I\",\"I\",\"I\",\"I\",\"I\",\"I\",\"I\",\"I\",\"I\",\"I\",\"I\",\"I\",\"I\",\"II\",\"II\",\"II\",\"II\",\"II\",\"II\",\"II\",\"II\",\"II\",\"II\",\"II\",\"II\",\"II\",\"II\",\"II\",\"II\",\"II\",\"II\",\"II\",\"II\",\"III\",\"III\",\"III\",\"III\",\"III\",\"III\",\"III\",\"III\",\"III\",\"III\",\"III\",\"III\",\"III\",\"III\",\"III\",\"III\",\"III\",\"III\",\"III\",\"III\",\"IV\",\"IV\",\"IV\",\"IV\",\"IV\",\"IV\",\"IV\",\"IV\",\"IV\",\"IV\",\"IV\",\"IV\",\"IV\",\"IV\",\"IV\",\"IV\",\"IV\",\"IV\",\"IV\",\"IV\"]],[\"adhesive force (mN)\",[-785,-983,-850,-455,-974,-592,-512,-804,-690,-462,-766,-715,-613,-677,-528,-452,-430,-652,-692,-536,-655,-292,-246,-245,-553,-664,-261,-691,-92,-566,-223,-512,-227,-573,-522,-599,-364,-469,-844,-648,-94,-163,-172,-225,-301,-93,-131,-289,-104,-229,-259,-231,-267,-178,-123,-151,-127,-372,-236,-390,-456,-193,-236,-225,-217,-161,-139,-264,-342,-231,-209,-292,-339,-371,-331,-302,-216,-163,-367,-218]],[\"cat\",[\"I\",\"I\",\"I\",\"I\",\"I\",\"I\",\"I\",\"I\",\"I\",\"I\",\"I\",\"I\",\"I\",\"I\",\"I\",\"I\",\"I\",\"I\",\"I\",\"I\",\"II\",\"II\",\"II\",\"II\",\"II\",\"II\",\"II\",\"II\",\"II\",\"II\",\"II\",\"II\",\"II\",\"II\",\"II\",\"II\",\"II\",\"II\",\"II\",\"II\",\"III\",\"III\",\"III\",\"III\",\"III\",\"III\",\"III\",\"III\",\"III\",\"III\",\"III\",\"III\",\"III\",\"III\",\"III\",\"III\",\"III\",\"III\",\"III\",\"III\",\"IV\",\"IV\",\"IV\",\"IV\",\"IV\",\"IV\",\"IV\",\"IV\",\"IV\",\"IV\",\"IV\",\"IV\",\"IV\",\"IV\",\"IV\",\"IV\",\"IV\",\"IV\",\"IV\",\"IV\"]],[\"__label\",[\"I\",\"I\",\"I\",\"I\",\"I\",\"I\",\"I\",\"I\",\"I\",\"I\",\"I\",\"I\",\"I\",\"I\",\"I\",\"I\",\"I\",\"I\",\"I\",\"I\",\"II\",\"II\",\"II\",\"II\",\"II\",\"II\",\"II\",\"II\",\"II\",\"II\",\"II\",\"II\",\"II\",\"II\",\"II\",\"II\",\"II\",\"II\",\"II\",\"II\",\"III\",\"III\",\"III\",\"III\",\"III\",\"III\",\"III\",\"III\",\"III\",\"III\",\"III\",\"III\",\"III\",\"III\",\"III\",\"III\",\"III\",\"III\",\"III\",\"III\",\"IV\",\"IV\",\"IV\",\"IV\",\"IV\",\"IV\",\"IV\",\"IV\",\"IV\",\"IV\",\"IV\",\"IV\",\"IV\",\"IV\",\"IV\",\"IV\",\"IV\",\"IV\",\"IV\",\"IV\"]]]}}},\"view\":{\"type\":\"object\",\"name\":\"CDSView\",\"id\":\"p1879\",\"attributes\":{\"filter\":{\"type\":\"object\",\"name\":\"AllIndices\",\"id\":\"p1880\"}}},\"glyph\":{\"type\":\"object\",\"name\":\"Circle\",\"id\":\"p1875\",\"attributes\":{\"x\":{\"type\":\"field\",\"field\":\"impact force (mN)\"},\"y\":{\"type\":\"field\",\"field\":\"cat\",\"transform\":{\"type\":\"object\",\"name\":\"Jitter\",\"id\":\"p1868\",\"attributes\":{\"width\":0.1,\"distribution\":\"normal\",\"range\":{\"id\":\"p1819\"}}}},\"line_color\":{\"type\":\"field\",\"field\":\"cat\",\"transform\":{\"type\":\"object\",\"name\":\"CategoricalColorMapper\",\"id\":\"p1867\",\"attributes\":{\"palette\":[\"#1f77b3\",\"#ff7e0e\",\"#2ba02b\",\"#d62628\",\"#9367bc\",\"#8c564b\",\"#e277c1\",\"#7e7e7e\",\"#bcbc21\",\"#16bdcf\",\"#3a0182\",\"#004201\",\"#0fffa8\",\"#5d003f\",\"#bcbcff\",\"#d8afa1\",\"#b80080\",\"#004d52\",\"#6b6400\",\"#7c0100\",\"#6026ff\",\"#ffff9a\",\"#564964\",\"#8cb893\",\"#93fbff\",\"#018267\",\"#90ff00\",\"#8200a0\",\"#ac8944\",\"#5b3400\",\"#ffbff2\",\"#ff6e75\",\"#798cff\",\"#dd00ff\",\"#505646\",\"#004489\",\"#ffbf60\",\"#ff018c\",\"#bdc8cf\",\"#af97b5\",\"#b65600\",\"#017000\",\"#cd87ff\",\"#1cd646\",\"#bfebc3\",\"#7997b5\",\"#a56089\",\"#6e8956\",\"#bc7c75\",\"#8a2844\",\"#00acff\",\"#8ed4ff\",\"#4b6d77\",\"#00d4b1\",\"#9300f2\",\"#8a9500\",\"#5d5b9e\",\"#fddfba\",\"#00939e\",\"#ffdb00\",\"#00aa79\",\"#520067\",\"#000091\",\"#0a5d3d\",\"#a5e275\",\"#623b41\",\"#c6c689\",\"#ff9eb5\",\"#cd4f6b\",\"#ff07d6\",\"#8a3a05\",\"#7e3d70\",\"#ff4901\",\"#602ba5\",\"#1c00ff\",\"#e6dfff\",\"#aa3baf\",\"#d89c00\",\"#a3a39e\",\"#3f69ff\",\"#46490c\",\"#7b6985\",\"#6b978c\",\"#ff9a75\",\"#835bff\",\"#7c6b46\",\"#80b654\",\"#bc0049\",\"#fd93ff\",\"#5d0018\",\"#89d1d1\",\"#9c8cd3\",\"#da6d42\",\"#8a5700\",\"#3b5069\",\"#4b6b3b\",\"#edcfd8\",\"#cfedff\",\"#aa1500\",\"#dfff4f\",\"#ff2a56\",\"#d1499e\",\"#707cb8\",\"#598000\",\"#00e4fd\",\"#774b95\",\"#67d48c\",\"#3d3a72\",\"#ac413f\",\"#d6a166\",\"#c169cd\",\"#69595d\",\"#87aced\",\"#a0a569\",\"#d1aae6\",\"#870062\",\"#00fddb\",\"#672818\",\"#b342ff\",\"#0e59c4\",\"#168742\",\"#90d300\",\"#cd7900\",\"#f959ff\",\"#5b7466\",\"#8eaeb3\",\"#9c7c8c\",\"#4600c6\",\"#6b4d2d\",\"#a56d46\",\"#9e8972\",\"#a8afca\",\"#cd8ca7\",\"#00fd64\",\"#917900\",\"#ff62a1\",\"#f4ffd8\",\"#018cf0\",\"#13aca0\",\"#5b2d59\",\"#89859e\",\"#cfccba\",\"#d4afc4\",\"#dbdd6d\",\"#cffff4\",\"#006485\",\"#006962\",\"#a84167\",\"#2d97c4\",\"#a874ff\",\"#26ba5d\",\"#57b600\",\"#caffa7\",\"#a379aa\",\"#ffbc93\",\"#89e2c1\",\"#0fc8ff\",\"#d400c4\",\"#626d89\",\"#69858e\",\"#4b4d52\",\"#aa6067\",\"#79b5d4\",\"#2b5916\",\"#9a0024\",\"#bdd1f2\",\"#896e67\",\"#69a56b\",\"#855467\",\"#aecdba\",\"#87997e\",\"#cadb00\",\"#9a0390\",\"#ebbc1a\",\"#eb9cd1\",\"#70006e\",\"#b1a131\",\"#ca6b93\",\"#4146a3\",\"#e48c89\",\"#d44400\",\"#c68aca\",\"#b69597\",\"#d41f75\",\"#724bcc\",\"#674d00\",\"#672138\",\"#38564f\",\"#6ebaaa\",\"#853a31\",\"#a5d397\",\"#b8af8e\",\"#d8e4df\",\"#aa00df\",\"#cac1db\",\"#ffdf8c\",\"#e2524d\",\"#66696e\",\"#ff001c\",\"#522d72\",\"#4d906b\",\"#a86d11\",\"#ff9e26\",\"#5ea3af\",\"#c88556\",\"#915997\",\"#a3a1ff\",\"#fdbaba\",\"#242a87\",\"#dbe6a8\",\"#97f2a7\",\"#6793d6\",\"#ba5b3f\",\"#3a5d91\",\"#364f2f\",\"#267c95\",\"#89959a\",\"#cfb356\",\"#004664\",\"#5e5d2f\",\"#8e8e41\",\"#ac3f13\",\"#69953b\",\"#a13d85\",\"#bfb6ba\",\"#acc667\",\"#6469cf\",\"#91af00\",\"#2be2da\",\"#016e36\",\"#ff7952\",\"#42807e\",\"#4fe800\",\"#995428\",\"#5d0a00\",\"#a30057\",\"#0c8700\",\"#5982a7\",\"#ffebfb\",\"#4b6901\",\"#8775d4\",\"#e6c6ff\",\"#a5ffda\",\"#d86e77\",\"#df014b\",\"#69675b\",\"#776ba1\",\"#7e8067\",\"#594685\",\"#0000ca\",\"#7c002a\",\"#97ff72\",\"#b5e2e1\",\"#db52c8\",\"#777734\",\"#57bd8e\"],\"factors\":[\"I\",\"II\",\"III\",\"IV\"]}}},\"fill_color\":{\"type\":\"field\",\"field\":\"cat\",\"transform\":{\"type\":\"object\",\"name\":\"CategoricalColorMapper\",\"id\":\"p1866\",\"attributes\":{\"palette\":[\"#1f77b3\",\"#ff7e0e\",\"#2ba02b\",\"#d62628\",\"#9367bc\",\"#8c564b\",\"#e277c1\",\"#7e7e7e\",\"#bcbc21\",\"#16bdcf\",\"#3a0182\",\"#004201\",\"#0fffa8\",\"#5d003f\",\"#bcbcff\",\"#d8afa1\",\"#b80080\",\"#004d52\",\"#6b6400\",\"#7c0100\",\"#6026ff\",\"#ffff9a\",\"#564964\",\"#8cb893\",\"#93fbff\",\"#018267\",\"#90ff00\",\"#8200a0\",\"#ac8944\",\"#5b3400\",\"#ffbff2\",\"#ff6e75\",\"#798cff\",\"#dd00ff\",\"#505646\",\"#004489\",\"#ffbf60\",\"#ff018c\",\"#bdc8cf\",\"#af97b5\",\"#b65600\",\"#017000\",\"#cd87ff\",\"#1cd646\",\"#bfebc3\",\"#7997b5\",\"#a56089\",\"#6e8956\",\"#bc7c75\",\"#8a2844\",\"#00acff\",\"#8ed4ff\",\"#4b6d77\",\"#00d4b1\",\"#9300f2\",\"#8a9500\",\"#5d5b9e\",\"#fddfba\",\"#00939e\",\"#ffdb00\",\"#00aa79\",\"#520067\",\"#000091\",\"#0a5d3d\",\"#a5e275\",\"#623b41\",\"#c6c689\",\"#ff9eb5\",\"#cd4f6b\",\"#ff07d6\",\"#8a3a05\",\"#7e3d70\",\"#ff4901\",\"#602ba5\",\"#1c00ff\",\"#e6dfff\",\"#aa3baf\",\"#d89c00\",\"#a3a39e\",\"#3f69ff\",\"#46490c\",\"#7b6985\",\"#6b978c\",\"#ff9a75\",\"#835bff\",\"#7c6b46\",\"#80b654\",\"#bc0049\",\"#fd93ff\",\"#5d0018\",\"#89d1d1\",\"#9c8cd3\",\"#da6d42\",\"#8a5700\",\"#3b5069\",\"#4b6b3b\",\"#edcfd8\",\"#cfedff\",\"#aa1500\",\"#dfff4f\",\"#ff2a56\",\"#d1499e\",\"#707cb8\",\"#598000\",\"#00e4fd\",\"#774b95\",\"#67d48c\",\"#3d3a72\",\"#ac413f\",\"#d6a166\",\"#c169cd\",\"#69595d\",\"#87aced\",\"#a0a569\",\"#d1aae6\",\"#870062\",\"#00fddb\",\"#672818\",\"#b342ff\",\"#0e59c4\",\"#168742\",\"#90d300\",\"#cd7900\",\"#f959ff\",\"#5b7466\",\"#8eaeb3\",\"#9c7c8c\",\"#4600c6\",\"#6b4d2d\",\"#a56d46\",\"#9e8972\",\"#a8afca\",\"#cd8ca7\",\"#00fd64\",\"#917900\",\"#ff62a1\",\"#f4ffd8\",\"#018cf0\",\"#13aca0\",\"#5b2d59\",\"#89859e\",\"#cfccba\",\"#d4afc4\",\"#dbdd6d\",\"#cffff4\",\"#006485\",\"#006962\",\"#a84167\",\"#2d97c4\",\"#a874ff\",\"#26ba5d\",\"#57b600\",\"#caffa7\",\"#a379aa\",\"#ffbc93\",\"#89e2c1\",\"#0fc8ff\",\"#d400c4\",\"#626d89\",\"#69858e\",\"#4b4d52\",\"#aa6067\",\"#79b5d4\",\"#2b5916\",\"#9a0024\",\"#bdd1f2\",\"#896e67\",\"#69a56b\",\"#855467\",\"#aecdba\",\"#87997e\",\"#cadb00\",\"#9a0390\",\"#ebbc1a\",\"#eb9cd1\",\"#70006e\",\"#b1a131\",\"#ca6b93\",\"#4146a3\",\"#e48c89\",\"#d44400\",\"#c68aca\",\"#b69597\",\"#d41f75\",\"#724bcc\",\"#674d00\",\"#672138\",\"#38564f\",\"#6ebaaa\",\"#853a31\",\"#a5d397\",\"#b8af8e\",\"#d8e4df\",\"#aa00df\",\"#cac1db\",\"#ffdf8c\",\"#e2524d\",\"#66696e\",\"#ff001c\",\"#522d72\",\"#4d906b\",\"#a86d11\",\"#ff9e26\",\"#5ea3af\",\"#c88556\",\"#915997\",\"#a3a1ff\",\"#fdbaba\",\"#242a87\",\"#dbe6a8\",\"#97f2a7\",\"#6793d6\",\"#ba5b3f\",\"#3a5d91\",\"#364f2f\",\"#267c95\",\"#89959a\",\"#cfb356\",\"#004664\",\"#5e5d2f\",\"#8e8e41\",\"#ac3f13\",\"#69953b\",\"#a13d85\",\"#bfb6ba\",\"#acc667\",\"#6469cf\",\"#91af00\",\"#2be2da\",\"#016e36\",\"#ff7952\",\"#42807e\",\"#4fe800\",\"#995428\",\"#5d0a00\",\"#a30057\",\"#0c8700\",\"#5982a7\",\"#ffebfb\",\"#4b6901\",\"#8775d4\",\"#e6c6ff\",\"#a5ffda\",\"#d86e77\",\"#df014b\",\"#69675b\",\"#776ba1\",\"#7e8067\",\"#594685\",\"#0000ca\",\"#7c002a\",\"#97ff72\",\"#b5e2e1\",\"#db52c8\",\"#777734\",\"#57bd8e\"],\"factors\":[\"I\",\"II\",\"III\",\"IV\"]}}}}},\"nonselection_glyph\":{\"type\":\"object\",\"name\":\"Circle\",\"id\":\"p1876\",\"attributes\":{\"x\":{\"type\":\"field\",\"field\":\"impact force (mN)\"},\"y\":{\"type\":\"field\",\"field\":\"cat\",\"transform\":{\"id\":\"p1868\"}},\"line_color\":{\"type\":\"field\",\"field\":\"cat\",\"transform\":{\"id\":\"p1867\"}},\"line_alpha\":{\"type\":\"value\",\"value\":0.1},\"fill_color\":{\"type\":\"field\",\"field\":\"cat\",\"transform\":{\"id\":\"p1866\"}},\"fill_alpha\":{\"type\":\"value\",\"value\":0.1},\"hatch_alpha\":{\"type\":\"value\",\"value\":0.1}}},\"muted_glyph\":{\"type\":\"object\",\"name\":\"Circle\",\"id\":\"p1877\",\"attributes\":{\"x\":{\"type\":\"field\",\"field\":\"impact force (mN)\"},\"y\":{\"type\":\"field\",\"field\":\"cat\",\"transform\":{\"id\":\"p1868\"}},\"line_color\":{\"type\":\"field\",\"field\":\"cat\",\"transform\":{\"id\":\"p1867\"}},\"line_alpha\":{\"type\":\"value\",\"value\":0.2},\"fill_color\":{\"type\":\"field\",\"field\":\"cat\",\"transform\":{\"id\":\"p1866\"}},\"fill_alpha\":{\"type\":\"value\",\"value\":0.2},\"hatch_alpha\":{\"type\":\"value\",\"value\":0.2}}}}}],\"toolbar\":{\"type\":\"object\",\"name\":\"Toolbar\",\"id\":\"p1828\",\"attributes\":{\"tools\":[{\"type\":\"object\",\"name\":\"PanTool\",\"id\":\"p1849\"},{\"type\":\"object\",\"name\":\"WheelZoomTool\",\"id\":\"p1850\"},{\"type\":\"object\",\"name\":\"BoxZoomTool\",\"id\":\"p1851\",\"attributes\":{\"overlay\":{\"type\":\"object\",\"name\":\"BoxAnnotation\",\"id\":\"p1852\",\"attributes\":{\"syncable\":false,\"level\":\"overlay\",\"visible\":false,\"left_units\":\"canvas\",\"right_units\":\"canvas\",\"bottom_units\":\"canvas\",\"top_units\":\"canvas\",\"line_color\":\"black\",\"line_alpha\":1.0,\"line_width\":2,\"line_dash\":[4,4],\"fill_color\":\"lightgrey\",\"fill_alpha\":0.5}}}},{\"type\":\"object\",\"name\":\"SaveTool\",\"id\":\"p1853\"},{\"type\":\"object\",\"name\":\"ResetTool\",\"id\":\"p1854\"},{\"type\":\"object\",\"name\":\"HelpTool\",\"id\":\"p1855\"},{\"type\":\"object\",\"name\":\"HoverTool\",\"id\":\"p1864\",\"attributes\":{\"name\":\"hover_glyphs\",\"renderers\":\"auto\",\"tooltips\":[[\"trial\",\"@{trial number}\"],[\"adh force\",\"@{adhesive force (mN)}\"]]}}]}},\"toolbar_location\":\"above\",\"left\":[{\"type\":\"object\",\"name\":\"CategoricalAxis\",\"id\":\"p1843\",\"attributes\":{\"ticker\":{\"type\":\"object\",\"name\":\"CategoricalTicker\",\"id\":\"p1844\"},\"formatter\":{\"type\":\"object\",\"name\":\"CategoricalTickFormatter\",\"id\":\"p1845\"},\"major_label_policy\":{\"type\":\"object\",\"name\":\"AllLabels\",\"id\":\"p1846\"}}}],\"below\":[{\"type\":\"object\",\"name\":\"LinearAxis\",\"id\":\"p1836\",\"attributes\":{\"ticker\":{\"type\":\"object\",\"name\":\"BasicTicker\",\"id\":\"p1837\",\"attributes\":{\"mantissas\":[1,2,5]}},\"formatter\":{\"type\":\"object\",\"name\":\"BasicTickFormatter\",\"id\":\"p1838\"},\"axis_label\":\"impact force (mN)\",\"major_label_policy\":{\"type\":\"object\",\"name\":\"AllLabels\",\"id\":\"p1839\"}}}],\"center\":[{\"type\":\"object\",\"name\":\"Grid\",\"id\":\"p1842\",\"attributes\":{\"axis\":{\"id\":\"p1836\"}}},{\"type\":\"object\",\"name\":\"Grid\",\"id\":\"p1848\",\"attributes\":{\"dimension\":1,\"axis\":{\"id\":\"p1843\"},\"grid_line_color\":null}}],\"frame_width\":375,\"frame_height\":275}}],\"callbacks\":{\"type\":\"map\"}}};\n",
       "  const render_items = [{\"docid\":\"13b8ff3c-8d0c-44d9-940d-35fac89518af\",\"roots\":{\"p1820\":\"d6ab9ac5-d515-43d2-94be-a55221159614\"},\"root_ids\":[\"p1820\"]}];\n",
       "  root.Bokeh.embed.embed_items_notebook(docs_json, render_items);\n",
       "  }\n",
       "  if (root.Bokeh !== undefined) {\n",
       "    embed_document(root);\n",
       "  } else {\n",
       "    let attempts = 0;\n",
       "    const timer = setInterval(function(root) {\n",
       "      if (root.Bokeh !== undefined) {\n",
       "        clearInterval(timer);\n",
       "        embed_document(root);\n",
       "      } else {\n",
       "        attempts++;\n",
       "        if (attempts > 100) {\n",
       "          clearInterval(timer);\n",
       "          console.log(\"Bokeh: ERROR: Unable to run BokehJS code because BokehJS library is missing\");\n",
       "        }\n",
       "      }\n",
       "    }, 10, root)\n",
       "  }\n",
       "})(window);"
      ],
      "application/vnd.bokehjs_exec.v0+json": ""
     },
     "metadata": {
      "application/vnd.bokehjs_exec.v0+json": {
       "id": "p1820"
      }
     },
     "output_type": "display_data"
    }
   ],
   "source": [
    "p = iqplot.strip(\n",
    "    data=df,\n",
    "    q=\"impact force (mN)\",\n",
    "    cats=\"ID\",\n",
    "    spread=\"jitter\",\n",
    "    tooltips=[\n",
    "        ('trial', '@{trial number}'),\n",
    "        ('adh force', '@{adhesive force (mN)}')\n",
    "    ],\n",
    ")\n",
    "\n",
    "bokeh.io.show(p)"
   ]
  },
  {
   "cell_type": "markdown",
   "metadata": {},
   "source": [
    "Alternatively, we can spread the data points as in a **beeswarm plot**, also known as a swarm plot, in which the points are nudged up or down only as far as necessary to avoid a clash with neighboring data points. This is not always possible to construct for large data sets. We do this using the `spread='swarm'` keyword argument, choosing a smaller plot area to accentuate the swarm style of spreading."
   ]
  },
  {
   "cell_type": "code",
   "execution_count": 7,
   "metadata": {
    "tags": []
   },
   "outputs": [
    {
     "data": {
      "text/html": [
       "\n",
       "  <div id=\"d6590b37-fc63-4190-ae0b-fd1c83d0f54c\" data-root-id=\"p2042\" style=\"display: contents;\"></div>\n"
      ]
     },
     "metadata": {},
     "output_type": "display_data"
    },
    {
     "data": {
      "application/javascript": [
       "(function(root) {\n",
       "  function embed_document(root) {\n",
       "  const docs_json = {\"9be7d87c-c835-440f-baff-54dd8f51d36a\":{\"version\":\"3.1.1\",\"title\":\"Bokeh Application\",\"defs\":[],\"roots\":[{\"type\":\"object\",\"name\":\"Figure\",\"id\":\"p2042\",\"attributes\":{\"x_range\":{\"type\":\"object\",\"name\":\"DataRange1d\",\"id\":\"p2044\"},\"y_range\":{\"type\":\"object\",\"name\":\"FactorRange\",\"id\":\"p2041\",\"attributes\":{\"factors\":[\"IV\",\"III\",\"II\",\"I\"]}},\"x_scale\":{\"type\":\"object\",\"name\":\"LinearScale\",\"id\":\"p2054\"},\"y_scale\":{\"type\":\"object\",\"name\":\"CategoricalScale\",\"id\":\"p2056\"},\"title\":{\"type\":\"object\",\"name\":\"Title\",\"id\":\"p2046\"},\"renderers\":[{\"type\":\"object\",\"name\":\"GlyphRenderer\",\"id\":\"p2099\",\"attributes\":{\"name\":\"hover_glyphs\",\"data_source\":{\"type\":\"object\",\"name\":\"ColumnDataSource\",\"id\":\"p2090\",\"attributes\":{\"selected\":{\"type\":\"object\",\"name\":\"Selection\",\"id\":\"p2091\",\"attributes\":{\"indices\":[],\"line_indices\":[]}},\"selection_policy\":{\"type\":\"object\",\"name\":\"UnionRenderers\",\"id\":\"p2092\"},\"data\":{\"type\":\"map\",\"entries\":[[\"trial number\",[3,4,1,2,3,4,1,2,3,4,1,2,3,4,5,1,2,3,4,5,1,2,3,4,1,2,3,4,1,2,3,4,1,2,1,2,1,2,3,1,1,2,3,1,2,3,1,2,1,2,3,4,1,2,3,4,1,2,3,4,2,3,4,1,2,3,1,1,2,3,4,1,1,2,3,4,1,2,3,4]],[\"impact force (mN)\",[1205,2527,1745,1556,493,2276,556,1928,2641,1897,1891,1545,1307,1692,1543,1282,775,2032,1240,473,1612,605,327,946,541,1539,529,628,1453,297,703,269,751,245,1182,515,435,383,457,730,614,414,324,776,611,544,538,579,806,459,458,626,621,544,535,385,401,614,665,488,172,142,37,453,355,22,502,273,720,582,198,198,597,516,815,402,605,711,614,468]],[\"ID\",[\"I\",\"I\",\"I\",\"I\",\"I\",\"I\",\"I\",\"I\",\"I\",\"I\",\"I\",\"I\",\"I\",\"I\",\"I\",\"I\",\"I\",\"I\",\"I\",\"I\",\"II\",\"II\",\"II\",\"II\",\"II\",\"II\",\"II\",\"II\",\"II\",\"II\",\"II\",\"II\",\"II\",\"II\",\"II\",\"II\",\"II\",\"II\",\"II\",\"II\",\"III\",\"III\",\"III\",\"III\",\"III\",\"III\",\"III\",\"III\",\"III\",\"III\",\"III\",\"III\",\"III\",\"III\",\"III\",\"III\",\"III\",\"III\",\"III\",\"III\",\"IV\",\"IV\",\"IV\",\"IV\",\"IV\",\"IV\",\"IV\",\"IV\",\"IV\",\"IV\",\"IV\",\"IV\",\"IV\",\"IV\",\"IV\",\"IV\",\"IV\",\"IV\",\"IV\",\"IV\"]],[\"adhesive force (mN)\",[-785,-983,-850,-455,-974,-592,-512,-804,-690,-462,-766,-715,-613,-677,-528,-452,-430,-652,-692,-536,-655,-292,-246,-245,-553,-664,-261,-691,-92,-566,-223,-512,-227,-573,-522,-599,-364,-469,-844,-648,-94,-163,-172,-225,-301,-93,-131,-289,-104,-229,-259,-231,-267,-178,-123,-151,-127,-372,-236,-390,-456,-193,-236,-225,-217,-161,-139,-264,-342,-231,-209,-292,-339,-371,-331,-302,-216,-163,-367,-218]],[\"cat\",[\"I\",\"I\",\"I\",\"I\",\"I\",\"I\",\"I\",\"I\",\"I\",\"I\",\"I\",\"I\",\"I\",\"I\",\"I\",\"I\",\"I\",\"I\",\"I\",\"I\",\"II\",\"II\",\"II\",\"II\",\"II\",\"II\",\"II\",\"II\",\"II\",\"II\",\"II\",\"II\",\"II\",\"II\",\"II\",\"II\",\"II\",\"II\",\"II\",\"II\",\"III\",\"III\",\"III\",\"III\",\"III\",\"III\",\"III\",\"III\",\"III\",\"III\",\"III\",\"III\",\"III\",\"III\",\"III\",\"III\",\"III\",\"III\",\"III\",\"III\",\"IV\",\"IV\",\"IV\",\"IV\",\"IV\",\"IV\",\"IV\",\"IV\",\"IV\",\"IV\",\"IV\",\"IV\",\"IV\",\"IV\",\"IV\",\"IV\",\"IV\",\"IV\",\"IV\",\"IV\"]],[\"__label\",[\"I\",\"I\",\"I\",\"I\",\"I\",\"I\",\"I\",\"I\",\"I\",\"I\",\"I\",\"I\",\"I\",\"I\",\"I\",\"I\",\"I\",\"I\",\"I\",\"I\",\"II\",\"II\",\"II\",\"II\",\"II\",\"II\",\"II\",\"II\",\"II\",\"II\",\"II\",\"II\",\"II\",\"II\",\"II\",\"II\",\"II\",\"II\",\"II\",\"II\",\"III\",\"III\",\"III\",\"III\",\"III\",\"III\",\"III\",\"III\",\"III\",\"III\",\"III\",\"III\",\"III\",\"III\",\"III\",\"III\",\"III\",\"III\",\"III\",\"III\",\"IV\",\"IV\",\"IV\",\"IV\",\"IV\",\"IV\",\"IV\",\"IV\",\"IV\",\"IV\",\"IV\",\"IV\",\"IV\",\"IV\",\"IV\",\"IV\",\"IV\",\"IV\",\"IV\",\"IV\"]],[\"__swarm\",[[\"I\",0.0],[\"I\",0.0],[\"I\",-0.06],[\"I\",0.08],[\"I\",-0.08],[\"I\",0.0],[\"I\",-0.04],[\"I\",0.08],[\"I\",0.0],[\"I\",-0.08],[\"I\",0.0],[\"I\",-0.08],[\"I\",0.08],[\"I\",0.0],[\"I\",0.0],[\"I\",0.0],[\"I\",0.0],[\"I\",0.0],[\"I\",-0.08],[\"I\",0.0],[\"II\",0.0],[\"II\",0.04],[\"II\",-0.02],[\"II\",0.0],[\"II\",0.1],[\"II\",0.0],[\"II\",-0.08],[\"II\",-0.02],[\"II\",0.0],[\"II\",0.06],[\"II\",0.0],[\"II\",-0.08],[\"II\",0.06],[\"II\",0.0],[\"II\",0.0],[\"II\",0.0],[\"II\",-0.02],[\"II\",0.04],[\"II\",0.06],[\"II\",-0.08],[\"III\",0.0],[\"III\",0.14],[\"III\",0.0],[\"III\",0.0],[\"III\",0.1],[\"III\",0.12],[\"III\",-0.1],[\"III\",0.22],[\"III\",-0.08],[\"III\",-0.1],[\"III\",0.0],[\"III\",-0.28],[\"III\",-0.18],[\"III\",-0.2],[\"III\",0.0],[\"III\",-0.04],[\"III\",0.04],[\"III\",-0.08],[\"III\",0.16],[\"III\",0.06],[\"IV\",-0.08],[\"IV\",0.0],[\"IV\",-0.08],[\"IV\",0.0],[\"IV\",0.0],[\"IV\",0.0],[\"IV\",-0.06],[\"IV\",0.0],[\"IV\",-0.08],[\"IV\",0.12],[\"IV\",0.06],[\"IV\",0.16],[\"IV\",0.02],[\"IV\",0.16],[\"IV\",0.0],[\"IV\",-0.06],[\"IV\",-0.06],[\"IV\",0.0],[\"IV\",-0.16],[\"IV\",0.08]]]]}}},\"view\":{\"type\":\"object\",\"name\":\"CDSView\",\"id\":\"p2100\",\"attributes\":{\"filter\":{\"type\":\"object\",\"name\":\"AllIndices\",\"id\":\"p2101\"}}},\"glyph\":{\"type\":\"object\",\"name\":\"Circle\",\"id\":\"p2096\",\"attributes\":{\"x\":{\"type\":\"field\",\"field\":\"impact force (mN)\"},\"y\":{\"type\":\"field\",\"field\":\"__swarm\"},\"line_color\":{\"type\":\"field\",\"field\":\"cat\",\"transform\":{\"type\":\"object\",\"name\":\"CategoricalColorMapper\",\"id\":\"p2089\",\"attributes\":{\"palette\":[\"#1f77b3\",\"#ff7e0e\",\"#2ba02b\",\"#d62628\",\"#9367bc\",\"#8c564b\",\"#e277c1\",\"#7e7e7e\",\"#bcbc21\",\"#16bdcf\",\"#3a0182\",\"#004201\",\"#0fffa8\",\"#5d003f\",\"#bcbcff\",\"#d8afa1\",\"#b80080\",\"#004d52\",\"#6b6400\",\"#7c0100\",\"#6026ff\",\"#ffff9a\",\"#564964\",\"#8cb893\",\"#93fbff\",\"#018267\",\"#90ff00\",\"#8200a0\",\"#ac8944\",\"#5b3400\",\"#ffbff2\",\"#ff6e75\",\"#798cff\",\"#dd00ff\",\"#505646\",\"#004489\",\"#ffbf60\",\"#ff018c\",\"#bdc8cf\",\"#af97b5\",\"#b65600\",\"#017000\",\"#cd87ff\",\"#1cd646\",\"#bfebc3\",\"#7997b5\",\"#a56089\",\"#6e8956\",\"#bc7c75\",\"#8a2844\",\"#00acff\",\"#8ed4ff\",\"#4b6d77\",\"#00d4b1\",\"#9300f2\",\"#8a9500\",\"#5d5b9e\",\"#fddfba\",\"#00939e\",\"#ffdb00\",\"#00aa79\",\"#520067\",\"#000091\",\"#0a5d3d\",\"#a5e275\",\"#623b41\",\"#c6c689\",\"#ff9eb5\",\"#cd4f6b\",\"#ff07d6\",\"#8a3a05\",\"#7e3d70\",\"#ff4901\",\"#602ba5\",\"#1c00ff\",\"#e6dfff\",\"#aa3baf\",\"#d89c00\",\"#a3a39e\",\"#3f69ff\",\"#46490c\",\"#7b6985\",\"#6b978c\",\"#ff9a75\",\"#835bff\",\"#7c6b46\",\"#80b654\",\"#bc0049\",\"#fd93ff\",\"#5d0018\",\"#89d1d1\",\"#9c8cd3\",\"#da6d42\",\"#8a5700\",\"#3b5069\",\"#4b6b3b\",\"#edcfd8\",\"#cfedff\",\"#aa1500\",\"#dfff4f\",\"#ff2a56\",\"#d1499e\",\"#707cb8\",\"#598000\",\"#00e4fd\",\"#774b95\",\"#67d48c\",\"#3d3a72\",\"#ac413f\",\"#d6a166\",\"#c169cd\",\"#69595d\",\"#87aced\",\"#a0a569\",\"#d1aae6\",\"#870062\",\"#00fddb\",\"#672818\",\"#b342ff\",\"#0e59c4\",\"#168742\",\"#90d300\",\"#cd7900\",\"#f959ff\",\"#5b7466\",\"#8eaeb3\",\"#9c7c8c\",\"#4600c6\",\"#6b4d2d\",\"#a56d46\",\"#9e8972\",\"#a8afca\",\"#cd8ca7\",\"#00fd64\",\"#917900\",\"#ff62a1\",\"#f4ffd8\",\"#018cf0\",\"#13aca0\",\"#5b2d59\",\"#89859e\",\"#cfccba\",\"#d4afc4\",\"#dbdd6d\",\"#cffff4\",\"#006485\",\"#006962\",\"#a84167\",\"#2d97c4\",\"#a874ff\",\"#26ba5d\",\"#57b600\",\"#caffa7\",\"#a379aa\",\"#ffbc93\",\"#89e2c1\",\"#0fc8ff\",\"#d400c4\",\"#626d89\",\"#69858e\",\"#4b4d52\",\"#aa6067\",\"#79b5d4\",\"#2b5916\",\"#9a0024\",\"#bdd1f2\",\"#896e67\",\"#69a56b\",\"#855467\",\"#aecdba\",\"#87997e\",\"#cadb00\",\"#9a0390\",\"#ebbc1a\",\"#eb9cd1\",\"#70006e\",\"#b1a131\",\"#ca6b93\",\"#4146a3\",\"#e48c89\",\"#d44400\",\"#c68aca\",\"#b69597\",\"#d41f75\",\"#724bcc\",\"#674d00\",\"#672138\",\"#38564f\",\"#6ebaaa\",\"#853a31\",\"#a5d397\",\"#b8af8e\",\"#d8e4df\",\"#aa00df\",\"#cac1db\",\"#ffdf8c\",\"#e2524d\",\"#66696e\",\"#ff001c\",\"#522d72\",\"#4d906b\",\"#a86d11\",\"#ff9e26\",\"#5ea3af\",\"#c88556\",\"#915997\",\"#a3a1ff\",\"#fdbaba\",\"#242a87\",\"#dbe6a8\",\"#97f2a7\",\"#6793d6\",\"#ba5b3f\",\"#3a5d91\",\"#364f2f\",\"#267c95\",\"#89959a\",\"#cfb356\",\"#004664\",\"#5e5d2f\",\"#8e8e41\",\"#ac3f13\",\"#69953b\",\"#a13d85\",\"#bfb6ba\",\"#acc667\",\"#6469cf\",\"#91af00\",\"#2be2da\",\"#016e36\",\"#ff7952\",\"#42807e\",\"#4fe800\",\"#995428\",\"#5d0a00\",\"#a30057\",\"#0c8700\",\"#5982a7\",\"#ffebfb\",\"#4b6901\",\"#8775d4\",\"#e6c6ff\",\"#a5ffda\",\"#d86e77\",\"#df014b\",\"#69675b\",\"#776ba1\",\"#7e8067\",\"#594685\",\"#0000ca\",\"#7c002a\",\"#97ff72\",\"#b5e2e1\",\"#db52c8\",\"#777734\",\"#57bd8e\"],\"factors\":[\"I\",\"II\",\"III\",\"IV\"]}}},\"fill_color\":{\"type\":\"field\",\"field\":\"cat\",\"transform\":{\"type\":\"object\",\"name\":\"CategoricalColorMapper\",\"id\":\"p2088\",\"attributes\":{\"palette\":[\"#1f77b3\",\"#ff7e0e\",\"#2ba02b\",\"#d62628\",\"#9367bc\",\"#8c564b\",\"#e277c1\",\"#7e7e7e\",\"#bcbc21\",\"#16bdcf\",\"#3a0182\",\"#004201\",\"#0fffa8\",\"#5d003f\",\"#bcbcff\",\"#d8afa1\",\"#b80080\",\"#004d52\",\"#6b6400\",\"#7c0100\",\"#6026ff\",\"#ffff9a\",\"#564964\",\"#8cb893\",\"#93fbff\",\"#018267\",\"#90ff00\",\"#8200a0\",\"#ac8944\",\"#5b3400\",\"#ffbff2\",\"#ff6e75\",\"#798cff\",\"#dd00ff\",\"#505646\",\"#004489\",\"#ffbf60\",\"#ff018c\",\"#bdc8cf\",\"#af97b5\",\"#b65600\",\"#017000\",\"#cd87ff\",\"#1cd646\",\"#bfebc3\",\"#7997b5\",\"#a56089\",\"#6e8956\",\"#bc7c75\",\"#8a2844\",\"#00acff\",\"#8ed4ff\",\"#4b6d77\",\"#00d4b1\",\"#9300f2\",\"#8a9500\",\"#5d5b9e\",\"#fddfba\",\"#00939e\",\"#ffdb00\",\"#00aa79\",\"#520067\",\"#000091\",\"#0a5d3d\",\"#a5e275\",\"#623b41\",\"#c6c689\",\"#ff9eb5\",\"#cd4f6b\",\"#ff07d6\",\"#8a3a05\",\"#7e3d70\",\"#ff4901\",\"#602ba5\",\"#1c00ff\",\"#e6dfff\",\"#aa3baf\",\"#d89c00\",\"#a3a39e\",\"#3f69ff\",\"#46490c\",\"#7b6985\",\"#6b978c\",\"#ff9a75\",\"#835bff\",\"#7c6b46\",\"#80b654\",\"#bc0049\",\"#fd93ff\",\"#5d0018\",\"#89d1d1\",\"#9c8cd3\",\"#da6d42\",\"#8a5700\",\"#3b5069\",\"#4b6b3b\",\"#edcfd8\",\"#cfedff\",\"#aa1500\",\"#dfff4f\",\"#ff2a56\",\"#d1499e\",\"#707cb8\",\"#598000\",\"#00e4fd\",\"#774b95\",\"#67d48c\",\"#3d3a72\",\"#ac413f\",\"#d6a166\",\"#c169cd\",\"#69595d\",\"#87aced\",\"#a0a569\",\"#d1aae6\",\"#870062\",\"#00fddb\",\"#672818\",\"#b342ff\",\"#0e59c4\",\"#168742\",\"#90d300\",\"#cd7900\",\"#f959ff\",\"#5b7466\",\"#8eaeb3\",\"#9c7c8c\",\"#4600c6\",\"#6b4d2d\",\"#a56d46\",\"#9e8972\",\"#a8afca\",\"#cd8ca7\",\"#00fd64\",\"#917900\",\"#ff62a1\",\"#f4ffd8\",\"#018cf0\",\"#13aca0\",\"#5b2d59\",\"#89859e\",\"#cfccba\",\"#d4afc4\",\"#dbdd6d\",\"#cffff4\",\"#006485\",\"#006962\",\"#a84167\",\"#2d97c4\",\"#a874ff\",\"#26ba5d\",\"#57b600\",\"#caffa7\",\"#a379aa\",\"#ffbc93\",\"#89e2c1\",\"#0fc8ff\",\"#d400c4\",\"#626d89\",\"#69858e\",\"#4b4d52\",\"#aa6067\",\"#79b5d4\",\"#2b5916\",\"#9a0024\",\"#bdd1f2\",\"#896e67\",\"#69a56b\",\"#855467\",\"#aecdba\",\"#87997e\",\"#cadb00\",\"#9a0390\",\"#ebbc1a\",\"#eb9cd1\",\"#70006e\",\"#b1a131\",\"#ca6b93\",\"#4146a3\",\"#e48c89\",\"#d44400\",\"#c68aca\",\"#b69597\",\"#d41f75\",\"#724bcc\",\"#674d00\",\"#672138\",\"#38564f\",\"#6ebaaa\",\"#853a31\",\"#a5d397\",\"#b8af8e\",\"#d8e4df\",\"#aa00df\",\"#cac1db\",\"#ffdf8c\",\"#e2524d\",\"#66696e\",\"#ff001c\",\"#522d72\",\"#4d906b\",\"#a86d11\",\"#ff9e26\",\"#5ea3af\",\"#c88556\",\"#915997\",\"#a3a1ff\",\"#fdbaba\",\"#242a87\",\"#dbe6a8\",\"#97f2a7\",\"#6793d6\",\"#ba5b3f\",\"#3a5d91\",\"#364f2f\",\"#267c95\",\"#89959a\",\"#cfb356\",\"#004664\",\"#5e5d2f\",\"#8e8e41\",\"#ac3f13\",\"#69953b\",\"#a13d85\",\"#bfb6ba\",\"#acc667\",\"#6469cf\",\"#91af00\",\"#2be2da\",\"#016e36\",\"#ff7952\",\"#42807e\",\"#4fe800\",\"#995428\",\"#5d0a00\",\"#a30057\",\"#0c8700\",\"#5982a7\",\"#ffebfb\",\"#4b6901\",\"#8775d4\",\"#e6c6ff\",\"#a5ffda\",\"#d86e77\",\"#df014b\",\"#69675b\",\"#776ba1\",\"#7e8067\",\"#594685\",\"#0000ca\",\"#7c002a\",\"#97ff72\",\"#b5e2e1\",\"#db52c8\",\"#777734\",\"#57bd8e\"],\"factors\":[\"I\",\"II\",\"III\",\"IV\"]}}}}},\"nonselection_glyph\":{\"type\":\"object\",\"name\":\"Circle\",\"id\":\"p2097\",\"attributes\":{\"x\":{\"type\":\"field\",\"field\":\"impact force (mN)\"},\"y\":{\"type\":\"field\",\"field\":\"__swarm\"},\"line_color\":{\"type\":\"field\",\"field\":\"cat\",\"transform\":{\"id\":\"p2089\"}},\"line_alpha\":{\"type\":\"value\",\"value\":0.1},\"fill_color\":{\"type\":\"field\",\"field\":\"cat\",\"transform\":{\"id\":\"p2088\"}},\"fill_alpha\":{\"type\":\"value\",\"value\":0.1},\"hatch_alpha\":{\"type\":\"value\",\"value\":0.1}}},\"muted_glyph\":{\"type\":\"object\",\"name\":\"Circle\",\"id\":\"p2098\",\"attributes\":{\"x\":{\"type\":\"field\",\"field\":\"impact force (mN)\"},\"y\":{\"type\":\"field\",\"field\":\"__swarm\"},\"line_color\":{\"type\":\"field\",\"field\":\"cat\",\"transform\":{\"id\":\"p2089\"}},\"line_alpha\":{\"type\":\"value\",\"value\":0.2},\"fill_color\":{\"type\":\"field\",\"field\":\"cat\",\"transform\":{\"id\":\"p2088\"}},\"fill_alpha\":{\"type\":\"value\",\"value\":0.2},\"hatch_alpha\":{\"type\":\"value\",\"value\":0.2}}}}}],\"toolbar\":{\"type\":\"object\",\"name\":\"Toolbar\",\"id\":\"p2050\",\"attributes\":{\"tools\":[{\"type\":\"object\",\"name\":\"PanTool\",\"id\":\"p2071\"},{\"type\":\"object\",\"name\":\"WheelZoomTool\",\"id\":\"p2072\"},{\"type\":\"object\",\"name\":\"BoxZoomTool\",\"id\":\"p2073\",\"attributes\":{\"overlay\":{\"type\":\"object\",\"name\":\"BoxAnnotation\",\"id\":\"p2074\",\"attributes\":{\"syncable\":false,\"level\":\"overlay\",\"visible\":false,\"left_units\":\"canvas\",\"right_units\":\"canvas\",\"bottom_units\":\"canvas\",\"top_units\":\"canvas\",\"line_color\":\"black\",\"line_alpha\":1.0,\"line_width\":2,\"line_dash\":[4,4],\"fill_color\":\"lightgrey\",\"fill_alpha\":0.5}}}},{\"type\":\"object\",\"name\":\"SaveTool\",\"id\":\"p2075\"},{\"type\":\"object\",\"name\":\"ResetTool\",\"id\":\"p2076\"},{\"type\":\"object\",\"name\":\"HelpTool\",\"id\":\"p2077\"},{\"type\":\"object\",\"name\":\"HoverTool\",\"id\":\"p2086\",\"attributes\":{\"name\":\"hover_glyphs\",\"renderers\":\"auto\",\"tooltips\":[[\"trial\",\"@{trial number}\"],[\"adh force\",\"@{adhesive force (mN)}\"]]}}]}},\"toolbar_location\":\"above\",\"left\":[{\"type\":\"object\",\"name\":\"CategoricalAxis\",\"id\":\"p2065\",\"attributes\":{\"ticker\":{\"type\":\"object\",\"name\":\"CategoricalTicker\",\"id\":\"p2066\"},\"formatter\":{\"type\":\"object\",\"name\":\"CategoricalTickFormatter\",\"id\":\"p2067\"},\"major_label_policy\":{\"type\":\"object\",\"name\":\"AllLabels\",\"id\":\"p2068\"}}}],\"below\":[{\"type\":\"object\",\"name\":\"LinearAxis\",\"id\":\"p2058\",\"attributes\":{\"ticker\":{\"type\":\"object\",\"name\":\"BasicTicker\",\"id\":\"p2059\",\"attributes\":{\"mantissas\":[1,2,5]}},\"formatter\":{\"type\":\"object\",\"name\":\"BasicTickFormatter\",\"id\":\"p2060\"},\"axis_label\":\"impact force (mN)\",\"major_label_policy\":{\"type\":\"object\",\"name\":\"AllLabels\",\"id\":\"p2061\"}}}],\"center\":[{\"type\":\"object\",\"name\":\"Grid\",\"id\":\"p2064\",\"attributes\":{\"axis\":{\"id\":\"p2058\"}}},{\"type\":\"object\",\"name\":\"Grid\",\"id\":\"p2070\",\"attributes\":{\"dimension\":1,\"axis\":{\"id\":\"p2065\"},\"grid_line_color\":null}}],\"frame_width\":200,\"frame_height\":200}}],\"callbacks\":{\"type\":\"map\"}}};\n",
       "  const render_items = [{\"docid\":\"9be7d87c-c835-440f-baff-54dd8f51d36a\",\"roots\":{\"p2042\":\"d6590b37-fc63-4190-ae0b-fd1c83d0f54c\"},\"root_ids\":[\"p2042\"]}];\n",
       "  root.Bokeh.embed.embed_items_notebook(docs_json, render_items);\n",
       "  }\n",
       "  if (root.Bokeh !== undefined) {\n",
       "    embed_document(root);\n",
       "  } else {\n",
       "    let attempts = 0;\n",
       "    const timer = setInterval(function(root) {\n",
       "      if (root.Bokeh !== undefined) {\n",
       "        clearInterval(timer);\n",
       "        embed_document(root);\n",
       "      } else {\n",
       "        attempts++;\n",
       "        if (attempts > 100) {\n",
       "          clearInterval(timer);\n",
       "          console.log(\"Bokeh: ERROR: Unable to run BokehJS code because BokehJS library is missing\");\n",
       "        }\n",
       "      }\n",
       "    }, 10, root)\n",
       "  }\n",
       "})(window);"
      ],
      "application/vnd.bokehjs_exec.v0+json": ""
     },
     "metadata": {
      "application/vnd.bokehjs_exec.v0+json": {
       "id": "p2042"
      }
     },
     "output_type": "display_data"
    }
   ],
   "source": [
    "p = iqplot.strip(\n",
    "    data=df,\n",
    "    q=\"impact force (mN)\",\n",
    "    cats=\"ID\",\n",
    "    spread=\"swarm\",\n",
    "    tooltips=[\n",
    "        ('trial', '@{trial number}'),\n",
    "        ('adh force', '@{adhesive force (mN)}')\n",
    "    ],\n",
    "    frame_width=200,\n",
    "    frame_height=200,\n",
    ")\n",
    "\n",
    "bokeh.io.show(p)"
   ]
  },
  {
   "cell_type": "markdown",
   "metadata": {},
   "source": [
    "With any of the plots, you can have more than one categorical column, and the categorical axes are nicely spaced and formatted. Here, we'll categorize by frog ID and by trial number."
   ]
  },
  {
   "cell_type": "code",
   "execution_count": 8,
   "metadata": {},
   "outputs": [
    {
     "data": {
      "text/html": [
       "\n",
       "  <div id=\"b6beb807-5257-4dff-9611-0ae9b97f2eda\" data-root-id=\"p2277\" style=\"display: contents;\"></div>\n"
      ]
     },
     "metadata": {},
     "output_type": "display_data"
    },
    {
     "data": {
      "application/javascript": [
       "(function(root) {\n",
       "  function embed_document(root) {\n",
       "  const docs_json = {\"10d5cec5-298c-4e60-9d18-310d00ef4c8c\":{\"version\":\"3.1.1\",\"title\":\"Bokeh Application\",\"defs\":[],\"roots\":[{\"type\":\"object\",\"name\":\"Figure\",\"id\":\"p2277\",\"attributes\":{\"width\":550,\"x_range\":{\"type\":\"object\",\"name\":\"DataRange1d\",\"id\":\"p2279\"},\"y_range\":{\"type\":\"object\",\"name\":\"FactorRange\",\"id\":\"p2276\",\"attributes\":{\"factors\":[[\"IV\",\"4\"],[\"IV\",\"3\"],[\"IV\",\"2\"],[\"IV\",\"1\"],[\"III\",\"4\"],[\"III\",\"3\"],[\"III\",\"2\"],[\"III\",\"1\"],[\"II\",\"4\"],[\"II\",\"3\"],[\"II\",\"2\"],[\"II\",\"1\"],[\"I\",\"5\"],[\"I\",\"4\"],[\"I\",\"3\"],[\"I\",\"2\"],[\"I\",\"1\"]]}},\"x_scale\":{\"type\":\"object\",\"name\":\"LinearScale\",\"id\":\"p2289\"},\"y_scale\":{\"type\":\"object\",\"name\":\"CategoricalScale\",\"id\":\"p2291\"},\"title\":{\"type\":\"object\",\"name\":\"Title\",\"id\":\"p2281\"},\"renderers\":[{\"type\":\"object\",\"name\":\"GlyphRenderer\",\"id\":\"p2330\",\"attributes\":{\"name\":\"hover_glyphs\",\"data_source\":{\"type\":\"object\",\"name\":\"ColumnDataSource\",\"id\":\"p2321\",\"attributes\":{\"selected\":{\"type\":\"object\",\"name\":\"Selection\",\"id\":\"p2322\",\"attributes\":{\"indices\":[],\"line_indices\":[]}},\"selection_policy\":{\"type\":\"object\",\"name\":\"UnionRenderers\",\"id\":\"p2323\"},\"data\":{\"type\":\"map\",\"entries\":[[\"index\",{\"type\":\"ndarray\",\"array\":{\"type\":\"bytes\",\"data\":\"AgAAAAYAAAAKAAAADwAAABQAAAAYAAAAHAAAACAAAAAiAAAAJAAAACcAAAAoAAAAKwAAAC4AAAAwAAAANAAAADgAAAA/AAAAQgAAAEMAAABHAAAASAAAAEwAAAA=\"},\"shape\":[23],\"dtype\":\"int32\",\"order\":\"little\"}],[\"trial number\",{\"type\":\"ndarray\",\"array\":[\"1\",\"1\",\"1\",\"1\",\"1\",\"1\",\"1\",\"1\",\"1\",\"1\",\"1\",\"1\",\"1\",\"1\",\"1\",\"1\",\"1\",\"1\",\"1\",\"1\",\"1\",\"1\",\"1\"],\"shape\":[23],\"dtype\":\"object\",\"order\":\"little\"}],[\"impact force (mN)\",{\"type\":\"ndarray\",\"array\":{\"type\":\"bytes\",\"data\":\"0QYAACwCAABjBwAAAgUAAEwGAAAdAgAArQUAAO8CAACeBAAAswEAANoCAABmAgAACAMAABoCAAAmAwAAbQIAAJEBAADFAQAA9gEAABEBAADGAAAAVQIAAF0CAAA=\"},\"shape\":[23],\"dtype\":\"int32\",\"order\":\"little\"}],[\"ID\",{\"type\":\"ndarray\",\"array\":[\"I\",\"I\",\"I\",\"I\",\"II\",\"II\",\"II\",\"II\",\"II\",\"II\",\"II\",\"III\",\"III\",\"III\",\"III\",\"III\",\"III\",\"IV\",\"IV\",\"IV\",\"IV\",\"IV\",\"IV\"],\"shape\":[23],\"dtype\":\"object\",\"order\":\"little\"}],[\"cat\",{\"type\":\"ndarray\",\"array\":[[\"I\",\"1\"],[\"I\",\"1\"],[\"I\",\"1\"],[\"I\",\"1\"],[\"II\",\"1\"],[\"II\",\"1\"],[\"II\",\"1\"],[\"II\",\"1\"],[\"II\",\"1\"],[\"II\",\"1\"],[\"II\",\"1\"],[\"III\",\"1\"],[\"III\",\"1\"],[\"III\",\"1\"],[\"III\",\"1\"],[\"III\",\"1\"],[\"III\",\"1\"],[\"IV\",\"1\"],[\"IV\",\"1\"],[\"IV\",\"1\"],[\"IV\",\"1\"],[\"IV\",\"1\"],[\"IV\",\"1\"]],\"shape\":[23],\"dtype\":\"object\",\"order\":\"little\"}],[\"__label\",{\"type\":\"ndarray\",\"array\":[\"1\",\"1\",\"1\",\"1\",\"1\",\"1\",\"1\",\"1\",\"1\",\"1\",\"1\",\"1\",\"1\",\"1\",\"1\",\"1\",\"1\",\"1\",\"1\",\"1\",\"1\",\"1\",\"1\"],\"shape\":[23],\"dtype\":\"object\",\"order\":\"little\"}]]}}},\"view\":{\"type\":\"object\",\"name\":\"CDSView\",\"id\":\"p2331\",\"attributes\":{\"filter\":{\"type\":\"object\",\"name\":\"AllIndices\",\"id\":\"p2332\"}}},\"glyph\":{\"type\":\"object\",\"name\":\"Circle\",\"id\":\"p2327\",\"attributes\":{\"x\":{\"type\":\"field\",\"field\":\"impact force (mN)\"},\"y\":{\"type\":\"field\",\"field\":\"cat\"},\"line_color\":{\"type\":\"value\",\"value\":\"#1f77b3\"},\"fill_color\":{\"type\":\"value\",\"value\":\"#1f77b3\"},\"hatch_color\":{\"type\":\"value\",\"value\":\"#1f77b3\"}}},\"nonselection_glyph\":{\"type\":\"object\",\"name\":\"Circle\",\"id\":\"p2328\",\"attributes\":{\"x\":{\"type\":\"field\",\"field\":\"impact force (mN)\"},\"y\":{\"type\":\"field\",\"field\":\"cat\"},\"line_color\":{\"type\":\"value\",\"value\":\"#1f77b3\"},\"line_alpha\":{\"type\":\"value\",\"value\":0.1},\"fill_color\":{\"type\":\"value\",\"value\":\"#1f77b3\"},\"fill_alpha\":{\"type\":\"value\",\"value\":0.1},\"hatch_color\":{\"type\":\"value\",\"value\":\"#1f77b3\"},\"hatch_alpha\":{\"type\":\"value\",\"value\":0.1}}},\"muted_glyph\":{\"type\":\"object\",\"name\":\"Circle\",\"id\":\"p2329\",\"attributes\":{\"x\":{\"type\":\"field\",\"field\":\"impact force (mN)\"},\"y\":{\"type\":\"field\",\"field\":\"cat\"},\"line_color\":{\"type\":\"value\",\"value\":\"#1f77b3\"},\"line_alpha\":{\"type\":\"value\",\"value\":0.2},\"fill_color\":{\"type\":\"value\",\"value\":\"#1f77b3\"},\"fill_alpha\":{\"type\":\"value\",\"value\":0.2},\"hatch_color\":{\"type\":\"value\",\"value\":\"#1f77b3\"},\"hatch_alpha\":{\"type\":\"value\",\"value\":0.2}}}}},{\"type\":\"object\",\"name\":\"GlyphRenderer\",\"id\":\"p2342\",\"attributes\":{\"name\":\"hover_glyphs\",\"data_source\":{\"type\":\"object\",\"name\":\"ColumnDataSource\",\"id\":\"p2333\",\"attributes\":{\"selected\":{\"type\":\"object\",\"name\":\"Selection\",\"id\":\"p2334\",\"attributes\":{\"indices\":[],\"line_indices\":[]}},\"selection_policy\":{\"type\":\"object\",\"name\":\"UnionRenderers\",\"id\":\"p2335\"},\"data\":{\"type\":\"map\",\"entries\":[[\"index\",{\"type\":\"ndarray\",\"array\":{\"type\":\"bytes\",\"data\":\"AwAAAAcAAAALAAAAEAAAABUAAAAZAAAAHQAAACEAAAAjAAAAJQAAACkAAAAsAAAALwAAADEAAAA1AAAAOQAAADwAAABAAAAARAAAAEkAAABNAAAA\"},\"shape\":[21],\"dtype\":\"int32\",\"order\":\"little\"}],[\"trial number\",{\"type\":\"ndarray\",\"array\":[\"2\",\"2\",\"2\",\"2\",\"2\",\"2\",\"2\",\"2\",\"2\",\"2\",\"2\",\"2\",\"2\",\"2\",\"2\",\"2\",\"2\",\"2\",\"2\",\"2\",\"2\"],\"shape\":[21],\"dtype\":\"object\",\"order\":\"little\"}],[\"impact force (mN)\",{\"type\":\"ndarray\",\"array\":{\"type\":\"bytes\",\"data\":\"FAYAAIgHAAAJBgAABwMAAF0CAAADBgAAKQEAAPUAAAADAgAAfwEAAJ4BAABjAgAAQwIAAMsBAAAgAgAAZgIAAKwAAABjAQAA0AIAAAQCAADHAgAA\"},\"shape\":[21],\"dtype\":\"int32\",\"order\":\"little\"}],[\"ID\",{\"type\":\"ndarray\",\"array\":[\"I\",\"I\",\"I\",\"I\",\"II\",\"II\",\"II\",\"II\",\"II\",\"II\",\"III\",\"III\",\"III\",\"III\",\"III\",\"III\",\"IV\",\"IV\",\"IV\",\"IV\",\"IV\"],\"shape\":[21],\"dtype\":\"object\",\"order\":\"little\"}],[\"cat\",{\"type\":\"ndarray\",\"array\":[[\"I\",\"2\"],[\"I\",\"2\"],[\"I\",\"2\"],[\"I\",\"2\"],[\"II\",\"2\"],[\"II\",\"2\"],[\"II\",\"2\"],[\"II\",\"2\"],[\"II\",\"2\"],[\"II\",\"2\"],[\"III\",\"2\"],[\"III\",\"2\"],[\"III\",\"2\"],[\"III\",\"2\"],[\"III\",\"2\"],[\"III\",\"2\"],[\"IV\",\"2\"],[\"IV\",\"2\"],[\"IV\",\"2\"],[\"IV\",\"2\"],[\"IV\",\"2\"]],\"shape\":[21],\"dtype\":\"object\",\"order\":\"little\"}],[\"__label\",{\"type\":\"ndarray\",\"array\":[\"2\",\"2\",\"2\",\"2\",\"2\",\"2\",\"2\",\"2\",\"2\",\"2\",\"2\",\"2\",\"2\",\"2\",\"2\",\"2\",\"2\",\"2\",\"2\",\"2\",\"2\"],\"shape\":[21],\"dtype\":\"object\",\"order\":\"little\"}]]}}},\"view\":{\"type\":\"object\",\"name\":\"CDSView\",\"id\":\"p2343\",\"attributes\":{\"filter\":{\"type\":\"object\",\"name\":\"AllIndices\",\"id\":\"p2344\"}}},\"glyph\":{\"type\":\"object\",\"name\":\"Circle\",\"id\":\"p2339\",\"attributes\":{\"x\":{\"type\":\"field\",\"field\":\"impact force (mN)\"},\"y\":{\"type\":\"field\",\"field\":\"cat\"},\"line_color\":{\"type\":\"value\",\"value\":\"#ff7e0e\"},\"fill_color\":{\"type\":\"value\",\"value\":\"#ff7e0e\"},\"hatch_color\":{\"type\":\"value\",\"value\":\"#ff7e0e\"}}},\"nonselection_glyph\":{\"type\":\"object\",\"name\":\"Circle\",\"id\":\"p2340\",\"attributes\":{\"x\":{\"type\":\"field\",\"field\":\"impact force (mN)\"},\"y\":{\"type\":\"field\",\"field\":\"cat\"},\"line_color\":{\"type\":\"value\",\"value\":\"#ff7e0e\"},\"line_alpha\":{\"type\":\"value\",\"value\":0.1},\"fill_color\":{\"type\":\"value\",\"value\":\"#ff7e0e\"},\"fill_alpha\":{\"type\":\"value\",\"value\":0.1},\"hatch_color\":{\"type\":\"value\",\"value\":\"#ff7e0e\"},\"hatch_alpha\":{\"type\":\"value\",\"value\":0.1}}},\"muted_glyph\":{\"type\":\"object\",\"name\":\"Circle\",\"id\":\"p2341\",\"attributes\":{\"x\":{\"type\":\"field\",\"field\":\"impact force (mN)\"},\"y\":{\"type\":\"field\",\"field\":\"cat\"},\"line_color\":{\"type\":\"value\",\"value\":\"#ff7e0e\"},\"line_alpha\":{\"type\":\"value\",\"value\":0.2},\"fill_color\":{\"type\":\"value\",\"value\":\"#ff7e0e\"},\"fill_alpha\":{\"type\":\"value\",\"value\":0.2},\"hatch_color\":{\"type\":\"value\",\"value\":\"#ff7e0e\"},\"hatch_alpha\":{\"type\":\"value\",\"value\":0.2}}}}},{\"type\":\"object\",\"name\":\"GlyphRenderer\",\"id\":\"p2354\",\"attributes\":{\"name\":\"hover_glyphs\",\"data_source\":{\"type\":\"object\",\"name\":\"ColumnDataSource\",\"id\":\"p2345\",\"attributes\":{\"selected\":{\"type\":\"object\",\"name\":\"Selection\",\"id\":\"p2346\",\"attributes\":{\"indices\":[],\"line_indices\":[]}},\"selection_policy\":{\"type\":\"object\",\"name\":\"UnionRenderers\",\"id\":\"p2347\"},\"data\":{\"type\":\"map\",\"entries\":[[\"index\",{\"type\":\"ndarray\",\"array\":{\"type\":\"bytes\",\"data\":\"AAAAAAQAAAAIAAAADAAAABEAAAAWAAAAGgAAAB4AAAAmAAAAKgAAAC0AAAAyAAAANgAAADoAAAA9AAAAQQAAAEUAAABKAAAATgAAAA==\"},\"shape\":[19],\"dtype\":\"int32\",\"order\":\"little\"}],[\"trial number\",{\"type\":\"ndarray\",\"array\":[\"3\",\"3\",\"3\",\"3\",\"3\",\"3\",\"3\",\"3\",\"3\",\"3\",\"3\",\"3\",\"3\",\"3\",\"3\",\"3\",\"3\",\"3\",\"3\"],\"shape\":[19],\"dtype\":\"object\",\"order\":\"little\"}],[\"impact force (mN)\",{\"type\":\"ndarray\",\"array\":{\"type\":\"bytes\",\"data\":\"tQQAAO0BAABRCgAAGwUAAPAHAABHAQAAEQIAAL8CAADJAQAARAEAACACAADKAQAAFwIAAJkCAACOAAAAFgAAAEYCAAAvAwAAZgIAAA==\"},\"shape\":[19],\"dtype\":\"int32\",\"order\":\"little\"}],[\"ID\",{\"type\":\"ndarray\",\"array\":[\"I\",\"I\",\"I\",\"I\",\"I\",\"II\",\"II\",\"II\",\"II\",\"III\",\"III\",\"III\",\"III\",\"III\",\"IV\",\"IV\",\"IV\",\"IV\",\"IV\"],\"shape\":[19],\"dtype\":\"object\",\"order\":\"little\"}],[\"cat\",{\"type\":\"ndarray\",\"array\":[[\"I\",\"3\"],[\"I\",\"3\"],[\"I\",\"3\"],[\"I\",\"3\"],[\"I\",\"3\"],[\"II\",\"3\"],[\"II\",\"3\"],[\"II\",\"3\"],[\"II\",\"3\"],[\"III\",\"3\"],[\"III\",\"3\"],[\"III\",\"3\"],[\"III\",\"3\"],[\"III\",\"3\"],[\"IV\",\"3\"],[\"IV\",\"3\"],[\"IV\",\"3\"],[\"IV\",\"3\"],[\"IV\",\"3\"]],\"shape\":[19],\"dtype\":\"object\",\"order\":\"little\"}],[\"__label\",{\"type\":\"ndarray\",\"array\":[\"3\",\"3\",\"3\",\"3\",\"3\",\"3\",\"3\",\"3\",\"3\",\"3\",\"3\",\"3\",\"3\",\"3\",\"3\",\"3\",\"3\",\"3\",\"3\"],\"shape\":[19],\"dtype\":\"object\",\"order\":\"little\"}]]}}},\"view\":{\"type\":\"object\",\"name\":\"CDSView\",\"id\":\"p2355\",\"attributes\":{\"filter\":{\"type\":\"object\",\"name\":\"AllIndices\",\"id\":\"p2356\"}}},\"glyph\":{\"type\":\"object\",\"name\":\"Circle\",\"id\":\"p2351\",\"attributes\":{\"x\":{\"type\":\"field\",\"field\":\"impact force (mN)\"},\"y\":{\"type\":\"field\",\"field\":\"cat\"},\"line_color\":{\"type\":\"value\",\"value\":\"#2ba02b\"},\"fill_color\":{\"type\":\"value\",\"value\":\"#2ba02b\"},\"hatch_color\":{\"type\":\"value\",\"value\":\"#2ba02b\"}}},\"nonselection_glyph\":{\"type\":\"object\",\"name\":\"Circle\",\"id\":\"p2352\",\"attributes\":{\"x\":{\"type\":\"field\",\"field\":\"impact force (mN)\"},\"y\":{\"type\":\"field\",\"field\":\"cat\"},\"line_color\":{\"type\":\"value\",\"value\":\"#2ba02b\"},\"line_alpha\":{\"type\":\"value\",\"value\":0.1},\"fill_color\":{\"type\":\"value\",\"value\":\"#2ba02b\"},\"fill_alpha\":{\"type\":\"value\",\"value\":0.1},\"hatch_color\":{\"type\":\"value\",\"value\":\"#2ba02b\"},\"hatch_alpha\":{\"type\":\"value\",\"value\":0.1}}},\"muted_glyph\":{\"type\":\"object\",\"name\":\"Circle\",\"id\":\"p2353\",\"attributes\":{\"x\":{\"type\":\"field\",\"field\":\"impact force (mN)\"},\"y\":{\"type\":\"field\",\"field\":\"cat\"},\"line_color\":{\"type\":\"value\",\"value\":\"#2ba02b\"},\"line_alpha\":{\"type\":\"value\",\"value\":0.2},\"fill_color\":{\"type\":\"value\",\"value\":\"#2ba02b\"},\"fill_alpha\":{\"type\":\"value\",\"value\":0.2},\"hatch_color\":{\"type\":\"value\",\"value\":\"#2ba02b\"},\"hatch_alpha\":{\"type\":\"value\",\"value\":0.2}}}}},{\"type\":\"object\",\"name\":\"GlyphRenderer\",\"id\":\"p2366\",\"attributes\":{\"name\":\"hover_glyphs\",\"data_source\":{\"type\":\"object\",\"name\":\"ColumnDataSource\",\"id\":\"p2357\",\"attributes\":{\"selected\":{\"type\":\"object\",\"name\":\"Selection\",\"id\":\"p2358\",\"attributes\":{\"indices\":[],\"line_indices\":[]}},\"selection_policy\":{\"type\":\"object\",\"name\":\"UnionRenderers\",\"id\":\"p2359\"},\"data\":{\"type\":\"map\",\"entries\":[[\"index\",{\"type\":\"ndarray\",\"array\":{\"type\":\"bytes\",\"data\":\"AQAAAAUAAAAJAAAADQAAABIAAAAXAAAAGwAAAB8AAAAzAAAANwAAADsAAAA+AAAARgAAAEsAAABPAAAA\"},\"shape\":[15],\"dtype\":\"int32\",\"order\":\"little\"}],[\"trial number\",{\"type\":\"ndarray\",\"array\":[\"4\",\"4\",\"4\",\"4\",\"4\",\"4\",\"4\",\"4\",\"4\",\"4\",\"4\",\"4\",\"4\",\"4\",\"4\"],\"shape\":[15],\"dtype\":\"object\",\"order\":\"little\"}],[\"impact force (mN)\",{\"type\":\"ndarray\",\"array\":{\"type\":\"bytes\",\"data\":\"3wkAAOQIAABpBwAAnAYAANgEAACyAwAAdAIAAA0BAAByAgAAgQEAAOgBAAAlAAAAxgAAAJIBAADUAQAA\"},\"shape\":[15],\"dtype\":\"int32\",\"order\":\"little\"}],[\"ID\",{\"type\":\"ndarray\",\"array\":[\"I\",\"I\",\"I\",\"I\",\"I\",\"II\",\"II\",\"II\",\"III\",\"III\",\"III\",\"IV\",\"IV\",\"IV\",\"IV\"],\"shape\":[15],\"dtype\":\"object\",\"order\":\"little\"}],[\"cat\",{\"type\":\"ndarray\",\"array\":[[\"I\",\"4\"],[\"I\",\"4\"],[\"I\",\"4\"],[\"I\",\"4\"],[\"I\",\"4\"],[\"II\",\"4\"],[\"II\",\"4\"],[\"II\",\"4\"],[\"III\",\"4\"],[\"III\",\"4\"],[\"III\",\"4\"],[\"IV\",\"4\"],[\"IV\",\"4\"],[\"IV\",\"4\"],[\"IV\",\"4\"]],\"shape\":[15],\"dtype\":\"object\",\"order\":\"little\"}],[\"__label\",{\"type\":\"ndarray\",\"array\":[\"4\",\"4\",\"4\",\"4\",\"4\",\"4\",\"4\",\"4\",\"4\",\"4\",\"4\",\"4\",\"4\",\"4\",\"4\"],\"shape\":[15],\"dtype\":\"object\",\"order\":\"little\"}]]}}},\"view\":{\"type\":\"object\",\"name\":\"CDSView\",\"id\":\"p2367\",\"attributes\":{\"filter\":{\"type\":\"object\",\"name\":\"AllIndices\",\"id\":\"p2368\"}}},\"glyph\":{\"type\":\"object\",\"name\":\"Circle\",\"id\":\"p2363\",\"attributes\":{\"x\":{\"type\":\"field\",\"field\":\"impact force (mN)\"},\"y\":{\"type\":\"field\",\"field\":\"cat\"},\"line_color\":{\"type\":\"value\",\"value\":\"#d62628\"},\"fill_color\":{\"type\":\"value\",\"value\":\"#d62628\"},\"hatch_color\":{\"type\":\"value\",\"value\":\"#d62628\"}}},\"nonselection_glyph\":{\"type\":\"object\",\"name\":\"Circle\",\"id\":\"p2364\",\"attributes\":{\"x\":{\"type\":\"field\",\"field\":\"impact force (mN)\"},\"y\":{\"type\":\"field\",\"field\":\"cat\"},\"line_color\":{\"type\":\"value\",\"value\":\"#d62628\"},\"line_alpha\":{\"type\":\"value\",\"value\":0.1},\"fill_color\":{\"type\":\"value\",\"value\":\"#d62628\"},\"fill_alpha\":{\"type\":\"value\",\"value\":0.1},\"hatch_color\":{\"type\":\"value\",\"value\":\"#d62628\"},\"hatch_alpha\":{\"type\":\"value\",\"value\":0.1}}},\"muted_glyph\":{\"type\":\"object\",\"name\":\"Circle\",\"id\":\"p2365\",\"attributes\":{\"x\":{\"type\":\"field\",\"field\":\"impact force (mN)\"},\"y\":{\"type\":\"field\",\"field\":\"cat\"},\"line_color\":{\"type\":\"value\",\"value\":\"#d62628\"},\"line_alpha\":{\"type\":\"value\",\"value\":0.2},\"fill_color\":{\"type\":\"value\",\"value\":\"#d62628\"},\"fill_alpha\":{\"type\":\"value\",\"value\":0.2},\"hatch_color\":{\"type\":\"value\",\"value\":\"#d62628\"},\"hatch_alpha\":{\"type\":\"value\",\"value\":0.2}}}}},{\"type\":\"object\",\"name\":\"GlyphRenderer\",\"id\":\"p2378\",\"attributes\":{\"name\":\"hover_glyphs\",\"data_source\":{\"type\":\"object\",\"name\":\"ColumnDataSource\",\"id\":\"p2369\",\"attributes\":{\"selected\":{\"type\":\"object\",\"name\":\"Selection\",\"id\":\"p2370\",\"attributes\":{\"indices\":[],\"line_indices\":[]}},\"selection_policy\":{\"type\":\"object\",\"name\":\"UnionRenderers\",\"id\":\"p2371\"},\"data\":{\"type\":\"map\",\"entries\":[[\"index\",{\"type\":\"ndarray\",\"array\":{\"type\":\"bytes\",\"data\":\"DgAAABMAAAA=\"},\"shape\":[2],\"dtype\":\"int32\",\"order\":\"little\"}],[\"trial number\",{\"type\":\"ndarray\",\"array\":[\"5\",\"5\"],\"shape\":[2],\"dtype\":\"object\",\"order\":\"little\"}],[\"impact force (mN)\",{\"type\":\"ndarray\",\"array\":{\"type\":\"bytes\",\"data\":\"BwYAANkBAAA=\"},\"shape\":[2],\"dtype\":\"int32\",\"order\":\"little\"}],[\"ID\",{\"type\":\"ndarray\",\"array\":[\"I\",\"I\"],\"shape\":[2],\"dtype\":\"object\",\"order\":\"little\"}],[\"cat\",{\"type\":\"ndarray\",\"array\":[[\"I\",\"5\"],[\"I\",\"5\"]],\"shape\":[2],\"dtype\":\"object\",\"order\":\"little\"}],[\"__label\",{\"type\":\"ndarray\",\"array\":[\"5\",\"5\"],\"shape\":[2],\"dtype\":\"object\",\"order\":\"little\"}]]}}},\"view\":{\"type\":\"object\",\"name\":\"CDSView\",\"id\":\"p2379\",\"attributes\":{\"filter\":{\"type\":\"object\",\"name\":\"AllIndices\",\"id\":\"p2380\"}}},\"glyph\":{\"type\":\"object\",\"name\":\"Circle\",\"id\":\"p2375\",\"attributes\":{\"x\":{\"type\":\"field\",\"field\":\"impact force (mN)\"},\"y\":{\"type\":\"field\",\"field\":\"cat\"},\"line_color\":{\"type\":\"value\",\"value\":\"#9367bc\"},\"fill_color\":{\"type\":\"value\",\"value\":\"#9367bc\"},\"hatch_color\":{\"type\":\"value\",\"value\":\"#9367bc\"}}},\"nonselection_glyph\":{\"type\":\"object\",\"name\":\"Circle\",\"id\":\"p2376\",\"attributes\":{\"x\":{\"type\":\"field\",\"field\":\"impact force (mN)\"},\"y\":{\"type\":\"field\",\"field\":\"cat\"},\"line_color\":{\"type\":\"value\",\"value\":\"#9367bc\"},\"line_alpha\":{\"type\":\"value\",\"value\":0.1},\"fill_color\":{\"type\":\"value\",\"value\":\"#9367bc\"},\"fill_alpha\":{\"type\":\"value\",\"value\":0.1},\"hatch_color\":{\"type\":\"value\",\"value\":\"#9367bc\"},\"hatch_alpha\":{\"type\":\"value\",\"value\":0.1}}},\"muted_glyph\":{\"type\":\"object\",\"name\":\"Circle\",\"id\":\"p2377\",\"attributes\":{\"x\":{\"type\":\"field\",\"field\":\"impact force (mN)\"},\"y\":{\"type\":\"field\",\"field\":\"cat\"},\"line_color\":{\"type\":\"value\",\"value\":\"#9367bc\"},\"line_alpha\":{\"type\":\"value\",\"value\":0.2},\"fill_color\":{\"type\":\"value\",\"value\":\"#9367bc\"},\"fill_alpha\":{\"type\":\"value\",\"value\":0.2},\"hatch_color\":{\"type\":\"value\",\"value\":\"#9367bc\"},\"hatch_alpha\":{\"type\":\"value\",\"value\":0.2}}}}}],\"toolbar\":{\"type\":\"object\",\"name\":\"Toolbar\",\"id\":\"p2285\",\"attributes\":{\"tools\":[{\"type\":\"object\",\"name\":\"PanTool\",\"id\":\"p2306\"},{\"type\":\"object\",\"name\":\"WheelZoomTool\",\"id\":\"p2307\"},{\"type\":\"object\",\"name\":\"BoxZoomTool\",\"id\":\"p2308\",\"attributes\":{\"overlay\":{\"type\":\"object\",\"name\":\"BoxAnnotation\",\"id\":\"p2309\",\"attributes\":{\"syncable\":false,\"level\":\"overlay\",\"visible\":false,\"left_units\":\"canvas\",\"right_units\":\"canvas\",\"bottom_units\":\"canvas\",\"top_units\":\"canvas\",\"line_color\":\"black\",\"line_alpha\":1.0,\"line_width\":2,\"line_dash\":[4,4],\"fill_color\":\"lightgrey\",\"fill_alpha\":0.5}}}},{\"type\":\"object\",\"name\":\"SaveTool\",\"id\":\"p2310\"},{\"type\":\"object\",\"name\":\"ResetTool\",\"id\":\"p2311\"},{\"type\":\"object\",\"name\":\"HelpTool\",\"id\":\"p2312\"}]}},\"toolbar_location\":\"above\",\"left\":[{\"type\":\"object\",\"name\":\"CategoricalAxis\",\"id\":\"p2300\",\"attributes\":{\"ticker\":{\"type\":\"object\",\"name\":\"CategoricalTicker\",\"id\":\"p2301\"},\"formatter\":{\"type\":\"object\",\"name\":\"CategoricalTickFormatter\",\"id\":\"p2302\"},\"major_label_policy\":{\"type\":\"object\",\"name\":\"AllLabels\",\"id\":\"p2303\"}}}],\"right\":[{\"type\":\"object\",\"name\":\"Legend\",\"id\":\"p2381\",\"attributes\":{\"location\":\"center\",\"title\":\"trial number\",\"click_policy\":\"hide\",\"items\":[{\"type\":\"object\",\"name\":\"LegendItem\",\"id\":\"p2382\",\"attributes\":{\"label\":{\"type\":\"value\",\"value\":\"1\"},\"renderers\":[{\"id\":\"p2330\"}]}},{\"type\":\"object\",\"name\":\"LegendItem\",\"id\":\"p2383\",\"attributes\":{\"label\":{\"type\":\"value\",\"value\":\"2\"},\"renderers\":[{\"id\":\"p2342\"}]}},{\"type\":\"object\",\"name\":\"LegendItem\",\"id\":\"p2384\",\"attributes\":{\"label\":{\"type\":\"value\",\"value\":\"3\"},\"renderers\":[{\"id\":\"p2354\"}]}},{\"type\":\"object\",\"name\":\"LegendItem\",\"id\":\"p2385\",\"attributes\":{\"label\":{\"type\":\"value\",\"value\":\"4\"},\"renderers\":[{\"id\":\"p2366\"}]}},{\"type\":\"object\",\"name\":\"LegendItem\",\"id\":\"p2386\",\"attributes\":{\"label\":{\"type\":\"value\",\"value\":\"5\"},\"renderers\":[{\"id\":\"p2378\"}]}}]}}],\"below\":[{\"type\":\"object\",\"name\":\"LinearAxis\",\"id\":\"p2293\",\"attributes\":{\"ticker\":{\"type\":\"object\",\"name\":\"BasicTicker\",\"id\":\"p2294\",\"attributes\":{\"mantissas\":[1,2,5]}},\"formatter\":{\"type\":\"object\",\"name\":\"BasicTickFormatter\",\"id\":\"p2295\"},\"axis_label\":\"impact force (mN)\",\"major_label_policy\":{\"type\":\"object\",\"name\":\"AllLabels\",\"id\":\"p2296\"}}}],\"center\":[{\"type\":\"object\",\"name\":\"Grid\",\"id\":\"p2299\",\"attributes\":{\"axis\":{\"id\":\"p2293\"}}},{\"type\":\"object\",\"name\":\"Grid\",\"id\":\"p2305\",\"attributes\":{\"dimension\":1,\"axis\":{\"id\":\"p2300\"},\"grid_line_color\":null}}],\"frame_height\":275}}],\"callbacks\":{\"type\":\"map\"}}};\n",
       "  const render_items = [{\"docid\":\"10d5cec5-298c-4e60-9d18-310d00ef4c8c\",\"roots\":{\"p2277\":\"b6beb807-5257-4dff-9611-0ae9b97f2eda\"},\"root_ids\":[\"p2277\"]}];\n",
       "  root.Bokeh.embed.embed_items_notebook(docs_json, render_items);\n",
       "  }\n",
       "  if (root.Bokeh !== undefined) {\n",
       "    embed_document(root);\n",
       "  } else {\n",
       "    let attempts = 0;\n",
       "    const timer = setInterval(function(root) {\n",
       "      if (root.Bokeh !== undefined) {\n",
       "        clearInterval(timer);\n",
       "        embed_document(root);\n",
       "      } else {\n",
       "        attempts++;\n",
       "        if (attempts > 100) {\n",
       "          clearInterval(timer);\n",
       "          console.log(\"Bokeh: ERROR: Unable to run BokehJS code because BokehJS library is missing\");\n",
       "        }\n",
       "      }\n",
       "    }, 10, root)\n",
       "  }\n",
       "})(window);"
      ],
      "application/vnd.bokehjs_exec.v0+json": ""
     },
     "metadata": {
      "application/vnd.bokehjs_exec.v0+json": {
       "id": "p2277"
      }
     },
     "output_type": "display_data"
    }
   ],
   "source": [
    "p = iqplot.strip(\n",
    "    data=df,\n",
    "    q=\"impact force (mN)\",\n",
    "    cats=['ID', 'trial number'],\n",
    "    color_column='trial number',\n",
    "    width=550,\n",
    ")\n",
    "\n",
    "bokeh.io.show(p)"
   ]
  },
  {
   "cell_type": "markdown",
   "metadata": {},
   "source": [
    "### Customizing histograms\n",
    "\n",
    "We could plot normalized histograms using the density kwarg. To generate data to plot, we will draw random numbers, which we will learn how to do in a future lesson."
   ]
  },
  {
   "cell_type": "code",
   "execution_count": 9,
   "metadata": {},
   "outputs": [
    {
     "data": {
      "text/html": [
       "\n",
       "  <div id=\"d768d9ef-1e9b-4238-99f3-423aa5437004\" data-root-id=\"p2706\" style=\"display: contents;\"></div>\n"
      ]
     },
     "metadata": {},
     "output_type": "display_data"
    },
    {
     "data": {
      "application/javascript": [
       "(function(root) {\n",
       "  function embed_document(root) {\n",
       "  const docs_json = {\"ddc4ffa2-5307-423f-8e39-275ff14dfbc9\":{\"version\":\"3.1.1\",\"title\":\"Bokeh Application\",\"defs\":[],\"roots\":[{\"type\":\"object\",\"name\":\"Figure\",\"id\":\"p2706\",\"attributes\":{\"x_range\":{\"type\":\"object\",\"name\":\"DataRange1d\",\"id\":\"p2708\"},\"y_range\":{\"type\":\"object\",\"name\":\"DataRange1d\",\"id\":\"p2705\",\"attributes\":{\"start\":0}},\"x_scale\":{\"type\":\"object\",\"name\":\"LinearScale\",\"id\":\"p2718\"},\"y_scale\":{\"type\":\"object\",\"name\":\"LinearScale\",\"id\":\"p2720\"},\"title\":{\"type\":\"object\",\"name\":\"Title\",\"id\":\"p2710\"},\"renderers\":[{\"type\":\"object\",\"name\":\"GlyphRenderer\",\"id\":\"p2757\",\"attributes\":{\"data_source\":{\"type\":\"object\",\"name\":\"ColumnDataSource\",\"id\":\"p2751\",\"attributes\":{\"selected\":{\"type\":\"object\",\"name\":\"Selection\",\"id\":\"p2752\",\"attributes\":{\"indices\":[],\"line_indices\":[]}},\"selection_policy\":{\"type\":\"object\",\"name\":\"UnionRenderers\",\"id\":\"p2753\"},\"data\":{\"type\":\"map\",\"entries\":[[\"x\",{\"type\":\"ndarray\",\"array\":{\"type\":\"bytes\",\"data\":\"JUj0Lyz1EMAlSPQvLPUQwP01rBWrShDA/TWsFatKEMCpR8j2U0APwKlHyPZTQA/AWSM4wlHrDcBZIzjCUesNwAj/p41PlgzACP+njU+WDMC42hdZTUELwLjaF1lNQQvAaLaHJEvsCcBotockS+wJwBiS9+9IlwjAGJL370iXCMDHbWe7RkIHwMdtZ7tGQgfAdknXhkTtBcB2SdeGRO0FwCYlR1JCmATAJiVHUkKYBMDWALcdQEMDwNYAtx1AQwPAhtwm6T3uAcCG3CbpPe4BwDW4lrQ7mQDANbiWtDuZAMDKJw0Ac4j+v8onDQBziP6/KN/slm7e+78o3+yWbt77v4iWzC1qNPm/iJbMLWo0+b/oTazEZYr2v+hNrMRliva/RgWMW2Hg879GBYxbYeDzv6a8a/JcNvG/prxr8lw28b8I6JYSsRjtvwjolhKxGO2/yFZWQKjE57/IVlZAqMTnv4jFFW6fcOK/iMUVbp9w4r+IaKo3LTnav4hoqjctOdq/EIxSJjciz78QjFImNyLPvwCOoLonpLO/AI6guieks78A/GPXHvy2PwD8Y9ce/LY/gCFaWhln0D+AIVpaGWfQPwBE2/4qD9s/AETb/ioP2z9AM65RntviP0AzrlGe2+I/iMTuI6cv6D+IxO4jpy/oP8hVL/avg+0/yFUv9q+D7T+E8zdk3GvxP4TzN2Tca/E/JDxYzeAV9D8kPFjN4BX0P8SEeDblv/Y/xIR4NuW/9j9ozZif6Wn5P2jNmJ/pafk/CBa5CO4T/D8IFrkI7hP8P6he2XHyvf4/qF7ZcfK9/j+k03xt+7MAQKTTfG37swBA9PcMov0IAkD09wyi/QgCQEYcndb/XQNARhyd1v9dA0CWQC0LArMEQJZALQsCswRA5mS9PwQIBkDmZL0/BAgGQDaJTXQGXQdANolNdAZdB0CGrd2oCLIIQIat3agIsghA1tFt3QoHCkDW0W3dCgcKQCj2/RENXAtAKPb9EQ1cC0B4Go5GD7EMQHgajkYPsQxAyD4eexEGDkDIPh57EQYOQBpjrq8TWw9AGmOurxNbD0C1Qx/yClgQQLVDH/IKWBBA\"},\"shape\":[102],\"dtype\":\"float64\",\"order\":\"little\"}],[\"y\",{\"type\":\"ndarray\",\"array\":{\"type\":\"bytes\",\"data\":\"AAAAAAAAAACubslnu3wvP65uyWe7fC8/HuXdIPWtMz8e5d0g9a0zPyzl3SD1rTM/LOXdIPWtMz+Wbslnu3wvP5ZuyWe7fC8/w9dMse+ETT/D10yx74RNP65uyWe7fF8/rm7JZ7t8Xz9dVrvpzSdlP11Wu+nNJ2U/73MAWBw0cj/vcwBYHDRyP4lqHCjpw30/iWocKOnDfT+TSW/SD36HP5NJb9IPfoc/jqqYnJ8Ukj+OqpicnxSSPw8XhM1eVpk/DxeEzV5WmT+27layQ+2hP7buVrJD7aE/FQdlMDFCrD8VB2UwMUKsPyLvQw91FLM/Iu9DD3UUsz+Wwd8D+fO4P5bB3wP587g/k3156WpzwD+TfXnpanPAP//0UMAXFsU///RQwBcWxT/Kc6hcBtzKP8pzqFwG3Mo/ljIRz8bBzj+WMhHPxsHOP0Rx8K3jxtE/RHHwrePG0T80hRCN2OfUPzSFEI3Y59Q/2/pdcboX1z/b+l1xuhfXP9Dxp7ui1dc/0PGnu6LV1z+8ZOX1S5jZP7xk5fVLmNk/lNoIWTOe2T+U2ghZM57ZP37CjzxhGNk/fsKPPGEY2T88mIAzZeTXPzyYgDNl5Nc/5rQ/6kX21j/mtD/qRfbWP2vXt0/UtdM/a9e3T9S10z8Tbh0odFzSPxNuHSh0XNI/YdbZnFBjzj9h1tmcUGPOP9CCQULG9ck/0IJBQsb1yT+Vn6z2sbPEP5WfrPaxs8Q/99dQqhCJwD/311CqEInAPzbFn+aZhbk/NsWf5pmFuT9yvz4zAjCzP3K/PjMCMLM/yKot/rrjqz/Iqi3+uuOrPzRntEBeiqQ/NGe0QF6KpD9lJYRY4pybP2UlhFjinJs/gabrXM1bkD+BputczVuQP43HmLKmoYY/jceYsqahhj+FYsKoRFJ6P4ViwqhEUno/Qk5haim2cT9CTmFqKbZxP704dnt/G2g/vTh2e38baD+DMBz82qlUP4MwHPzaqVQ/AxPXjYydRz8DE9eNjJ1HP0JOYWoptkE/Qk5haim2QT8P5d0g9a0zPw/l3SD1rTM/rm7JZ7t8Lz+ubslnu3wvPwAAAAAAAAAA\"},\"shape\":[102],\"dtype\":\"float64\",\"order\":\"little\"}]]}}},\"view\":{\"type\":\"object\",\"name\":\"CDSView\",\"id\":\"p2758\",\"attributes\":{\"filter\":{\"type\":\"object\",\"name\":\"AllIndices\",\"id\":\"p2759\"}}},\"glyph\":{\"type\":\"object\",\"name\":\"Line\",\"id\":\"p2754\",\"attributes\":{\"x\":{\"type\":\"field\",\"field\":\"x\"},\"y\":{\"type\":\"field\",\"field\":\"y\"},\"line_color\":\"#1f77b3\",\"line_width\":2}},\"nonselection_glyph\":{\"type\":\"object\",\"name\":\"Line\",\"id\":\"p2755\",\"attributes\":{\"x\":{\"type\":\"field\",\"field\":\"x\"},\"y\":{\"type\":\"field\",\"field\":\"y\"},\"line_color\":\"#1f77b3\",\"line_alpha\":0.1,\"line_width\":2}},\"muted_glyph\":{\"type\":\"object\",\"name\":\"Line\",\"id\":\"p2756\",\"attributes\":{\"x\":{\"type\":\"field\",\"field\":\"x\"},\"y\":{\"type\":\"field\",\"field\":\"y\"},\"line_color\":\"#1f77b3\",\"line_alpha\":0.2,\"line_width\":2}}}}],\"toolbar\":{\"type\":\"object\",\"name\":\"Toolbar\",\"id\":\"p2714\",\"attributes\":{\"tools\":[{\"type\":\"object\",\"name\":\"PanTool\",\"id\":\"p2736\"},{\"type\":\"object\",\"name\":\"WheelZoomTool\",\"id\":\"p2737\"},{\"type\":\"object\",\"name\":\"BoxZoomTool\",\"id\":\"p2738\",\"attributes\":{\"overlay\":{\"type\":\"object\",\"name\":\"BoxAnnotation\",\"id\":\"p2739\",\"attributes\":{\"syncable\":false,\"level\":\"overlay\",\"visible\":false,\"left_units\":\"canvas\",\"right_units\":\"canvas\",\"bottom_units\":\"canvas\",\"top_units\":\"canvas\",\"line_color\":\"black\",\"line_alpha\":1.0,\"line_width\":2,\"line_dash\":[4,4],\"fill_color\":\"lightgrey\",\"fill_alpha\":0.5}}}},{\"type\":\"object\",\"name\":\"SaveTool\",\"id\":\"p2740\"},{\"type\":\"object\",\"name\":\"ResetTool\",\"id\":\"p2741\"},{\"type\":\"object\",\"name\":\"HelpTool\",\"id\":\"p2742\"}]}},\"toolbar_location\":\"above\",\"left\":[{\"type\":\"object\",\"name\":\"LinearAxis\",\"id\":\"p2729\",\"attributes\":{\"ticker\":{\"type\":\"object\",\"name\":\"BasicTicker\",\"id\":\"p2730\",\"attributes\":{\"mantissas\":[1,2,5]}},\"formatter\":{\"type\":\"object\",\"name\":\"BasicTickFormatter\",\"id\":\"p2731\"},\"axis_label\":\"density\",\"major_label_policy\":{\"type\":\"object\",\"name\":\"AllLabels\",\"id\":\"p2732\"}}}],\"below\":[{\"type\":\"object\",\"name\":\"LinearAxis\",\"id\":\"p2722\",\"attributes\":{\"ticker\":{\"type\":\"object\",\"name\":\"BasicTicker\",\"id\":\"p2723\",\"attributes\":{\"mantissas\":[1,2,5]}},\"formatter\":{\"type\":\"object\",\"name\":\"BasicTickFormatter\",\"id\":\"p2724\"},\"axis_label\":\"x\",\"major_label_policy\":{\"type\":\"object\",\"name\":\"AllLabels\",\"id\":\"p2725\"}}}],\"center\":[{\"type\":\"object\",\"name\":\"Grid\",\"id\":\"p2728\",\"attributes\":{\"axis\":{\"id\":\"p2722\"}}},{\"type\":\"object\",\"name\":\"Grid\",\"id\":\"p2735\",\"attributes\":{\"dimension\":1,\"axis\":{\"id\":\"p2729\"}}}],\"frame_width\":375,\"frame_height\":275}}],\"callbacks\":{\"type\":\"map\"}}};\n",
       "  const render_items = [{\"docid\":\"ddc4ffa2-5307-423f-8e39-275ff14dfbc9\",\"roots\":{\"p2706\":\"d768d9ef-1e9b-4238-99f3-423aa5437004\"},\"root_ids\":[\"p2706\"]}];\n",
       "  root.Bokeh.embed.embed_items_notebook(docs_json, render_items);\n",
       "  }\n",
       "  if (root.Bokeh !== undefined) {\n",
       "    embed_document(root);\n",
       "  } else {\n",
       "    let attempts = 0;\n",
       "    const timer = setInterval(function(root) {\n",
       "      if (root.Bokeh !== undefined) {\n",
       "        clearInterval(timer);\n",
       "        embed_document(root);\n",
       "      } else {\n",
       "        attempts++;\n",
       "        if (attempts > 100) {\n",
       "          clearInterval(timer);\n",
       "          console.log(\"Bokeh: ERROR: Unable to run BokehJS code because BokehJS library is missing\");\n",
       "        }\n",
       "      }\n",
       "    }, 10, root)\n",
       "  }\n",
       "})(window);"
      ],
      "application/vnd.bokehjs_exec.v0+json": ""
     },
     "metadata": {
      "application/vnd.bokehjs_exec.v0+json": {
       "id": "p2706"
      }
     },
     "output_type": "display_data"
    }
   ],
   "source": [
    "# Generate normally distributed data\n",
    "x = np.random.standard_normal(size=100000)\n",
    "\n",
    "# Plot the histogram\n",
    "p = iqplot.histogram(x, bins=50, density=True, rug=False)\n",
    "\n",
    "bokeh.io.show(p)"
   ]
  },
  {
   "cell_type": "markdown",
   "metadata": {},
   "source": [
    "### Customizing ECDFs\n",
    "\n",
    "Instead of plotting a separate ECDF for each category, we can put all of the categories together on one ECDF and color the points by the categorical variable by using the `kind='colored'` kwarg. Note that if we do this, we can only have the \"dot\" style ECDF, not the staircase."
   ]
  },
  {
   "cell_type": "code",
   "execution_count": 10,
   "metadata": {},
   "outputs": [
    {
     "data": {
      "text/html": [
       "\n",
       "  <div id=\"fbfec024-3007-45d5-ac47-d8ad462af604\" data-root-id=\"p2987\" style=\"display: contents;\"></div>\n"
      ]
     },
     "metadata": {},
     "output_type": "display_data"
    },
    {
     "data": {
      "application/javascript": [
       "(function(root) {\n",
       "  function embed_document(root) {\n",
       "  const docs_json = {\"63a0d738-ba69-4285-837a-028e5b2830e2\":{\"version\":\"3.1.1\",\"title\":\"Bokeh Application\",\"defs\":[],\"roots\":[{\"type\":\"object\",\"name\":\"Figure\",\"id\":\"p2987\",\"attributes\":{\"x_range\":{\"type\":\"object\",\"name\":\"DataRange1d\",\"id\":\"p2989\"},\"y_range\":{\"type\":\"object\",\"name\":\"DataRange1d\",\"id\":\"p2988\"},\"x_scale\":{\"type\":\"object\",\"name\":\"LinearScale\",\"id\":\"p3000\"},\"y_scale\":{\"type\":\"object\",\"name\":\"LinearScale\",\"id\":\"p3002\"},\"title\":{\"type\":\"object\",\"name\":\"Title\",\"id\":\"p2991\"},\"renderers\":[{\"type\":\"object\",\"name\":\"GlyphRenderer\",\"id\":\"p3044\",\"attributes\":{\"data_source\":{\"type\":\"object\",\"name\":\"ColumnDataSource\",\"id\":\"p3035\",\"attributes\":{\"selected\":{\"type\":\"object\",\"name\":\"Selection\",\"id\":\"p3036\",\"attributes\":{\"indices\":[],\"line_indices\":[]}},\"selection_policy\":{\"type\":\"object\",\"name\":\"UnionRenderers\",\"id\":\"p3037\"},\"data\":{\"type\":\"map\",\"entries\":[[\"index\",{\"type\":\"ndarray\",\"array\":{\"type\":\"bytes\",\"data\":\"AAAAAAEAAAACAAAAAwAAAAQAAAAFAAAABgAAAAcAAAAIAAAACQAAAAoAAAALAAAADAAAAA0AAAAOAAAADwAAABAAAAARAAAAEgAAABMAAAA=\"},\"shape\":[20],\"dtype\":\"int32\",\"order\":\"little\"}],[\"trial number\",{\"type\":\"ndarray\",\"array\":{\"type\":\"bytes\",\"data\":\"AwAAAAQAAAABAAAAAgAAAAMAAAAEAAAAAQAAAAIAAAADAAAABAAAAAEAAAACAAAAAwAAAAQAAAAFAAAAAQAAAAIAAAADAAAABAAAAAUAAAA=\"},\"shape\":[20],\"dtype\":\"int32\",\"order\":\"little\"}],[\"impact force (mN)\",{\"type\":\"ndarray\",\"array\":{\"type\":\"bytes\",\"data\":\"tQQAAN8JAADRBgAAFAYAAO0BAADkCAAALAIAAIgHAABRCgAAaQcAAGMHAAAJBgAAGwUAAJwGAAAHBgAAAgUAAAcDAADwBwAA2AQAANkBAAA=\"},\"shape\":[20],\"dtype\":\"int32\",\"order\":\"little\"}],[\"ID\",{\"type\":\"ndarray\",\"array\":[\"I\",\"I\",\"I\",\"I\",\"I\",\"I\",\"I\",\"I\",\"I\",\"I\",\"I\",\"I\",\"I\",\"I\",\"I\",\"I\",\"I\",\"I\",\"I\",\"I\"],\"shape\":[20],\"dtype\":\"object\",\"order\":\"little\"}],[\"adhesive force (mN)\",{\"type\":\"ndarray\",\"array\":{\"type\":\"bytes\",\"data\":\"7/z//yn8//+u/P//Of7//zL8//+w/f//AP7//9z8//9O/f//Mv7//wL9//81/f//m/3//1v9///w/f//PP7//1L+//90/f//TP3//+j9//8=\"},\"shape\":[20],\"dtype\":\"int32\",\"order\":\"little\"}],[\"__ECDF\",{\"type\":\"ndarray\",\"array\":{\"type\":\"bytes\",\"data\":\"zczMzMzM6D+amZmZmZnvPzMzMzMzM+0/AAAAAAAA7D+amZmZmZnVPzMzMzMzM+8/mpmZmZmZ3T9mZmZmZmbuPwAAAAAAAPA/AAAAAAAA7j+amZmZmZntP5qZmZmZmes/AAAAAAAA6j/NzMzMzMzsPzMzMzMzM+s/mpmZmZmZ6T9mZmZmZmbmP83MzMzMzO4/MzMzMzMz6T8AAAAAAADUPw==\"},\"shape\":[20],\"dtype\":\"float64\",\"order\":\"little\"}],[\"__label\",{\"type\":\"ndarray\",\"array\":[\"I\",\"I\",\"I\",\"I\",\"I\",\"I\",\"I\",\"I\",\"I\",\"I\",\"I\",\"I\",\"I\",\"I\",\"I\",\"I\",\"I\",\"I\",\"I\",\"I\"],\"shape\":[20],\"dtype\":\"object\",\"order\":\"little\"}]]}}},\"view\":{\"type\":\"object\",\"name\":\"CDSView\",\"id\":\"p3045\",\"attributes\":{\"filter\":{\"type\":\"object\",\"name\":\"AllIndices\",\"id\":\"p3046\"}}},\"glyph\":{\"type\":\"object\",\"name\":\"Circle\",\"id\":\"p3041\",\"attributes\":{\"x\":{\"type\":\"field\",\"field\":\"impact force (mN)\"},\"y\":{\"type\":\"field\",\"field\":\"__ECDF\"},\"line_color\":{\"type\":\"value\",\"value\":\"#1f77b3\"},\"fill_color\":{\"type\":\"value\",\"value\":\"#1f77b3\"},\"hatch_color\":{\"type\":\"value\",\"value\":\"#1f77b3\"}}},\"nonselection_glyph\":{\"type\":\"object\",\"name\":\"Circle\",\"id\":\"p3042\",\"attributes\":{\"x\":{\"type\":\"field\",\"field\":\"impact force (mN)\"},\"y\":{\"type\":\"field\",\"field\":\"__ECDF\"},\"line_color\":{\"type\":\"value\",\"value\":\"#1f77b3\"},\"line_alpha\":{\"type\":\"value\",\"value\":0.1},\"fill_color\":{\"type\":\"value\",\"value\":\"#1f77b3\"},\"fill_alpha\":{\"type\":\"value\",\"value\":0.1},\"hatch_color\":{\"type\":\"value\",\"value\":\"#1f77b3\"},\"hatch_alpha\":{\"type\":\"value\",\"value\":0.1}}},\"muted_glyph\":{\"type\":\"object\",\"name\":\"Circle\",\"id\":\"p3043\",\"attributes\":{\"x\":{\"type\":\"field\",\"field\":\"impact force (mN)\"},\"y\":{\"type\":\"field\",\"field\":\"__ECDF\"},\"line_color\":{\"type\":\"value\",\"value\":\"#1f77b3\"},\"line_alpha\":{\"type\":\"value\",\"value\":0.2},\"fill_color\":{\"type\":\"value\",\"value\":\"#1f77b3\"},\"fill_alpha\":{\"type\":\"value\",\"value\":0.2},\"hatch_color\":{\"type\":\"value\",\"value\":\"#1f77b3\"},\"hatch_alpha\":{\"type\":\"value\",\"value\":0.2}}}}},{\"type\":\"object\",\"name\":\"GlyphRenderer\",\"id\":\"p3056\",\"attributes\":{\"data_source\":{\"type\":\"object\",\"name\":\"ColumnDataSource\",\"id\":\"p3047\",\"attributes\":{\"selected\":{\"type\":\"object\",\"name\":\"Selection\",\"id\":\"p3048\",\"attributes\":{\"indices\":[],\"line_indices\":[]}},\"selection_policy\":{\"type\":\"object\",\"name\":\"UnionRenderers\",\"id\":\"p3049\"},\"data\":{\"type\":\"map\",\"entries\":[[\"index\",{\"type\":\"ndarray\",\"array\":{\"type\":\"bytes\",\"data\":\"FAAAABUAAAAWAAAAFwAAABgAAAAZAAAAGgAAABsAAAAcAAAAHQAAAB4AAAAfAAAAIAAAACEAAAAiAAAAIwAAACQAAAAlAAAAJgAAACcAAAA=\"},\"shape\":[20],\"dtype\":\"int32\",\"order\":\"little\"}],[\"trial number\",{\"type\":\"ndarray\",\"array\":{\"type\":\"bytes\",\"data\":\"AQAAAAIAAAADAAAABAAAAAEAAAACAAAAAwAAAAQAAAABAAAAAgAAAAMAAAAEAAAAAQAAAAIAAAABAAAAAgAAAAEAAAACAAAAAwAAAAEAAAA=\"},\"shape\":[20],\"dtype\":\"int32\",\"order\":\"little\"}],[\"impact force (mN)\",{\"type\":\"ndarray\",\"array\":{\"type\":\"bytes\",\"data\":\"TAYAAF0CAABHAQAAsgMAAB0CAAADBgAAEQIAAHQCAACtBQAAKQEAAL8CAAANAQAA7wIAAPUAAACeBAAAAwIAALMBAAB/AQAAyQEAANoCAAA=\"},\"shape\":[20],\"dtype\":\"int32\",\"order\":\"little\"}],[\"ID\",{\"type\":\"ndarray\",\"array\":[\"II\",\"II\",\"II\",\"II\",\"II\",\"II\",\"II\",\"II\",\"II\",\"II\",\"II\",\"II\",\"II\",\"II\",\"II\",\"II\",\"II\",\"II\",\"II\",\"II\"],\"shape\":[20],\"dtype\":\"object\",\"order\":\"little\"}],[\"adhesive force (mN)\",{\"type\":\"ndarray\",\"array\":{\"type\":\"bytes\",\"data\":\"cf3//9z+//8K////C////9f9//9o/f//+/7//039//+k////yv3//yH///8A/v//Hf///8P9///2/f//qf3//5T+//8r/v//tPz//3j9//8=\"},\"shape\":[20],\"dtype\":\"int32\",\"order\":\"little\"}],[\"__ECDF\",{\"type\":\"ndarray\",\"array\":{\"type\":\"bytes\",\"data\":\"ZmZmZmZm7D9mZmZmZmbgPzMzMzMzM8M/AAAAAAAA6D8zMzMzMzPbP83MzMzMzOo/zczMzMzM2D+amZmZmZnjP2ZmZmZmZuo/AAAAAAAAwD9mZmZmZmbkP5qZmZmZmbk/AAAAAAAA5j9mZmZmZma2P2ZmZmZmZug/MzMzMzMz1z9mZmZmZmbOP2ZmZmZmZsY/zczMzMzM0D+amZmZmZnlPw==\"},\"shape\":[20],\"dtype\":\"float64\",\"order\":\"little\"}],[\"__label\",{\"type\":\"ndarray\",\"array\":[\"II\",\"II\",\"II\",\"II\",\"II\",\"II\",\"II\",\"II\",\"II\",\"II\",\"II\",\"II\",\"II\",\"II\",\"II\",\"II\",\"II\",\"II\",\"II\",\"II\"],\"shape\":[20],\"dtype\":\"object\",\"order\":\"little\"}]]}}},\"view\":{\"type\":\"object\",\"name\":\"CDSView\",\"id\":\"p3057\",\"attributes\":{\"filter\":{\"type\":\"object\",\"name\":\"AllIndices\",\"id\":\"p3058\"}}},\"glyph\":{\"type\":\"object\",\"name\":\"Circle\",\"id\":\"p3053\",\"attributes\":{\"x\":{\"type\":\"field\",\"field\":\"impact force (mN)\"},\"y\":{\"type\":\"field\",\"field\":\"__ECDF\"},\"line_color\":{\"type\":\"value\",\"value\":\"#ff7e0e\"},\"fill_color\":{\"type\":\"value\",\"value\":\"#ff7e0e\"},\"hatch_color\":{\"type\":\"value\",\"value\":\"#ff7e0e\"}}},\"nonselection_glyph\":{\"type\":\"object\",\"name\":\"Circle\",\"id\":\"p3054\",\"attributes\":{\"x\":{\"type\":\"field\",\"field\":\"impact force (mN)\"},\"y\":{\"type\":\"field\",\"field\":\"__ECDF\"},\"line_color\":{\"type\":\"value\",\"value\":\"#ff7e0e\"},\"line_alpha\":{\"type\":\"value\",\"value\":0.1},\"fill_color\":{\"type\":\"value\",\"value\":\"#ff7e0e\"},\"fill_alpha\":{\"type\":\"value\",\"value\":0.1},\"hatch_color\":{\"type\":\"value\",\"value\":\"#ff7e0e\"},\"hatch_alpha\":{\"type\":\"value\",\"value\":0.1}}},\"muted_glyph\":{\"type\":\"object\",\"name\":\"Circle\",\"id\":\"p3055\",\"attributes\":{\"x\":{\"type\":\"field\",\"field\":\"impact force (mN)\"},\"y\":{\"type\":\"field\",\"field\":\"__ECDF\"},\"line_color\":{\"type\":\"value\",\"value\":\"#ff7e0e\"},\"line_alpha\":{\"type\":\"value\",\"value\":0.2},\"fill_color\":{\"type\":\"value\",\"value\":\"#ff7e0e\"},\"fill_alpha\":{\"type\":\"value\",\"value\":0.2},\"hatch_color\":{\"type\":\"value\",\"value\":\"#ff7e0e\"},\"hatch_alpha\":{\"type\":\"value\",\"value\":0.2}}}}},{\"type\":\"object\",\"name\":\"GlyphRenderer\",\"id\":\"p3068\",\"attributes\":{\"data_source\":{\"type\":\"object\",\"name\":\"ColumnDataSource\",\"id\":\"p3059\",\"attributes\":{\"selected\":{\"type\":\"object\",\"name\":\"Selection\",\"id\":\"p3060\",\"attributes\":{\"indices\":[],\"line_indices\":[]}},\"selection_policy\":{\"type\":\"object\",\"name\":\"UnionRenderers\",\"id\":\"p3061\"},\"data\":{\"type\":\"map\",\"entries\":[[\"index\",{\"type\":\"ndarray\",\"array\":{\"type\":\"bytes\",\"data\":\"KAAAACkAAAAqAAAAKwAAACwAAAAtAAAALgAAAC8AAAAwAAAAMQAAADIAAAAzAAAANAAAADUAAAA2AAAANwAAADgAAAA5AAAAOgAAADsAAAA=\"},\"shape\":[20],\"dtype\":\"int32\",\"order\":\"little\"}],[\"trial number\",{\"type\":\"ndarray\",\"array\":{\"type\":\"bytes\",\"data\":\"AQAAAAIAAAADAAAAAQAAAAIAAAADAAAAAQAAAAIAAAABAAAAAgAAAAMAAAAEAAAAAQAAAAIAAAADAAAABAAAAAEAAAACAAAAAwAAAAQAAAA=\"},\"shape\":[20],\"dtype\":\"int32\",\"order\":\"little\"}],[\"impact force (mN)\",{\"type\":\"ndarray\",\"array\":{\"type\":\"bytes\",\"data\":\"ZgIAAJ4BAABEAQAACAMAAGMCAAAgAgAAGgIAAEMCAAAmAwAAywEAAMoBAAByAgAAbQIAACACAAAXAgAAgQEAAJEBAABmAgAAmQIAAOgBAAA=\"},\"shape\":[20],\"dtype\":\"int32\",\"order\":\"little\"}],[\"ID\",{\"type\":\"ndarray\",\"array\":[\"III\",\"III\",\"III\",\"III\",\"III\",\"III\",\"III\",\"III\",\"III\",\"III\",\"III\",\"III\",\"III\",\"III\",\"III\",\"III\",\"III\",\"III\",\"III\",\"III\"],\"shape\":[20],\"dtype\":\"object\",\"order\":\"little\"}],[\"adhesive force (mN)\",{\"type\":\"ndarray\",\"array\":{\"type\":\"bytes\",\"data\":\"ov///13///9U////H////9P+//+j////ff///9/+//+Y////G/////3+//8Z////9f7//07///+F////af///4H///+M/v//FP///3r+//8=\"},\"shape\":[20],\"dtype\":\"int32\",\"order\":\"little\"}],[\"__ECDF\",{\"type\":\"ndarray\",\"array\":{\"type\":\"bytes\",\"data\":\"mpmZmZmZ4T/NzMzMzMzMP5qZmZmZmcE/zczMzMzM5j8zMzMzMzPhPwAAAAAAANw/ZmZmZmZm2j9mZmZmZmbePzMzMzMzM+c/ZmZmZmZm0j+amZmZmZnRPzMzMzMzM+M/zczMzMzM4j/NzMzMzMzcP5qZmZmZmdk/AAAAAAAAyD+amZmZmZnJPwAAAAAAAOI/AAAAAAAA5D/NzMzMzMzUPw==\"},\"shape\":[20],\"dtype\":\"float64\",\"order\":\"little\"}],[\"__label\",{\"type\":\"ndarray\",\"array\":[\"III\",\"III\",\"III\",\"III\",\"III\",\"III\",\"III\",\"III\",\"III\",\"III\",\"III\",\"III\",\"III\",\"III\",\"III\",\"III\",\"III\",\"III\",\"III\",\"III\"],\"shape\":[20],\"dtype\":\"object\",\"order\":\"little\"}]]}}},\"view\":{\"type\":\"object\",\"name\":\"CDSView\",\"id\":\"p3069\",\"attributes\":{\"filter\":{\"type\":\"object\",\"name\":\"AllIndices\",\"id\":\"p3070\"}}},\"glyph\":{\"type\":\"object\",\"name\":\"Circle\",\"id\":\"p3065\",\"attributes\":{\"x\":{\"type\":\"field\",\"field\":\"impact force (mN)\"},\"y\":{\"type\":\"field\",\"field\":\"__ECDF\"},\"line_color\":{\"type\":\"value\",\"value\":\"#2ba02b\"},\"fill_color\":{\"type\":\"value\",\"value\":\"#2ba02b\"},\"hatch_color\":{\"type\":\"value\",\"value\":\"#2ba02b\"}}},\"nonselection_glyph\":{\"type\":\"object\",\"name\":\"Circle\",\"id\":\"p3066\",\"attributes\":{\"x\":{\"type\":\"field\",\"field\":\"impact force (mN)\"},\"y\":{\"type\":\"field\",\"field\":\"__ECDF\"},\"line_color\":{\"type\":\"value\",\"value\":\"#2ba02b\"},\"line_alpha\":{\"type\":\"value\",\"value\":0.1},\"fill_color\":{\"type\":\"value\",\"value\":\"#2ba02b\"},\"fill_alpha\":{\"type\":\"value\",\"value\":0.1},\"hatch_color\":{\"type\":\"value\",\"value\":\"#2ba02b\"},\"hatch_alpha\":{\"type\":\"value\",\"value\":0.1}}},\"muted_glyph\":{\"type\":\"object\",\"name\":\"Circle\",\"id\":\"p3067\",\"attributes\":{\"x\":{\"type\":\"field\",\"field\":\"impact force (mN)\"},\"y\":{\"type\":\"field\",\"field\":\"__ECDF\"},\"line_color\":{\"type\":\"value\",\"value\":\"#2ba02b\"},\"line_alpha\":{\"type\":\"value\",\"value\":0.2},\"fill_color\":{\"type\":\"value\",\"value\":\"#2ba02b\"},\"fill_alpha\":{\"type\":\"value\",\"value\":0.2},\"hatch_color\":{\"type\":\"value\",\"value\":\"#2ba02b\"},\"hatch_alpha\":{\"type\":\"value\",\"value\":0.2}}}}},{\"type\":\"object\",\"name\":\"GlyphRenderer\",\"id\":\"p3080\",\"attributes\":{\"data_source\":{\"type\":\"object\",\"name\":\"ColumnDataSource\",\"id\":\"p3071\",\"attributes\":{\"selected\":{\"type\":\"object\",\"name\":\"Selection\",\"id\":\"p3072\",\"attributes\":{\"indices\":[],\"line_indices\":[]}},\"selection_policy\":{\"type\":\"object\",\"name\":\"UnionRenderers\",\"id\":\"p3073\"},\"data\":{\"type\":\"map\",\"entries\":[[\"index\",{\"type\":\"ndarray\",\"array\":{\"type\":\"bytes\",\"data\":\"PAAAAD0AAAA+AAAAPwAAAEAAAABBAAAAQgAAAEMAAABEAAAARQAAAEYAAABHAAAASAAAAEkAAABKAAAASwAAAEwAAABNAAAATgAAAE8AAAA=\"},\"shape\":[20],\"dtype\":\"int32\",\"order\":\"little\"}],[\"trial number\",{\"type\":\"ndarray\",\"array\":{\"type\":\"bytes\",\"data\":\"AgAAAAMAAAAEAAAAAQAAAAIAAAADAAAAAQAAAAEAAAACAAAAAwAAAAQAAAABAAAAAQAAAAIAAAADAAAABAAAAAEAAAACAAAAAwAAAAQAAAA=\"},\"shape\":[20],\"dtype\":\"int32\",\"order\":\"little\"}],[\"impact force (mN)\",{\"type\":\"ndarray\",\"array\":{\"type\":\"bytes\",\"data\":\"rAAAAI4AAAAlAAAAxQEAAGMBAAAWAAAA9gEAABEBAADQAgAARgIAAMYAAADGAAAAVQIAAAQCAAAvAwAAkgEAAF0CAADHAgAAZgIAANQBAAA=\"},\"shape\":[20],\"dtype\":\"int32\",\"order\":\"little\"}],[\"ID\",{\"type\":\"ndarray\",\"array\":[\"IV\",\"IV\",\"IV\",\"IV\",\"IV\",\"IV\",\"IV\",\"IV\",\"IV\",\"IV\",\"IV\",\"IV\",\"IV\",\"IV\",\"IV\",\"IV\",\"IV\",\"IV\",\"IV\",\"IV\"],\"shape\":[20],\"dtype\":\"object\",\"order\":\"little\"}],[\"adhesive force (mN)\",{\"type\":\"ndarray\",\"array\":{\"type\":\"bytes\",\"data\":\"OP7//z////8U////H////yf///9f////df////j+//+q/v//Gf///y/////c/v//rf7//43+//+1/v//0v7//yj///9d////kf7//yb///8=\"},\"shape\":[20],\"dtype\":\"int32\",\"order\":\"little\"}],[\"__ECDF\",{\"type\":\"ndarray\",\"array\":{\"type\":\"bytes\",\"data\":\"mpmZmZmZqT8zMzMzMzOjP5qZmZmZmZk/AAAAAAAA0D/NzMzMzMzEP5qZmZmZmYk/ZmZmZmZm1j/NzMzMzMy8PzMzMzMzM+U/MzMzMzMz3z8AAAAAAACwPzMzMzMzM7M/AAAAAAAA4D8AAAAAAADYP5qZmZmZmec/MzMzMzMzyz/NzMzMzMzgP83MzMzMzOQ/ZmZmZmZm4j8zMzMzMzPTPw==\"},\"shape\":[20],\"dtype\":\"float64\",\"order\":\"little\"}],[\"__label\",{\"type\":\"ndarray\",\"array\":[\"IV\",\"IV\",\"IV\",\"IV\",\"IV\",\"IV\",\"IV\",\"IV\",\"IV\",\"IV\",\"IV\",\"IV\",\"IV\",\"IV\",\"IV\",\"IV\",\"IV\",\"IV\",\"IV\",\"IV\"],\"shape\":[20],\"dtype\":\"object\",\"order\":\"little\"}]]}}},\"view\":{\"type\":\"object\",\"name\":\"CDSView\",\"id\":\"p3081\",\"attributes\":{\"filter\":{\"type\":\"object\",\"name\":\"AllIndices\",\"id\":\"p3082\"}}},\"glyph\":{\"type\":\"object\",\"name\":\"Circle\",\"id\":\"p3077\",\"attributes\":{\"x\":{\"type\":\"field\",\"field\":\"impact force (mN)\"},\"y\":{\"type\":\"field\",\"field\":\"__ECDF\"},\"line_color\":{\"type\":\"value\",\"value\":\"#d62628\"},\"fill_color\":{\"type\":\"value\",\"value\":\"#d62628\"},\"hatch_color\":{\"type\":\"value\",\"value\":\"#d62628\"}}},\"nonselection_glyph\":{\"type\":\"object\",\"name\":\"Circle\",\"id\":\"p3078\",\"attributes\":{\"x\":{\"type\":\"field\",\"field\":\"impact force (mN)\"},\"y\":{\"type\":\"field\",\"field\":\"__ECDF\"},\"line_color\":{\"type\":\"value\",\"value\":\"#d62628\"},\"line_alpha\":{\"type\":\"value\",\"value\":0.1},\"fill_color\":{\"type\":\"value\",\"value\":\"#d62628\"},\"fill_alpha\":{\"type\":\"value\",\"value\":0.1},\"hatch_color\":{\"type\":\"value\",\"value\":\"#d62628\"},\"hatch_alpha\":{\"type\":\"value\",\"value\":0.1}}},\"muted_glyph\":{\"type\":\"object\",\"name\":\"Circle\",\"id\":\"p3079\",\"attributes\":{\"x\":{\"type\":\"field\",\"field\":\"impact force (mN)\"},\"y\":{\"type\":\"field\",\"field\":\"__ECDF\"},\"line_color\":{\"type\":\"value\",\"value\":\"#d62628\"},\"line_alpha\":{\"type\":\"value\",\"value\":0.2},\"fill_color\":{\"type\":\"value\",\"value\":\"#d62628\"},\"fill_alpha\":{\"type\":\"value\",\"value\":0.2},\"hatch_color\":{\"type\":\"value\",\"value\":\"#d62628\"},\"hatch_alpha\":{\"type\":\"value\",\"value\":0.2}}}}}],\"toolbar\":{\"type\":\"object\",\"name\":\"Toolbar\",\"id\":\"p2995\",\"attributes\":{\"tools\":[{\"type\":\"object\",\"name\":\"PanTool\",\"id\":\"p3018\"},{\"type\":\"object\",\"name\":\"WheelZoomTool\",\"id\":\"p3019\"},{\"type\":\"object\",\"name\":\"BoxZoomTool\",\"id\":\"p3020\",\"attributes\":{\"overlay\":{\"type\":\"object\",\"name\":\"BoxAnnotation\",\"id\":\"p3021\",\"attributes\":{\"syncable\":false,\"level\":\"overlay\",\"visible\":false,\"left_units\":\"canvas\",\"right_units\":\"canvas\",\"bottom_units\":\"canvas\",\"top_units\":\"canvas\",\"line_color\":\"black\",\"line_alpha\":1.0,\"line_width\":2,\"line_dash\":[4,4],\"fill_color\":\"lightgrey\",\"fill_alpha\":0.5}}}},{\"type\":\"object\",\"name\":\"SaveTool\",\"id\":\"p3022\"},{\"type\":\"object\",\"name\":\"ResetTool\",\"id\":\"p3023\"},{\"type\":\"object\",\"name\":\"HelpTool\",\"id\":\"p3024\"},{\"type\":\"object\",\"name\":\"HoverTool\",\"id\":\"p3033\",\"attributes\":{\"name\":\"hover_glyphs\",\"renderers\":\"auto\",\"tooltips\":[[\"trial\",\"@{trial number}\"],[\"adh force\",\"@{adhesive force (mN)}\"]]}}]}},\"toolbar_location\":\"above\",\"left\":[{\"type\":\"object\",\"name\":\"LinearAxis\",\"id\":\"p3011\",\"attributes\":{\"ticker\":{\"type\":\"object\",\"name\":\"BasicTicker\",\"id\":\"p3012\",\"attributes\":{\"mantissas\":[1,2,5]}},\"formatter\":{\"type\":\"object\",\"name\":\"BasicTickFormatter\",\"id\":\"p3013\"},\"axis_label\":\"ECDF\",\"major_label_policy\":{\"type\":\"object\",\"name\":\"AllLabels\",\"id\":\"p3014\"}}}],\"right\":[{\"type\":\"object\",\"name\":\"Legend\",\"id\":\"p3083\",\"attributes\":{\"location\":\"center\",\"click_policy\":\"hide\",\"items\":[{\"type\":\"object\",\"name\":\"LegendItem\",\"id\":\"p3084\",\"attributes\":{\"label\":{\"type\":\"value\",\"value\":\"I\"},\"renderers\":[{\"id\":\"p3044\"}]}},{\"type\":\"object\",\"name\":\"LegendItem\",\"id\":\"p3085\",\"attributes\":{\"label\":{\"type\":\"value\",\"value\":\"II\"},\"renderers\":[{\"id\":\"p3056\"}]}},{\"type\":\"object\",\"name\":\"LegendItem\",\"id\":\"p3086\",\"attributes\":{\"label\":{\"type\":\"value\",\"value\":\"III\"},\"renderers\":[{\"id\":\"p3068\"}]}},{\"type\":\"object\",\"name\":\"LegendItem\",\"id\":\"p3087\",\"attributes\":{\"label\":{\"type\":\"value\",\"value\":\"IV\"},\"renderers\":[{\"id\":\"p3080\"}]}}]}}],\"below\":[{\"type\":\"object\",\"name\":\"LinearAxis\",\"id\":\"p3004\",\"attributes\":{\"ticker\":{\"type\":\"object\",\"name\":\"BasicTicker\",\"id\":\"p3005\",\"attributes\":{\"mantissas\":[1,2,5]}},\"formatter\":{\"type\":\"object\",\"name\":\"BasicTickFormatter\",\"id\":\"p3006\"},\"axis_label\":\"impact force (mN)\",\"major_label_policy\":{\"type\":\"object\",\"name\":\"AllLabels\",\"id\":\"p3007\"}}}],\"center\":[{\"type\":\"object\",\"name\":\"Grid\",\"id\":\"p3010\",\"attributes\":{\"axis\":{\"id\":\"p3004\"}}},{\"type\":\"object\",\"name\":\"Grid\",\"id\":\"p3017\",\"attributes\":{\"dimension\":1,\"axis\":{\"id\":\"p3011\"}}}],\"frame_width\":375,\"frame_height\":275}}],\"callbacks\":{\"type\":\"map\"}}};\n",
       "  const render_items = [{\"docid\":\"63a0d738-ba69-4285-837a-028e5b2830e2\",\"roots\":{\"p2987\":\"fbfec024-3007-45d5-ac47-d8ad462af604\"},\"root_ids\":[\"p2987\"]}];\n",
       "  root.Bokeh.embed.embed_items_notebook(docs_json, render_items);\n",
       "  }\n",
       "  if (root.Bokeh !== undefined) {\n",
       "    embed_document(root);\n",
       "  } else {\n",
       "    let attempts = 0;\n",
       "    const timer = setInterval(function(root) {\n",
       "      if (root.Bokeh !== undefined) {\n",
       "        clearInterval(timer);\n",
       "        embed_document(root);\n",
       "      } else {\n",
       "        attempts++;\n",
       "        if (attempts > 100) {\n",
       "          clearInterval(timer);\n",
       "          console.log(\"Bokeh: ERROR: Unable to run BokehJS code because BokehJS library is missing\");\n",
       "        }\n",
       "      }\n",
       "    }, 10, root)\n",
       "  }\n",
       "})(window);"
      ],
      "application/vnd.bokehjs_exec.v0+json": ""
     },
     "metadata": {
      "application/vnd.bokehjs_exec.v0+json": {
       "id": "p2987"
      }
     },
     "output_type": "display_data"
    }
   ],
   "source": [
    "p = iqplot.ecdf(\n",
    "    data=df,\n",
    "    q=\"impact force (mN)\",\n",
    "    cats=\"ID\",\n",
    "    kind='colored',\n",
    "    tooltips=[\n",
    "        ('trial', '@{trial number}'),\n",
    "        ('adh force', '@{adhesive force (mN)}')\n",
    "    ],    \n",
    ")\n",
    "\n",
    "bokeh.io.show(p)"
   ]
  },
  {
   "cell_type": "markdown",
   "metadata": {},
   "source": [
    "## Styling Bokeh plots as they are built\n",
    "\n",
    "We now move into lower-level styling of Bokeh plots in general. Bokeh figures and renderers (which are essentially the glyphs) have a plethora of attributes pertaining to visual appearance that may be adjusted at instantiation and after making a plot. As an example, let us again make a plot from the face-matching data set. We'll naturally start by loading the data set."
   ]
  },
  {
   "cell_type": "code",
   "execution_count": 11,
   "metadata": {},
   "outputs": [],
   "source": [
    "df = pd.read_csv(\"data/gfmt_sleep.csv\", na_values=\"*\")\n",
    "df[\"insomnia\"] = df[\"sci\"] <= 16"
   ]
  },
  {
   "cell_type": "markdown",
   "metadata": {},
   "source": [
    "A **color palette** an ordering of colors that are used for glyphs, usually corresponding to categorical data. [Colorcet's Glasbey Category 10](https://colorcet.holoviz.org/user_guide/Categorical.html#starting-colors) provides a good palette for categorical data, and we store this as our categorical colors for plotting."
   ]
  },
  {
   "cell_type": "code",
   "execution_count": 12,
   "metadata": {},
   "outputs": [],
   "source": [
    "cat_colors = colorcet.b_glasbey_category10"
   ]
  },
  {
   "cell_type": "markdown",
   "metadata": {},
   "source": [
    "Now we can build the plot. Since the data are percentages, we will set the axes to go from zero to 100 and enforce that the figure is square. We will also include a title as well so we can style that."
   ]
  },
  {
   "cell_type": "code",
   "execution_count": 13,
   "metadata": {},
   "outputs": [],
   "source": [
    "p = bokeh.plotting.figure(\n",
    "    frame_width=300,\n",
    "    frame_height=300,\n",
    "    x_axis_label=\"confidence when correct\",\n",
    "    y_axis_label=\"condifence when incorrect\",\n",
    "    title=\"GMFT with sleep conditions\",\n",
    "    x_range=[0, 100],\n",
    "    y_range=[0, 100],\n",
    ")"
   ]
  },
  {
   "cell_type": "markdown",
   "metadata": {},
   "source": [
    "In styling this plot, we will also put the legend outside of the plot area. This is a bit trickier than what we have been doing using the `legend_label` kwarg in `p.circle()`. To get a legend outside of the plot area, we need to:\n",
    "\n",
    "1. Assign each glyph to a variable.\n",
    "2. Instantiate a `bokeh.models.Legend` object using the stored variables containing the glyphs. This is instantiated as `bokeh.models.Legend(items=legend_items)`, where `legend_items` is a list of 2-tuples. In each 2-tuple, the first entry is a string with the text used to label the glyph. The second entry is a list of glyphs that have the label.\n",
    "3. Add the legend to the figure using the `add_layout()` method.\n",
    "\n",
    "Now, we add the glyphs, storing them as variables `normal_glyph` and `insom_glyph`."
   ]
  },
  {
   "cell_type": "code",
   "execution_count": 14,
   "metadata": {},
   "outputs": [],
   "source": [
    "# Set up sources\n",
    "source_insomnia = bokeh.models.ColumnDataSource(df.loc[df['insomnia'], :])\n",
    "source_normal = bokeh.models.ColumnDataSource(df.loc[~df['insomnia'], :])\n",
    "\n",
    "normal_glyph = p.circle(\n",
    "    source=source_normal,\n",
    "    x=\"confidence when correct\",\n",
    "    y=\"confidence when incorrect\",\n",
    "    color=cat_colors[0],\n",
    ")\n",
    "\n",
    "insom_glyph = p.circle(\n",
    "    source=source_insomnia,\n",
    "    x=\"confidence when correct\",\n",
    "    y=\"confidence when incorrect\",\n",
    "    color=cat_colors[1],\n",
    ")"
   ]
  },
  {
   "cell_type": "markdown",
   "metadata": {},
   "source": [
    "Now we can construct and add the legend."
   ]
  },
  {
   "cell_type": "code",
   "execution_count": 15,
   "metadata": {},
   "outputs": [],
   "source": [
    "# Construct legend items\n",
    "legend_items = [('normal', [normal_glyph]), ('insomnia', [insom_glyph])]\n",
    "\n",
    "# Instantiate legend\n",
    "legend = bokeh.models.Legend(items=legend_items, click_policy='hide')\n",
    "\n",
    "# Add the legend to the right of the plot\n",
    "p.add_layout(legend, 'right')"
   ]
  },
  {
   "cell_type": "markdown",
   "metadata": {},
   "source": [
    "Now, let's take a look at this beauty!"
   ]
  },
  {
   "cell_type": "code",
   "execution_count": 16,
   "metadata": {},
   "outputs": [
    {
     "data": {
      "text/html": [
       "\n",
       "  <div id=\"b3f498f7-d374-413f-a922-da4bd423d09b\" data-root-id=\"p3434\" style=\"display: contents;\"></div>\n"
      ]
     },
     "metadata": {},
     "output_type": "display_data"
    },
    {
     "data": {
      "application/javascript": [
       "(function(root) {\n",
       "  function embed_document(root) {\n",
       "  const docs_json = {\"d705cecd-f60f-4aa6-8354-b2f7691d8834\":{\"version\":\"3.1.1\",\"title\":\"Bokeh Application\",\"defs\":[],\"roots\":[{\"type\":\"object\",\"name\":\"Figure\",\"id\":\"p3434\",\"attributes\":{\"x_range\":{\"type\":\"object\",\"name\":\"Range1d\",\"id\":\"p3444\",\"attributes\":{\"end\":100}},\"y_range\":{\"type\":\"object\",\"name\":\"Range1d\",\"id\":\"p3446\",\"attributes\":{\"end\":100}},\"x_scale\":{\"type\":\"object\",\"name\":\"LinearScale\",\"id\":\"p3448\"},\"y_scale\":{\"type\":\"object\",\"name\":\"LinearScale\",\"id\":\"p3450\"},\"title\":{\"type\":\"object\",\"name\":\"Title\",\"id\":\"p3437\",\"attributes\":{\"text\":\"GMFT with sleep conditions\"}},\"renderers\":[{\"type\":\"object\",\"name\":\"GlyphRenderer\",\"id\":\"p3493\",\"attributes\":{\"data_source\":{\"type\":\"object\",\"name\":\"ColumnDataSource\",\"id\":\"p3484\",\"attributes\":{\"selected\":{\"type\":\"object\",\"name\":\"Selection\",\"id\":\"p3485\",\"attributes\":{\"indices\":[],\"line_indices\":[]}},\"selection_policy\":{\"type\":\"object\",\"name\":\"UnionRenderers\",\"id\":\"p3486\"},\"data\":{\"type\":\"map\",\"entries\":[[\"index\",{\"type\":\"ndarray\",\"array\":{\"type\":\"bytes\",\"data\":\"GQAAABoAAAAbAAAAHAAAAB0AAAAeAAAAHwAAACAAAAAhAAAAIgAAACMAAAAkAAAAJQAAACYAAAAnAAAAKAAAACkAAAAqAAAAKwAAACwAAAAtAAAALgAAAC8AAAAwAAAAMQAAADIAAAAzAAAANAAAADUAAAA2AAAANwAAADgAAAA5AAAAOgAAADsAAAA8AAAAPQAAAD4AAAA/AAAAQAAAAEEAAABCAAAAQwAAAEQAAABFAAAARgAAAEcAAABIAAAASQAAAEoAAABLAAAATAAAAE0AAABOAAAATwAAAFAAAABRAAAAUgAAAFMAAABUAAAAVQAAAFYAAABXAAAAWAAAAFkAAABaAAAAWwAAAFwAAABdAAAAXgAAAF8AAABgAAAAYQAAAGIAAABjAAAAZAAAAGUAAAA=\"},\"shape\":[77],\"dtype\":\"int32\",\"order\":\"little\"}],[\"participant number\",{\"type\":\"ndarray\",\"array\":{\"type\":\"bytes\",\"data\":\"AQAAAAIAAAADAAAABAAAAAUAAAAGAAAABwAAAAkAAAAKAAAACwAAAAwAAAANAAAADgAAAA8AAAARAAAAEwAAABQAAAAVAAAAFwAAABgAAAAZAAAAGgAAAB0AAAAfAAAAIAAAACQAAAAlAAAAJwAAACgAAAAqAAAAKwAAACwAAAAtAAAAMAAAADIAAAAzAAAANAAAADUAAAA2AAAAOAAAADkAAAA6AAAAOwAAADwAAAA9AAAAPgAAAD8AAABAAAAAQQAAAEIAAABDAAAARAAAAEUAAABGAAAASAAAAEkAAABKAAAASwAAAE8AAABRAAAAUgAAAFMAAABUAAAAVQAAAFYAAABXAAAAWAAAAFsAAABcAAAAXgAAAF8AAABgAAAAYQAAAGIAAABjAAAAZgAAAGcAAAA=\"},\"shape\":[77],\"dtype\":\"int32\",\"order\":\"little\"}],[\"gender\",{\"type\":\"ndarray\",\"array\":[\"f\",\"f\",\"f\",\"f\",\"f\",\"f\",\"f\",\"m\",\"f\",\"f\",\"m\",\"m\",\"m\",\"f\",\"m\",\"f\",\"f\",\"m\",\"m\",\"f\",\"f\",\"m\",\"f\",\"m\",\"f\",\"m\",\"f\",\"f\",\"m\",\"m\",\"f\",\"f\",\"f\",\"f\",\"m\",\"f\",\"f\",\"f\",\"f\",\"m\",\"f\",\"f\",\"f\",\"m\",\"f\",\"f\",\"f\",\"f\",\"f\",\"f\",\"f\",\"f\",\"f\",\"f\",\"f\",\"f\",\"m\",\"f\",\"f\",\"m\",\"f\",\"f\",\"f\",\"f\",\"f\",\"m\",\"m\",\"m\",\"m\",\"f\",\"m\",\"f\",\"f\",\"f\",\"f\",\"f\",\"f\"],\"shape\":[77],\"dtype\":\"object\",\"order\":\"little\"}],[\"age\",{\"type\":\"ndarray\",\"array\":{\"type\":\"bytes\",\"data\":\"KgAAAC0AAAAQAAAAFQAAABIAAAAcAAAAJgAAABEAAAAZAAAAFgAAACkAAAA1AAAAKwAAABcAAAATAAAALQAAACsAAAAjAAAAGAAAAEAAAAAkAAAAIwAAACsAAAAsAAAAHQAAABYAAAAuAAAAIwAAADUAAAAdAAAAHwAAABUAAAAqAAAAFwAAADYAAAAYAAAAFQAAABUAAAArAAAAMgAAADUAAAAQAAAAQwAAACQAAAAiAAAAKgAAAC4AAABFAAAAHwAAACwAAAAZAAAALQAAAC8AAAAhAAAAEgAAAEoAAAAVAAAALQAAACUAAAApAAAAKQAAACIAAAAnAAAAEgAAAB8AAAAaAAAAQgAAAD4AAAAWAAAAKQAAAC4AAAA4AAAAFwAAAEYAAAAYAAAAKAAAACEAAAA=\"},\"shape\":[77],\"dtype\":\"int32\",\"order\":\"little\"}],[\"correct hit percentage\",{\"type\":\"ndarray\",\"array\":{\"type\":\"bytes\",\"data\":\"UAAAAFAAAABGAAAARgAAAFoAAABfAAAAWgAAAFoAAABkAAAAUAAAAFoAAABfAAAAXwAAAFoAAAA3AAAAZAAAAEEAAABaAAAANwAAAEsAAABkAAAARgAAAFoAAABfAAAAXwAAAEYAAABQAAAAMgAAAEEAAABkAAAAVQAAAFUAAABaAAAAWgAAAFoAAABVAAAAVQAAAFoAAABfAAAARgAAAF8AAABVAAAAXwAAAFoAAABaAAAAZAAAAFAAAABfAAAAZAAAAFoAAABkAAAARgAAAFoAAABVAAAAUAAAAFUAAAAoAAAAUAAAAFoAAABaAAAAUAAAAFoAAABLAAAAVQAAAGQAAABfAAAAPAAAAGQAAABVAAAAIwAAAF8AAABGAAAARgAAAFoAAABGAAAASwAAAFUAAAA=\"},\"shape\":[77],\"dtype\":\"int32\",\"order\":\"little\"}],[\"correct reject percentage\",{\"type\":\"ndarray\",\"array\":{\"type\":\"bytes\",\"data\":\"QQAAAFoAAABQAAAAQQAAAGQAAABQAAAAXwAAAFoAAABkAAAAPAAAAFAAAAA8AAAAWgAAAFAAAAA8AAAAVQAAAEEAAABkAAAAZAAAAFUAAABQAAAAWgAAAFUAAABaAAAANwAAAEEAAABLAAAAXwAAAFAAAABGAAAAWgAAAFoAAABaAAAAVQAAAEYAAABfAAAASwAAAFAAAABLAAAAVQAAAEsAAABVAAAASwAAAEEAAABaAAAAZAAAAFoAAABQAAAAXwAAAF8AAABkAAAAMgAAAGQAAABGAAAASwAAAFAAAAAoAAAAXwAAAFAAAABVAAAASwAAACMAAABGAAAAVQAAAFUAAABLAAAAVQAAAFAAAABfAAAASwAAAFAAAAAyAAAAVQAAAFUAAABQAAAAQQAAACgAAAA=\"},\"shape\":[77],\"dtype\":\"int32\",\"order\":\"little\"}],[\"percent correct\",{\"type\":\"ndarray\",\"array\":{\"type\":\"bytes\",\"data\":\"AAAAAAAgUkAAAAAAAEBVQAAAAAAAwFJAAAAAAADgUEAAAAAAAMBXQAAAAAAA4FVAAAAAAAAgV0AAAAAAAIBWQAAAAAAAAFlAAAAAAACAUUAAAAAAAEBVQAAAAAAAYFNAAAAAAAAgV0AAAAAAAEBVQAAAAAAAwExAAAAAAAAgV0AAAAAAAEBQQAAAAAAAwFdAAAAAAABgU0AAAAAAAABUQAAAAAAAgFZAAAAAAAAAVEAAAAAAAOBVQAAAAAAAIFdAAAAAAADAUkAAAAAAAOBQQAAAAAAAYFNAAAAAAAAgUkAAAAAAACBSQAAAAAAAQFVAAAAAAADgVUAAAAAAAOBVQAAAAAAAgFZAAAAAAADgVUAAAAAAAABUQAAAAAAAgFZAAAAAAAAAVEAAAAAAAEBVQAAAAAAAQFVAAAAAAABgU0AAAAAAAEBVQAAAAAAAQFVAAAAAAABAVUAAAAAAAGBTQAAAAAAAgFZAAAAAAAAAWUAAAAAAAEBVQAAAAAAA4FVAAAAAAABgWEAAAAAAACBXQAAAAAAAAFlAAAAAAAAATkAAAAAAAMBXQAAAAAAAYFNAAAAAAABgU0AAAAAAAKBUQAAAAAAAAERAAAAAAADgVUAAAAAAAEBVQAAAAAAA4FVAAAAAAABgU0AAAAAAAEBPQAAAAAAAIFJAAAAAAABAVUAAAAAAACBXQAAAAAAAQFVAAAAAAAAgUkAAAAAAAIBWQAAAAAAAgFZAAAAAAACAS0AAAAAAAOBVQAAAAAAAAE5AAAAAAABgU0AAAAAAAOBVQAAAAAAAwFJAAAAAAACAUUAAAAAAAEBPQA==\"},\"shape\":[77],\"dtype\":\"float64\",\"order\":\"little\"}],[\"confidence when correct hit\",{\"type\":\"ndarray\",\"array\":{\"type\":\"bytes\",\"data\":\"AAAAAADASUAAAAAAAMBSQAAAAAAAgFFAAAAAAADAT0AAAAAAACBTQAAAAAAAAFlAAAAAAABAU0AAAAAAACBUQAAAAAAAgFZAAAAAAACAUUAAAAAAACBTQAAAAAAAAERAAAAAAAAASkAAAAAAAABWQAAAAAAAAE9AAAAAAAAAUUAAAAAAAIBNQAAAAAAA4FJAAAAAAAAAUUAAAAAAAABJQAAAAAAAAFZAAAAAAACAPUAAAAAAAGBQQAAAAAAAwFRAAAAAAADAUEAAAAAAAIBTQAAAAAAAIFJAAAAAAABAT0AAAAAAAABLQAAAAAAAwFJAAAAAAACAVEAAAAAAAIBQQAAAAAAAwFRAAAAAAADAUEAAAAAAAIBWQAAAAAAAQFhAAAAAAABAUEAAAAAAAABVQAAAAAAAgFJAAAAAAAAgV0AAAAAAAABVQAAAAAAAgEtAAAAAAACAUUAAAAAAAOBQQAAAAAAAQE1AAAAAAACgUkAAAAAAAABXQAAAAAAAAFRAAAAAAACAWEAAAAAAAMBVQAAAAAAAwE5AAAAAAAAgVEAAAAAAAABZQAAAAAAAgFFAAAAAAADgUEAAAAAAAIBQQAAAAAAAoFZAAAAAAACAUkAAAAAAAOBXQAAAAAAAAFRAAAAAAACgV0AAAAAAAEBUQAAAAAAAgExAAAAAAABAV0AAAAAAAABZQAAAAAAAQFVAAAAAAADgUEAAAAAAAEBUQAAAAAAAgFBAAAAAAACAS0AAAAAAAIBWQAAAAAAAgE9AAAAAAABAU0AAAAAAAGBQQAAAAAAAwE5AAAAAAACASkAAAAAAAABUQA==\"},\"shape\":[77],\"dtype\":\"float64\",\"order\":\"little\"}],[\"confidence when incorrect hit\",{\"type\":\"ndarray\",\"array\":{\"type\":\"bytes\",\"data\":\"AAAAAABARkAAAAAAAMBLQAAAAAAAgExAAAAAAAAAUEAAAAAAAMBUQAAAAAAAQFVAAAAAAADARUAAAAAAAOBVQAAAAAAAAPh/AAAAAACAUUAAAAAAAMBLQAAAAAAAgEBAAAAAAAAAPUAAAAAAAABEQAAAAAAAAElAAAAAAAAA+H8AAAAAAIBLQAAAAAAAwEFAAAAAAADAUEAAAAAAAAA5QAAAAAAAAPh/AAAAAACAPEAAAAAAAAA7QAAAAAAAAExAAAAAAACASkAAAAAAAABWQAAAAAAAAFJAAAAAAAAAPUAAAAAAAABAQAAAAAAAAPh/AAAAAACASEAAAAAAAAA9QAAAAAAAwFRAAAAAAACAR0AAAAAAAOBUQAAAAAAAgERAAAAAAABAUkAAAAAAAMBLQAAAAAAAQFZAAAAAAAAgUkAAAAAAAIBLQAAAAAAAAD5AAAAAAAAAHEAAAAAAAIA8QAAAAAAAgEVAAAAAAAAA+H8AAAAAAOBSQAAAAAAAQFBAAAAAAAAA+H8AAAAAAMBHQAAAAAAAAPh/AAAAAADASUAAAAAAAAD4fwAAAAAAAENAAAAAAADASUAAAAAAAIBLQAAAAAAAAFRAAAAAAADAUEAAAAAAAABRQAAAAAAAwE1AAAAAAADATkAAAAAAAABKQAAAAAAAgExAAAAAAAAAV0AAAAAAAAD4fwAAAAAAAFZAAAAAAACAUEAAAAAAAAD4fwAAAAAAAExAAAAAAACATkAAAAAAAMBSQAAAAAAAQEpAAAAAAACgUEAAAAAAAGBVQAAAAAAAQFRAAAAAAACAQkAAAAAAAAA7QA==\"},\"shape\":[77],\"dtype\":\"float64\",\"order\":\"little\"}],[\"confidence when correct reject\",{\"type\":\"ndarray\",\"array\":{\"type\":\"bytes\",\"data\":\"AAAAAACARUAAAAAAAABUQAAAAAAAAEtAAAAAAAAASUAAAAAAAABUQAAAAAAAgFdAAAAAAADAU0AAAAAAACBTQAAAAAAAQFVAAAAAAACAUUAAAAAAAOBQQAAAAAAAAExAAAAAAACASEAAAAAAAKBRQAAAAAAAgFBAAAAAAACATkAAAAAAAABQQAAAAAAAoFJAAAAAAAAAVEAAAAAAAIBQQAAAAAAAgFBAAAAAAAAAM0AAAAAAAIBEQAAAAAAAwFNAAAAAAABAUEAAAAAAAEBTQAAAAAAAAFlAAAAAAABAU0AAAAAAAMBHQAAAAAAAIFBAAAAAAABAVEAAAAAAAIBRQAAAAAAAIFRAAAAAAABAUUAAAAAAAGBTQAAAAAAAgFJAAAAAAAAATEAAAAAAAGBSQAAAAAAAAFFAAAAAAADAV0AAAAAAAABRQAAAAAAAAElAAAAAAABAUUAAAAAAAIBLQAAAAAAAYFJAAAAAAACAUkAAAAAAAABXQAAAAAAAoFNAAAAAAACAVkAAAAAAAEBRQAAAAAAAQE1AAAAAAACAT0AAAAAAAOBRQAAAAAAAQE1AAAAAAACAUEAAAAAAAIBPQAAAAAAAoFJAAAAAAAAAU0AAAAAAAOBUQAAAAAAAgFFAAAAAAACAVUAAAAAAAMBRQAAAAAAAwE1AAAAAAADAVkAAAAAAAABZQAAAAAAAgFRAAAAAAACAUkAAAAAAAKBSQAAAAAAAAFJAAAAAAAAAVEAAAAAAAABUQAAAAAAA4FBAAAAAAABAU0AAAAAAAMBVQAAAAAAAgFFAAAAAAAAAVUAAAAAAAAA/QA==\"},\"shape\":[77],\"dtype\":\"float64\",\"order\":\"little\"}],[\"confidence when incorrect reject\",{\"type\":\"ndarray\",\"array\":{\"type\":\"bytes\",\"data\":\"AAAAAACASEAAAAAAAMBSQAAAAAAAgEpAAAAAAAAASUAAAAAAAAD4fwAAAAAAgE5AAAAAAAAANUAAAAAAAAA7QAAAAAAAAPh/AAAAAABAUEAAAAAAAEBKQAAAAAAAgEhAAAAAAAAAQkAAAAAAAKBQQAAAAAAAQElAAAAAAAAAS0AAAAAAAIBNQAAAAAAAAPh/AAAAAAAA+H8AAAAAAAA4QAAAAAAAwE9AAAAAAADAREAAAAAAAIBGQAAAAAAAQEVAAAAAAACASkAAAAAAAABUQAAAAAAAwFZAAAAAAAAAQEAAAAAAAKBTQAAAAAAAgEVAAAAAAAAAQkAAAAAAAAA9QAAAAAAAAEJAAAAAAAAAREAAAAAAAEBRQAAAAAAAQFJAAAAAAAAAUUAAAAAAAIBRQAAAAAAAQFBAAAAAAABAUEAAAAAAAIBOQAAAAAAAAERAAAAAAAAATkAAAAAAAABKQAAAAAAAwEpAAAAAAAAA+H8AAAAAAIBPQAAAAAAAoFFAAAAAAAAAREAAAAAAAMBVQAAAAAAAAPh/AAAAAABAUUAAAAAAAMBUQAAAAAAAQFBAAAAAAACATEAAAAAAAEBJQAAAAAAAwFRAAAAAAAAAMUAAAAAAAMBUQAAAAAAAgERAAAAAAACAUkAAAAAAAABNQAAAAAAAAElAAAAAAABAVkAAAAAAAABJQAAAAAAAgFRAAAAAAACATEAAAAAAAIBUQAAAAAAAgE9AAAAAAACATEAAAAAAAABUQAAAAAAAYFBAAAAAAABgU0AAAAAAAABUQAAAAAAAgE5AAAAAAAAASkAAAAAAAKBUQA==\"},\"shape\":[77],\"dtype\":\"float64\",\"order\":\"little\"}],[\"confidence when correct\",{\"type\":\"ndarray\",\"array\":{\"type\":\"bytes\",\"data\":\"AAAAAACASUAAAAAAAKBTQAAAAAAAgExAAAAAAAAATkAAAAAAAABUQAAAAAAAwFhAAAAAAACAU0AAAAAAAKBTQAAAAAAAgFZAAAAAAACAUUAAAAAAAIBSQAAAAAAAgEdAAAAAAAAASkAAAAAAAABVQAAAAAAAgE9AAAAAAAAAT0AAAAAAAMBNQAAAAAAA4FJAAAAAAACAU0AAAAAAAIBPQAAAAAAAQFRAAAAAAAAAOEAAAAAAAABJQAAAAAAAQFRAAAAAAADAUEAAAAAAAEBTQAAAAAAAAFlAAAAAAAAAUUAAAAAAAABIQAAAAAAAgFJAAAAAAACAVEAAAAAAAMBQQAAAAAAAoFRAAAAAAADAUEAAAAAAAABWQAAAAAAAwFRAAAAAAADAT0AAAAAAACBUQAAAAAAAwFFAAAAAAADAV0AAAAAAAKBTQAAAAAAAQEpAAAAAAABAUUAAAAAAAIBOQAAAAAAAgFBAAAAAAACAUkAAAAAAAABXQAAAAAAAAFRAAAAAAAAAV0AAAAAAAMBUQAAAAAAAQE5AAAAAAAAgUkAAAAAAAGBYQAAAAAAAAFFAAAAAAADAUEAAAAAAAEBQQAAAAAAAgFRAAAAAAADAUkAAAAAAAIBXQAAAAAAAQFNAAAAAAAAAV0AAAAAAAEBUQAAAAAAAAE1AAAAAAADgVkAAAAAAAABZQAAAAAAAQFVAAAAAAACAUkAAAAAAAOBTQAAAAAAAoFFAAAAAAAAAUkAAAAAAAEBVQAAAAAAAAFBAAAAAAABAU0AAAAAAAIBSQAAAAAAAQFBAAAAAAABAVEAAAAAAAEBUQA==\"},\"shape\":[77],\"dtype\":\"float64\",\"order\":\"little\"}],[\"confidence when incorrect\",{\"type\":\"ndarray\",\"array\":{\"type\":\"bytes\",\"data\":\"AAAAAACASEAAAAAAAMBQQAAAAAAAQEtAAAAAAAAASUAAAAAAAMBUQAAAAAAAQFBAAAAAAAAAQkAAAAAAAOBQQAAAAAAAAPh/AAAAAACAUUAAAAAAAMBLQAAAAAAAAEZAAAAAAAAAPUAAAAAAAEBLQAAAAAAAAElAAAAAAAAAS0AAAAAAAIBMQAAAAAAAwEFAAAAAAADAUEAAAAAAAIA4QAAAAAAAwE9AAAAAAACAQUAAAAAAAIBGQAAAAAAAAEtAAAAAAACASkAAAAAAAABVQAAAAAAAwFZAAAAAAAAAP0AAAAAAAIBJQAAAAAAAgEVAAAAAAACASEAAAAAAAAA9QAAAAAAAAFNAAAAAAAAAREAAAAAAAMBTQAAAAAAAwEtAAAAAAAAAUUAAAAAAAEBQQAAAAAAAAFFAAAAAAABAUEAAAAAAAABNQAAAAAAAgEFAAAAAAADATUAAAAAAAABJQAAAAAAAwEdAAAAAAAAA+H8AAAAAAGBSQAAAAAAAgFFAAAAAAAAAREAAAAAAAMBQQAAAAAAAAPh/AAAAAADATkAAAAAAAMBUQAAAAAAAAERAAAAAAACASkAAAAAAAIBLQAAAAAAAQFRAAAAAAAAAUEAAAAAAAMBRQAAAAAAAgE1AAAAAAADAUEAAAAAAAABNQAAAAAAAAElAAAAAAADAVkAAAAAAAABJQAAAAAAAQFVAAAAAAAAAUEAAAAAAAIBUQAAAAAAAwE1AAAAAAAAATkAAAAAAAMBSQAAAAAAAwE1AAAAAAACAUkAAAAAAAABUQAAAAAAAQFRAAAAAAACASUAAAAAAAEBSQA==\"},\"shape\":[77],\"dtype\":\"float64\",\"order\":\"little\"}],[\"sci\",{\"type\":\"ndarray\",\"array\":{\"type\":\"bytes\",\"data\":\"HQAAABMAAAAXAAAAGgAAABUAAAATAAAAHAAAAB0AAAARAAAAFgAAABwAAAAfAAAAHwAAACAAAAAZAAAAHgAAABwAAAAeAAAAFgAAABQAAAAaAAAAIAAAACAAAAAYAAAAGgAAAB4AAAAcAAAAFQAAAB0AAAAgAAAAGgAAABoAAAAXAAAAEgAAABYAAAAdAAAAFAAAABsAAAATAAAAHQAAABgAAAAdAAAAEQAAABoAAAAeAAAAEQAAABkAAAAfAAAAGwAAACAAAAAcAAAAGQAAAB4AAAAVAAAAHQAAABQAAAAWAAAAFwAAABQAAAARAAAAGwAAABsAAAAWAAAAGQAAAB4AAAAgAAAAHgAAACAAAAAcAAAAHwAAAB0AAAAaAAAAFAAAABMAAAAfAAAAFgAAABgAAAA=\"},\"shape\":[77],\"dtype\":\"int32\",\"order\":\"little\"}],[\"psqi\",{\"type\":\"ndarray\",\"array\":{\"type\":\"bytes\",\"data\":\"AQAAAAUAAAABAAAABQAAAAcAAAAHAAAAAwAAAAMAAAAKAAAABAAAAAUAAAACAAAAAgAAAAIAAAAFAAAAAgAAAAMAAAADAAAABAAAAAkAAAAFAAAAAgAAAAEAAAAEAAAACAAAAAIAAAACAAAABgAAAAMAAAABAAAABQAAAAcAAAADAAAABgAAAAYAAAABAAAABgAAAAQAAAAEAAAAAwAAAAUAAAACAAAABwAAAAQAAAAAAAAABQAAAAEAAAABAAAABAAAAAEAAAAIAAAABAAAAAIAAAAHAAAABAAAAAEAAAAHAAAABAAAAAUAAAAGAAAABAAAAAIAAAADAAAABAAAAAMAAAABAAAABQAAAAIAAAABAAAAAQAAAAMAAAAGAAAACAAAAAgAAAACAAAABAAAAAUAAAA=\"},\"shape\":[77],\"dtype\":\"int32\",\"order\":\"little\"}],[\"ess\",{\"type\":\"ndarray\",\"array\":{\"type\":\"bytes\",\"data\":\"BQAAAAEAAAADAAAABAAAAAUAAAAMAAAABAAAAAQAAAALAAAABgAAAAMAAAALAAAACgAAAAwAAAAGAAAADQAAAAwAAAAFAAAACgAAAAQAAAAEAAAABgAAAAMAAAAAAAAADAAAAAYAAAAFAAAACQAAAAcAAAAGAAAACgAAABIAAAALAAAACAAAABAAAAAHAAAACQAAAAsAAAAEAAAABwAAAAQAAAALAAAADAAAAAMAAAADAAAABAAAAAsAAAABAAAABAAAAAIAAAAJAAAAAQAAAAIAAAAMAAAABgAAAAUAAAAFAAAABAAAAAkAAAADAAAACAAAAAYAAAAKAAAAFQAAAAUAAAAFAAAACQAAAAEAAAAIAAAACwAAAAUAAAAHAAAACgAAAAcAAAAPAAAABwAAAAcAAAA=\"},\"shape\":[77],\"dtype\":\"int32\",\"order\":\"little\"}],[\"insomnia\",{\"type\":\"ndarray\",\"array\":{\"type\":\"bytes\",\"data\":\"AAAAAAAAAAAAAAAAAAAAAAAAAAAAAAAAAAAAAAAAAAAAAAAAAAAAAAAAAAAAAAAAAAAAAAAAAAAAAAAAAAAAAAAAAAAAAAAAAAAAAAA=\"},\"shape\":[77],\"dtype\":\"bool\",\"order\":\"little\"}]]}}},\"view\":{\"type\":\"object\",\"name\":\"CDSView\",\"id\":\"p3494\",\"attributes\":{\"filter\":{\"type\":\"object\",\"name\":\"AllIndices\",\"id\":\"p3495\"}}},\"glyph\":{\"type\":\"object\",\"name\":\"Circle\",\"id\":\"p3490\",\"attributes\":{\"x\":{\"type\":\"field\",\"field\":\"confidence when correct\"},\"y\":{\"type\":\"field\",\"field\":\"confidence when incorrect\"},\"line_color\":{\"type\":\"value\",\"value\":\"#1f77b3\"},\"fill_color\":{\"type\":\"value\",\"value\":\"#1f77b3\"},\"hatch_color\":{\"type\":\"value\",\"value\":\"#1f77b3\"}}},\"nonselection_glyph\":{\"type\":\"object\",\"name\":\"Circle\",\"id\":\"p3491\",\"attributes\":{\"x\":{\"type\":\"field\",\"field\":\"confidence when correct\"},\"y\":{\"type\":\"field\",\"field\":\"confidence when incorrect\"},\"line_color\":{\"type\":\"value\",\"value\":\"#1f77b3\"},\"line_alpha\":{\"type\":\"value\",\"value\":0.1},\"fill_color\":{\"type\":\"value\",\"value\":\"#1f77b3\"},\"fill_alpha\":{\"type\":\"value\",\"value\":0.1},\"hatch_color\":{\"type\":\"value\",\"value\":\"#1f77b3\"},\"hatch_alpha\":{\"type\":\"value\",\"value\":0.1}}},\"muted_glyph\":{\"type\":\"object\",\"name\":\"Circle\",\"id\":\"p3492\",\"attributes\":{\"x\":{\"type\":\"field\",\"field\":\"confidence when correct\"},\"y\":{\"type\":\"field\",\"field\":\"confidence when incorrect\"},\"line_color\":{\"type\":\"value\",\"value\":\"#1f77b3\"},\"line_alpha\":{\"type\":\"value\",\"value\":0.2},\"fill_color\":{\"type\":\"value\",\"value\":\"#1f77b3\"},\"fill_alpha\":{\"type\":\"value\",\"value\":0.2},\"hatch_color\":{\"type\":\"value\",\"value\":\"#1f77b3\"},\"hatch_alpha\":{\"type\":\"value\",\"value\":0.2}}}}},{\"type\":\"object\",\"name\":\"GlyphRenderer\",\"id\":\"p3502\",\"attributes\":{\"data_source\":{\"type\":\"object\",\"name\":\"ColumnDataSource\",\"id\":\"p3481\",\"attributes\":{\"selected\":{\"type\":\"object\",\"name\":\"Selection\",\"id\":\"p3482\",\"attributes\":{\"indices\":[],\"line_indices\":[]}},\"selection_policy\":{\"type\":\"object\",\"name\":\"UnionRenderers\",\"id\":\"p3483\"},\"data\":{\"type\":\"map\",\"entries\":[[\"index\",{\"type\":\"ndarray\",\"array\":{\"type\":\"bytes\",\"data\":\"AAAAAAEAAAACAAAAAwAAAAQAAAAFAAAABgAAAAcAAAAIAAAACQAAAAoAAAALAAAADAAAAA0AAAAOAAAADwAAABAAAAARAAAAEgAAABMAAAAUAAAAFQAAABYAAAAXAAAAGAAAAA==\"},\"shape\":[25],\"dtype\":\"int32\",\"order\":\"little\"}],[\"participant number\",{\"type\":\"ndarray\",\"array\":{\"type\":\"bytes\",\"data\":\"CAAAABAAAAASAAAAFgAAABsAAAAcAAAAHgAAACEAAAAiAAAAIwAAACYAAAApAAAALgAAADEAAAA3AAAARwAAAEwAAABNAAAATgAAAFAAAABZAAAAWgAAAF0AAABkAAAAZQAAAA==\"},\"shape\":[25],\"dtype\":\"int32\",\"order\":\"little\"}],[\"gender\",{\"type\":\"ndarray\",\"array\":[\"f\",\"m\",\"f\",\"f\",\"f\",\"f\",\"m\",\"m\",\"f\",\"f\",\"f\",\"f\",\"f\",\"f\",\"f\",\"f\",\"f\",\"f\",\"m\",\"m\",\"f\",\"m\",\"f\",\"f\",\"f\"],\"shape\":[25],\"dtype\":\"object\",\"order\":\"little\"}],[\"age\",{\"type\":\"ndarray\",\"array\":{\"type\":\"bytes\",\"data\":\"JwAAACoAAAAfAAAAIwAAAEoAAAA9AAAAIAAAAD4AAAAhAAAANQAAACkAAAAkAAAAKAAAABgAAAAgAAAAKAAAAD0AAAAqAAAAHwAAABwAAAAaAAAALQAAABwAAAAsAAAAHAAAAA==\"},\"shape\":[25],\"dtype\":\"int32\",\"order\":\"little\"}],[\"correct hit percentage\",{\"type\":\"ndarray\",\"array\":{\"type\":\"bytes\",\"data\":\"QQAAAFoAAABaAAAAZAAAADwAAABQAAAAWgAAAC0AAABQAAAAZAAAAEYAAABaAAAAXwAAAFUAAABLAAAAKAAAAGQAAABGAAAAZAAAAGQAAAA8AAAAZAAAAGQAAABBAAAAZAAAAA==\"},\"shape\":[25],\"dtype\":\"int32\",\"order\":\"little\"}],[\"correct reject percentage\",{\"type\":\"ndarray\",\"array\":{\"type\":\"bytes\",\"data\":\"UAAAAFoAAABfAAAASwAAAEEAAAAUAAAASwAAAFoAAABkAAAAMgAAADcAAABkAAAAQQAAAEsAAAA3AAAAZAAAACgAAABaAAAARgAAADIAAABQAAAAXwAAAEsAAAAZAAAAKAAAAA==\"},\"shape\":[25],\"dtype\":\"int32\",\"order\":\"little\"}],[\"percent correct\",{\"type\":\"ndarray\",\"array\":{\"type\":\"bytes\",\"data\":\"AAAAAAAgUkAAAAAAAIBWQAAAAAAAIFdAAAAAAADgVUAAAAAAAEBPQAAAAAAAAElAAAAAAACgVEAAAAAAAOBQQAAAAAAAgFZAAAAAAADAUkAAAAAAAEBPQAAAAAAAwFdAAAAAAAAAVEAAAAAAAABUQAAAAAAAQFBAAAAAAACAUUAAAAAAAIBRQAAAAAAAAFRAAAAAAABAVUAAAAAAAMBSQAAAAAAAgFFAAAAAAABgWEAAAAAAAOBVQAAAAAAAgEZAAAAAAACAUUA=\"},\"shape\":[25],\"dtype\":\"float64\",\"order\":\"little\"}],[\"confidence when correct hit\",{\"type\":\"ndarray\",\"array\":{\"type\":\"bytes\",\"data\":\"AAAAAADAVkAAAAAAAOBSQAAAAAAAYFZAAAAAAABgVkAAAAAAACBRQAAAAAAAwFFAAAAAAADAUEAAAAAAAABLQAAAAAAAoFFAAAAAAACgUkAAAAAAAIBUQAAAAAAAIFNAAAAAAAAAVEAAAAAAAABNQAAAAAAAQFVAAAAAAABAUUAAAAAAAGBRQAAAAAAAwFVAAAAAAAAAV0AAAAAAAABZQAAAAAAAgFFAAAAAAAAAWUAAAAAAAGBWQAAAAAAAAE9AAAAAAADAVUA=\"},\"shape\":[25],\"dtype\":\"float64\",\"order\":\"little\"}],[\"confidence when incorrect hit\",{\"type\":\"ndarray\",\"array\":{\"type\":\"bytes\",\"data\":\"AAAAAACAVkAAAAAAAMBLQAAAAAAAgFZAAAAAAAAA+H8AAAAAAIBIQAAAAAAAgE9AAAAAAABATEAAAAAAAIBCQAAAAAAAIFNAAAAAAAAA+H8AAAAAAMBOQAAAAAAA4FJAAAAAAABAVkAAAAAAAABJQAAAAAAAQFRAAAAAAAAATEAAAAAAAAD4fwAAAAAAAFJAAAAAAAAA+H8AAAAAAAD4fwAAAAAAQFNAAAAAAAAA+H8AAAAAAAD4fwAAAAAAAFJAAAAAAAAA+H8=\"},\"shape\":[25],\"dtype\":\"float64\",\"order\":\"little\"}],[\"confidence when correct reject\",{\"type\":\"ndarray\",\"array\":{\"type\":\"bytes\",\"data\":\"AAAAAABAV0AAAAAAAKBRQAAAAAAAgFVAAAAAAADAUUAAAAAAAIBOQAAAAAAAAD9AAAAAAACAUEAAAAAAAEBQQAAAAAAAIFBAAAAAAABATkAAAAAAAEBSQAAAAAAAwFJAAAAAAADAU0AAAAAAAIBIQAAAAAAAQFVAAAAAAACAUUAAAAAAAEBGQAAAAAAAoFZAAAAAAABAVEAAAAAAAABZQAAAAAAAgFRAAAAAAAAAWUAAAAAAAMBQQAAAAAAAwFVAAAAAAAAAUUA=\"},\"shape\":[25],\"dtype\":\"float64\",\"order\":\"little\"}],[\"confidence when incorrect reject\",{\"type\":\"ndarray\",\"array\":{\"type\":\"bytes\",\"data\":\"AAAAAADgVEAAAAAAAABJQAAAAAAAQFRAAAAAAAAAVEAAAAAAAIBIQAAAAAAAIFJAAAAAAABAUEAAAAAAAGBUQAAAAAAAAPh/AAAAAABAUEAAAAAAAEBRQAAAAAAAAPh/AAAAAABATUAAAAAAAABRQAAAAAAAgFVAAAAAAAAA+H8AAAAAAEBSQAAAAAAAwEVAAAAAAAAATkAAAAAAAABZQAAAAAAA4FBAAAAAAAAAWUAAAAAAAABOQAAAAAAAQFNAAAAAAAAAS0A=\"},\"shape\":[25],\"dtype\":\"float64\",\"order\":\"little\"}],[\"confidence when correct\",{\"type\":\"ndarray\",\"array\":{\"type\":\"bytes\",\"data\":\"AAAAAABAV0AAAAAAAMBSQAAAAAAAQFZAAAAAAAAAVkAAAAAAAEBQQAAAAAAAIFBAAAAAAACAUEAAAAAAAABPQAAAAAAAAFFAAAAAAADAUUAAAAAAAIBUQAAAAAAAAFNAAAAAAADgU0AAAAAAAIBLQAAAAAAAQFVAAAAAAACAUUAAAAAAAEBLQAAAAAAAIFZAAAAAAADgVUAAAAAAAABZQAAAAAAAQFNAAAAAAAAAWUAAAAAAAABUQAAAAAAAYFFAAAAAAABAVEA=\"},\"shape\":[25],\"dtype\":\"float64\",\"order\":\"little\"}],[\"confidence when incorrect\",{\"type\":\"ndarray\",\"array\":{\"type\":\"bytes\",\"data\":\"AAAAAACAVkAAAAAAAABJQAAAAAAAAFZAAAAAAAAAVEAAAAAAAIBIQAAAAAAAoFFAAAAAAAAAUEAAAAAAAIBOQAAAAAAAIFNAAAAAAABAUEAAAAAAAABQQAAAAAAA4FJAAAAAAACAT0AAAAAAAIBNQAAAAAAA4FRAAAAAAAAATEAAAAAAAEBSQAAAAAAAAFBAAAAAAAAATkAAAAAAAABZQAAAAAAAoFFAAAAAAAAAWUAAAAAAAABOQAAAAAAAYFJAAAAAAAAAS0A=\"},\"shape\":[25],\"dtype\":\"float64\",\"order\":\"little\"}],[\"sci\",{\"type\":\"ndarray\",\"array\":{\"type\":\"bytes\",\"data\":\"CQAAAAQAAAAKAAAADQAAAA0AAAAPAAAAEAAAAA4AAAAOAAAADgAAAA4AAAAPAAAACgAAAA4AAAAFAAAAAAAAABAAAAALAAAADgAAAAwAAAAOAAAADgAAABAAAAABAAAADgAAAA==\"},\"shape\":[25],\"dtype\":\"int32\",\"order\":\"little\"}],[\"psqi\",{\"type\":\"ndarray\",\"array\":{\"type\":\"bytes\",\"data\":\"DQAAAAsAAAAJAAAACAAAAAkAAAAOAAAACQAAAAkAAAAMAAAACAAAAAUAAAAHAAAADAAAAA0AAAANAAAACwAAAAQAAAAKAAAABgAAAAcAAAAIAAAACQAAAAcAAAAPAAAABwAAAA==\"},\"shape\":[25],\"dtype\":\"int32\",\"order\":\"little\"}],[\"ess\",{\"type\":\"ndarray\",\"array\":{\"type\":\"bytes\",\"data\":\"AgAAAAcAAAADAAAAFAAAAAwAAAACAAAAAwAAAAkAAAAKAAAABwAAABMAAAAAAAAACAAAAAQAAAAHAAAADgAAAAwAAAAKAAAACwAAAAwAAAABAAAABgAAAAQAAAAGAAAAAgAAAA==\"},\"shape\":[25],\"dtype\":\"int32\",\"order\":\"little\"}],[\"insomnia\",{\"type\":\"ndarray\",\"array\":{\"type\":\"bytes\",\"data\":\"AQEBAQEBAQEBAQEBAQEBAQEBAQEBAQEBAQ==\"},\"shape\":[25],\"dtype\":\"bool\",\"order\":\"little\"}]]}}},\"view\":{\"type\":\"object\",\"name\":\"CDSView\",\"id\":\"p3503\",\"attributes\":{\"filter\":{\"type\":\"object\",\"name\":\"AllIndices\",\"id\":\"p3504\"}}},\"glyph\":{\"type\":\"object\",\"name\":\"Circle\",\"id\":\"p3499\",\"attributes\":{\"x\":{\"type\":\"field\",\"field\":\"confidence when correct\"},\"y\":{\"type\":\"field\",\"field\":\"confidence when incorrect\"},\"line_color\":{\"type\":\"value\",\"value\":\"#ff7e0e\"},\"fill_color\":{\"type\":\"value\",\"value\":\"#ff7e0e\"},\"hatch_color\":{\"type\":\"value\",\"value\":\"#ff7e0e\"}}},\"nonselection_glyph\":{\"type\":\"object\",\"name\":\"Circle\",\"id\":\"p3500\",\"attributes\":{\"x\":{\"type\":\"field\",\"field\":\"confidence when correct\"},\"y\":{\"type\":\"field\",\"field\":\"confidence when incorrect\"},\"line_color\":{\"type\":\"value\",\"value\":\"#ff7e0e\"},\"line_alpha\":{\"type\":\"value\",\"value\":0.1},\"fill_color\":{\"type\":\"value\",\"value\":\"#ff7e0e\"},\"fill_alpha\":{\"type\":\"value\",\"value\":0.1},\"hatch_color\":{\"type\":\"value\",\"value\":\"#ff7e0e\"},\"hatch_alpha\":{\"type\":\"value\",\"value\":0.1}}},\"muted_glyph\":{\"type\":\"object\",\"name\":\"Circle\",\"id\":\"p3501\",\"attributes\":{\"x\":{\"type\":\"field\",\"field\":\"confidence when correct\"},\"y\":{\"type\":\"field\",\"field\":\"confidence when incorrect\"},\"line_color\":{\"type\":\"value\",\"value\":\"#ff7e0e\"},\"line_alpha\":{\"type\":\"value\",\"value\":0.2},\"fill_color\":{\"type\":\"value\",\"value\":\"#ff7e0e\"},\"fill_alpha\":{\"type\":\"value\",\"value\":0.2},\"hatch_color\":{\"type\":\"value\",\"value\":\"#ff7e0e\"},\"hatch_alpha\":{\"type\":\"value\",\"value\":0.2}}}}}],\"toolbar\":{\"type\":\"object\",\"name\":\"Toolbar\",\"id\":\"p3443\",\"attributes\":{\"tools\":[{\"type\":\"object\",\"name\":\"PanTool\",\"id\":\"p3466\"},{\"type\":\"object\",\"name\":\"WheelZoomTool\",\"id\":\"p3467\"},{\"type\":\"object\",\"name\":\"BoxZoomTool\",\"id\":\"p3468\",\"attributes\":{\"overlay\":{\"type\":\"object\",\"name\":\"BoxAnnotation\",\"id\":\"p3469\",\"attributes\":{\"syncable\":false,\"level\":\"overlay\",\"visible\":false,\"left_units\":\"canvas\",\"right_units\":\"canvas\",\"bottom_units\":\"canvas\",\"top_units\":\"canvas\",\"line_color\":\"black\",\"line_alpha\":1.0,\"line_width\":2,\"line_dash\":[4,4],\"fill_color\":\"lightgrey\",\"fill_alpha\":0.5}}}},{\"type\":\"object\",\"name\":\"SaveTool\",\"id\":\"p3470\"},{\"type\":\"object\",\"name\":\"ResetTool\",\"id\":\"p3471\"},{\"type\":\"object\",\"name\":\"HelpTool\",\"id\":\"p3472\"}]}},\"left\":[{\"type\":\"object\",\"name\":\"LinearAxis\",\"id\":\"p3459\",\"attributes\":{\"ticker\":{\"type\":\"object\",\"name\":\"BasicTicker\",\"id\":\"p3460\",\"attributes\":{\"mantissas\":[1,2,5]}},\"formatter\":{\"type\":\"object\",\"name\":\"BasicTickFormatter\",\"id\":\"p3461\"},\"axis_label\":\"condifence when incorrect\",\"major_label_policy\":{\"type\":\"object\",\"name\":\"AllLabels\",\"id\":\"p3462\"}}}],\"right\":[{\"type\":\"object\",\"name\":\"Legend\",\"id\":\"p3505\",\"attributes\":{\"click_policy\":\"hide\",\"items\":[{\"type\":\"object\",\"name\":\"LegendItem\",\"id\":\"p3506\",\"attributes\":{\"label\":{\"type\":\"value\",\"value\":\"normal\"},\"renderers\":[{\"id\":\"p3493\"}]}},{\"type\":\"object\",\"name\":\"LegendItem\",\"id\":\"p3507\",\"attributes\":{\"label\":{\"type\":\"value\",\"value\":\"insomnia\"},\"renderers\":[{\"id\":\"p3502\"}]}}]}}],\"below\":[{\"type\":\"object\",\"name\":\"LinearAxis\",\"id\":\"p3452\",\"attributes\":{\"ticker\":{\"type\":\"object\",\"name\":\"BasicTicker\",\"id\":\"p3453\",\"attributes\":{\"mantissas\":[1,2,5]}},\"formatter\":{\"type\":\"object\",\"name\":\"BasicTickFormatter\",\"id\":\"p3454\"},\"axis_label\":\"confidence when correct\",\"major_label_policy\":{\"type\":\"object\",\"name\":\"AllLabels\",\"id\":\"p3455\"}}}],\"center\":[{\"type\":\"object\",\"name\":\"Grid\",\"id\":\"p3458\",\"attributes\":{\"axis\":{\"id\":\"p3452\"}}},{\"type\":\"object\",\"name\":\"Grid\",\"id\":\"p3465\",\"attributes\":{\"dimension\":1,\"axis\":{\"id\":\"p3459\"}}}],\"frame_width\":300,\"frame_height\":300}}],\"callbacks\":{\"type\":\"map\"}}};\n",
       "  const render_items = [{\"docid\":\"d705cecd-f60f-4aa6-8354-b2f7691d8834\",\"roots\":{\"p3434\":\"b3f498f7-d374-413f-a922-da4bd423d09b\"},\"root_ids\":[\"p3434\"]}];\n",
       "  root.Bokeh.embed.embed_items_notebook(docs_json, render_items);\n",
       "  }\n",
       "  if (root.Bokeh !== undefined) {\n",
       "    embed_document(root);\n",
       "  } else {\n",
       "    let attempts = 0;\n",
       "    const timer = setInterval(function(root) {\n",
       "      if (root.Bokeh !== undefined) {\n",
       "        clearInterval(timer);\n",
       "        embed_document(root);\n",
       "      } else {\n",
       "        attempts++;\n",
       "        if (attempts > 100) {\n",
       "          clearInterval(timer);\n",
       "          console.log(\"Bokeh: ERROR: Unable to run BokehJS code because BokehJS library is missing\");\n",
       "        }\n",
       "      }\n",
       "    }, 10, root)\n",
       "  }\n",
       "})(window);"
      ],
      "application/vnd.bokehjs_exec.v0+json": ""
     },
     "metadata": {
      "application/vnd.bokehjs_exec.v0+json": {
       "id": "p3434"
      }
     },
     "output_type": "display_data"
    }
   ],
   "source": [
    "bokeh.io.show(p)"
   ]
  },
  {
   "cell_type": "markdown",
   "metadata": {},
   "source": [
    "## Styling Bokeh plots after they are built\n",
    "\n",
    "After building a plot, we sometimes want to adjust styling. To do so, we need to change attributes of the object `p`. For example, let's look at the font of the x-axis label."
   ]
  },
  {
   "cell_type": "code",
   "execution_count": 17,
   "metadata": {},
   "outputs": [
    {
     "data": {
      "text/plain": [
       "'helvetica'"
      ]
     },
     "execution_count": 17,
     "metadata": {},
     "output_type": "execute_result"
    }
   ],
   "source": [
    "p.xaxis.axis_label_text_font"
   ]
  },
  {
   "cell_type": "markdown",
   "metadata": {},
   "source": [
    "We can also look at the style and size of the font."
   ]
  },
  {
   "cell_type": "code",
   "execution_count": 18,
   "metadata": {},
   "outputs": [
    {
     "data": {
      "text/plain": [
       "('italic', '13px')"
      ]
     },
     "execution_count": 18,
     "metadata": {},
     "output_type": "execute_result"
    }
   ],
   "source": [
    "p.xaxis.axis_label_text_font_style, p.xaxis.axis_label_text_font_size"
   ]
  },
  {
   "cell_type": "markdown",
   "metadata": {},
   "source": [
    "So, the default axis labels for Bokeh are italicized 13 pt Helvetica. I personally think this choice if fine, but we may have other preferences.\n",
    "\n",
    "To find out all of the available options to tweak, I usually type something like `p.` and hit tab to see what the options are. Finding `p.xaxis` is an option, then type `p.xaxis.` and hit tab again to see the styling option there.\n",
    "\n",
    "Using this technique, we can set some obnoxious styling for this plot. I will make all of the fonts non-italicized, large [papyrus](https://www.youtube.com/watch?v=jVhlJNJopOQ). I can also set the background and grid colors. Note that in Bokeh, any [named CSS color](https://css-tricks.com/snippets/css/named-colors-and-hex-equivalents/) or any valid [HEX code](https://en.wikipedia.org/wiki/Web_colors#Hex_triplet), entered as a string, is a valid color.\n",
    "\n",
    "Before we do the obnoxious styling, we will do one adjustment that is useful. Note in the above plot that the glyphs at the end of the plot are cropped. We would like the whole glyph to show. To do that, we set the **level** of the glyphs to be `'overlay'`. To do that, we extract the first two elements of the list of renderers, which contains the glyphs, and set the `level` attribute."
   ]
  },
  {
   "cell_type": "code",
   "execution_count": 19,
   "metadata": {},
   "outputs": [],
   "source": [
    "p.renderers[0].level = 'overlay'\n",
    "p.renderers[1].level = 'overlay'"
   ]
  },
  {
   "cell_type": "markdown",
   "metadata": {},
   "source": [
    "Now we can proceed to make our obnoxious styling."
   ]
  },
  {
   "cell_type": "code",
   "execution_count": 20,
   "metadata": {},
   "outputs": [
    {
     "data": {
      "text/html": [
       "\n",
       "  <div id=\"a53bec32-4daf-4000-b835-256046530a23\" data-root-id=\"p3434\" style=\"display: contents;\"></div>\n"
      ]
     },
     "metadata": {},
     "output_type": "display_data"
    },
    {
     "data": {
      "application/javascript": [
       "(function(root) {\n",
       "  function embed_document(root) {\n",
       "  const docs_json = {\"332a2316-a059-4dbf-ada2-702ee24d18c7\":{\"version\":\"3.1.1\",\"title\":\"Bokeh Application\",\"defs\":[],\"roots\":[{\"type\":\"object\",\"name\":\"Figure\",\"id\":\"p3434\",\"attributes\":{\"x_range\":{\"type\":\"object\",\"name\":\"Range1d\",\"id\":\"p3444\",\"attributes\":{\"end\":100}},\"y_range\":{\"type\":\"object\",\"name\":\"Range1d\",\"id\":\"p3446\",\"attributes\":{\"end\":100}},\"x_scale\":{\"type\":\"object\",\"name\":\"LinearScale\",\"id\":\"p3448\"},\"y_scale\":{\"type\":\"object\",\"name\":\"LinearScale\",\"id\":\"p3450\"},\"title\":{\"type\":\"object\",\"name\":\"Title\",\"id\":\"p3437\",\"attributes\":{\"text\":\"GMFT with sleep conditions\",\"text_font\":\"papyrus\",\"text_font_size\":\"18pt\",\"align\":\"center\"}},\"renderers\":[{\"type\":\"object\",\"name\":\"GlyphRenderer\",\"id\":\"p3493\",\"attributes\":{\"level\":\"overlay\",\"data_source\":{\"type\":\"object\",\"name\":\"ColumnDataSource\",\"id\":\"p3484\",\"attributes\":{\"selected\":{\"type\":\"object\",\"name\":\"Selection\",\"id\":\"p3485\",\"attributes\":{\"indices\":[],\"line_indices\":[]}},\"selection_policy\":{\"type\":\"object\",\"name\":\"UnionRenderers\",\"id\":\"p3486\"},\"data\":{\"type\":\"map\",\"entries\":[[\"index\",{\"type\":\"ndarray\",\"array\":{\"type\":\"bytes\",\"data\":\"GQAAABoAAAAbAAAAHAAAAB0AAAAeAAAAHwAAACAAAAAhAAAAIgAAACMAAAAkAAAAJQAAACYAAAAnAAAAKAAAACkAAAAqAAAAKwAAACwAAAAtAAAALgAAAC8AAAAwAAAAMQAAADIAAAAzAAAANAAAADUAAAA2AAAANwAAADgAAAA5AAAAOgAAADsAAAA8AAAAPQAAAD4AAAA/AAAAQAAAAEEAAABCAAAAQwAAAEQAAABFAAAARgAAAEcAAABIAAAASQAAAEoAAABLAAAATAAAAE0AAABOAAAATwAAAFAAAABRAAAAUgAAAFMAAABUAAAAVQAAAFYAAABXAAAAWAAAAFkAAABaAAAAWwAAAFwAAABdAAAAXgAAAF8AAABgAAAAYQAAAGIAAABjAAAAZAAAAGUAAAA=\"},\"shape\":[77],\"dtype\":\"int32\",\"order\":\"little\"}],[\"participant number\",{\"type\":\"ndarray\",\"array\":{\"type\":\"bytes\",\"data\":\"AQAAAAIAAAADAAAABAAAAAUAAAAGAAAABwAAAAkAAAAKAAAACwAAAAwAAAANAAAADgAAAA8AAAARAAAAEwAAABQAAAAVAAAAFwAAABgAAAAZAAAAGgAAAB0AAAAfAAAAIAAAACQAAAAlAAAAJwAAACgAAAAqAAAAKwAAACwAAAAtAAAAMAAAADIAAAAzAAAANAAAADUAAAA2AAAAOAAAADkAAAA6AAAAOwAAADwAAAA9AAAAPgAAAD8AAABAAAAAQQAAAEIAAABDAAAARAAAAEUAAABGAAAASAAAAEkAAABKAAAASwAAAE8AAABRAAAAUgAAAFMAAABUAAAAVQAAAFYAAABXAAAAWAAAAFsAAABcAAAAXgAAAF8AAABgAAAAYQAAAGIAAABjAAAAZgAAAGcAAAA=\"},\"shape\":[77],\"dtype\":\"int32\",\"order\":\"little\"}],[\"gender\",{\"type\":\"ndarray\",\"array\":[\"f\",\"f\",\"f\",\"f\",\"f\",\"f\",\"f\",\"m\",\"f\",\"f\",\"m\",\"m\",\"m\",\"f\",\"m\",\"f\",\"f\",\"m\",\"m\",\"f\",\"f\",\"m\",\"f\",\"m\",\"f\",\"m\",\"f\",\"f\",\"m\",\"m\",\"f\",\"f\",\"f\",\"f\",\"m\",\"f\",\"f\",\"f\",\"f\",\"m\",\"f\",\"f\",\"f\",\"m\",\"f\",\"f\",\"f\",\"f\",\"f\",\"f\",\"f\",\"f\",\"f\",\"f\",\"f\",\"f\",\"m\",\"f\",\"f\",\"m\",\"f\",\"f\",\"f\",\"f\",\"f\",\"m\",\"m\",\"m\",\"m\",\"f\",\"m\",\"f\",\"f\",\"f\",\"f\",\"f\",\"f\"],\"shape\":[77],\"dtype\":\"object\",\"order\":\"little\"}],[\"age\",{\"type\":\"ndarray\",\"array\":{\"type\":\"bytes\",\"data\":\"KgAAAC0AAAAQAAAAFQAAABIAAAAcAAAAJgAAABEAAAAZAAAAFgAAACkAAAA1AAAAKwAAABcAAAATAAAALQAAACsAAAAjAAAAGAAAAEAAAAAkAAAAIwAAACsAAAAsAAAAHQAAABYAAAAuAAAAIwAAADUAAAAdAAAAHwAAABUAAAAqAAAAFwAAADYAAAAYAAAAFQAAABUAAAArAAAAMgAAADUAAAAQAAAAQwAAACQAAAAiAAAAKgAAAC4AAABFAAAAHwAAACwAAAAZAAAALQAAAC8AAAAhAAAAEgAAAEoAAAAVAAAALQAAACUAAAApAAAAKQAAACIAAAAnAAAAEgAAAB8AAAAaAAAAQgAAAD4AAAAWAAAAKQAAAC4AAAA4AAAAFwAAAEYAAAAYAAAAKAAAACEAAAA=\"},\"shape\":[77],\"dtype\":\"int32\",\"order\":\"little\"}],[\"correct hit percentage\",{\"type\":\"ndarray\",\"array\":{\"type\":\"bytes\",\"data\":\"UAAAAFAAAABGAAAARgAAAFoAAABfAAAAWgAAAFoAAABkAAAAUAAAAFoAAABfAAAAXwAAAFoAAAA3AAAAZAAAAEEAAABaAAAANwAAAEsAAABkAAAARgAAAFoAAABfAAAAXwAAAEYAAABQAAAAMgAAAEEAAABkAAAAVQAAAFUAAABaAAAAWgAAAFoAAABVAAAAVQAAAFoAAABfAAAARgAAAF8AAABVAAAAXwAAAFoAAABaAAAAZAAAAFAAAABfAAAAZAAAAFoAAABkAAAARgAAAFoAAABVAAAAUAAAAFUAAAAoAAAAUAAAAFoAAABaAAAAUAAAAFoAAABLAAAAVQAAAGQAAABfAAAAPAAAAGQAAABVAAAAIwAAAF8AAABGAAAARgAAAFoAAABGAAAASwAAAFUAAAA=\"},\"shape\":[77],\"dtype\":\"int32\",\"order\":\"little\"}],[\"correct reject percentage\",{\"type\":\"ndarray\",\"array\":{\"type\":\"bytes\",\"data\":\"QQAAAFoAAABQAAAAQQAAAGQAAABQAAAAXwAAAFoAAABkAAAAPAAAAFAAAAA8AAAAWgAAAFAAAAA8AAAAVQAAAEEAAABkAAAAZAAAAFUAAABQAAAAWgAAAFUAAABaAAAANwAAAEEAAABLAAAAXwAAAFAAAABGAAAAWgAAAFoAAABaAAAAVQAAAEYAAABfAAAASwAAAFAAAABLAAAAVQAAAEsAAABVAAAASwAAAEEAAABaAAAAZAAAAFoAAABQAAAAXwAAAF8AAABkAAAAMgAAAGQAAABGAAAASwAAAFAAAAAoAAAAXwAAAFAAAABVAAAASwAAACMAAABGAAAAVQAAAFUAAABLAAAAVQAAAFAAAABfAAAASwAAAFAAAAAyAAAAVQAAAFUAAABQAAAAQQAAACgAAAA=\"},\"shape\":[77],\"dtype\":\"int32\",\"order\":\"little\"}],[\"percent correct\",{\"type\":\"ndarray\",\"array\":{\"type\":\"bytes\",\"data\":\"AAAAAAAgUkAAAAAAAEBVQAAAAAAAwFJAAAAAAADgUEAAAAAAAMBXQAAAAAAA4FVAAAAAAAAgV0AAAAAAAIBWQAAAAAAAAFlAAAAAAACAUUAAAAAAAEBVQAAAAAAAYFNAAAAAAAAgV0AAAAAAAEBVQAAAAAAAwExAAAAAAAAgV0AAAAAAAEBQQAAAAAAAwFdAAAAAAABgU0AAAAAAAABUQAAAAAAAgFZAAAAAAAAAVEAAAAAAAOBVQAAAAAAAIFdAAAAAAADAUkAAAAAAAOBQQAAAAAAAYFNAAAAAAAAgUkAAAAAAACBSQAAAAAAAQFVAAAAAAADgVUAAAAAAAOBVQAAAAAAAgFZAAAAAAADgVUAAAAAAAABUQAAAAAAAgFZAAAAAAAAAVEAAAAAAAEBVQAAAAAAAQFVAAAAAAABgU0AAAAAAAEBVQAAAAAAAQFVAAAAAAABAVUAAAAAAAGBTQAAAAAAAgFZAAAAAAAAAWUAAAAAAAEBVQAAAAAAA4FVAAAAAAABgWEAAAAAAACBXQAAAAAAAAFlAAAAAAAAATkAAAAAAAMBXQAAAAAAAYFNAAAAAAABgU0AAAAAAAKBUQAAAAAAAAERAAAAAAADgVUAAAAAAAEBVQAAAAAAA4FVAAAAAAABgU0AAAAAAAEBPQAAAAAAAIFJAAAAAAABAVUAAAAAAACBXQAAAAAAAQFVAAAAAAAAgUkAAAAAAAIBWQAAAAAAAgFZAAAAAAACAS0AAAAAAAOBVQAAAAAAAAE5AAAAAAABgU0AAAAAAAOBVQAAAAAAAwFJAAAAAAACAUUAAAAAAAEBPQA==\"},\"shape\":[77],\"dtype\":\"float64\",\"order\":\"little\"}],[\"confidence when correct hit\",{\"type\":\"ndarray\",\"array\":{\"type\":\"bytes\",\"data\":\"AAAAAADASUAAAAAAAMBSQAAAAAAAgFFAAAAAAADAT0AAAAAAACBTQAAAAAAAAFlAAAAAAABAU0AAAAAAACBUQAAAAAAAgFZAAAAAAACAUUAAAAAAACBTQAAAAAAAAERAAAAAAAAASkAAAAAAAABWQAAAAAAAAE9AAAAAAAAAUUAAAAAAAIBNQAAAAAAA4FJAAAAAAAAAUUAAAAAAAABJQAAAAAAAAFZAAAAAAACAPUAAAAAAAGBQQAAAAAAAwFRAAAAAAADAUEAAAAAAAIBTQAAAAAAAIFJAAAAAAABAT0AAAAAAAABLQAAAAAAAwFJAAAAAAACAVEAAAAAAAIBQQAAAAAAAwFRAAAAAAADAUEAAAAAAAIBWQAAAAAAAQFhAAAAAAABAUEAAAAAAAABVQAAAAAAAgFJAAAAAAAAgV0AAAAAAAABVQAAAAAAAgEtAAAAAAACAUUAAAAAAAOBQQAAAAAAAQE1AAAAAAACgUkAAAAAAAABXQAAAAAAAAFRAAAAAAACAWEAAAAAAAMBVQAAAAAAAwE5AAAAAAAAgVEAAAAAAAABZQAAAAAAAgFFAAAAAAADgUEAAAAAAAIBQQAAAAAAAoFZAAAAAAACAUkAAAAAAAOBXQAAAAAAAAFRAAAAAAACgV0AAAAAAAEBUQAAAAAAAgExAAAAAAABAV0AAAAAAAABZQAAAAAAAQFVAAAAAAADgUEAAAAAAAEBUQAAAAAAAgFBAAAAAAACAS0AAAAAAAIBWQAAAAAAAgE9AAAAAAABAU0AAAAAAAGBQQAAAAAAAwE5AAAAAAACASkAAAAAAAABUQA==\"},\"shape\":[77],\"dtype\":\"float64\",\"order\":\"little\"}],[\"confidence when incorrect hit\",{\"type\":\"ndarray\",\"array\":{\"type\":\"bytes\",\"data\":\"AAAAAABARkAAAAAAAMBLQAAAAAAAgExAAAAAAAAAUEAAAAAAAMBUQAAAAAAAQFVAAAAAAADARUAAAAAAAOBVQAAAAAAAAPh/AAAAAACAUUAAAAAAAMBLQAAAAAAAgEBAAAAAAAAAPUAAAAAAAABEQAAAAAAAAElAAAAAAAAA+H8AAAAAAIBLQAAAAAAAwEFAAAAAAADAUEAAAAAAAAA5QAAAAAAAAPh/AAAAAACAPEAAAAAAAAA7QAAAAAAAAExAAAAAAACASkAAAAAAAABWQAAAAAAAAFJAAAAAAAAAPUAAAAAAAABAQAAAAAAAAPh/AAAAAACASEAAAAAAAAA9QAAAAAAAwFRAAAAAAACAR0AAAAAAAOBUQAAAAAAAgERAAAAAAABAUkAAAAAAAMBLQAAAAAAAQFZAAAAAAAAgUkAAAAAAAIBLQAAAAAAAAD5AAAAAAAAAHEAAAAAAAIA8QAAAAAAAgEVAAAAAAAAA+H8AAAAAAOBSQAAAAAAAQFBAAAAAAAAA+H8AAAAAAMBHQAAAAAAAAPh/AAAAAADASUAAAAAAAAD4fwAAAAAAAENAAAAAAADASUAAAAAAAIBLQAAAAAAAAFRAAAAAAADAUEAAAAAAAABRQAAAAAAAwE1AAAAAAADATkAAAAAAAABKQAAAAAAAgExAAAAAAAAAV0AAAAAAAAD4fwAAAAAAAFZAAAAAAACAUEAAAAAAAAD4fwAAAAAAAExAAAAAAACATkAAAAAAAMBSQAAAAAAAQEpAAAAAAACgUEAAAAAAAGBVQAAAAAAAQFRAAAAAAACAQkAAAAAAAAA7QA==\"},\"shape\":[77],\"dtype\":\"float64\",\"order\":\"little\"}],[\"confidence when correct reject\",{\"type\":\"ndarray\",\"array\":{\"type\":\"bytes\",\"data\":\"AAAAAACARUAAAAAAAABUQAAAAAAAAEtAAAAAAAAASUAAAAAAAABUQAAAAAAAgFdAAAAAAADAU0AAAAAAACBTQAAAAAAAQFVAAAAAAACAUUAAAAAAAOBQQAAAAAAAAExAAAAAAACASEAAAAAAAKBRQAAAAAAAgFBAAAAAAACATkAAAAAAAABQQAAAAAAAoFJAAAAAAAAAVEAAAAAAAIBQQAAAAAAAgFBAAAAAAAAAM0AAAAAAAIBEQAAAAAAAwFNAAAAAAABAUEAAAAAAAEBTQAAAAAAAAFlAAAAAAABAU0AAAAAAAMBHQAAAAAAAIFBAAAAAAABAVEAAAAAAAIBRQAAAAAAAIFRAAAAAAABAUUAAAAAAAGBTQAAAAAAAgFJAAAAAAAAATEAAAAAAAGBSQAAAAAAAAFFAAAAAAADAV0AAAAAAAABRQAAAAAAAAElAAAAAAABAUUAAAAAAAIBLQAAAAAAAYFJAAAAAAACAUkAAAAAAAABXQAAAAAAAoFNAAAAAAACAVkAAAAAAAEBRQAAAAAAAQE1AAAAAAACAT0AAAAAAAOBRQAAAAAAAQE1AAAAAAACAUEAAAAAAAIBPQAAAAAAAoFJAAAAAAAAAU0AAAAAAAOBUQAAAAAAAgFFAAAAAAACAVUAAAAAAAMBRQAAAAAAAwE1AAAAAAADAVkAAAAAAAABZQAAAAAAAgFRAAAAAAACAUkAAAAAAAKBSQAAAAAAAAFJAAAAAAAAAVEAAAAAAAABUQAAAAAAA4FBAAAAAAABAU0AAAAAAAMBVQAAAAAAAgFFAAAAAAAAAVUAAAAAAAAA/QA==\"},\"shape\":[77],\"dtype\":\"float64\",\"order\":\"little\"}],[\"confidence when incorrect reject\",{\"type\":\"ndarray\",\"array\":{\"type\":\"bytes\",\"data\":\"AAAAAACASEAAAAAAAMBSQAAAAAAAgEpAAAAAAAAASUAAAAAAAAD4fwAAAAAAgE5AAAAAAAAANUAAAAAAAAA7QAAAAAAAAPh/AAAAAABAUEAAAAAAAEBKQAAAAAAAgEhAAAAAAAAAQkAAAAAAAKBQQAAAAAAAQElAAAAAAAAAS0AAAAAAAIBNQAAAAAAAAPh/AAAAAAAA+H8AAAAAAAA4QAAAAAAAwE9AAAAAAADAREAAAAAAAIBGQAAAAAAAQEVAAAAAAACASkAAAAAAAABUQAAAAAAAwFZAAAAAAAAAQEAAAAAAAKBTQAAAAAAAgEVAAAAAAAAAQkAAAAAAAAA9QAAAAAAAAEJAAAAAAAAAREAAAAAAAEBRQAAAAAAAQFJAAAAAAAAAUUAAAAAAAIBRQAAAAAAAQFBAAAAAAABAUEAAAAAAAIBOQAAAAAAAAERAAAAAAAAATkAAAAAAAABKQAAAAAAAwEpAAAAAAAAA+H8AAAAAAIBPQAAAAAAAoFFAAAAAAAAAREAAAAAAAMBVQAAAAAAAAPh/AAAAAABAUUAAAAAAAMBUQAAAAAAAQFBAAAAAAACATEAAAAAAAEBJQAAAAAAAwFRAAAAAAAAAMUAAAAAAAMBUQAAAAAAAgERAAAAAAACAUkAAAAAAAABNQAAAAAAAAElAAAAAAABAVkAAAAAAAABJQAAAAAAAgFRAAAAAAACATEAAAAAAAIBUQAAAAAAAgE9AAAAAAACATEAAAAAAAABUQAAAAAAAYFBAAAAAAABgU0AAAAAAAABUQAAAAAAAgE5AAAAAAAAASkAAAAAAAKBUQA==\"},\"shape\":[77],\"dtype\":\"float64\",\"order\":\"little\"}],[\"confidence when correct\",{\"type\":\"ndarray\",\"array\":{\"type\":\"bytes\",\"data\":\"AAAAAACASUAAAAAAAKBTQAAAAAAAgExAAAAAAAAATkAAAAAAAABUQAAAAAAAwFhAAAAAAACAU0AAAAAAAKBTQAAAAAAAgFZAAAAAAACAUUAAAAAAAIBSQAAAAAAAgEdAAAAAAAAASkAAAAAAAABVQAAAAAAAgE9AAAAAAAAAT0AAAAAAAMBNQAAAAAAA4FJAAAAAAACAU0AAAAAAAIBPQAAAAAAAQFRAAAAAAAAAOEAAAAAAAABJQAAAAAAAQFRAAAAAAADAUEAAAAAAAEBTQAAAAAAAAFlAAAAAAAAAUUAAAAAAAABIQAAAAAAAgFJAAAAAAACAVEAAAAAAAMBQQAAAAAAAoFRAAAAAAADAUEAAAAAAAABWQAAAAAAAwFRAAAAAAADAT0AAAAAAACBUQAAAAAAAwFFAAAAAAADAV0AAAAAAAKBTQAAAAAAAQEpAAAAAAABAUUAAAAAAAIBOQAAAAAAAgFBAAAAAAACAUkAAAAAAAABXQAAAAAAAAFRAAAAAAAAAV0AAAAAAAMBUQAAAAAAAQE5AAAAAAAAgUkAAAAAAAGBYQAAAAAAAAFFAAAAAAADAUEAAAAAAAEBQQAAAAAAAgFRAAAAAAADAUkAAAAAAAIBXQAAAAAAAQFNAAAAAAAAAV0AAAAAAAEBUQAAAAAAAAE1AAAAAAADgVkAAAAAAAABZQAAAAAAAQFVAAAAAAACAUkAAAAAAAOBTQAAAAAAAoFFAAAAAAAAAUkAAAAAAAEBVQAAAAAAAAFBAAAAAAABAU0AAAAAAAIBSQAAAAAAAQFBAAAAAAABAVEAAAAAAAEBUQA==\"},\"shape\":[77],\"dtype\":\"float64\",\"order\":\"little\"}],[\"confidence when incorrect\",{\"type\":\"ndarray\",\"array\":{\"type\":\"bytes\",\"data\":\"AAAAAACASEAAAAAAAMBQQAAAAAAAQEtAAAAAAAAASUAAAAAAAMBUQAAAAAAAQFBAAAAAAAAAQkAAAAAAAOBQQAAAAAAAAPh/AAAAAACAUUAAAAAAAMBLQAAAAAAAAEZAAAAAAAAAPUAAAAAAAEBLQAAAAAAAAElAAAAAAAAAS0AAAAAAAIBMQAAAAAAAwEFAAAAAAADAUEAAAAAAAIA4QAAAAAAAwE9AAAAAAACAQUAAAAAAAIBGQAAAAAAAAEtAAAAAAACASkAAAAAAAABVQAAAAAAAwFZAAAAAAAAAP0AAAAAAAIBJQAAAAAAAgEVAAAAAAACASEAAAAAAAAA9QAAAAAAAAFNAAAAAAAAAREAAAAAAAMBTQAAAAAAAwEtAAAAAAAAAUUAAAAAAAEBQQAAAAAAAAFFAAAAAAABAUEAAAAAAAABNQAAAAAAAgEFAAAAAAADATUAAAAAAAABJQAAAAAAAwEdAAAAAAAAA+H8AAAAAAGBSQAAAAAAAgFFAAAAAAAAAREAAAAAAAMBQQAAAAAAAAPh/AAAAAADATkAAAAAAAMBUQAAAAAAAAERAAAAAAACASkAAAAAAAIBLQAAAAAAAQFRAAAAAAAAAUEAAAAAAAMBRQAAAAAAAgE1AAAAAAADAUEAAAAAAAABNQAAAAAAAAElAAAAAAADAVkAAAAAAAABJQAAAAAAAQFVAAAAAAAAAUEAAAAAAAIBUQAAAAAAAwE1AAAAAAAAATkAAAAAAAMBSQAAAAAAAwE1AAAAAAACAUkAAAAAAAABUQAAAAAAAQFRAAAAAAACASUAAAAAAAEBSQA==\"},\"shape\":[77],\"dtype\":\"float64\",\"order\":\"little\"}],[\"sci\",{\"type\":\"ndarray\",\"array\":{\"type\":\"bytes\",\"data\":\"HQAAABMAAAAXAAAAGgAAABUAAAATAAAAHAAAAB0AAAARAAAAFgAAABwAAAAfAAAAHwAAACAAAAAZAAAAHgAAABwAAAAeAAAAFgAAABQAAAAaAAAAIAAAACAAAAAYAAAAGgAAAB4AAAAcAAAAFQAAAB0AAAAgAAAAGgAAABoAAAAXAAAAEgAAABYAAAAdAAAAFAAAABsAAAATAAAAHQAAABgAAAAdAAAAEQAAABoAAAAeAAAAEQAAABkAAAAfAAAAGwAAACAAAAAcAAAAGQAAAB4AAAAVAAAAHQAAABQAAAAWAAAAFwAAABQAAAARAAAAGwAAABsAAAAWAAAAGQAAAB4AAAAgAAAAHgAAACAAAAAcAAAAHwAAAB0AAAAaAAAAFAAAABMAAAAfAAAAFgAAABgAAAA=\"},\"shape\":[77],\"dtype\":\"int32\",\"order\":\"little\"}],[\"psqi\",{\"type\":\"ndarray\",\"array\":{\"type\":\"bytes\",\"data\":\"AQAAAAUAAAABAAAABQAAAAcAAAAHAAAAAwAAAAMAAAAKAAAABAAAAAUAAAACAAAAAgAAAAIAAAAFAAAAAgAAAAMAAAADAAAABAAAAAkAAAAFAAAAAgAAAAEAAAAEAAAACAAAAAIAAAACAAAABgAAAAMAAAABAAAABQAAAAcAAAADAAAABgAAAAYAAAABAAAABgAAAAQAAAAEAAAAAwAAAAUAAAACAAAABwAAAAQAAAAAAAAABQAAAAEAAAABAAAABAAAAAEAAAAIAAAABAAAAAIAAAAHAAAABAAAAAEAAAAHAAAABAAAAAUAAAAGAAAABAAAAAIAAAADAAAABAAAAAMAAAABAAAABQAAAAIAAAABAAAAAQAAAAMAAAAGAAAACAAAAAgAAAACAAAABAAAAAUAAAA=\"},\"shape\":[77],\"dtype\":\"int32\",\"order\":\"little\"}],[\"ess\",{\"type\":\"ndarray\",\"array\":{\"type\":\"bytes\",\"data\":\"BQAAAAEAAAADAAAABAAAAAUAAAAMAAAABAAAAAQAAAALAAAABgAAAAMAAAALAAAACgAAAAwAAAAGAAAADQAAAAwAAAAFAAAACgAAAAQAAAAEAAAABgAAAAMAAAAAAAAADAAAAAYAAAAFAAAACQAAAAcAAAAGAAAACgAAABIAAAALAAAACAAAABAAAAAHAAAACQAAAAsAAAAEAAAABwAAAAQAAAALAAAADAAAAAMAAAADAAAABAAAAAsAAAABAAAABAAAAAIAAAAJAAAAAQAAAAIAAAAMAAAABgAAAAUAAAAFAAAABAAAAAkAAAADAAAACAAAAAYAAAAKAAAAFQAAAAUAAAAFAAAACQAAAAEAAAAIAAAACwAAAAUAAAAHAAAACgAAAAcAAAAPAAAABwAAAAcAAAA=\"},\"shape\":[77],\"dtype\":\"int32\",\"order\":\"little\"}],[\"insomnia\",{\"type\":\"ndarray\",\"array\":{\"type\":\"bytes\",\"data\":\"AAAAAAAAAAAAAAAAAAAAAAAAAAAAAAAAAAAAAAAAAAAAAAAAAAAAAAAAAAAAAAAAAAAAAAAAAAAAAAAAAAAAAAAAAAAAAAAAAAAAAAA=\"},\"shape\":[77],\"dtype\":\"bool\",\"order\":\"little\"}]]}}},\"view\":{\"type\":\"object\",\"name\":\"CDSView\",\"id\":\"p3494\",\"attributes\":{\"filter\":{\"type\":\"object\",\"name\":\"AllIndices\",\"id\":\"p3495\"}}},\"glyph\":{\"type\":\"object\",\"name\":\"Circle\",\"id\":\"p3490\",\"attributes\":{\"x\":{\"type\":\"field\",\"field\":\"confidence when correct\"},\"y\":{\"type\":\"field\",\"field\":\"confidence when incorrect\"},\"line_color\":{\"type\":\"value\",\"value\":\"#1f77b3\"},\"fill_color\":{\"type\":\"value\",\"value\":\"#1f77b3\"},\"hatch_color\":{\"type\":\"value\",\"value\":\"#1f77b3\"}}},\"nonselection_glyph\":{\"type\":\"object\",\"name\":\"Circle\",\"id\":\"p3491\",\"attributes\":{\"x\":{\"type\":\"field\",\"field\":\"confidence when correct\"},\"y\":{\"type\":\"field\",\"field\":\"confidence when incorrect\"},\"line_color\":{\"type\":\"value\",\"value\":\"#1f77b3\"},\"line_alpha\":{\"type\":\"value\",\"value\":0.1},\"fill_color\":{\"type\":\"value\",\"value\":\"#1f77b3\"},\"fill_alpha\":{\"type\":\"value\",\"value\":0.1},\"hatch_color\":{\"type\":\"value\",\"value\":\"#1f77b3\"},\"hatch_alpha\":{\"type\":\"value\",\"value\":0.1}}},\"muted_glyph\":{\"type\":\"object\",\"name\":\"Circle\",\"id\":\"p3492\",\"attributes\":{\"x\":{\"type\":\"field\",\"field\":\"confidence when correct\"},\"y\":{\"type\":\"field\",\"field\":\"confidence when incorrect\"},\"line_color\":{\"type\":\"value\",\"value\":\"#1f77b3\"},\"line_alpha\":{\"type\":\"value\",\"value\":0.2},\"fill_color\":{\"type\":\"value\",\"value\":\"#1f77b3\"},\"fill_alpha\":{\"type\":\"value\",\"value\":0.2},\"hatch_color\":{\"type\":\"value\",\"value\":\"#1f77b3\"},\"hatch_alpha\":{\"type\":\"value\",\"value\":0.2}}}}},{\"type\":\"object\",\"name\":\"GlyphRenderer\",\"id\":\"p3502\",\"attributes\":{\"level\":\"overlay\",\"data_source\":{\"type\":\"object\",\"name\":\"ColumnDataSource\",\"id\":\"p3481\",\"attributes\":{\"selected\":{\"type\":\"object\",\"name\":\"Selection\",\"id\":\"p3482\",\"attributes\":{\"indices\":[],\"line_indices\":[]}},\"selection_policy\":{\"type\":\"object\",\"name\":\"UnionRenderers\",\"id\":\"p3483\"},\"data\":{\"type\":\"map\",\"entries\":[[\"index\",{\"type\":\"ndarray\",\"array\":{\"type\":\"bytes\",\"data\":\"AAAAAAEAAAACAAAAAwAAAAQAAAAFAAAABgAAAAcAAAAIAAAACQAAAAoAAAALAAAADAAAAA0AAAAOAAAADwAAABAAAAARAAAAEgAAABMAAAAUAAAAFQAAABYAAAAXAAAAGAAAAA==\"},\"shape\":[25],\"dtype\":\"int32\",\"order\":\"little\"}],[\"participant number\",{\"type\":\"ndarray\",\"array\":{\"type\":\"bytes\",\"data\":\"CAAAABAAAAASAAAAFgAAABsAAAAcAAAAHgAAACEAAAAiAAAAIwAAACYAAAApAAAALgAAADEAAAA3AAAARwAAAEwAAABNAAAATgAAAFAAAABZAAAAWgAAAF0AAABkAAAAZQAAAA==\"},\"shape\":[25],\"dtype\":\"int32\",\"order\":\"little\"}],[\"gender\",{\"type\":\"ndarray\",\"array\":[\"f\",\"m\",\"f\",\"f\",\"f\",\"f\",\"m\",\"m\",\"f\",\"f\",\"f\",\"f\",\"f\",\"f\",\"f\",\"f\",\"f\",\"f\",\"m\",\"m\",\"f\",\"m\",\"f\",\"f\",\"f\"],\"shape\":[25],\"dtype\":\"object\",\"order\":\"little\"}],[\"age\",{\"type\":\"ndarray\",\"array\":{\"type\":\"bytes\",\"data\":\"JwAAACoAAAAfAAAAIwAAAEoAAAA9AAAAIAAAAD4AAAAhAAAANQAAACkAAAAkAAAAKAAAABgAAAAgAAAAKAAAAD0AAAAqAAAAHwAAABwAAAAaAAAALQAAABwAAAAsAAAAHAAAAA==\"},\"shape\":[25],\"dtype\":\"int32\",\"order\":\"little\"}],[\"correct hit percentage\",{\"type\":\"ndarray\",\"array\":{\"type\":\"bytes\",\"data\":\"QQAAAFoAAABaAAAAZAAAADwAAABQAAAAWgAAAC0AAABQAAAAZAAAAEYAAABaAAAAXwAAAFUAAABLAAAAKAAAAGQAAABGAAAAZAAAAGQAAAA8AAAAZAAAAGQAAABBAAAAZAAAAA==\"},\"shape\":[25],\"dtype\":\"int32\",\"order\":\"little\"}],[\"correct reject percentage\",{\"type\":\"ndarray\",\"array\":{\"type\":\"bytes\",\"data\":\"UAAAAFoAAABfAAAASwAAAEEAAAAUAAAASwAAAFoAAABkAAAAMgAAADcAAABkAAAAQQAAAEsAAAA3AAAAZAAAACgAAABaAAAARgAAADIAAABQAAAAXwAAAEsAAAAZAAAAKAAAAA==\"},\"shape\":[25],\"dtype\":\"int32\",\"order\":\"little\"}],[\"percent correct\",{\"type\":\"ndarray\",\"array\":{\"type\":\"bytes\",\"data\":\"AAAAAAAgUkAAAAAAAIBWQAAAAAAAIFdAAAAAAADgVUAAAAAAAEBPQAAAAAAAAElAAAAAAACgVEAAAAAAAOBQQAAAAAAAgFZAAAAAAADAUkAAAAAAAEBPQAAAAAAAwFdAAAAAAAAAVEAAAAAAAABUQAAAAAAAQFBAAAAAAACAUUAAAAAAAIBRQAAAAAAAAFRAAAAAAABAVUAAAAAAAMBSQAAAAAAAgFFAAAAAAABgWEAAAAAAAOBVQAAAAAAAgEZAAAAAAACAUUA=\"},\"shape\":[25],\"dtype\":\"float64\",\"order\":\"little\"}],[\"confidence when correct hit\",{\"type\":\"ndarray\",\"array\":{\"type\":\"bytes\",\"data\":\"AAAAAADAVkAAAAAAAOBSQAAAAAAAYFZAAAAAAABgVkAAAAAAACBRQAAAAAAAwFFAAAAAAADAUEAAAAAAAABLQAAAAAAAoFFAAAAAAACgUkAAAAAAAIBUQAAAAAAAIFNAAAAAAAAAVEAAAAAAAABNQAAAAAAAQFVAAAAAAABAUUAAAAAAAGBRQAAAAAAAwFVAAAAAAAAAV0AAAAAAAABZQAAAAAAAgFFAAAAAAAAAWUAAAAAAAGBWQAAAAAAAAE9AAAAAAADAVUA=\"},\"shape\":[25],\"dtype\":\"float64\",\"order\":\"little\"}],[\"confidence when incorrect hit\",{\"type\":\"ndarray\",\"array\":{\"type\":\"bytes\",\"data\":\"AAAAAACAVkAAAAAAAMBLQAAAAAAAgFZAAAAAAAAA+H8AAAAAAIBIQAAAAAAAgE9AAAAAAABATEAAAAAAAIBCQAAAAAAAIFNAAAAAAAAA+H8AAAAAAMBOQAAAAAAA4FJAAAAAAABAVkAAAAAAAABJQAAAAAAAQFRAAAAAAAAATEAAAAAAAAD4fwAAAAAAAFJAAAAAAAAA+H8AAAAAAAD4fwAAAAAAQFNAAAAAAAAA+H8AAAAAAAD4fwAAAAAAAFJAAAAAAAAA+H8=\"},\"shape\":[25],\"dtype\":\"float64\",\"order\":\"little\"}],[\"confidence when correct reject\",{\"type\":\"ndarray\",\"array\":{\"type\":\"bytes\",\"data\":\"AAAAAABAV0AAAAAAAKBRQAAAAAAAgFVAAAAAAADAUUAAAAAAAIBOQAAAAAAAAD9AAAAAAACAUEAAAAAAAEBQQAAAAAAAIFBAAAAAAABATkAAAAAAAEBSQAAAAAAAwFJAAAAAAADAU0AAAAAAAIBIQAAAAAAAQFVAAAAAAACAUUAAAAAAAEBGQAAAAAAAoFZAAAAAAABAVEAAAAAAAABZQAAAAAAAgFRAAAAAAAAAWUAAAAAAAMBQQAAAAAAAwFVAAAAAAAAAUUA=\"},\"shape\":[25],\"dtype\":\"float64\",\"order\":\"little\"}],[\"confidence when incorrect reject\",{\"type\":\"ndarray\",\"array\":{\"type\":\"bytes\",\"data\":\"AAAAAADgVEAAAAAAAABJQAAAAAAAQFRAAAAAAAAAVEAAAAAAAIBIQAAAAAAAIFJAAAAAAABAUEAAAAAAAGBUQAAAAAAAAPh/AAAAAABAUEAAAAAAAEBRQAAAAAAAAPh/AAAAAABATUAAAAAAAABRQAAAAAAAgFVAAAAAAAAA+H8AAAAAAEBSQAAAAAAAwEVAAAAAAAAATkAAAAAAAABZQAAAAAAA4FBAAAAAAAAAWUAAAAAAAABOQAAAAAAAQFNAAAAAAAAAS0A=\"},\"shape\":[25],\"dtype\":\"float64\",\"order\":\"little\"}],[\"confidence when correct\",{\"type\":\"ndarray\",\"array\":{\"type\":\"bytes\",\"data\":\"AAAAAABAV0AAAAAAAMBSQAAAAAAAQFZAAAAAAAAAVkAAAAAAAEBQQAAAAAAAIFBAAAAAAACAUEAAAAAAAABPQAAAAAAAAFFAAAAAAADAUUAAAAAAAIBUQAAAAAAAAFNAAAAAAADgU0AAAAAAAIBLQAAAAAAAQFVAAAAAAACAUUAAAAAAAEBLQAAAAAAAIFZAAAAAAADgVUAAAAAAAABZQAAAAAAAQFNAAAAAAAAAWUAAAAAAAABUQAAAAAAAYFFAAAAAAABAVEA=\"},\"shape\":[25],\"dtype\":\"float64\",\"order\":\"little\"}],[\"confidence when incorrect\",{\"type\":\"ndarray\",\"array\":{\"type\":\"bytes\",\"data\":\"AAAAAACAVkAAAAAAAABJQAAAAAAAAFZAAAAAAAAAVEAAAAAAAIBIQAAAAAAAoFFAAAAAAAAAUEAAAAAAAIBOQAAAAAAAIFNAAAAAAABAUEAAAAAAAABQQAAAAAAA4FJAAAAAAACAT0AAAAAAAIBNQAAAAAAA4FRAAAAAAAAATEAAAAAAAEBSQAAAAAAAAFBAAAAAAAAATkAAAAAAAABZQAAAAAAAoFFAAAAAAAAAWUAAAAAAAABOQAAAAAAAYFJAAAAAAAAAS0A=\"},\"shape\":[25],\"dtype\":\"float64\",\"order\":\"little\"}],[\"sci\",{\"type\":\"ndarray\",\"array\":{\"type\":\"bytes\",\"data\":\"CQAAAAQAAAAKAAAADQAAAA0AAAAPAAAAEAAAAA4AAAAOAAAADgAAAA4AAAAPAAAACgAAAA4AAAAFAAAAAAAAABAAAAALAAAADgAAAAwAAAAOAAAADgAAABAAAAABAAAADgAAAA==\"},\"shape\":[25],\"dtype\":\"int32\",\"order\":\"little\"}],[\"psqi\",{\"type\":\"ndarray\",\"array\":{\"type\":\"bytes\",\"data\":\"DQAAAAsAAAAJAAAACAAAAAkAAAAOAAAACQAAAAkAAAAMAAAACAAAAAUAAAAHAAAADAAAAA0AAAANAAAACwAAAAQAAAAKAAAABgAAAAcAAAAIAAAACQAAAAcAAAAPAAAABwAAAA==\"},\"shape\":[25],\"dtype\":\"int32\",\"order\":\"little\"}],[\"ess\",{\"type\":\"ndarray\",\"array\":{\"type\":\"bytes\",\"data\":\"AgAAAAcAAAADAAAAFAAAAAwAAAACAAAAAwAAAAkAAAAKAAAABwAAABMAAAAAAAAACAAAAAQAAAAHAAAADgAAAAwAAAAKAAAACwAAAAwAAAABAAAABgAAAAQAAAAGAAAAAgAAAA==\"},\"shape\":[25],\"dtype\":\"int32\",\"order\":\"little\"}],[\"insomnia\",{\"type\":\"ndarray\",\"array\":{\"type\":\"bytes\",\"data\":\"AQEBAQEBAQEBAQEBAQEBAQEBAQEBAQEBAQ==\"},\"shape\":[25],\"dtype\":\"bool\",\"order\":\"little\"}]]}}},\"view\":{\"type\":\"object\",\"name\":\"CDSView\",\"id\":\"p3503\",\"attributes\":{\"filter\":{\"type\":\"object\",\"name\":\"AllIndices\",\"id\":\"p3504\"}}},\"glyph\":{\"type\":\"object\",\"name\":\"Circle\",\"id\":\"p3499\",\"attributes\":{\"x\":{\"type\":\"field\",\"field\":\"confidence when correct\"},\"y\":{\"type\":\"field\",\"field\":\"confidence when incorrect\"},\"line_color\":{\"type\":\"value\",\"value\":\"#ff7e0e\"},\"fill_color\":{\"type\":\"value\",\"value\":\"#ff7e0e\"},\"hatch_color\":{\"type\":\"value\",\"value\":\"#ff7e0e\"}}},\"nonselection_glyph\":{\"type\":\"object\",\"name\":\"Circle\",\"id\":\"p3500\",\"attributes\":{\"x\":{\"type\":\"field\",\"field\":\"confidence when correct\"},\"y\":{\"type\":\"field\",\"field\":\"confidence when incorrect\"},\"line_color\":{\"type\":\"value\",\"value\":\"#ff7e0e\"},\"line_alpha\":{\"type\":\"value\",\"value\":0.1},\"fill_color\":{\"type\":\"value\",\"value\":\"#ff7e0e\"},\"fill_alpha\":{\"type\":\"value\",\"value\":0.1},\"hatch_color\":{\"type\":\"value\",\"value\":\"#ff7e0e\"},\"hatch_alpha\":{\"type\":\"value\",\"value\":0.1}}},\"muted_glyph\":{\"type\":\"object\",\"name\":\"Circle\",\"id\":\"p3501\",\"attributes\":{\"x\":{\"type\":\"field\",\"field\":\"confidence when correct\"},\"y\":{\"type\":\"field\",\"field\":\"confidence when incorrect\"},\"line_color\":{\"type\":\"value\",\"value\":\"#ff7e0e\"},\"line_alpha\":{\"type\":\"value\",\"value\":0.2},\"fill_color\":{\"type\":\"value\",\"value\":\"#ff7e0e\"},\"fill_alpha\":{\"type\":\"value\",\"value\":0.2},\"hatch_color\":{\"type\":\"value\",\"value\":\"#ff7e0e\"},\"hatch_alpha\":{\"type\":\"value\",\"value\":0.2}}}}}],\"toolbar\":{\"type\":\"object\",\"name\":\"Toolbar\",\"id\":\"p3443\",\"attributes\":{\"tools\":[{\"type\":\"object\",\"name\":\"PanTool\",\"id\":\"p3466\"},{\"type\":\"object\",\"name\":\"WheelZoomTool\",\"id\":\"p3467\"},{\"type\":\"object\",\"name\":\"BoxZoomTool\",\"id\":\"p3468\",\"attributes\":{\"overlay\":{\"type\":\"object\",\"name\":\"BoxAnnotation\",\"id\":\"p3469\",\"attributes\":{\"syncable\":false,\"level\":\"overlay\",\"visible\":false,\"left_units\":\"canvas\",\"right_units\":\"canvas\",\"bottom_units\":\"canvas\",\"top_units\":\"canvas\",\"line_color\":\"black\",\"line_alpha\":1.0,\"line_width\":2,\"line_dash\":[4,4],\"fill_color\":\"lightgrey\",\"fill_alpha\":0.5}}}},{\"type\":\"object\",\"name\":\"SaveTool\",\"id\":\"p3470\"},{\"type\":\"object\",\"name\":\"ResetTool\",\"id\":\"p3471\"},{\"type\":\"object\",\"name\":\"HelpTool\",\"id\":\"p3472\"}]}},\"left\":[{\"type\":\"object\",\"name\":\"LinearAxis\",\"id\":\"p3459\",\"attributes\":{\"ticker\":{\"type\":\"object\",\"name\":\"BasicTicker\",\"id\":\"p3460\",\"attributes\":{\"mantissas\":[1,2,5]}},\"formatter\":{\"type\":\"object\",\"name\":\"BasicTickFormatter\",\"id\":\"p3461\"},\"axis_label\":\"condifence when incorrect\",\"axis_label_text_font\":\"papyrus\",\"axis_label_text_font_size\":\"20pt\",\"axis_label_text_font_style\":\"normal\",\"major_label_policy\":{\"type\":\"object\",\"name\":\"AllLabels\",\"id\":\"p3462\"},\"major_label_text_font\":\"papyrus\",\"major_label_text_font_size\":\"14pt\",\"major_tick_in\":10,\"major_tick_out\":0,\"minor_tick_in\":5,\"minor_tick_out\":0}}],\"right\":[{\"type\":\"object\",\"name\":\"Legend\",\"id\":\"p3505\",\"attributes\":{\"background_fill_color\":\"chartreuse\",\"click_policy\":\"hide\",\"label_text_font\":\"papyrus\",\"items\":[{\"type\":\"object\",\"name\":\"LegendItem\",\"id\":\"p3506\",\"attributes\":{\"label\":{\"type\":\"value\",\"value\":\"normal\"},\"renderers\":[{\"id\":\"p3493\"}]}},{\"type\":\"object\",\"name\":\"LegendItem\",\"id\":\"p3507\",\"attributes\":{\"label\":{\"type\":\"value\",\"value\":\"insomnia\"},\"renderers\":[{\"id\":\"p3502\"}]}}]}}],\"below\":[{\"type\":\"object\",\"name\":\"LinearAxis\",\"id\":\"p3452\",\"attributes\":{\"ticker\":{\"type\":\"object\",\"name\":\"BasicTicker\",\"id\":\"p3453\",\"attributes\":{\"mantissas\":[1,2,5]}},\"formatter\":{\"type\":\"object\",\"name\":\"BasicTickFormatter\",\"id\":\"p3454\"},\"axis_label\":\"confidence when correct\",\"axis_label_text_font\":\"papyrus\",\"axis_label_text_font_size\":\"20pt\",\"axis_label_text_font_style\":\"normal\",\"major_label_policy\":{\"type\":\"object\",\"name\":\"AllLabels\",\"id\":\"p3455\"},\"major_label_text_font\":\"papyrus\",\"major_label_text_font_size\":\"14pt\",\"major_tick_in\":10,\"major_tick_out\":0,\"minor_tick_in\":5,\"minor_tick_out\":0}}],\"center\":[{\"type\":\"object\",\"name\":\"Grid\",\"id\":\"p3458\",\"attributes\":{\"axis\":{\"id\":\"p3452\"},\"grid_line_color\":\"azure\"}},{\"type\":\"object\",\"name\":\"Grid\",\"id\":\"p3465\",\"attributes\":{\"dimension\":1,\"axis\":{\"id\":\"p3459\"},\"grid_line_color\":\"azure\"}}],\"frame_width\":300,\"frame_height\":300,\"background_fill_color\":\"blanchedalmond\"}}],\"callbacks\":{\"type\":\"map\"}}};\n",
       "  const render_items = [{\"docid\":\"332a2316-a059-4dbf-ada2-702ee24d18c7\",\"roots\":{\"p3434\":\"a53bec32-4daf-4000-b835-256046530a23\"},\"root_ids\":[\"p3434\"]}];\n",
       "  root.Bokeh.embed.embed_items_notebook(docs_json, render_items);\n",
       "  }\n",
       "  if (root.Bokeh !== undefined) {\n",
       "    embed_document(root);\n",
       "  } else {\n",
       "    let attempts = 0;\n",
       "    const timer = setInterval(function(root) {\n",
       "      if (root.Bokeh !== undefined) {\n",
       "        clearInterval(timer);\n",
       "        embed_document(root);\n",
       "      } else {\n",
       "        attempts++;\n",
       "        if (attempts > 100) {\n",
       "          clearInterval(timer);\n",
       "          console.log(\"Bokeh: ERROR: Unable to run BokehJS code because BokehJS library is missing\");\n",
       "        }\n",
       "      }\n",
       "    }, 10, root)\n",
       "  }\n",
       "})(window);"
      ],
      "application/vnd.bokehjs_exec.v0+json": ""
     },
     "metadata": {
      "application/vnd.bokehjs_exec.v0+json": {
       "id": "p3434"
      }
     },
     "output_type": "display_data"
    }
   ],
   "source": [
    "# Obnoxious fonts\n",
    "p.xaxis.major_label_text_font = 'papyrus'\n",
    "p.xaxis.major_label_text_font_size = '14pt'\n",
    "p.xaxis.axis_label_text_font = 'papyrus'\n",
    "p.xaxis.axis_label_text_font_style = 'normal'\n",
    "p.xaxis.axis_label_text_font_size = '20pt'\n",
    "p.yaxis.major_label_text_font = 'papyrus'\n",
    "p.yaxis.major_label_text_font_size = '14pt'\n",
    "p.yaxis.axis_label_text_font = 'papyrus'\n",
    "p.yaxis.axis_label_text_font_style = 'normal'\n",
    "p.yaxis.axis_label_text_font_size = '20pt'\n",
    "p.title.text_font = 'papyrus'\n",
    "p.title.text_font_size = '18pt'\n",
    "p.legend.label_text_font = 'papyrus'\n",
    "\n",
    "# Align the title center\n",
    "p.title.align = 'center'\n",
    "\n",
    "# Set background and grid color\n",
    "p.background_fill_color = 'blanchedalmond'\n",
    "p.legend.background_fill_color = 'chartreuse'\n",
    "p.xgrid.grid_line_color = 'azure'\n",
    "p.ygrid.grid_line_color = 'azure'\n",
    "\n",
    "# Make the ticks point inward (I *hate* this!)\n",
    "# Units are pixels that the ticks extend in and out of plot\n",
    "p.xaxis.major_tick_out = 0\n",
    "p.xaxis.major_tick_in = 10\n",
    "p.xaxis.minor_tick_out = 0\n",
    "p.xaxis.minor_tick_in = 5\n",
    "p.yaxis.major_tick_out = 0\n",
    "p.yaxis.major_tick_in = 10\n",
    "p.yaxis.minor_tick_out = 0\n",
    "p.yaxis.minor_tick_in = 5\n",
    "\n",
    "bokeh.io.show(p)"
   ]
  },
  {
   "cell_type": "markdown",
   "metadata": {},
   "source": [
    "This is truly hideous, but it demonstrates how we can go about styling plots after they are made."
   ]
  },
  {
   "cell_type": "markdown",
   "metadata": {},
   "source": [
    "## Bokeh themes\n",
    "\n",
    "Bokeh has several built-in [themes](https://docs.bokeh.org/en/latest/docs/reference/themes.html) which you can apply to all plots in a given document (e.g., in a notebook). Please see the [documentation](https://docs.bokeh.org/en/latest/docs/reference/themes.html) for details about the built-in themes. I personally prefer the default styling to all of their themes, but your opinion may differ.\n",
    "\n",
    "You may also specify custom themes using [JSON](https://www.json.org/json-en.html) or [YAML](https://yaml.org). As an example, we can specify a theme such that plots are styled like the default style of the excellent plotting packages [Vega-Altair](https://altair-viz.github.io/)/[Vega-Lite](http://vega.github.io/vega-lite)/[Vega](http://vega.github.io/vega). If we use JSON formatting, we can specify a theme as a dictionary of dictionaries, as below."
   ]
  },
  {
   "cell_type": "code",
   "execution_count": 21,
   "metadata": {},
   "outputs": [],
   "source": [
    "altair_theme_dict = {\n",
    "    \"attrs\": {\n",
    "        \"Axis\": {\n",
    "            \"axis_line_color\": \"dimgray\",\n",
    "            \"minor_tick_out\": 0,\n",
    "            \"major_tick_in\": 0,\n",
    "            \"major_tick_line_color\": \"dimgray\",\n",
    "            \"major_label_text_font_size\": \"7.5pt\",\n",
    "            \"axis_label_text_font_size\": \"8pt\",\n",
    "            \"axis_label_text_font_style\": \"bold\",\n",
    "        },\n",
    "        \"Circle\": {\n",
    "            \"fill_alpha\": 0, \n",
    "            \"line_width\": 2, \n",
    "            \"size\": 5, \n",
    "            \"line_alpha\": 0.7,\n",
    "        },\n",
    "        \"ContinuousTicker\": {\n",
    "            \"desired_num_ticks\": 10\n",
    "        },\n",
    "        \"figure\": {\n",
    "            \"frame_width\": 350, \n",
    "            \"frame_height\": 300,\n",
    "        },\n",
    "        \"Grid\": {\n",
    "            \"grid_line_color\": \"lightgray\",\n",
    "            \"level\": \"underlay\",\n",
    "        },\n",
    "        \"Legend\": {\n",
    "            \"border_line_color\": None,\n",
    "            \"background_fill_color\": None,\n",
    "            \"label_text_font_size\": \"7.5pt\",\n",
    "            \"title_text_font_size\": \"8pt\",\n",
    "            \"title_text_font_style\": \"bold\",\n",
    "        },\n",
    "        \"Renderer\": {\n",
    "            \"level\": \"overlay\"\n",
    "        },\n",
    "        \"Title\": {\n",
    "            \"align\": \"center\",\n",
    "        },\n",
    "    }\n",
    "}"
   ]
  },
  {
   "cell_type": "markdown",
   "metadata": {},
   "source": [
    "To activate the theme, we convert it to a Bokeh theme and then add it to the `curdoc()`, or the current document."
   ]
  },
  {
   "cell_type": "code",
   "execution_count": 22,
   "metadata": {},
   "outputs": [],
   "source": [
    "altair_theme = bokeh.themes.Theme(json=altair_theme_dict)\n",
    "\n",
    "bokeh.io.curdoc().theme = altair_theme"
   ]
  },
  {
   "cell_type": "markdown",
   "metadata": {},
   "source": [
    "Now the theme is activated, and future plots will have this theme by default. Let's remake our plot using this theme. For convenience later on, I will write a function to generate this scatter plot that we will use to test various styles."
   ]
  },
  {
   "cell_type": "code",
   "execution_count": 23,
   "metadata": {},
   "outputs": [
    {
     "data": {
      "text/html": [
       "\n",
       "  <div id=\"d13315cf-031e-4d35-bfb6-caa5ecfccb6f\" data-root-id=\"p3951\" style=\"display: contents;\"></div>\n"
      ]
     },
     "metadata": {},
     "output_type": "display_data"
    },
    {
     "data": {
      "application/javascript": [
       "(function(root) {\n",
       "  function embed_document(root) {\n",
       "  const docs_json = {\"a3535ce1-183d-42ca-bbb2-72d5e8fcb58a\":{\"version\":\"3.1.1\",\"title\":\"Bokeh Application\",\"defs\":[],\"roots\":[{\"type\":\"object\",\"name\":\"Figure\",\"id\":\"p3951\",\"attributes\":{\"x_range\":{\"type\":\"object\",\"name\":\"Range1d\",\"id\":\"p3961\",\"attributes\":{\"end\":100}},\"y_range\":{\"type\":\"object\",\"name\":\"Range1d\",\"id\":\"p3963\",\"attributes\":{\"end\":100}},\"x_scale\":{\"type\":\"object\",\"name\":\"LinearScale\",\"id\":\"p3965\"},\"y_scale\":{\"type\":\"object\",\"name\":\"LinearScale\",\"id\":\"p3967\"},\"title\":{\"type\":\"object\",\"name\":\"Title\",\"id\":\"p3954\",\"attributes\":{\"level\":\"overlay\",\"text\":\"GMFT with sleep conditions\",\"align\":\"center\"}},\"renderers\":[{\"type\":\"object\",\"name\":\"GlyphRenderer\",\"id\":\"p4004\",\"attributes\":{\"level\":\"overlay\",\"data_source\":{\"type\":\"object\",\"name\":\"ColumnDataSource\",\"id\":\"p3484\",\"attributes\":{\"selected\":{\"type\":\"object\",\"name\":\"Selection\",\"id\":\"p3485\",\"attributes\":{\"indices\":[],\"line_indices\":[]}},\"selection_policy\":{\"type\":\"object\",\"name\":\"UnionRenderers\",\"id\":\"p3486\"},\"data\":{\"type\":\"map\",\"entries\":[[\"index\",{\"type\":\"ndarray\",\"array\":{\"type\":\"bytes\",\"data\":\"GQAAABoAAAAbAAAAHAAAAB0AAAAeAAAAHwAAACAAAAAhAAAAIgAAACMAAAAkAAAAJQAAACYAAAAnAAAAKAAAACkAAAAqAAAAKwAAACwAAAAtAAAALgAAAC8AAAAwAAAAMQAAADIAAAAzAAAANAAAADUAAAA2AAAANwAAADgAAAA5AAAAOgAAADsAAAA8AAAAPQAAAD4AAAA/AAAAQAAAAEEAAABCAAAAQwAAAEQAAABFAAAARgAAAEcAAABIAAAASQAAAEoAAABLAAAATAAAAE0AAABOAAAATwAAAFAAAABRAAAAUgAAAFMAAABUAAAAVQAAAFYAAABXAAAAWAAAAFkAAABaAAAAWwAAAFwAAABdAAAAXgAAAF8AAABgAAAAYQAAAGIAAABjAAAAZAAAAGUAAAA=\"},\"shape\":[77],\"dtype\":\"int32\",\"order\":\"little\"}],[\"participant number\",{\"type\":\"ndarray\",\"array\":{\"type\":\"bytes\",\"data\":\"AQAAAAIAAAADAAAABAAAAAUAAAAGAAAABwAAAAkAAAAKAAAACwAAAAwAAAANAAAADgAAAA8AAAARAAAAEwAAABQAAAAVAAAAFwAAABgAAAAZAAAAGgAAAB0AAAAfAAAAIAAAACQAAAAlAAAAJwAAACgAAAAqAAAAKwAAACwAAAAtAAAAMAAAADIAAAAzAAAANAAAADUAAAA2AAAAOAAAADkAAAA6AAAAOwAAADwAAAA9AAAAPgAAAD8AAABAAAAAQQAAAEIAAABDAAAARAAAAEUAAABGAAAASAAAAEkAAABKAAAASwAAAE8AAABRAAAAUgAAAFMAAABUAAAAVQAAAFYAAABXAAAAWAAAAFsAAABcAAAAXgAAAF8AAABgAAAAYQAAAGIAAABjAAAAZgAAAGcAAAA=\"},\"shape\":[77],\"dtype\":\"int32\",\"order\":\"little\"}],[\"gender\",{\"type\":\"ndarray\",\"array\":[\"f\",\"f\",\"f\",\"f\",\"f\",\"f\",\"f\",\"m\",\"f\",\"f\",\"m\",\"m\",\"m\",\"f\",\"m\",\"f\",\"f\",\"m\",\"m\",\"f\",\"f\",\"m\",\"f\",\"m\",\"f\",\"m\",\"f\",\"f\",\"m\",\"m\",\"f\",\"f\",\"f\",\"f\",\"m\",\"f\",\"f\",\"f\",\"f\",\"m\",\"f\",\"f\",\"f\",\"m\",\"f\",\"f\",\"f\",\"f\",\"f\",\"f\",\"f\",\"f\",\"f\",\"f\",\"f\",\"f\",\"m\",\"f\",\"f\",\"m\",\"f\",\"f\",\"f\",\"f\",\"f\",\"m\",\"m\",\"m\",\"m\",\"f\",\"m\",\"f\",\"f\",\"f\",\"f\",\"f\",\"f\"],\"shape\":[77],\"dtype\":\"object\",\"order\":\"little\"}],[\"age\",{\"type\":\"ndarray\",\"array\":{\"type\":\"bytes\",\"data\":\"KgAAAC0AAAAQAAAAFQAAABIAAAAcAAAAJgAAABEAAAAZAAAAFgAAACkAAAA1AAAAKwAAABcAAAATAAAALQAAACsAAAAjAAAAGAAAAEAAAAAkAAAAIwAAACsAAAAsAAAAHQAAABYAAAAuAAAAIwAAADUAAAAdAAAAHwAAABUAAAAqAAAAFwAAADYAAAAYAAAAFQAAABUAAAArAAAAMgAAADUAAAAQAAAAQwAAACQAAAAiAAAAKgAAAC4AAABFAAAAHwAAACwAAAAZAAAALQAAAC8AAAAhAAAAEgAAAEoAAAAVAAAALQAAACUAAAApAAAAKQAAACIAAAAnAAAAEgAAAB8AAAAaAAAAQgAAAD4AAAAWAAAAKQAAAC4AAAA4AAAAFwAAAEYAAAAYAAAAKAAAACEAAAA=\"},\"shape\":[77],\"dtype\":\"int32\",\"order\":\"little\"}],[\"correct hit percentage\",{\"type\":\"ndarray\",\"array\":{\"type\":\"bytes\",\"data\":\"UAAAAFAAAABGAAAARgAAAFoAAABfAAAAWgAAAFoAAABkAAAAUAAAAFoAAABfAAAAXwAAAFoAAAA3AAAAZAAAAEEAAABaAAAANwAAAEsAAABkAAAARgAAAFoAAABfAAAAXwAAAEYAAABQAAAAMgAAAEEAAABkAAAAVQAAAFUAAABaAAAAWgAAAFoAAABVAAAAVQAAAFoAAABfAAAARgAAAF8AAABVAAAAXwAAAFoAAABaAAAAZAAAAFAAAABfAAAAZAAAAFoAAABkAAAARgAAAFoAAABVAAAAUAAAAFUAAAAoAAAAUAAAAFoAAABaAAAAUAAAAFoAAABLAAAAVQAAAGQAAABfAAAAPAAAAGQAAABVAAAAIwAAAF8AAABGAAAARgAAAFoAAABGAAAASwAAAFUAAAA=\"},\"shape\":[77],\"dtype\":\"int32\",\"order\":\"little\"}],[\"correct reject percentage\",{\"type\":\"ndarray\",\"array\":{\"type\":\"bytes\",\"data\":\"QQAAAFoAAABQAAAAQQAAAGQAAABQAAAAXwAAAFoAAABkAAAAPAAAAFAAAAA8AAAAWgAAAFAAAAA8AAAAVQAAAEEAAABkAAAAZAAAAFUAAABQAAAAWgAAAFUAAABaAAAANwAAAEEAAABLAAAAXwAAAFAAAABGAAAAWgAAAFoAAABaAAAAVQAAAEYAAABfAAAASwAAAFAAAABLAAAAVQAAAEsAAABVAAAASwAAAEEAAABaAAAAZAAAAFoAAABQAAAAXwAAAF8AAABkAAAAMgAAAGQAAABGAAAASwAAAFAAAAAoAAAAXwAAAFAAAABVAAAASwAAACMAAABGAAAAVQAAAFUAAABLAAAAVQAAAFAAAABfAAAASwAAAFAAAAAyAAAAVQAAAFUAAABQAAAAQQAAACgAAAA=\"},\"shape\":[77],\"dtype\":\"int32\",\"order\":\"little\"}],[\"percent correct\",{\"type\":\"ndarray\",\"array\":{\"type\":\"bytes\",\"data\":\"AAAAAAAgUkAAAAAAAEBVQAAAAAAAwFJAAAAAAADgUEAAAAAAAMBXQAAAAAAA4FVAAAAAAAAgV0AAAAAAAIBWQAAAAAAAAFlAAAAAAACAUUAAAAAAAEBVQAAAAAAAYFNAAAAAAAAgV0AAAAAAAEBVQAAAAAAAwExAAAAAAAAgV0AAAAAAAEBQQAAAAAAAwFdAAAAAAABgU0AAAAAAAABUQAAAAAAAgFZAAAAAAAAAVEAAAAAAAOBVQAAAAAAAIFdAAAAAAADAUkAAAAAAAOBQQAAAAAAAYFNAAAAAAAAgUkAAAAAAACBSQAAAAAAAQFVAAAAAAADgVUAAAAAAAOBVQAAAAAAAgFZAAAAAAADgVUAAAAAAAABUQAAAAAAAgFZAAAAAAAAAVEAAAAAAAEBVQAAAAAAAQFVAAAAAAABgU0AAAAAAAEBVQAAAAAAAQFVAAAAAAABAVUAAAAAAAGBTQAAAAAAAgFZAAAAAAAAAWUAAAAAAAEBVQAAAAAAA4FVAAAAAAABgWEAAAAAAACBXQAAAAAAAAFlAAAAAAAAATkAAAAAAAMBXQAAAAAAAYFNAAAAAAABgU0AAAAAAAKBUQAAAAAAAAERAAAAAAADgVUAAAAAAAEBVQAAAAAAA4FVAAAAAAABgU0AAAAAAAEBPQAAAAAAAIFJAAAAAAABAVUAAAAAAACBXQAAAAAAAQFVAAAAAAAAgUkAAAAAAAIBWQAAAAAAAgFZAAAAAAACAS0AAAAAAAOBVQAAAAAAAAE5AAAAAAABgU0AAAAAAAOBVQAAAAAAAwFJAAAAAAACAUUAAAAAAAEBPQA==\"},\"shape\":[77],\"dtype\":\"float64\",\"order\":\"little\"}],[\"confidence when correct hit\",{\"type\":\"ndarray\",\"array\":{\"type\":\"bytes\",\"data\":\"AAAAAADASUAAAAAAAMBSQAAAAAAAgFFAAAAAAADAT0AAAAAAACBTQAAAAAAAAFlAAAAAAABAU0AAAAAAACBUQAAAAAAAgFZAAAAAAACAUUAAAAAAACBTQAAAAAAAAERAAAAAAAAASkAAAAAAAABWQAAAAAAAAE9AAAAAAAAAUUAAAAAAAIBNQAAAAAAA4FJAAAAAAAAAUUAAAAAAAABJQAAAAAAAAFZAAAAAAACAPUAAAAAAAGBQQAAAAAAAwFRAAAAAAADAUEAAAAAAAIBTQAAAAAAAIFJAAAAAAABAT0AAAAAAAABLQAAAAAAAwFJAAAAAAACAVEAAAAAAAIBQQAAAAAAAwFRAAAAAAADAUEAAAAAAAIBWQAAAAAAAQFhAAAAAAABAUEAAAAAAAABVQAAAAAAAgFJAAAAAAAAgV0AAAAAAAABVQAAAAAAAgEtAAAAAAACAUUAAAAAAAOBQQAAAAAAAQE1AAAAAAACgUkAAAAAAAABXQAAAAAAAAFRAAAAAAACAWEAAAAAAAMBVQAAAAAAAwE5AAAAAAAAgVEAAAAAAAABZQAAAAAAAgFFAAAAAAADgUEAAAAAAAIBQQAAAAAAAoFZAAAAAAACAUkAAAAAAAOBXQAAAAAAAAFRAAAAAAACgV0AAAAAAAEBUQAAAAAAAgExAAAAAAABAV0AAAAAAAABZQAAAAAAAQFVAAAAAAADgUEAAAAAAAEBUQAAAAAAAgFBAAAAAAACAS0AAAAAAAIBWQAAAAAAAgE9AAAAAAABAU0AAAAAAAGBQQAAAAAAAwE5AAAAAAACASkAAAAAAAABUQA==\"},\"shape\":[77],\"dtype\":\"float64\",\"order\":\"little\"}],[\"confidence when incorrect hit\",{\"type\":\"ndarray\",\"array\":{\"type\":\"bytes\",\"data\":\"AAAAAABARkAAAAAAAMBLQAAAAAAAgExAAAAAAAAAUEAAAAAAAMBUQAAAAAAAQFVAAAAAAADARUAAAAAAAOBVQAAAAAAAAPh/AAAAAACAUUAAAAAAAMBLQAAAAAAAgEBAAAAAAAAAPUAAAAAAAABEQAAAAAAAAElAAAAAAAAA+H8AAAAAAIBLQAAAAAAAwEFAAAAAAADAUEAAAAAAAAA5QAAAAAAAAPh/AAAAAACAPEAAAAAAAAA7QAAAAAAAAExAAAAAAACASkAAAAAAAABWQAAAAAAAAFJAAAAAAAAAPUAAAAAAAABAQAAAAAAAAPh/AAAAAACASEAAAAAAAAA9QAAAAAAAwFRAAAAAAACAR0AAAAAAAOBUQAAAAAAAgERAAAAAAABAUkAAAAAAAMBLQAAAAAAAQFZAAAAAAAAgUkAAAAAAAIBLQAAAAAAAAD5AAAAAAAAAHEAAAAAAAIA8QAAAAAAAgEVAAAAAAAAA+H8AAAAAAOBSQAAAAAAAQFBAAAAAAAAA+H8AAAAAAMBHQAAAAAAAAPh/AAAAAADASUAAAAAAAAD4fwAAAAAAAENAAAAAAADASUAAAAAAAIBLQAAAAAAAAFRAAAAAAADAUEAAAAAAAABRQAAAAAAAwE1AAAAAAADATkAAAAAAAABKQAAAAAAAgExAAAAAAAAAV0AAAAAAAAD4fwAAAAAAAFZAAAAAAACAUEAAAAAAAAD4fwAAAAAAAExAAAAAAACATkAAAAAAAMBSQAAAAAAAQEpAAAAAAACgUEAAAAAAAGBVQAAAAAAAQFRAAAAAAACAQkAAAAAAAAA7QA==\"},\"shape\":[77],\"dtype\":\"float64\",\"order\":\"little\"}],[\"confidence when correct reject\",{\"type\":\"ndarray\",\"array\":{\"type\":\"bytes\",\"data\":\"AAAAAACARUAAAAAAAABUQAAAAAAAAEtAAAAAAAAASUAAAAAAAABUQAAAAAAAgFdAAAAAAADAU0AAAAAAACBTQAAAAAAAQFVAAAAAAACAUUAAAAAAAOBQQAAAAAAAAExAAAAAAACASEAAAAAAAKBRQAAAAAAAgFBAAAAAAACATkAAAAAAAABQQAAAAAAAoFJAAAAAAAAAVEAAAAAAAIBQQAAAAAAAgFBAAAAAAAAAM0AAAAAAAIBEQAAAAAAAwFNAAAAAAABAUEAAAAAAAEBTQAAAAAAAAFlAAAAAAABAU0AAAAAAAMBHQAAAAAAAIFBAAAAAAABAVEAAAAAAAIBRQAAAAAAAIFRAAAAAAABAUUAAAAAAAGBTQAAAAAAAgFJAAAAAAAAATEAAAAAAAGBSQAAAAAAAAFFAAAAAAADAV0AAAAAAAABRQAAAAAAAAElAAAAAAABAUUAAAAAAAIBLQAAAAAAAYFJAAAAAAACAUkAAAAAAAABXQAAAAAAAoFNAAAAAAACAVkAAAAAAAEBRQAAAAAAAQE1AAAAAAACAT0AAAAAAAOBRQAAAAAAAQE1AAAAAAACAUEAAAAAAAIBPQAAAAAAAoFJAAAAAAAAAU0AAAAAAAOBUQAAAAAAAgFFAAAAAAACAVUAAAAAAAMBRQAAAAAAAwE1AAAAAAADAVkAAAAAAAABZQAAAAAAAgFRAAAAAAACAUkAAAAAAAKBSQAAAAAAAAFJAAAAAAAAAVEAAAAAAAABUQAAAAAAA4FBAAAAAAABAU0AAAAAAAMBVQAAAAAAAgFFAAAAAAAAAVUAAAAAAAAA/QA==\"},\"shape\":[77],\"dtype\":\"float64\",\"order\":\"little\"}],[\"confidence when incorrect reject\",{\"type\":\"ndarray\",\"array\":{\"type\":\"bytes\",\"data\":\"AAAAAACASEAAAAAAAMBSQAAAAAAAgEpAAAAAAAAASUAAAAAAAAD4fwAAAAAAgE5AAAAAAAAANUAAAAAAAAA7QAAAAAAAAPh/AAAAAABAUEAAAAAAAEBKQAAAAAAAgEhAAAAAAAAAQkAAAAAAAKBQQAAAAAAAQElAAAAAAAAAS0AAAAAAAIBNQAAAAAAAAPh/AAAAAAAA+H8AAAAAAAA4QAAAAAAAwE9AAAAAAADAREAAAAAAAIBGQAAAAAAAQEVAAAAAAACASkAAAAAAAABUQAAAAAAAwFZAAAAAAAAAQEAAAAAAAKBTQAAAAAAAgEVAAAAAAAAAQkAAAAAAAAA9QAAAAAAAAEJAAAAAAAAAREAAAAAAAEBRQAAAAAAAQFJAAAAAAAAAUUAAAAAAAIBRQAAAAAAAQFBAAAAAAABAUEAAAAAAAIBOQAAAAAAAAERAAAAAAAAATkAAAAAAAABKQAAAAAAAwEpAAAAAAAAA+H8AAAAAAIBPQAAAAAAAoFFAAAAAAAAAREAAAAAAAMBVQAAAAAAAAPh/AAAAAABAUUAAAAAAAMBUQAAAAAAAQFBAAAAAAACATEAAAAAAAEBJQAAAAAAAwFRAAAAAAAAAMUAAAAAAAMBUQAAAAAAAgERAAAAAAACAUkAAAAAAAABNQAAAAAAAAElAAAAAAABAVkAAAAAAAABJQAAAAAAAgFRAAAAAAACATEAAAAAAAIBUQAAAAAAAgE9AAAAAAACATEAAAAAAAABUQAAAAAAAYFBAAAAAAABgU0AAAAAAAABUQAAAAAAAgE5AAAAAAAAASkAAAAAAAKBUQA==\"},\"shape\":[77],\"dtype\":\"float64\",\"order\":\"little\"}],[\"confidence when correct\",{\"type\":\"ndarray\",\"array\":{\"type\":\"bytes\",\"data\":\"AAAAAACASUAAAAAAAKBTQAAAAAAAgExAAAAAAAAATkAAAAAAAABUQAAAAAAAwFhAAAAAAACAU0AAAAAAAKBTQAAAAAAAgFZAAAAAAACAUUAAAAAAAIBSQAAAAAAAgEdAAAAAAAAASkAAAAAAAABVQAAAAAAAgE9AAAAAAAAAT0AAAAAAAMBNQAAAAAAA4FJAAAAAAACAU0AAAAAAAIBPQAAAAAAAQFRAAAAAAAAAOEAAAAAAAABJQAAAAAAAQFRAAAAAAADAUEAAAAAAAEBTQAAAAAAAAFlAAAAAAAAAUUAAAAAAAABIQAAAAAAAgFJAAAAAAACAVEAAAAAAAMBQQAAAAAAAoFRAAAAAAADAUEAAAAAAAABWQAAAAAAAwFRAAAAAAADAT0AAAAAAACBUQAAAAAAAwFFAAAAAAADAV0AAAAAAAKBTQAAAAAAAQEpAAAAAAABAUUAAAAAAAIBOQAAAAAAAgFBAAAAAAACAUkAAAAAAAABXQAAAAAAAAFRAAAAAAAAAV0AAAAAAAMBUQAAAAAAAQE5AAAAAAAAgUkAAAAAAAGBYQAAAAAAAAFFAAAAAAADAUEAAAAAAAEBQQAAAAAAAgFRAAAAAAADAUkAAAAAAAIBXQAAAAAAAQFNAAAAAAAAAV0AAAAAAAEBUQAAAAAAAAE1AAAAAAADgVkAAAAAAAABZQAAAAAAAQFVAAAAAAACAUkAAAAAAAOBTQAAAAAAAoFFAAAAAAAAAUkAAAAAAAEBVQAAAAAAAAFBAAAAAAABAU0AAAAAAAIBSQAAAAAAAQFBAAAAAAABAVEAAAAAAAEBUQA==\"},\"shape\":[77],\"dtype\":\"float64\",\"order\":\"little\"}],[\"confidence when incorrect\",{\"type\":\"ndarray\",\"array\":{\"type\":\"bytes\",\"data\":\"AAAAAACASEAAAAAAAMBQQAAAAAAAQEtAAAAAAAAASUAAAAAAAMBUQAAAAAAAQFBAAAAAAAAAQkAAAAAAAOBQQAAAAAAAAPh/AAAAAACAUUAAAAAAAMBLQAAAAAAAAEZAAAAAAAAAPUAAAAAAAEBLQAAAAAAAAElAAAAAAAAAS0AAAAAAAIBMQAAAAAAAwEFAAAAAAADAUEAAAAAAAIA4QAAAAAAAwE9AAAAAAACAQUAAAAAAAIBGQAAAAAAAAEtAAAAAAACASkAAAAAAAABVQAAAAAAAwFZAAAAAAAAAP0AAAAAAAIBJQAAAAAAAgEVAAAAAAACASEAAAAAAAAA9QAAAAAAAAFNAAAAAAAAAREAAAAAAAMBTQAAAAAAAwEtAAAAAAAAAUUAAAAAAAEBQQAAAAAAAAFFAAAAAAABAUEAAAAAAAABNQAAAAAAAgEFAAAAAAADATUAAAAAAAABJQAAAAAAAwEdAAAAAAAAA+H8AAAAAAGBSQAAAAAAAgFFAAAAAAAAAREAAAAAAAMBQQAAAAAAAAPh/AAAAAADATkAAAAAAAMBUQAAAAAAAAERAAAAAAACASkAAAAAAAIBLQAAAAAAAQFRAAAAAAAAAUEAAAAAAAMBRQAAAAAAAgE1AAAAAAADAUEAAAAAAAABNQAAAAAAAAElAAAAAAADAVkAAAAAAAABJQAAAAAAAQFVAAAAAAAAAUEAAAAAAAIBUQAAAAAAAwE1AAAAAAAAATkAAAAAAAMBSQAAAAAAAwE1AAAAAAACAUkAAAAAAAABUQAAAAAAAQFRAAAAAAACASUAAAAAAAEBSQA==\"},\"shape\":[77],\"dtype\":\"float64\",\"order\":\"little\"}],[\"sci\",{\"type\":\"ndarray\",\"array\":{\"type\":\"bytes\",\"data\":\"HQAAABMAAAAXAAAAGgAAABUAAAATAAAAHAAAAB0AAAARAAAAFgAAABwAAAAfAAAAHwAAACAAAAAZAAAAHgAAABwAAAAeAAAAFgAAABQAAAAaAAAAIAAAACAAAAAYAAAAGgAAAB4AAAAcAAAAFQAAAB0AAAAgAAAAGgAAABoAAAAXAAAAEgAAABYAAAAdAAAAFAAAABsAAAATAAAAHQAAABgAAAAdAAAAEQAAABoAAAAeAAAAEQAAABkAAAAfAAAAGwAAACAAAAAcAAAAGQAAAB4AAAAVAAAAHQAAABQAAAAWAAAAFwAAABQAAAARAAAAGwAAABsAAAAWAAAAGQAAAB4AAAAgAAAAHgAAACAAAAAcAAAAHwAAAB0AAAAaAAAAFAAAABMAAAAfAAAAFgAAABgAAAA=\"},\"shape\":[77],\"dtype\":\"int32\",\"order\":\"little\"}],[\"psqi\",{\"type\":\"ndarray\",\"array\":{\"type\":\"bytes\",\"data\":\"AQAAAAUAAAABAAAABQAAAAcAAAAHAAAAAwAAAAMAAAAKAAAABAAAAAUAAAACAAAAAgAAAAIAAAAFAAAAAgAAAAMAAAADAAAABAAAAAkAAAAFAAAAAgAAAAEAAAAEAAAACAAAAAIAAAACAAAABgAAAAMAAAABAAAABQAAAAcAAAADAAAABgAAAAYAAAABAAAABgAAAAQAAAAEAAAAAwAAAAUAAAACAAAABwAAAAQAAAAAAAAABQAAAAEAAAABAAAABAAAAAEAAAAIAAAABAAAAAIAAAAHAAAABAAAAAEAAAAHAAAABAAAAAUAAAAGAAAABAAAAAIAAAADAAAABAAAAAMAAAABAAAABQAAAAIAAAABAAAAAQAAAAMAAAAGAAAACAAAAAgAAAACAAAABAAAAAUAAAA=\"},\"shape\":[77],\"dtype\":\"int32\",\"order\":\"little\"}],[\"ess\",{\"type\":\"ndarray\",\"array\":{\"type\":\"bytes\",\"data\":\"BQAAAAEAAAADAAAABAAAAAUAAAAMAAAABAAAAAQAAAALAAAABgAAAAMAAAALAAAACgAAAAwAAAAGAAAADQAAAAwAAAAFAAAACgAAAAQAAAAEAAAABgAAAAMAAAAAAAAADAAAAAYAAAAFAAAACQAAAAcAAAAGAAAACgAAABIAAAALAAAACAAAABAAAAAHAAAACQAAAAsAAAAEAAAABwAAAAQAAAALAAAADAAAAAMAAAADAAAABAAAAAsAAAABAAAABAAAAAIAAAAJAAAAAQAAAAIAAAAMAAAABgAAAAUAAAAFAAAABAAAAAkAAAADAAAACAAAAAYAAAAKAAAAFQAAAAUAAAAFAAAACQAAAAEAAAAIAAAACwAAAAUAAAAHAAAACgAAAAcAAAAPAAAABwAAAAcAAAA=\"},\"shape\":[77],\"dtype\":\"int32\",\"order\":\"little\"}],[\"insomnia\",{\"type\":\"ndarray\",\"array\":{\"type\":\"bytes\",\"data\":\"AAAAAAAAAAAAAAAAAAAAAAAAAAAAAAAAAAAAAAAAAAAAAAAAAAAAAAAAAAAAAAAAAAAAAAAAAAAAAAAAAAAAAAAAAAAAAAAAAAAAAAA=\"},\"shape\":[77],\"dtype\":\"bool\",\"order\":\"little\"}]]}}},\"view\":{\"type\":\"object\",\"name\":\"CDSView\",\"id\":\"p4005\",\"attributes\":{\"filter\":{\"type\":\"object\",\"name\":\"AllIndices\",\"id\":\"p4006\"}}},\"glyph\":{\"type\":\"object\",\"name\":\"Circle\",\"id\":\"p4001\",\"attributes\":{\"x\":{\"type\":\"field\",\"field\":\"confidence when correct\"},\"y\":{\"type\":\"field\",\"field\":\"confidence when incorrect\"},\"size\":{\"type\":\"value\",\"value\":5},\"line_color\":{\"type\":\"value\",\"value\":\"#1f77b3\"},\"line_alpha\":{\"type\":\"value\",\"value\":0.7},\"line_width\":{\"type\":\"value\",\"value\":2},\"fill_color\":{\"type\":\"value\",\"value\":\"#1f77b3\"},\"fill_alpha\":{\"type\":\"value\",\"value\":0},\"hatch_color\":{\"type\":\"value\",\"value\":\"#1f77b3\"}}},\"nonselection_glyph\":{\"type\":\"object\",\"name\":\"Circle\",\"id\":\"p4002\",\"attributes\":{\"x\":{\"type\":\"field\",\"field\":\"confidence when correct\"},\"y\":{\"type\":\"field\",\"field\":\"confidence when incorrect\"},\"size\":{\"type\":\"value\",\"value\":5},\"line_color\":{\"type\":\"value\",\"value\":\"#1f77b3\"},\"line_alpha\":{\"type\":\"value\",\"value\":0.1},\"line_width\":{\"type\":\"value\",\"value\":2},\"fill_color\":{\"type\":\"value\",\"value\":\"#1f77b3\"},\"fill_alpha\":{\"type\":\"value\",\"value\":0.1},\"hatch_color\":{\"type\":\"value\",\"value\":\"#1f77b3\"},\"hatch_alpha\":{\"type\":\"value\",\"value\":0.1}}},\"muted_glyph\":{\"type\":\"object\",\"name\":\"Circle\",\"id\":\"p4003\",\"attributes\":{\"x\":{\"type\":\"field\",\"field\":\"confidence when correct\"},\"y\":{\"type\":\"field\",\"field\":\"confidence when incorrect\"},\"size\":{\"type\":\"value\",\"value\":5},\"line_color\":{\"type\":\"value\",\"value\":\"#1f77b3\"},\"line_alpha\":{\"type\":\"value\",\"value\":0.2},\"line_width\":{\"type\":\"value\",\"value\":2},\"fill_color\":{\"type\":\"value\",\"value\":\"#1f77b3\"},\"fill_alpha\":{\"type\":\"value\",\"value\":0.2},\"hatch_color\":{\"type\":\"value\",\"value\":\"#1f77b3\"},\"hatch_alpha\":{\"type\":\"value\",\"value\":0.2}}}}},{\"type\":\"object\",\"name\":\"GlyphRenderer\",\"id\":\"p4013\",\"attributes\":{\"level\":\"overlay\",\"data_source\":{\"type\":\"object\",\"name\":\"ColumnDataSource\",\"id\":\"p3481\",\"attributes\":{\"selected\":{\"type\":\"object\",\"name\":\"Selection\",\"id\":\"p3482\",\"attributes\":{\"indices\":[],\"line_indices\":[]}},\"selection_policy\":{\"type\":\"object\",\"name\":\"UnionRenderers\",\"id\":\"p3483\"},\"data\":{\"type\":\"map\",\"entries\":[[\"index\",{\"type\":\"ndarray\",\"array\":{\"type\":\"bytes\",\"data\":\"AAAAAAEAAAACAAAAAwAAAAQAAAAFAAAABgAAAAcAAAAIAAAACQAAAAoAAAALAAAADAAAAA0AAAAOAAAADwAAABAAAAARAAAAEgAAABMAAAAUAAAAFQAAABYAAAAXAAAAGAAAAA==\"},\"shape\":[25],\"dtype\":\"int32\",\"order\":\"little\"}],[\"participant number\",{\"type\":\"ndarray\",\"array\":{\"type\":\"bytes\",\"data\":\"CAAAABAAAAASAAAAFgAAABsAAAAcAAAAHgAAACEAAAAiAAAAIwAAACYAAAApAAAALgAAADEAAAA3AAAARwAAAEwAAABNAAAATgAAAFAAAABZAAAAWgAAAF0AAABkAAAAZQAAAA==\"},\"shape\":[25],\"dtype\":\"int32\",\"order\":\"little\"}],[\"gender\",{\"type\":\"ndarray\",\"array\":[\"f\",\"m\",\"f\",\"f\",\"f\",\"f\",\"m\",\"m\",\"f\",\"f\",\"f\",\"f\",\"f\",\"f\",\"f\",\"f\",\"f\",\"f\",\"m\",\"m\",\"f\",\"m\",\"f\",\"f\",\"f\"],\"shape\":[25],\"dtype\":\"object\",\"order\":\"little\"}],[\"age\",{\"type\":\"ndarray\",\"array\":{\"type\":\"bytes\",\"data\":\"JwAAACoAAAAfAAAAIwAAAEoAAAA9AAAAIAAAAD4AAAAhAAAANQAAACkAAAAkAAAAKAAAABgAAAAgAAAAKAAAAD0AAAAqAAAAHwAAABwAAAAaAAAALQAAABwAAAAsAAAAHAAAAA==\"},\"shape\":[25],\"dtype\":\"int32\",\"order\":\"little\"}],[\"correct hit percentage\",{\"type\":\"ndarray\",\"array\":{\"type\":\"bytes\",\"data\":\"QQAAAFoAAABaAAAAZAAAADwAAABQAAAAWgAAAC0AAABQAAAAZAAAAEYAAABaAAAAXwAAAFUAAABLAAAAKAAAAGQAAABGAAAAZAAAAGQAAAA8AAAAZAAAAGQAAABBAAAAZAAAAA==\"},\"shape\":[25],\"dtype\":\"int32\",\"order\":\"little\"}],[\"correct reject percentage\",{\"type\":\"ndarray\",\"array\":{\"type\":\"bytes\",\"data\":\"UAAAAFoAAABfAAAASwAAAEEAAAAUAAAASwAAAFoAAABkAAAAMgAAADcAAABkAAAAQQAAAEsAAAA3AAAAZAAAACgAAABaAAAARgAAADIAAABQAAAAXwAAAEsAAAAZAAAAKAAAAA==\"},\"shape\":[25],\"dtype\":\"int32\",\"order\":\"little\"}],[\"percent correct\",{\"type\":\"ndarray\",\"array\":{\"type\":\"bytes\",\"data\":\"AAAAAAAgUkAAAAAAAIBWQAAAAAAAIFdAAAAAAADgVUAAAAAAAEBPQAAAAAAAAElAAAAAAACgVEAAAAAAAOBQQAAAAAAAgFZAAAAAAADAUkAAAAAAAEBPQAAAAAAAwFdAAAAAAAAAVEAAAAAAAABUQAAAAAAAQFBAAAAAAACAUUAAAAAAAIBRQAAAAAAAAFRAAAAAAABAVUAAAAAAAMBSQAAAAAAAgFFAAAAAAABgWEAAAAAAAOBVQAAAAAAAgEZAAAAAAACAUUA=\"},\"shape\":[25],\"dtype\":\"float64\",\"order\":\"little\"}],[\"confidence when correct hit\",{\"type\":\"ndarray\",\"array\":{\"type\":\"bytes\",\"data\":\"AAAAAADAVkAAAAAAAOBSQAAAAAAAYFZAAAAAAABgVkAAAAAAACBRQAAAAAAAwFFAAAAAAADAUEAAAAAAAABLQAAAAAAAoFFAAAAAAACgUkAAAAAAAIBUQAAAAAAAIFNAAAAAAAAAVEAAAAAAAABNQAAAAAAAQFVAAAAAAABAUUAAAAAAAGBRQAAAAAAAwFVAAAAAAAAAV0AAAAAAAABZQAAAAAAAgFFAAAAAAAAAWUAAAAAAAGBWQAAAAAAAAE9AAAAAAADAVUA=\"},\"shape\":[25],\"dtype\":\"float64\",\"order\":\"little\"}],[\"confidence when incorrect hit\",{\"type\":\"ndarray\",\"array\":{\"type\":\"bytes\",\"data\":\"AAAAAACAVkAAAAAAAMBLQAAAAAAAgFZAAAAAAAAA+H8AAAAAAIBIQAAAAAAAgE9AAAAAAABATEAAAAAAAIBCQAAAAAAAIFNAAAAAAAAA+H8AAAAAAMBOQAAAAAAA4FJAAAAAAABAVkAAAAAAAABJQAAAAAAAQFRAAAAAAAAATEAAAAAAAAD4fwAAAAAAAFJAAAAAAAAA+H8AAAAAAAD4fwAAAAAAQFNAAAAAAAAA+H8AAAAAAAD4fwAAAAAAAFJAAAAAAAAA+H8=\"},\"shape\":[25],\"dtype\":\"float64\",\"order\":\"little\"}],[\"confidence when correct reject\",{\"type\":\"ndarray\",\"array\":{\"type\":\"bytes\",\"data\":\"AAAAAABAV0AAAAAAAKBRQAAAAAAAgFVAAAAAAADAUUAAAAAAAIBOQAAAAAAAAD9AAAAAAACAUEAAAAAAAEBQQAAAAAAAIFBAAAAAAABATkAAAAAAAEBSQAAAAAAAwFJAAAAAAADAU0AAAAAAAIBIQAAAAAAAQFVAAAAAAACAUUAAAAAAAEBGQAAAAAAAoFZAAAAAAABAVEAAAAAAAABZQAAAAAAAgFRAAAAAAAAAWUAAAAAAAMBQQAAAAAAAwFVAAAAAAAAAUUA=\"},\"shape\":[25],\"dtype\":\"float64\",\"order\":\"little\"}],[\"confidence when incorrect reject\",{\"type\":\"ndarray\",\"array\":{\"type\":\"bytes\",\"data\":\"AAAAAADgVEAAAAAAAABJQAAAAAAAQFRAAAAAAAAAVEAAAAAAAIBIQAAAAAAAIFJAAAAAAABAUEAAAAAAAGBUQAAAAAAAAPh/AAAAAABAUEAAAAAAAEBRQAAAAAAAAPh/AAAAAABATUAAAAAAAABRQAAAAAAAgFVAAAAAAAAA+H8AAAAAAEBSQAAAAAAAwEVAAAAAAAAATkAAAAAAAABZQAAAAAAA4FBAAAAAAAAAWUAAAAAAAABOQAAAAAAAQFNAAAAAAAAAS0A=\"},\"shape\":[25],\"dtype\":\"float64\",\"order\":\"little\"}],[\"confidence when correct\",{\"type\":\"ndarray\",\"array\":{\"type\":\"bytes\",\"data\":\"AAAAAABAV0AAAAAAAMBSQAAAAAAAQFZAAAAAAAAAVkAAAAAAAEBQQAAAAAAAIFBAAAAAAACAUEAAAAAAAABPQAAAAAAAAFFAAAAAAADAUUAAAAAAAIBUQAAAAAAAAFNAAAAAAADgU0AAAAAAAIBLQAAAAAAAQFVAAAAAAACAUUAAAAAAAEBLQAAAAAAAIFZAAAAAAADgVUAAAAAAAABZQAAAAAAAQFNAAAAAAAAAWUAAAAAAAABUQAAAAAAAYFFAAAAAAABAVEA=\"},\"shape\":[25],\"dtype\":\"float64\",\"order\":\"little\"}],[\"confidence when incorrect\",{\"type\":\"ndarray\",\"array\":{\"type\":\"bytes\",\"data\":\"AAAAAACAVkAAAAAAAABJQAAAAAAAAFZAAAAAAAAAVEAAAAAAAIBIQAAAAAAAoFFAAAAAAAAAUEAAAAAAAIBOQAAAAAAAIFNAAAAAAABAUEAAAAAAAABQQAAAAAAA4FJAAAAAAACAT0AAAAAAAIBNQAAAAAAA4FRAAAAAAAAATEAAAAAAAEBSQAAAAAAAAFBAAAAAAAAATkAAAAAAAABZQAAAAAAAoFFAAAAAAAAAWUAAAAAAAABOQAAAAAAAYFJAAAAAAAAAS0A=\"},\"shape\":[25],\"dtype\":\"float64\",\"order\":\"little\"}],[\"sci\",{\"type\":\"ndarray\",\"array\":{\"type\":\"bytes\",\"data\":\"CQAAAAQAAAAKAAAADQAAAA0AAAAPAAAAEAAAAA4AAAAOAAAADgAAAA4AAAAPAAAACgAAAA4AAAAFAAAAAAAAABAAAAALAAAADgAAAAwAAAAOAAAADgAAABAAAAABAAAADgAAAA==\"},\"shape\":[25],\"dtype\":\"int32\",\"order\":\"little\"}],[\"psqi\",{\"type\":\"ndarray\",\"array\":{\"type\":\"bytes\",\"data\":\"DQAAAAsAAAAJAAAACAAAAAkAAAAOAAAACQAAAAkAAAAMAAAACAAAAAUAAAAHAAAADAAAAA0AAAANAAAACwAAAAQAAAAKAAAABgAAAAcAAAAIAAAACQAAAAcAAAAPAAAABwAAAA==\"},\"shape\":[25],\"dtype\":\"int32\",\"order\":\"little\"}],[\"ess\",{\"type\":\"ndarray\",\"array\":{\"type\":\"bytes\",\"data\":\"AgAAAAcAAAADAAAAFAAAAAwAAAACAAAAAwAAAAkAAAAKAAAABwAAABMAAAAAAAAACAAAAAQAAAAHAAAADgAAAAwAAAAKAAAACwAAAAwAAAABAAAABgAAAAQAAAAGAAAAAgAAAA==\"},\"shape\":[25],\"dtype\":\"int32\",\"order\":\"little\"}],[\"insomnia\",{\"type\":\"ndarray\",\"array\":{\"type\":\"bytes\",\"data\":\"AQEBAQEBAQEBAQEBAQEBAQEBAQEBAQEBAQ==\"},\"shape\":[25],\"dtype\":\"bool\",\"order\":\"little\"}]]}}},\"view\":{\"type\":\"object\",\"name\":\"CDSView\",\"id\":\"p4014\",\"attributes\":{\"filter\":{\"type\":\"object\",\"name\":\"AllIndices\",\"id\":\"p4015\"}}},\"glyph\":{\"type\":\"object\",\"name\":\"Circle\",\"id\":\"p4010\",\"attributes\":{\"x\":{\"type\":\"field\",\"field\":\"confidence when correct\"},\"y\":{\"type\":\"field\",\"field\":\"confidence when incorrect\"},\"size\":{\"type\":\"value\",\"value\":5},\"line_color\":{\"type\":\"value\",\"value\":\"#ff7e0e\"},\"line_alpha\":{\"type\":\"value\",\"value\":0.7},\"line_width\":{\"type\":\"value\",\"value\":2},\"fill_color\":{\"type\":\"value\",\"value\":\"#ff7e0e\"},\"fill_alpha\":{\"type\":\"value\",\"value\":0},\"hatch_color\":{\"type\":\"value\",\"value\":\"#ff7e0e\"}}},\"nonselection_glyph\":{\"type\":\"object\",\"name\":\"Circle\",\"id\":\"p4011\",\"attributes\":{\"x\":{\"type\":\"field\",\"field\":\"confidence when correct\"},\"y\":{\"type\":\"field\",\"field\":\"confidence when incorrect\"},\"size\":{\"type\":\"value\",\"value\":5},\"line_color\":{\"type\":\"value\",\"value\":\"#ff7e0e\"},\"line_alpha\":{\"type\":\"value\",\"value\":0.1},\"line_width\":{\"type\":\"value\",\"value\":2},\"fill_color\":{\"type\":\"value\",\"value\":\"#ff7e0e\"},\"fill_alpha\":{\"type\":\"value\",\"value\":0.1},\"hatch_color\":{\"type\":\"value\",\"value\":\"#ff7e0e\"},\"hatch_alpha\":{\"type\":\"value\",\"value\":0.1}}},\"muted_glyph\":{\"type\":\"object\",\"name\":\"Circle\",\"id\":\"p4012\",\"attributes\":{\"x\":{\"type\":\"field\",\"field\":\"confidence when correct\"},\"y\":{\"type\":\"field\",\"field\":\"confidence when incorrect\"},\"size\":{\"type\":\"value\",\"value\":5},\"line_color\":{\"type\":\"value\",\"value\":\"#ff7e0e\"},\"line_alpha\":{\"type\":\"value\",\"value\":0.2},\"line_width\":{\"type\":\"value\",\"value\":2},\"fill_color\":{\"type\":\"value\",\"value\":\"#ff7e0e\"},\"fill_alpha\":{\"type\":\"value\",\"value\":0.2},\"hatch_color\":{\"type\":\"value\",\"value\":\"#ff7e0e\"},\"hatch_alpha\":{\"type\":\"value\",\"value\":0.2}}}}}],\"toolbar\":{\"type\":\"object\",\"name\":\"Toolbar\",\"id\":\"p3960\",\"attributes\":{\"tools\":[{\"type\":\"object\",\"name\":\"PanTool\",\"id\":\"p3983\"},{\"type\":\"object\",\"name\":\"WheelZoomTool\",\"id\":\"p3984\"},{\"type\":\"object\",\"name\":\"BoxZoomTool\",\"id\":\"p3985\",\"attributes\":{\"overlay\":{\"type\":\"object\",\"name\":\"BoxAnnotation\",\"id\":\"p3986\",\"attributes\":{\"syncable\":false,\"level\":\"overlay\",\"visible\":false,\"left_units\":\"canvas\",\"right_units\":\"canvas\",\"bottom_units\":\"canvas\",\"top_units\":\"canvas\",\"line_color\":\"black\",\"line_alpha\":1.0,\"line_width\":2,\"line_dash\":[4,4],\"fill_color\":\"lightgrey\",\"fill_alpha\":0.5}}}},{\"type\":\"object\",\"name\":\"SaveTool\",\"id\":\"p3987\"},{\"type\":\"object\",\"name\":\"ResetTool\",\"id\":\"p3988\"},{\"type\":\"object\",\"name\":\"HelpTool\",\"id\":\"p3989\"}]}},\"left\":[{\"type\":\"object\",\"name\":\"LinearAxis\",\"id\":\"p3976\",\"attributes\":{\"level\":\"overlay\",\"ticker\":{\"type\":\"object\",\"name\":\"BasicTicker\",\"id\":\"p3977\",\"attributes\":{\"desired_num_ticks\":10,\"mantissas\":[1,2,5]}},\"formatter\":{\"type\":\"object\",\"name\":\"BasicTickFormatter\",\"id\":\"p3978\"},\"axis_label\":\"condifence when incorrect\",\"axis_label_text_font_size\":\"8pt\",\"axis_label_text_font_style\":\"bold\",\"major_label_policy\":{\"type\":\"object\",\"name\":\"AllLabels\",\"id\":\"p3979\"},\"major_label_text_font_size\":\"7.5pt\",\"axis_line_color\":\"dimgray\",\"major_tick_line_color\":\"dimgray\",\"major_tick_in\":0,\"minor_tick_out\":0}}],\"right\":[{\"type\":\"object\",\"name\":\"Legend\",\"id\":\"p4016\",\"attributes\":{\"level\":\"overlay\",\"title_text_font_size\":\"8pt\",\"title_text_font_style\":\"bold\",\"border_line_color\":null,\"background_fill_color\":null,\"click_policy\":\"hide\",\"label_text_font_size\":\"7.5pt\",\"items\":[{\"type\":\"object\",\"name\":\"LegendItem\",\"id\":\"p4017\",\"attributes\":{\"label\":{\"type\":\"value\",\"value\":\"normal\"},\"renderers\":[{\"id\":\"p4004\"}]}},{\"type\":\"object\",\"name\":\"LegendItem\",\"id\":\"p4018\",\"attributes\":{\"label\":{\"type\":\"value\",\"value\":\"insomnia\"},\"renderers\":[{\"id\":\"p4013\"}]}}]}}],\"below\":[{\"type\":\"object\",\"name\":\"LinearAxis\",\"id\":\"p3969\",\"attributes\":{\"level\":\"overlay\",\"ticker\":{\"type\":\"object\",\"name\":\"BasicTicker\",\"id\":\"p3970\",\"attributes\":{\"desired_num_ticks\":10,\"mantissas\":[1,2,5]}},\"formatter\":{\"type\":\"object\",\"name\":\"BasicTickFormatter\",\"id\":\"p3971\"},\"axis_label\":\"confidence when correct\",\"axis_label_text_font_size\":\"8pt\",\"axis_label_text_font_style\":\"bold\",\"major_label_policy\":{\"type\":\"object\",\"name\":\"AllLabels\",\"id\":\"p3972\"},\"major_label_text_font_size\":\"7.5pt\",\"axis_line_color\":\"dimgray\",\"major_tick_line_color\":\"dimgray\",\"major_tick_in\":0,\"minor_tick_out\":0}}],\"center\":[{\"type\":\"object\",\"name\":\"Grid\",\"id\":\"p3975\",\"attributes\":{\"level\":\"underlay\",\"axis\":{\"id\":\"p3969\"},\"grid_line_color\":\"lightgray\"}},{\"type\":\"object\",\"name\":\"Grid\",\"id\":\"p3982\",\"attributes\":{\"level\":\"underlay\",\"dimension\":1,\"axis\":{\"id\":\"p3976\"},\"grid_line_color\":\"lightgray\"}}],\"frame_width\":300,\"frame_height\":300}}],\"callbacks\":{\"type\":\"map\"}}};\n",
       "  const render_items = [{\"docid\":\"a3535ce1-183d-42ca-bbb2-72d5e8fcb58a\",\"roots\":{\"p3951\":\"d13315cf-031e-4d35-bfb6-caa5ecfccb6f\"},\"root_ids\":[\"p3951\"]}];\n",
       "  root.Bokeh.embed.embed_items_notebook(docs_json, render_items);\n",
       "  }\n",
       "  if (root.Bokeh !== undefined) {\n",
       "    embed_document(root);\n",
       "  } else {\n",
       "    let attempts = 0;\n",
       "    const timer = setInterval(function(root) {\n",
       "      if (root.Bokeh !== undefined) {\n",
       "        clearInterval(timer);\n",
       "        embed_document(root);\n",
       "      } else {\n",
       "        attempts++;\n",
       "        if (attempts > 100) {\n",
       "          clearInterval(timer);\n",
       "          console.log(\"Bokeh: ERROR: Unable to run BokehJS code because BokehJS library is missing\");\n",
       "        }\n",
       "      }\n",
       "    }, 10, root)\n",
       "  }\n",
       "})(window);"
      ],
      "application/vnd.bokehjs_exec.v0+json": ""
     },
     "metadata": {
      "application/vnd.bokehjs_exec.v0+json": {
       "id": "p3951"
      }
     },
     "output_type": "display_data"
    }
   ],
   "source": [
    "def gfmt_plot():\n",
    "    \"\"\"Make a plot for testing out styles in this notebook.\"\"\"\n",
    "    p = bokeh.plotting.figure(\n",
    "        frame_width=300,\n",
    "        frame_height=300,\n",
    "        x_axis_label=\"confidence when correct\",\n",
    "        y_axis_label=\"condifence when incorrect\",\n",
    "        title=\"GMFT with sleep conditions\",\n",
    "        x_range=[0, 100],\n",
    "        y_range=[0, 100],\n",
    "    )\n",
    "\n",
    "    normal_glyph = p.circle(\n",
    "        source=source_normal,\n",
    "        x=\"confidence when correct\",\n",
    "        y=\"confidence when incorrect\",\n",
    "        color=cat_colors[0],\n",
    "    )\n",
    "\n",
    "    insom_glyph = p.circle(\n",
    "        source=source_insomnia,\n",
    "        x=\"confidence when correct\",\n",
    "        y=\"confidence when incorrect\",\n",
    "        color=cat_colors[1],\n",
    "    )\n",
    "\n",
    "    # Construct legend items\n",
    "    legend_items = [('normal', [normal_glyph]), ('insomnia', [insom_glyph])]\n",
    "\n",
    "    # Instantiate legend\n",
    "    legend = bokeh.models.Legend(items=legend_items, click_policy='hide')\n",
    "\n",
    "    # Add the legend to the right of the plot\n",
    "    p.add_layout(legend, 'right')\n",
    "    \n",
    "    return p\n",
    "\n",
    "bokeh.io.show(gfmt_plot())"
   ]
  },
  {
   "cell_type": "markdown",
   "metadata": {},
   "source": [
    "We could also style our plots to resemble the default \"dark\" styling of [Seaborn](https://seaborn.pydata.org)."
   ]
  },
  {
   "cell_type": "code",
   "execution_count": 24,
   "metadata": {},
   "outputs": [],
   "source": [
    "seaborn_theme_dict = {\n",
    "    \"attrs\": {\n",
    "        \"figure\": {\n",
    "            \"background_fill_color\": \"#eaeaf2\",\n",
    "            \"frame_height\": 300,\n",
    "            \"frame_width\": 350,\n",
    "        },\n",
    "        \"Axis\": {\n",
    "            \"axis_line_color\": None,\n",
    "            \"minor_tick_out\": 0,\n",
    "            \"major_tick_in\": 0,\n",
    "            \"major_tick_out\": 0,\n",
    "            \"major_label_text_font_size\": \"7.5pt\",\n",
    "            \"axis_label_text_font_size\": \"7.5pt\",\n",
    "            \"axis_label_text_font_style\": \"normal\",\n",
    "        },\n",
    "        \"Legend\": {\n",
    "            \"border_line_color\": \"darkgray\",\n",
    "            \"background_fill_color\": \"#eaeaf2\",\n",
    "            \"border_line_width\": 0.75,\n",
    "            \"label_text_font_size\": \"7.5pt\",\n",
    "        },\n",
    "        \"Grid\": {\n",
    "            \"grid_line_color\": \"#FFFFFF\", \n",
    "            \"grid_line_width\": 0.75,\n",
    "        },\n",
    "        \"Title\": {\n",
    "            \"align\": \"center\",\n",
    "            'text_font_style': 'normal',\n",
    "            'text_font_size': \"8pt\",\n",
    "        },\n",
    "    }\n",
    "}\n",
    "\n",
    "seaborn_theme = bokeh.themes.Theme(json=seaborn_theme_dict)\n",
    "bokeh.io.curdoc().theme = seaborn_theme"
   ]
  },
  {
   "cell_type": "markdown",
   "metadata": {},
   "source": [
    "Let's make the plot, yet again, with this new styling."
   ]
  },
  {
   "cell_type": "code",
   "execution_count": 25,
   "metadata": {},
   "outputs": [
    {
     "data": {
      "text/html": [
       "\n",
       "  <div id=\"aed79bb9-78bc-486b-b9e8-1410632f7e53\" data-root-id=\"p4358\" style=\"display: contents;\"></div>\n"
      ]
     },
     "metadata": {},
     "output_type": "display_data"
    },
    {
     "data": {
      "application/javascript": [
       "(function(root) {\n",
       "  function embed_document(root) {\n",
       "  const docs_json = {\"dcf870e9-7a2a-4ba8-ae58-4a39942f53a4\":{\"version\":\"3.1.1\",\"title\":\"Bokeh Application\",\"defs\":[],\"roots\":[{\"type\":\"object\",\"name\":\"Figure\",\"id\":\"p4358\",\"attributes\":{\"x_range\":{\"type\":\"object\",\"name\":\"Range1d\",\"id\":\"p4368\",\"attributes\":{\"end\":100}},\"y_range\":{\"type\":\"object\",\"name\":\"Range1d\",\"id\":\"p4370\",\"attributes\":{\"end\":100}},\"x_scale\":{\"type\":\"object\",\"name\":\"LinearScale\",\"id\":\"p4372\"},\"y_scale\":{\"type\":\"object\",\"name\":\"LinearScale\",\"id\":\"p4374\"},\"title\":{\"type\":\"object\",\"name\":\"Title\",\"id\":\"p4361\",\"attributes\":{\"text\":\"GMFT with sleep conditions\",\"text_font_size\":\"8pt\",\"text_font_style\":\"normal\",\"align\":\"center\"}},\"renderers\":[{\"type\":\"object\",\"name\":\"GlyphRenderer\",\"id\":\"p4411\",\"attributes\":{\"data_source\":{\"type\":\"object\",\"name\":\"ColumnDataSource\",\"id\":\"p3484\",\"attributes\":{\"selected\":{\"type\":\"object\",\"name\":\"Selection\",\"id\":\"p3485\",\"attributes\":{\"indices\":[],\"line_indices\":[]}},\"selection_policy\":{\"type\":\"object\",\"name\":\"UnionRenderers\",\"id\":\"p3486\"},\"data\":{\"type\":\"map\",\"entries\":[[\"index\",{\"type\":\"ndarray\",\"array\":{\"type\":\"bytes\",\"data\":\"GQAAABoAAAAbAAAAHAAAAB0AAAAeAAAAHwAAACAAAAAhAAAAIgAAACMAAAAkAAAAJQAAACYAAAAnAAAAKAAAACkAAAAqAAAAKwAAACwAAAAtAAAALgAAAC8AAAAwAAAAMQAAADIAAAAzAAAANAAAADUAAAA2AAAANwAAADgAAAA5AAAAOgAAADsAAAA8AAAAPQAAAD4AAAA/AAAAQAAAAEEAAABCAAAAQwAAAEQAAABFAAAARgAAAEcAAABIAAAASQAAAEoAAABLAAAATAAAAE0AAABOAAAATwAAAFAAAABRAAAAUgAAAFMAAABUAAAAVQAAAFYAAABXAAAAWAAAAFkAAABaAAAAWwAAAFwAAABdAAAAXgAAAF8AAABgAAAAYQAAAGIAAABjAAAAZAAAAGUAAAA=\"},\"shape\":[77],\"dtype\":\"int32\",\"order\":\"little\"}],[\"participant number\",{\"type\":\"ndarray\",\"array\":{\"type\":\"bytes\",\"data\":\"AQAAAAIAAAADAAAABAAAAAUAAAAGAAAABwAAAAkAAAAKAAAACwAAAAwAAAANAAAADgAAAA8AAAARAAAAEwAAABQAAAAVAAAAFwAAABgAAAAZAAAAGgAAAB0AAAAfAAAAIAAAACQAAAAlAAAAJwAAACgAAAAqAAAAKwAAACwAAAAtAAAAMAAAADIAAAAzAAAANAAAADUAAAA2AAAAOAAAADkAAAA6AAAAOwAAADwAAAA9AAAAPgAAAD8AAABAAAAAQQAAAEIAAABDAAAARAAAAEUAAABGAAAASAAAAEkAAABKAAAASwAAAE8AAABRAAAAUgAAAFMAAABUAAAAVQAAAFYAAABXAAAAWAAAAFsAAABcAAAAXgAAAF8AAABgAAAAYQAAAGIAAABjAAAAZgAAAGcAAAA=\"},\"shape\":[77],\"dtype\":\"int32\",\"order\":\"little\"}],[\"gender\",{\"type\":\"ndarray\",\"array\":[\"f\",\"f\",\"f\",\"f\",\"f\",\"f\",\"f\",\"m\",\"f\",\"f\",\"m\",\"m\",\"m\",\"f\",\"m\",\"f\",\"f\",\"m\",\"m\",\"f\",\"f\",\"m\",\"f\",\"m\",\"f\",\"m\",\"f\",\"f\",\"m\",\"m\",\"f\",\"f\",\"f\",\"f\",\"m\",\"f\",\"f\",\"f\",\"f\",\"m\",\"f\",\"f\",\"f\",\"m\",\"f\",\"f\",\"f\",\"f\",\"f\",\"f\",\"f\",\"f\",\"f\",\"f\",\"f\",\"f\",\"m\",\"f\",\"f\",\"m\",\"f\",\"f\",\"f\",\"f\",\"f\",\"m\",\"m\",\"m\",\"m\",\"f\",\"m\",\"f\",\"f\",\"f\",\"f\",\"f\",\"f\"],\"shape\":[77],\"dtype\":\"object\",\"order\":\"little\"}],[\"age\",{\"type\":\"ndarray\",\"array\":{\"type\":\"bytes\",\"data\":\"KgAAAC0AAAAQAAAAFQAAABIAAAAcAAAAJgAAABEAAAAZAAAAFgAAACkAAAA1AAAAKwAAABcAAAATAAAALQAAACsAAAAjAAAAGAAAAEAAAAAkAAAAIwAAACsAAAAsAAAAHQAAABYAAAAuAAAAIwAAADUAAAAdAAAAHwAAABUAAAAqAAAAFwAAADYAAAAYAAAAFQAAABUAAAArAAAAMgAAADUAAAAQAAAAQwAAACQAAAAiAAAAKgAAAC4AAABFAAAAHwAAACwAAAAZAAAALQAAAC8AAAAhAAAAEgAAAEoAAAAVAAAALQAAACUAAAApAAAAKQAAACIAAAAnAAAAEgAAAB8AAAAaAAAAQgAAAD4AAAAWAAAAKQAAAC4AAAA4AAAAFwAAAEYAAAAYAAAAKAAAACEAAAA=\"},\"shape\":[77],\"dtype\":\"int32\",\"order\":\"little\"}],[\"correct hit percentage\",{\"type\":\"ndarray\",\"array\":{\"type\":\"bytes\",\"data\":\"UAAAAFAAAABGAAAARgAAAFoAAABfAAAAWgAAAFoAAABkAAAAUAAAAFoAAABfAAAAXwAAAFoAAAA3AAAAZAAAAEEAAABaAAAANwAAAEsAAABkAAAARgAAAFoAAABfAAAAXwAAAEYAAABQAAAAMgAAAEEAAABkAAAAVQAAAFUAAABaAAAAWgAAAFoAAABVAAAAVQAAAFoAAABfAAAARgAAAF8AAABVAAAAXwAAAFoAAABaAAAAZAAAAFAAAABfAAAAZAAAAFoAAABkAAAARgAAAFoAAABVAAAAUAAAAFUAAAAoAAAAUAAAAFoAAABaAAAAUAAAAFoAAABLAAAAVQAAAGQAAABfAAAAPAAAAGQAAABVAAAAIwAAAF8AAABGAAAARgAAAFoAAABGAAAASwAAAFUAAAA=\"},\"shape\":[77],\"dtype\":\"int32\",\"order\":\"little\"}],[\"correct reject percentage\",{\"type\":\"ndarray\",\"array\":{\"type\":\"bytes\",\"data\":\"QQAAAFoAAABQAAAAQQAAAGQAAABQAAAAXwAAAFoAAABkAAAAPAAAAFAAAAA8AAAAWgAAAFAAAAA8AAAAVQAAAEEAAABkAAAAZAAAAFUAAABQAAAAWgAAAFUAAABaAAAANwAAAEEAAABLAAAAXwAAAFAAAABGAAAAWgAAAFoAAABaAAAAVQAAAEYAAABfAAAASwAAAFAAAABLAAAAVQAAAEsAAABVAAAASwAAAEEAAABaAAAAZAAAAFoAAABQAAAAXwAAAF8AAABkAAAAMgAAAGQAAABGAAAASwAAAFAAAAAoAAAAXwAAAFAAAABVAAAASwAAACMAAABGAAAAVQAAAFUAAABLAAAAVQAAAFAAAABfAAAASwAAAFAAAAAyAAAAVQAAAFUAAABQAAAAQQAAACgAAAA=\"},\"shape\":[77],\"dtype\":\"int32\",\"order\":\"little\"}],[\"percent correct\",{\"type\":\"ndarray\",\"array\":{\"type\":\"bytes\",\"data\":\"AAAAAAAgUkAAAAAAAEBVQAAAAAAAwFJAAAAAAADgUEAAAAAAAMBXQAAAAAAA4FVAAAAAAAAgV0AAAAAAAIBWQAAAAAAAAFlAAAAAAACAUUAAAAAAAEBVQAAAAAAAYFNAAAAAAAAgV0AAAAAAAEBVQAAAAAAAwExAAAAAAAAgV0AAAAAAAEBQQAAAAAAAwFdAAAAAAABgU0AAAAAAAABUQAAAAAAAgFZAAAAAAAAAVEAAAAAAAOBVQAAAAAAAIFdAAAAAAADAUkAAAAAAAOBQQAAAAAAAYFNAAAAAAAAgUkAAAAAAACBSQAAAAAAAQFVAAAAAAADgVUAAAAAAAOBVQAAAAAAAgFZAAAAAAADgVUAAAAAAAABUQAAAAAAAgFZAAAAAAAAAVEAAAAAAAEBVQAAAAAAAQFVAAAAAAABgU0AAAAAAAEBVQAAAAAAAQFVAAAAAAABAVUAAAAAAAGBTQAAAAAAAgFZAAAAAAAAAWUAAAAAAAEBVQAAAAAAA4FVAAAAAAABgWEAAAAAAACBXQAAAAAAAAFlAAAAAAAAATkAAAAAAAMBXQAAAAAAAYFNAAAAAAABgU0AAAAAAAKBUQAAAAAAAAERAAAAAAADgVUAAAAAAAEBVQAAAAAAA4FVAAAAAAABgU0AAAAAAAEBPQAAAAAAAIFJAAAAAAABAVUAAAAAAACBXQAAAAAAAQFVAAAAAAAAgUkAAAAAAAIBWQAAAAAAAgFZAAAAAAACAS0AAAAAAAOBVQAAAAAAAAE5AAAAAAABgU0AAAAAAAOBVQAAAAAAAwFJAAAAAAACAUUAAAAAAAEBPQA==\"},\"shape\":[77],\"dtype\":\"float64\",\"order\":\"little\"}],[\"confidence when correct hit\",{\"type\":\"ndarray\",\"array\":{\"type\":\"bytes\",\"data\":\"AAAAAADASUAAAAAAAMBSQAAAAAAAgFFAAAAAAADAT0AAAAAAACBTQAAAAAAAAFlAAAAAAABAU0AAAAAAACBUQAAAAAAAgFZAAAAAAACAUUAAAAAAACBTQAAAAAAAAERAAAAAAAAASkAAAAAAAABWQAAAAAAAAE9AAAAAAAAAUUAAAAAAAIBNQAAAAAAA4FJAAAAAAAAAUUAAAAAAAABJQAAAAAAAAFZAAAAAAACAPUAAAAAAAGBQQAAAAAAAwFRAAAAAAADAUEAAAAAAAIBTQAAAAAAAIFJAAAAAAABAT0AAAAAAAABLQAAAAAAAwFJAAAAAAACAVEAAAAAAAIBQQAAAAAAAwFRAAAAAAADAUEAAAAAAAIBWQAAAAAAAQFhAAAAAAABAUEAAAAAAAABVQAAAAAAAgFJAAAAAAAAgV0AAAAAAAABVQAAAAAAAgEtAAAAAAACAUUAAAAAAAOBQQAAAAAAAQE1AAAAAAACgUkAAAAAAAABXQAAAAAAAAFRAAAAAAACAWEAAAAAAAMBVQAAAAAAAwE5AAAAAAAAgVEAAAAAAAABZQAAAAAAAgFFAAAAAAADgUEAAAAAAAIBQQAAAAAAAoFZAAAAAAACAUkAAAAAAAOBXQAAAAAAAAFRAAAAAAACgV0AAAAAAAEBUQAAAAAAAgExAAAAAAABAV0AAAAAAAABZQAAAAAAAQFVAAAAAAADgUEAAAAAAAEBUQAAAAAAAgFBAAAAAAACAS0AAAAAAAIBWQAAAAAAAgE9AAAAAAABAU0AAAAAAAGBQQAAAAAAAwE5AAAAAAACASkAAAAAAAABUQA==\"},\"shape\":[77],\"dtype\":\"float64\",\"order\":\"little\"}],[\"confidence when incorrect hit\",{\"type\":\"ndarray\",\"array\":{\"type\":\"bytes\",\"data\":\"AAAAAABARkAAAAAAAMBLQAAAAAAAgExAAAAAAAAAUEAAAAAAAMBUQAAAAAAAQFVAAAAAAADARUAAAAAAAOBVQAAAAAAAAPh/AAAAAACAUUAAAAAAAMBLQAAAAAAAgEBAAAAAAAAAPUAAAAAAAABEQAAAAAAAAElAAAAAAAAA+H8AAAAAAIBLQAAAAAAAwEFAAAAAAADAUEAAAAAAAAA5QAAAAAAAAPh/AAAAAACAPEAAAAAAAAA7QAAAAAAAAExAAAAAAACASkAAAAAAAABWQAAAAAAAAFJAAAAAAAAAPUAAAAAAAABAQAAAAAAAAPh/AAAAAACASEAAAAAAAAA9QAAAAAAAwFRAAAAAAACAR0AAAAAAAOBUQAAAAAAAgERAAAAAAABAUkAAAAAAAMBLQAAAAAAAQFZAAAAAAAAgUkAAAAAAAIBLQAAAAAAAAD5AAAAAAAAAHEAAAAAAAIA8QAAAAAAAgEVAAAAAAAAA+H8AAAAAAOBSQAAAAAAAQFBAAAAAAAAA+H8AAAAAAMBHQAAAAAAAAPh/AAAAAADASUAAAAAAAAD4fwAAAAAAAENAAAAAAADASUAAAAAAAIBLQAAAAAAAAFRAAAAAAADAUEAAAAAAAABRQAAAAAAAwE1AAAAAAADATkAAAAAAAABKQAAAAAAAgExAAAAAAAAAV0AAAAAAAAD4fwAAAAAAAFZAAAAAAACAUEAAAAAAAAD4fwAAAAAAAExAAAAAAACATkAAAAAAAMBSQAAAAAAAQEpAAAAAAACgUEAAAAAAAGBVQAAAAAAAQFRAAAAAAACAQkAAAAAAAAA7QA==\"},\"shape\":[77],\"dtype\":\"float64\",\"order\":\"little\"}],[\"confidence when correct reject\",{\"type\":\"ndarray\",\"array\":{\"type\":\"bytes\",\"data\":\"AAAAAACARUAAAAAAAABUQAAAAAAAAEtAAAAAAAAASUAAAAAAAABUQAAAAAAAgFdAAAAAAADAU0AAAAAAACBTQAAAAAAAQFVAAAAAAACAUUAAAAAAAOBQQAAAAAAAAExAAAAAAACASEAAAAAAAKBRQAAAAAAAgFBAAAAAAACATkAAAAAAAABQQAAAAAAAoFJAAAAAAAAAVEAAAAAAAIBQQAAAAAAAgFBAAAAAAAAAM0AAAAAAAIBEQAAAAAAAwFNAAAAAAABAUEAAAAAAAEBTQAAAAAAAAFlAAAAAAABAU0AAAAAAAMBHQAAAAAAAIFBAAAAAAABAVEAAAAAAAIBRQAAAAAAAIFRAAAAAAABAUUAAAAAAAGBTQAAAAAAAgFJAAAAAAAAATEAAAAAAAGBSQAAAAAAAAFFAAAAAAADAV0AAAAAAAABRQAAAAAAAAElAAAAAAABAUUAAAAAAAIBLQAAAAAAAYFJAAAAAAACAUkAAAAAAAABXQAAAAAAAoFNAAAAAAACAVkAAAAAAAEBRQAAAAAAAQE1AAAAAAACAT0AAAAAAAOBRQAAAAAAAQE1AAAAAAACAUEAAAAAAAIBPQAAAAAAAoFJAAAAAAAAAU0AAAAAAAOBUQAAAAAAAgFFAAAAAAACAVUAAAAAAAMBRQAAAAAAAwE1AAAAAAADAVkAAAAAAAABZQAAAAAAAgFRAAAAAAACAUkAAAAAAAKBSQAAAAAAAAFJAAAAAAAAAVEAAAAAAAABUQAAAAAAA4FBAAAAAAABAU0AAAAAAAMBVQAAAAAAAgFFAAAAAAAAAVUAAAAAAAAA/QA==\"},\"shape\":[77],\"dtype\":\"float64\",\"order\":\"little\"}],[\"confidence when incorrect reject\",{\"type\":\"ndarray\",\"array\":{\"type\":\"bytes\",\"data\":\"AAAAAACASEAAAAAAAMBSQAAAAAAAgEpAAAAAAAAASUAAAAAAAAD4fwAAAAAAgE5AAAAAAAAANUAAAAAAAAA7QAAAAAAAAPh/AAAAAABAUEAAAAAAAEBKQAAAAAAAgEhAAAAAAAAAQkAAAAAAAKBQQAAAAAAAQElAAAAAAAAAS0AAAAAAAIBNQAAAAAAAAPh/AAAAAAAA+H8AAAAAAAA4QAAAAAAAwE9AAAAAAADAREAAAAAAAIBGQAAAAAAAQEVAAAAAAACASkAAAAAAAABUQAAAAAAAwFZAAAAAAAAAQEAAAAAAAKBTQAAAAAAAgEVAAAAAAAAAQkAAAAAAAAA9QAAAAAAAAEJAAAAAAAAAREAAAAAAAEBRQAAAAAAAQFJAAAAAAAAAUUAAAAAAAIBRQAAAAAAAQFBAAAAAAABAUEAAAAAAAIBOQAAAAAAAAERAAAAAAAAATkAAAAAAAABKQAAAAAAAwEpAAAAAAAAA+H8AAAAAAIBPQAAAAAAAoFFAAAAAAAAAREAAAAAAAMBVQAAAAAAAAPh/AAAAAABAUUAAAAAAAMBUQAAAAAAAQFBAAAAAAACATEAAAAAAAEBJQAAAAAAAwFRAAAAAAAAAMUAAAAAAAMBUQAAAAAAAgERAAAAAAACAUkAAAAAAAABNQAAAAAAAAElAAAAAAABAVkAAAAAAAABJQAAAAAAAgFRAAAAAAACATEAAAAAAAIBUQAAAAAAAgE9AAAAAAACATEAAAAAAAABUQAAAAAAAYFBAAAAAAABgU0AAAAAAAABUQAAAAAAAgE5AAAAAAAAASkAAAAAAAKBUQA==\"},\"shape\":[77],\"dtype\":\"float64\",\"order\":\"little\"}],[\"confidence when correct\",{\"type\":\"ndarray\",\"array\":{\"type\":\"bytes\",\"data\":\"AAAAAACASUAAAAAAAKBTQAAAAAAAgExAAAAAAAAATkAAAAAAAABUQAAAAAAAwFhAAAAAAACAU0AAAAAAAKBTQAAAAAAAgFZAAAAAAACAUUAAAAAAAIBSQAAAAAAAgEdAAAAAAAAASkAAAAAAAABVQAAAAAAAgE9AAAAAAAAAT0AAAAAAAMBNQAAAAAAA4FJAAAAAAACAU0AAAAAAAIBPQAAAAAAAQFRAAAAAAAAAOEAAAAAAAABJQAAAAAAAQFRAAAAAAADAUEAAAAAAAEBTQAAAAAAAAFlAAAAAAAAAUUAAAAAAAABIQAAAAAAAgFJAAAAAAACAVEAAAAAAAMBQQAAAAAAAoFRAAAAAAADAUEAAAAAAAABWQAAAAAAAwFRAAAAAAADAT0AAAAAAACBUQAAAAAAAwFFAAAAAAADAV0AAAAAAAKBTQAAAAAAAQEpAAAAAAABAUUAAAAAAAIBOQAAAAAAAgFBAAAAAAACAUkAAAAAAAABXQAAAAAAAAFRAAAAAAAAAV0AAAAAAAMBUQAAAAAAAQE5AAAAAAAAgUkAAAAAAAGBYQAAAAAAAAFFAAAAAAADAUEAAAAAAAEBQQAAAAAAAgFRAAAAAAADAUkAAAAAAAIBXQAAAAAAAQFNAAAAAAAAAV0AAAAAAAEBUQAAAAAAAAE1AAAAAAADgVkAAAAAAAABZQAAAAAAAQFVAAAAAAACAUkAAAAAAAOBTQAAAAAAAoFFAAAAAAAAAUkAAAAAAAEBVQAAAAAAAAFBAAAAAAABAU0AAAAAAAIBSQAAAAAAAQFBAAAAAAABAVEAAAAAAAEBUQA==\"},\"shape\":[77],\"dtype\":\"float64\",\"order\":\"little\"}],[\"confidence when incorrect\",{\"type\":\"ndarray\",\"array\":{\"type\":\"bytes\",\"data\":\"AAAAAACASEAAAAAAAMBQQAAAAAAAQEtAAAAAAAAASUAAAAAAAMBUQAAAAAAAQFBAAAAAAAAAQkAAAAAAAOBQQAAAAAAAAPh/AAAAAACAUUAAAAAAAMBLQAAAAAAAAEZAAAAAAAAAPUAAAAAAAEBLQAAAAAAAAElAAAAAAAAAS0AAAAAAAIBMQAAAAAAAwEFAAAAAAADAUEAAAAAAAIA4QAAAAAAAwE9AAAAAAACAQUAAAAAAAIBGQAAAAAAAAEtAAAAAAACASkAAAAAAAABVQAAAAAAAwFZAAAAAAAAAP0AAAAAAAIBJQAAAAAAAgEVAAAAAAACASEAAAAAAAAA9QAAAAAAAAFNAAAAAAAAAREAAAAAAAMBTQAAAAAAAwEtAAAAAAAAAUUAAAAAAAEBQQAAAAAAAAFFAAAAAAABAUEAAAAAAAABNQAAAAAAAgEFAAAAAAADATUAAAAAAAABJQAAAAAAAwEdAAAAAAAAA+H8AAAAAAGBSQAAAAAAAgFFAAAAAAAAAREAAAAAAAMBQQAAAAAAAAPh/AAAAAADATkAAAAAAAMBUQAAAAAAAAERAAAAAAACASkAAAAAAAIBLQAAAAAAAQFRAAAAAAAAAUEAAAAAAAMBRQAAAAAAAgE1AAAAAAADAUEAAAAAAAABNQAAAAAAAAElAAAAAAADAVkAAAAAAAABJQAAAAAAAQFVAAAAAAAAAUEAAAAAAAIBUQAAAAAAAwE1AAAAAAAAATkAAAAAAAMBSQAAAAAAAwE1AAAAAAACAUkAAAAAAAABUQAAAAAAAQFRAAAAAAACASUAAAAAAAEBSQA==\"},\"shape\":[77],\"dtype\":\"float64\",\"order\":\"little\"}],[\"sci\",{\"type\":\"ndarray\",\"array\":{\"type\":\"bytes\",\"data\":\"HQAAABMAAAAXAAAAGgAAABUAAAATAAAAHAAAAB0AAAARAAAAFgAAABwAAAAfAAAAHwAAACAAAAAZAAAAHgAAABwAAAAeAAAAFgAAABQAAAAaAAAAIAAAACAAAAAYAAAAGgAAAB4AAAAcAAAAFQAAAB0AAAAgAAAAGgAAABoAAAAXAAAAEgAAABYAAAAdAAAAFAAAABsAAAATAAAAHQAAABgAAAAdAAAAEQAAABoAAAAeAAAAEQAAABkAAAAfAAAAGwAAACAAAAAcAAAAGQAAAB4AAAAVAAAAHQAAABQAAAAWAAAAFwAAABQAAAARAAAAGwAAABsAAAAWAAAAGQAAAB4AAAAgAAAAHgAAACAAAAAcAAAAHwAAAB0AAAAaAAAAFAAAABMAAAAfAAAAFgAAABgAAAA=\"},\"shape\":[77],\"dtype\":\"int32\",\"order\":\"little\"}],[\"psqi\",{\"type\":\"ndarray\",\"array\":{\"type\":\"bytes\",\"data\":\"AQAAAAUAAAABAAAABQAAAAcAAAAHAAAAAwAAAAMAAAAKAAAABAAAAAUAAAACAAAAAgAAAAIAAAAFAAAAAgAAAAMAAAADAAAABAAAAAkAAAAFAAAAAgAAAAEAAAAEAAAACAAAAAIAAAACAAAABgAAAAMAAAABAAAABQAAAAcAAAADAAAABgAAAAYAAAABAAAABgAAAAQAAAAEAAAAAwAAAAUAAAACAAAABwAAAAQAAAAAAAAABQAAAAEAAAABAAAABAAAAAEAAAAIAAAABAAAAAIAAAAHAAAABAAAAAEAAAAHAAAABAAAAAUAAAAGAAAABAAAAAIAAAADAAAABAAAAAMAAAABAAAABQAAAAIAAAABAAAAAQAAAAMAAAAGAAAACAAAAAgAAAACAAAABAAAAAUAAAA=\"},\"shape\":[77],\"dtype\":\"int32\",\"order\":\"little\"}],[\"ess\",{\"type\":\"ndarray\",\"array\":{\"type\":\"bytes\",\"data\":\"BQAAAAEAAAADAAAABAAAAAUAAAAMAAAABAAAAAQAAAALAAAABgAAAAMAAAALAAAACgAAAAwAAAAGAAAADQAAAAwAAAAFAAAACgAAAAQAAAAEAAAABgAAAAMAAAAAAAAADAAAAAYAAAAFAAAACQAAAAcAAAAGAAAACgAAABIAAAALAAAACAAAABAAAAAHAAAACQAAAAsAAAAEAAAABwAAAAQAAAALAAAADAAAAAMAAAADAAAABAAAAAsAAAABAAAABAAAAAIAAAAJAAAAAQAAAAIAAAAMAAAABgAAAAUAAAAFAAAABAAAAAkAAAADAAAACAAAAAYAAAAKAAAAFQAAAAUAAAAFAAAACQAAAAEAAAAIAAAACwAAAAUAAAAHAAAACgAAAAcAAAAPAAAABwAAAAcAAAA=\"},\"shape\":[77],\"dtype\":\"int32\",\"order\":\"little\"}],[\"insomnia\",{\"type\":\"ndarray\",\"array\":{\"type\":\"bytes\",\"data\":\"AAAAAAAAAAAAAAAAAAAAAAAAAAAAAAAAAAAAAAAAAAAAAAAAAAAAAAAAAAAAAAAAAAAAAAAAAAAAAAAAAAAAAAAAAAAAAAAAAAAAAAA=\"},\"shape\":[77],\"dtype\":\"bool\",\"order\":\"little\"}]]}}},\"view\":{\"type\":\"object\",\"name\":\"CDSView\",\"id\":\"p4412\",\"attributes\":{\"filter\":{\"type\":\"object\",\"name\":\"AllIndices\",\"id\":\"p4413\"}}},\"glyph\":{\"type\":\"object\",\"name\":\"Circle\",\"id\":\"p4408\",\"attributes\":{\"x\":{\"type\":\"field\",\"field\":\"confidence when correct\"},\"y\":{\"type\":\"field\",\"field\":\"confidence when incorrect\"},\"line_color\":{\"type\":\"value\",\"value\":\"#1f77b3\"},\"fill_color\":{\"type\":\"value\",\"value\":\"#1f77b3\"},\"hatch_color\":{\"type\":\"value\",\"value\":\"#1f77b3\"}}},\"nonselection_glyph\":{\"type\":\"object\",\"name\":\"Circle\",\"id\":\"p4409\",\"attributes\":{\"x\":{\"type\":\"field\",\"field\":\"confidence when correct\"},\"y\":{\"type\":\"field\",\"field\":\"confidence when incorrect\"},\"line_color\":{\"type\":\"value\",\"value\":\"#1f77b3\"},\"line_alpha\":{\"type\":\"value\",\"value\":0.1},\"fill_color\":{\"type\":\"value\",\"value\":\"#1f77b3\"},\"fill_alpha\":{\"type\":\"value\",\"value\":0.1},\"hatch_color\":{\"type\":\"value\",\"value\":\"#1f77b3\"},\"hatch_alpha\":{\"type\":\"value\",\"value\":0.1}}},\"muted_glyph\":{\"type\":\"object\",\"name\":\"Circle\",\"id\":\"p4410\",\"attributes\":{\"x\":{\"type\":\"field\",\"field\":\"confidence when correct\"},\"y\":{\"type\":\"field\",\"field\":\"confidence when incorrect\"},\"line_color\":{\"type\":\"value\",\"value\":\"#1f77b3\"},\"line_alpha\":{\"type\":\"value\",\"value\":0.2},\"fill_color\":{\"type\":\"value\",\"value\":\"#1f77b3\"},\"fill_alpha\":{\"type\":\"value\",\"value\":0.2},\"hatch_color\":{\"type\":\"value\",\"value\":\"#1f77b3\"},\"hatch_alpha\":{\"type\":\"value\",\"value\":0.2}}}}},{\"type\":\"object\",\"name\":\"GlyphRenderer\",\"id\":\"p4420\",\"attributes\":{\"data_source\":{\"type\":\"object\",\"name\":\"ColumnDataSource\",\"id\":\"p3481\",\"attributes\":{\"selected\":{\"type\":\"object\",\"name\":\"Selection\",\"id\":\"p3482\",\"attributes\":{\"indices\":[],\"line_indices\":[]}},\"selection_policy\":{\"type\":\"object\",\"name\":\"UnionRenderers\",\"id\":\"p3483\"},\"data\":{\"type\":\"map\",\"entries\":[[\"index\",{\"type\":\"ndarray\",\"array\":{\"type\":\"bytes\",\"data\":\"AAAAAAEAAAACAAAAAwAAAAQAAAAFAAAABgAAAAcAAAAIAAAACQAAAAoAAAALAAAADAAAAA0AAAAOAAAADwAAABAAAAARAAAAEgAAABMAAAAUAAAAFQAAABYAAAAXAAAAGAAAAA==\"},\"shape\":[25],\"dtype\":\"int32\",\"order\":\"little\"}],[\"participant number\",{\"type\":\"ndarray\",\"array\":{\"type\":\"bytes\",\"data\":\"CAAAABAAAAASAAAAFgAAABsAAAAcAAAAHgAAACEAAAAiAAAAIwAAACYAAAApAAAALgAAADEAAAA3AAAARwAAAEwAAABNAAAATgAAAFAAAABZAAAAWgAAAF0AAABkAAAAZQAAAA==\"},\"shape\":[25],\"dtype\":\"int32\",\"order\":\"little\"}],[\"gender\",{\"type\":\"ndarray\",\"array\":[\"f\",\"m\",\"f\",\"f\",\"f\",\"f\",\"m\",\"m\",\"f\",\"f\",\"f\",\"f\",\"f\",\"f\",\"f\",\"f\",\"f\",\"f\",\"m\",\"m\",\"f\",\"m\",\"f\",\"f\",\"f\"],\"shape\":[25],\"dtype\":\"object\",\"order\":\"little\"}],[\"age\",{\"type\":\"ndarray\",\"array\":{\"type\":\"bytes\",\"data\":\"JwAAACoAAAAfAAAAIwAAAEoAAAA9AAAAIAAAAD4AAAAhAAAANQAAACkAAAAkAAAAKAAAABgAAAAgAAAAKAAAAD0AAAAqAAAAHwAAABwAAAAaAAAALQAAABwAAAAsAAAAHAAAAA==\"},\"shape\":[25],\"dtype\":\"int32\",\"order\":\"little\"}],[\"correct hit percentage\",{\"type\":\"ndarray\",\"array\":{\"type\":\"bytes\",\"data\":\"QQAAAFoAAABaAAAAZAAAADwAAABQAAAAWgAAAC0AAABQAAAAZAAAAEYAAABaAAAAXwAAAFUAAABLAAAAKAAAAGQAAABGAAAAZAAAAGQAAAA8AAAAZAAAAGQAAABBAAAAZAAAAA==\"},\"shape\":[25],\"dtype\":\"int32\",\"order\":\"little\"}],[\"correct reject percentage\",{\"type\":\"ndarray\",\"array\":{\"type\":\"bytes\",\"data\":\"UAAAAFoAAABfAAAASwAAAEEAAAAUAAAASwAAAFoAAABkAAAAMgAAADcAAABkAAAAQQAAAEsAAAA3AAAAZAAAACgAAABaAAAARgAAADIAAABQAAAAXwAAAEsAAAAZAAAAKAAAAA==\"},\"shape\":[25],\"dtype\":\"int32\",\"order\":\"little\"}],[\"percent correct\",{\"type\":\"ndarray\",\"array\":{\"type\":\"bytes\",\"data\":\"AAAAAAAgUkAAAAAAAIBWQAAAAAAAIFdAAAAAAADgVUAAAAAAAEBPQAAAAAAAAElAAAAAAACgVEAAAAAAAOBQQAAAAAAAgFZAAAAAAADAUkAAAAAAAEBPQAAAAAAAwFdAAAAAAAAAVEAAAAAAAABUQAAAAAAAQFBAAAAAAACAUUAAAAAAAIBRQAAAAAAAAFRAAAAAAABAVUAAAAAAAMBSQAAAAAAAgFFAAAAAAABgWEAAAAAAAOBVQAAAAAAAgEZAAAAAAACAUUA=\"},\"shape\":[25],\"dtype\":\"float64\",\"order\":\"little\"}],[\"confidence when correct hit\",{\"type\":\"ndarray\",\"array\":{\"type\":\"bytes\",\"data\":\"AAAAAADAVkAAAAAAAOBSQAAAAAAAYFZAAAAAAABgVkAAAAAAACBRQAAAAAAAwFFAAAAAAADAUEAAAAAAAABLQAAAAAAAoFFAAAAAAACgUkAAAAAAAIBUQAAAAAAAIFNAAAAAAAAAVEAAAAAAAABNQAAAAAAAQFVAAAAAAABAUUAAAAAAAGBRQAAAAAAAwFVAAAAAAAAAV0AAAAAAAABZQAAAAAAAgFFAAAAAAAAAWUAAAAAAAGBWQAAAAAAAAE9AAAAAAADAVUA=\"},\"shape\":[25],\"dtype\":\"float64\",\"order\":\"little\"}],[\"confidence when incorrect hit\",{\"type\":\"ndarray\",\"array\":{\"type\":\"bytes\",\"data\":\"AAAAAACAVkAAAAAAAMBLQAAAAAAAgFZAAAAAAAAA+H8AAAAAAIBIQAAAAAAAgE9AAAAAAABATEAAAAAAAIBCQAAAAAAAIFNAAAAAAAAA+H8AAAAAAMBOQAAAAAAA4FJAAAAAAABAVkAAAAAAAABJQAAAAAAAQFRAAAAAAAAATEAAAAAAAAD4fwAAAAAAAFJAAAAAAAAA+H8AAAAAAAD4fwAAAAAAQFNAAAAAAAAA+H8AAAAAAAD4fwAAAAAAAFJAAAAAAAAA+H8=\"},\"shape\":[25],\"dtype\":\"float64\",\"order\":\"little\"}],[\"confidence when correct reject\",{\"type\":\"ndarray\",\"array\":{\"type\":\"bytes\",\"data\":\"AAAAAABAV0AAAAAAAKBRQAAAAAAAgFVAAAAAAADAUUAAAAAAAIBOQAAAAAAAAD9AAAAAAACAUEAAAAAAAEBQQAAAAAAAIFBAAAAAAABATkAAAAAAAEBSQAAAAAAAwFJAAAAAAADAU0AAAAAAAIBIQAAAAAAAQFVAAAAAAACAUUAAAAAAAEBGQAAAAAAAoFZAAAAAAABAVEAAAAAAAABZQAAAAAAAgFRAAAAAAAAAWUAAAAAAAMBQQAAAAAAAwFVAAAAAAAAAUUA=\"},\"shape\":[25],\"dtype\":\"float64\",\"order\":\"little\"}],[\"confidence when incorrect reject\",{\"type\":\"ndarray\",\"array\":{\"type\":\"bytes\",\"data\":\"AAAAAADgVEAAAAAAAABJQAAAAAAAQFRAAAAAAAAAVEAAAAAAAIBIQAAAAAAAIFJAAAAAAABAUEAAAAAAAGBUQAAAAAAAAPh/AAAAAABAUEAAAAAAAEBRQAAAAAAAAPh/AAAAAABATUAAAAAAAABRQAAAAAAAgFVAAAAAAAAA+H8AAAAAAEBSQAAAAAAAwEVAAAAAAAAATkAAAAAAAABZQAAAAAAA4FBAAAAAAAAAWUAAAAAAAABOQAAAAAAAQFNAAAAAAAAAS0A=\"},\"shape\":[25],\"dtype\":\"float64\",\"order\":\"little\"}],[\"confidence when correct\",{\"type\":\"ndarray\",\"array\":{\"type\":\"bytes\",\"data\":\"AAAAAABAV0AAAAAAAMBSQAAAAAAAQFZAAAAAAAAAVkAAAAAAAEBQQAAAAAAAIFBAAAAAAACAUEAAAAAAAABPQAAAAAAAAFFAAAAAAADAUUAAAAAAAIBUQAAAAAAAAFNAAAAAAADgU0AAAAAAAIBLQAAAAAAAQFVAAAAAAACAUUAAAAAAAEBLQAAAAAAAIFZAAAAAAADgVUAAAAAAAABZQAAAAAAAQFNAAAAAAAAAWUAAAAAAAABUQAAAAAAAYFFAAAAAAABAVEA=\"},\"shape\":[25],\"dtype\":\"float64\",\"order\":\"little\"}],[\"confidence when incorrect\",{\"type\":\"ndarray\",\"array\":{\"type\":\"bytes\",\"data\":\"AAAAAACAVkAAAAAAAABJQAAAAAAAAFZAAAAAAAAAVEAAAAAAAIBIQAAAAAAAoFFAAAAAAAAAUEAAAAAAAIBOQAAAAAAAIFNAAAAAAABAUEAAAAAAAABQQAAAAAAA4FJAAAAAAACAT0AAAAAAAIBNQAAAAAAA4FRAAAAAAAAATEAAAAAAAEBSQAAAAAAAAFBAAAAAAAAATkAAAAAAAABZQAAAAAAAoFFAAAAAAAAAWUAAAAAAAABOQAAAAAAAYFJAAAAAAAAAS0A=\"},\"shape\":[25],\"dtype\":\"float64\",\"order\":\"little\"}],[\"sci\",{\"type\":\"ndarray\",\"array\":{\"type\":\"bytes\",\"data\":\"CQAAAAQAAAAKAAAADQAAAA0AAAAPAAAAEAAAAA4AAAAOAAAADgAAAA4AAAAPAAAACgAAAA4AAAAFAAAAAAAAABAAAAALAAAADgAAAAwAAAAOAAAADgAAABAAAAABAAAADgAAAA==\"},\"shape\":[25],\"dtype\":\"int32\",\"order\":\"little\"}],[\"psqi\",{\"type\":\"ndarray\",\"array\":{\"type\":\"bytes\",\"data\":\"DQAAAAsAAAAJAAAACAAAAAkAAAAOAAAACQAAAAkAAAAMAAAACAAAAAUAAAAHAAAADAAAAA0AAAANAAAACwAAAAQAAAAKAAAABgAAAAcAAAAIAAAACQAAAAcAAAAPAAAABwAAAA==\"},\"shape\":[25],\"dtype\":\"int32\",\"order\":\"little\"}],[\"ess\",{\"type\":\"ndarray\",\"array\":{\"type\":\"bytes\",\"data\":\"AgAAAAcAAAADAAAAFAAAAAwAAAACAAAAAwAAAAkAAAAKAAAABwAAABMAAAAAAAAACAAAAAQAAAAHAAAADgAAAAwAAAAKAAAACwAAAAwAAAABAAAABgAAAAQAAAAGAAAAAgAAAA==\"},\"shape\":[25],\"dtype\":\"int32\",\"order\":\"little\"}],[\"insomnia\",{\"type\":\"ndarray\",\"array\":{\"type\":\"bytes\",\"data\":\"AQEBAQEBAQEBAQEBAQEBAQEBAQEBAQEBAQ==\"},\"shape\":[25],\"dtype\":\"bool\",\"order\":\"little\"}]]}}},\"view\":{\"type\":\"object\",\"name\":\"CDSView\",\"id\":\"p4421\",\"attributes\":{\"filter\":{\"type\":\"object\",\"name\":\"AllIndices\",\"id\":\"p4422\"}}},\"glyph\":{\"type\":\"object\",\"name\":\"Circle\",\"id\":\"p4417\",\"attributes\":{\"x\":{\"type\":\"field\",\"field\":\"confidence when correct\"},\"y\":{\"type\":\"field\",\"field\":\"confidence when incorrect\"},\"line_color\":{\"type\":\"value\",\"value\":\"#ff7e0e\"},\"fill_color\":{\"type\":\"value\",\"value\":\"#ff7e0e\"},\"hatch_color\":{\"type\":\"value\",\"value\":\"#ff7e0e\"}}},\"nonselection_glyph\":{\"type\":\"object\",\"name\":\"Circle\",\"id\":\"p4418\",\"attributes\":{\"x\":{\"type\":\"field\",\"field\":\"confidence when correct\"},\"y\":{\"type\":\"field\",\"field\":\"confidence when incorrect\"},\"line_color\":{\"type\":\"value\",\"value\":\"#ff7e0e\"},\"line_alpha\":{\"type\":\"value\",\"value\":0.1},\"fill_color\":{\"type\":\"value\",\"value\":\"#ff7e0e\"},\"fill_alpha\":{\"type\":\"value\",\"value\":0.1},\"hatch_color\":{\"type\":\"value\",\"value\":\"#ff7e0e\"},\"hatch_alpha\":{\"type\":\"value\",\"value\":0.1}}},\"muted_glyph\":{\"type\":\"object\",\"name\":\"Circle\",\"id\":\"p4419\",\"attributes\":{\"x\":{\"type\":\"field\",\"field\":\"confidence when correct\"},\"y\":{\"type\":\"field\",\"field\":\"confidence when incorrect\"},\"line_color\":{\"type\":\"value\",\"value\":\"#ff7e0e\"},\"line_alpha\":{\"type\":\"value\",\"value\":0.2},\"fill_color\":{\"type\":\"value\",\"value\":\"#ff7e0e\"},\"fill_alpha\":{\"type\":\"value\",\"value\":0.2},\"hatch_color\":{\"type\":\"value\",\"value\":\"#ff7e0e\"},\"hatch_alpha\":{\"type\":\"value\",\"value\":0.2}}}}}],\"toolbar\":{\"type\":\"object\",\"name\":\"Toolbar\",\"id\":\"p4367\",\"attributes\":{\"tools\":[{\"type\":\"object\",\"name\":\"PanTool\",\"id\":\"p4390\"},{\"type\":\"object\",\"name\":\"WheelZoomTool\",\"id\":\"p4391\"},{\"type\":\"object\",\"name\":\"BoxZoomTool\",\"id\":\"p4392\",\"attributes\":{\"overlay\":{\"type\":\"object\",\"name\":\"BoxAnnotation\",\"id\":\"p4393\",\"attributes\":{\"syncable\":false,\"level\":\"overlay\",\"visible\":false,\"left_units\":\"canvas\",\"right_units\":\"canvas\",\"bottom_units\":\"canvas\",\"top_units\":\"canvas\",\"line_color\":\"black\",\"line_alpha\":1.0,\"line_width\":2,\"line_dash\":[4,4],\"fill_color\":\"lightgrey\",\"fill_alpha\":0.5}}}},{\"type\":\"object\",\"name\":\"SaveTool\",\"id\":\"p4394\"},{\"type\":\"object\",\"name\":\"ResetTool\",\"id\":\"p4395\"},{\"type\":\"object\",\"name\":\"HelpTool\",\"id\":\"p4396\"}]}},\"left\":[{\"type\":\"object\",\"name\":\"LinearAxis\",\"id\":\"p4383\",\"attributes\":{\"ticker\":{\"type\":\"object\",\"name\":\"BasicTicker\",\"id\":\"p4384\",\"attributes\":{\"mantissas\":[1,2,5]}},\"formatter\":{\"type\":\"object\",\"name\":\"BasicTickFormatter\",\"id\":\"p4385\"},\"axis_label\":\"condifence when incorrect\",\"axis_label_text_font_size\":\"7.5pt\",\"axis_label_text_font_style\":\"normal\",\"major_label_policy\":{\"type\":\"object\",\"name\":\"AllLabels\",\"id\":\"p4386\"},\"major_label_text_font_size\":\"7.5pt\",\"axis_line_color\":null,\"major_tick_in\":0,\"major_tick_out\":0,\"minor_tick_out\":0}}],\"right\":[{\"type\":\"object\",\"name\":\"Legend\",\"id\":\"p4423\",\"attributes\":{\"border_line_color\":\"darkgray\",\"border_line_width\":0.75,\"background_fill_color\":\"#eaeaf2\",\"click_policy\":\"hide\",\"label_text_font_size\":\"7.5pt\",\"items\":[{\"type\":\"object\",\"name\":\"LegendItem\",\"id\":\"p4424\",\"attributes\":{\"label\":{\"type\":\"value\",\"value\":\"normal\"},\"renderers\":[{\"id\":\"p4411\"}]}},{\"type\":\"object\",\"name\":\"LegendItem\",\"id\":\"p4425\",\"attributes\":{\"label\":{\"type\":\"value\",\"value\":\"insomnia\"},\"renderers\":[{\"id\":\"p4420\"}]}}]}}],\"below\":[{\"type\":\"object\",\"name\":\"LinearAxis\",\"id\":\"p4376\",\"attributes\":{\"ticker\":{\"type\":\"object\",\"name\":\"BasicTicker\",\"id\":\"p4377\",\"attributes\":{\"mantissas\":[1,2,5]}},\"formatter\":{\"type\":\"object\",\"name\":\"BasicTickFormatter\",\"id\":\"p4378\"},\"axis_label\":\"confidence when correct\",\"axis_label_text_font_size\":\"7.5pt\",\"axis_label_text_font_style\":\"normal\",\"major_label_policy\":{\"type\":\"object\",\"name\":\"AllLabels\",\"id\":\"p4379\"},\"major_label_text_font_size\":\"7.5pt\",\"axis_line_color\":null,\"major_tick_in\":0,\"major_tick_out\":0,\"minor_tick_out\":0}}],\"center\":[{\"type\":\"object\",\"name\":\"Grid\",\"id\":\"p4382\",\"attributes\":{\"axis\":{\"id\":\"p4376\"},\"grid_line_color\":\"#FFFFFF\",\"grid_line_width\":0.75}},{\"type\":\"object\",\"name\":\"Grid\",\"id\":\"p4389\",\"attributes\":{\"dimension\":1,\"axis\":{\"id\":\"p4383\"},\"grid_line_color\":\"#FFFFFF\",\"grid_line_width\":0.75}}],\"frame_width\":300,\"frame_height\":300,\"background_fill_color\":\"#eaeaf2\"}}],\"callbacks\":{\"type\":\"map\"}}};\n",
       "  const render_items = [{\"docid\":\"dcf870e9-7a2a-4ba8-ae58-4a39942f53a4\",\"roots\":{\"p4358\":\"aed79bb9-78bc-486b-b9e8-1410632f7e53\"},\"root_ids\":[\"p4358\"]}];\n",
       "  root.Bokeh.embed.embed_items_notebook(docs_json, render_items);\n",
       "  }\n",
       "  if (root.Bokeh !== undefined) {\n",
       "    embed_document(root);\n",
       "  } else {\n",
       "    let attempts = 0;\n",
       "    const timer = setInterval(function(root) {\n",
       "      if (root.Bokeh !== undefined) {\n",
       "        clearInterval(timer);\n",
       "        embed_document(root);\n",
       "      } else {\n",
       "        attempts++;\n",
       "        if (attempts > 100) {\n",
       "          clearInterval(timer);\n",
       "          console.log(\"Bokeh: ERROR: Unable to run BokehJS code because BokehJS library is missing\");\n",
       "        }\n",
       "      }\n",
       "    }, 10, root)\n",
       "  }\n",
       "})(window);"
      ],
      "application/vnd.bokehjs_exec.v0+json": ""
     },
     "metadata": {
      "application/vnd.bokehjs_exec.v0+json": {
       "id": "p4358"
      }
     },
     "output_type": "display_data"
    }
   ],
   "source": [
    "bokeh.io.show(gfmt_plot())"
   ]
  },
  {
   "cell_type": "markdown",
   "metadata": {},
   "source": [
    "Finally, we can specify a style I like. Note that I do not specify that the glyphs are at an overlay level, since by default Bokeh will scale the axes such that the glyphs are fully contained in the plot area. I also put the toolbar above the plot, which is usually not a problem because I generally prefer not to title my plots, opting instead for good textual description in captions or in surrounding text."
   ]
  },
  {
   "cell_type": "code",
   "execution_count": 26,
   "metadata": {},
   "outputs": [
    {
     "data": {
      "text/html": [
       "\n",
       "  <div id=\"b04fc952-75d9-492a-9716-3e2e2c77d725\" data-root-id=\"p4783\" style=\"display: contents;\"></div>\n"
      ]
     },
     "metadata": {},
     "output_type": "display_data"
    },
    {
     "data": {
      "application/javascript": [
       "(function(root) {\n",
       "  function embed_document(root) {\n",
       "  const docs_json = {\"fec9a71c-cea1-41d1-b768-2a4626840b88\":{\"version\":\"3.1.1\",\"title\":\"Bokeh Application\",\"defs\":[],\"roots\":[{\"type\":\"object\",\"name\":\"Figure\",\"id\":\"p4783\",\"attributes\":{\"x_range\":{\"type\":\"object\",\"name\":\"Range1d\",\"id\":\"p4793\",\"attributes\":{\"end\":100}},\"y_range\":{\"type\":\"object\",\"name\":\"Range1d\",\"id\":\"p4795\",\"attributes\":{\"end\":100}},\"x_scale\":{\"type\":\"object\",\"name\":\"LinearScale\",\"id\":\"p4797\"},\"y_scale\":{\"type\":\"object\",\"name\":\"LinearScale\",\"id\":\"p4799\"},\"title\":{\"type\":\"object\",\"name\":\"Title\",\"id\":\"p4786\",\"attributes\":{\"level\":\"overlay\",\"text\":\"GMFT with sleep conditions\",\"text_font\":\"helvetica\",\"text_font_size\":\"10pt\",\"text_font_style\":\"bold\"}},\"renderers\":[{\"type\":\"object\",\"name\":\"GlyphRenderer\",\"id\":\"p4836\",\"attributes\":{\"level\":\"overlay\",\"data_source\":{\"type\":\"object\",\"name\":\"ColumnDataSource\",\"id\":\"p3484\",\"attributes\":{\"selected\":{\"type\":\"object\",\"name\":\"Selection\",\"id\":\"p3485\",\"attributes\":{\"indices\":[],\"line_indices\":[]}},\"selection_policy\":{\"type\":\"object\",\"name\":\"UnionRenderers\",\"id\":\"p3486\"},\"data\":{\"type\":\"map\",\"entries\":[[\"index\",{\"type\":\"ndarray\",\"array\":{\"type\":\"bytes\",\"data\":\"GQAAABoAAAAbAAAAHAAAAB0AAAAeAAAAHwAAACAAAAAhAAAAIgAAACMAAAAkAAAAJQAAACYAAAAnAAAAKAAAACkAAAAqAAAAKwAAACwAAAAtAAAALgAAAC8AAAAwAAAAMQAAADIAAAAzAAAANAAAADUAAAA2AAAANwAAADgAAAA5AAAAOgAAADsAAAA8AAAAPQAAAD4AAAA/AAAAQAAAAEEAAABCAAAAQwAAAEQAAABFAAAARgAAAEcAAABIAAAASQAAAEoAAABLAAAATAAAAE0AAABOAAAATwAAAFAAAABRAAAAUgAAAFMAAABUAAAAVQAAAFYAAABXAAAAWAAAAFkAAABaAAAAWwAAAFwAAABdAAAAXgAAAF8AAABgAAAAYQAAAGIAAABjAAAAZAAAAGUAAAA=\"},\"shape\":[77],\"dtype\":\"int32\",\"order\":\"little\"}],[\"participant number\",{\"type\":\"ndarray\",\"array\":{\"type\":\"bytes\",\"data\":\"AQAAAAIAAAADAAAABAAAAAUAAAAGAAAABwAAAAkAAAAKAAAACwAAAAwAAAANAAAADgAAAA8AAAARAAAAEwAAABQAAAAVAAAAFwAAABgAAAAZAAAAGgAAAB0AAAAfAAAAIAAAACQAAAAlAAAAJwAAACgAAAAqAAAAKwAAACwAAAAtAAAAMAAAADIAAAAzAAAANAAAADUAAAA2AAAAOAAAADkAAAA6AAAAOwAAADwAAAA9AAAAPgAAAD8AAABAAAAAQQAAAEIAAABDAAAARAAAAEUAAABGAAAASAAAAEkAAABKAAAASwAAAE8AAABRAAAAUgAAAFMAAABUAAAAVQAAAFYAAABXAAAAWAAAAFsAAABcAAAAXgAAAF8AAABgAAAAYQAAAGIAAABjAAAAZgAAAGcAAAA=\"},\"shape\":[77],\"dtype\":\"int32\",\"order\":\"little\"}],[\"gender\",{\"type\":\"ndarray\",\"array\":[\"f\",\"f\",\"f\",\"f\",\"f\",\"f\",\"f\",\"m\",\"f\",\"f\",\"m\",\"m\",\"m\",\"f\",\"m\",\"f\",\"f\",\"m\",\"m\",\"f\",\"f\",\"m\",\"f\",\"m\",\"f\",\"m\",\"f\",\"f\",\"m\",\"m\",\"f\",\"f\",\"f\",\"f\",\"m\",\"f\",\"f\",\"f\",\"f\",\"m\",\"f\",\"f\",\"f\",\"m\",\"f\",\"f\",\"f\",\"f\",\"f\",\"f\",\"f\",\"f\",\"f\",\"f\",\"f\",\"f\",\"m\",\"f\",\"f\",\"m\",\"f\",\"f\",\"f\",\"f\",\"f\",\"m\",\"m\",\"m\",\"m\",\"f\",\"m\",\"f\",\"f\",\"f\",\"f\",\"f\",\"f\"],\"shape\":[77],\"dtype\":\"object\",\"order\":\"little\"}],[\"age\",{\"type\":\"ndarray\",\"array\":{\"type\":\"bytes\",\"data\":\"KgAAAC0AAAAQAAAAFQAAABIAAAAcAAAAJgAAABEAAAAZAAAAFgAAACkAAAA1AAAAKwAAABcAAAATAAAALQAAACsAAAAjAAAAGAAAAEAAAAAkAAAAIwAAACsAAAAsAAAAHQAAABYAAAAuAAAAIwAAADUAAAAdAAAAHwAAABUAAAAqAAAAFwAAADYAAAAYAAAAFQAAABUAAAArAAAAMgAAADUAAAAQAAAAQwAAACQAAAAiAAAAKgAAAC4AAABFAAAAHwAAACwAAAAZAAAALQAAAC8AAAAhAAAAEgAAAEoAAAAVAAAALQAAACUAAAApAAAAKQAAACIAAAAnAAAAEgAAAB8AAAAaAAAAQgAAAD4AAAAWAAAAKQAAAC4AAAA4AAAAFwAAAEYAAAAYAAAAKAAAACEAAAA=\"},\"shape\":[77],\"dtype\":\"int32\",\"order\":\"little\"}],[\"correct hit percentage\",{\"type\":\"ndarray\",\"array\":{\"type\":\"bytes\",\"data\":\"UAAAAFAAAABGAAAARgAAAFoAAABfAAAAWgAAAFoAAABkAAAAUAAAAFoAAABfAAAAXwAAAFoAAAA3AAAAZAAAAEEAAABaAAAANwAAAEsAAABkAAAARgAAAFoAAABfAAAAXwAAAEYAAABQAAAAMgAAAEEAAABkAAAAVQAAAFUAAABaAAAAWgAAAFoAAABVAAAAVQAAAFoAAABfAAAARgAAAF8AAABVAAAAXwAAAFoAAABaAAAAZAAAAFAAAABfAAAAZAAAAFoAAABkAAAARgAAAFoAAABVAAAAUAAAAFUAAAAoAAAAUAAAAFoAAABaAAAAUAAAAFoAAABLAAAAVQAAAGQAAABfAAAAPAAAAGQAAABVAAAAIwAAAF8AAABGAAAARgAAAFoAAABGAAAASwAAAFUAAAA=\"},\"shape\":[77],\"dtype\":\"int32\",\"order\":\"little\"}],[\"correct reject percentage\",{\"type\":\"ndarray\",\"array\":{\"type\":\"bytes\",\"data\":\"QQAAAFoAAABQAAAAQQAAAGQAAABQAAAAXwAAAFoAAABkAAAAPAAAAFAAAAA8AAAAWgAAAFAAAAA8AAAAVQAAAEEAAABkAAAAZAAAAFUAAABQAAAAWgAAAFUAAABaAAAANwAAAEEAAABLAAAAXwAAAFAAAABGAAAAWgAAAFoAAABaAAAAVQAAAEYAAABfAAAASwAAAFAAAABLAAAAVQAAAEsAAABVAAAASwAAAEEAAABaAAAAZAAAAFoAAABQAAAAXwAAAF8AAABkAAAAMgAAAGQAAABGAAAASwAAAFAAAAAoAAAAXwAAAFAAAABVAAAASwAAACMAAABGAAAAVQAAAFUAAABLAAAAVQAAAFAAAABfAAAASwAAAFAAAAAyAAAAVQAAAFUAAABQAAAAQQAAACgAAAA=\"},\"shape\":[77],\"dtype\":\"int32\",\"order\":\"little\"}],[\"percent correct\",{\"type\":\"ndarray\",\"array\":{\"type\":\"bytes\",\"data\":\"AAAAAAAgUkAAAAAAAEBVQAAAAAAAwFJAAAAAAADgUEAAAAAAAMBXQAAAAAAA4FVAAAAAAAAgV0AAAAAAAIBWQAAAAAAAAFlAAAAAAACAUUAAAAAAAEBVQAAAAAAAYFNAAAAAAAAgV0AAAAAAAEBVQAAAAAAAwExAAAAAAAAgV0AAAAAAAEBQQAAAAAAAwFdAAAAAAABgU0AAAAAAAABUQAAAAAAAgFZAAAAAAAAAVEAAAAAAAOBVQAAAAAAAIFdAAAAAAADAUkAAAAAAAOBQQAAAAAAAYFNAAAAAAAAgUkAAAAAAACBSQAAAAAAAQFVAAAAAAADgVUAAAAAAAOBVQAAAAAAAgFZAAAAAAADgVUAAAAAAAABUQAAAAAAAgFZAAAAAAAAAVEAAAAAAAEBVQAAAAAAAQFVAAAAAAABgU0AAAAAAAEBVQAAAAAAAQFVAAAAAAABAVUAAAAAAAGBTQAAAAAAAgFZAAAAAAAAAWUAAAAAAAEBVQAAAAAAA4FVAAAAAAABgWEAAAAAAACBXQAAAAAAAAFlAAAAAAAAATkAAAAAAAMBXQAAAAAAAYFNAAAAAAABgU0AAAAAAAKBUQAAAAAAAAERAAAAAAADgVUAAAAAAAEBVQAAAAAAA4FVAAAAAAABgU0AAAAAAAEBPQAAAAAAAIFJAAAAAAABAVUAAAAAAACBXQAAAAAAAQFVAAAAAAAAgUkAAAAAAAIBWQAAAAAAAgFZAAAAAAACAS0AAAAAAAOBVQAAAAAAAAE5AAAAAAABgU0AAAAAAAOBVQAAAAAAAwFJAAAAAAACAUUAAAAAAAEBPQA==\"},\"shape\":[77],\"dtype\":\"float64\",\"order\":\"little\"}],[\"confidence when correct hit\",{\"type\":\"ndarray\",\"array\":{\"type\":\"bytes\",\"data\":\"AAAAAADASUAAAAAAAMBSQAAAAAAAgFFAAAAAAADAT0AAAAAAACBTQAAAAAAAAFlAAAAAAABAU0AAAAAAACBUQAAAAAAAgFZAAAAAAACAUUAAAAAAACBTQAAAAAAAAERAAAAAAAAASkAAAAAAAABWQAAAAAAAAE9AAAAAAAAAUUAAAAAAAIBNQAAAAAAA4FJAAAAAAAAAUUAAAAAAAABJQAAAAAAAAFZAAAAAAACAPUAAAAAAAGBQQAAAAAAAwFRAAAAAAADAUEAAAAAAAIBTQAAAAAAAIFJAAAAAAABAT0AAAAAAAABLQAAAAAAAwFJAAAAAAACAVEAAAAAAAIBQQAAAAAAAwFRAAAAAAADAUEAAAAAAAIBWQAAAAAAAQFhAAAAAAABAUEAAAAAAAABVQAAAAAAAgFJAAAAAAAAgV0AAAAAAAABVQAAAAAAAgEtAAAAAAACAUUAAAAAAAOBQQAAAAAAAQE1AAAAAAACgUkAAAAAAAABXQAAAAAAAAFRAAAAAAACAWEAAAAAAAMBVQAAAAAAAwE5AAAAAAAAgVEAAAAAAAABZQAAAAAAAgFFAAAAAAADgUEAAAAAAAIBQQAAAAAAAoFZAAAAAAACAUkAAAAAAAOBXQAAAAAAAAFRAAAAAAACgV0AAAAAAAEBUQAAAAAAAgExAAAAAAABAV0AAAAAAAABZQAAAAAAAQFVAAAAAAADgUEAAAAAAAEBUQAAAAAAAgFBAAAAAAACAS0AAAAAAAIBWQAAAAAAAgE9AAAAAAABAU0AAAAAAAGBQQAAAAAAAwE5AAAAAAACASkAAAAAAAABUQA==\"},\"shape\":[77],\"dtype\":\"float64\",\"order\":\"little\"}],[\"confidence when incorrect hit\",{\"type\":\"ndarray\",\"array\":{\"type\":\"bytes\",\"data\":\"AAAAAABARkAAAAAAAMBLQAAAAAAAgExAAAAAAAAAUEAAAAAAAMBUQAAAAAAAQFVAAAAAAADARUAAAAAAAOBVQAAAAAAAAPh/AAAAAACAUUAAAAAAAMBLQAAAAAAAgEBAAAAAAAAAPUAAAAAAAABEQAAAAAAAAElAAAAAAAAA+H8AAAAAAIBLQAAAAAAAwEFAAAAAAADAUEAAAAAAAAA5QAAAAAAAAPh/AAAAAACAPEAAAAAAAAA7QAAAAAAAAExAAAAAAACASkAAAAAAAABWQAAAAAAAAFJAAAAAAAAAPUAAAAAAAABAQAAAAAAAAPh/AAAAAACASEAAAAAAAAA9QAAAAAAAwFRAAAAAAACAR0AAAAAAAOBUQAAAAAAAgERAAAAAAABAUkAAAAAAAMBLQAAAAAAAQFZAAAAAAAAgUkAAAAAAAIBLQAAAAAAAAD5AAAAAAAAAHEAAAAAAAIA8QAAAAAAAgEVAAAAAAAAA+H8AAAAAAOBSQAAAAAAAQFBAAAAAAAAA+H8AAAAAAMBHQAAAAAAAAPh/AAAAAADASUAAAAAAAAD4fwAAAAAAAENAAAAAAADASUAAAAAAAIBLQAAAAAAAAFRAAAAAAADAUEAAAAAAAABRQAAAAAAAwE1AAAAAAADATkAAAAAAAABKQAAAAAAAgExAAAAAAAAAV0AAAAAAAAD4fwAAAAAAAFZAAAAAAACAUEAAAAAAAAD4fwAAAAAAAExAAAAAAACATkAAAAAAAMBSQAAAAAAAQEpAAAAAAACgUEAAAAAAAGBVQAAAAAAAQFRAAAAAAACAQkAAAAAAAAA7QA==\"},\"shape\":[77],\"dtype\":\"float64\",\"order\":\"little\"}],[\"confidence when correct reject\",{\"type\":\"ndarray\",\"array\":{\"type\":\"bytes\",\"data\":\"AAAAAACARUAAAAAAAABUQAAAAAAAAEtAAAAAAAAASUAAAAAAAABUQAAAAAAAgFdAAAAAAADAU0AAAAAAACBTQAAAAAAAQFVAAAAAAACAUUAAAAAAAOBQQAAAAAAAAExAAAAAAACASEAAAAAAAKBRQAAAAAAAgFBAAAAAAACATkAAAAAAAABQQAAAAAAAoFJAAAAAAAAAVEAAAAAAAIBQQAAAAAAAgFBAAAAAAAAAM0AAAAAAAIBEQAAAAAAAwFNAAAAAAABAUEAAAAAAAEBTQAAAAAAAAFlAAAAAAABAU0AAAAAAAMBHQAAAAAAAIFBAAAAAAABAVEAAAAAAAIBRQAAAAAAAIFRAAAAAAABAUUAAAAAAAGBTQAAAAAAAgFJAAAAAAAAATEAAAAAAAGBSQAAAAAAAAFFAAAAAAADAV0AAAAAAAABRQAAAAAAAAElAAAAAAABAUUAAAAAAAIBLQAAAAAAAYFJAAAAAAACAUkAAAAAAAABXQAAAAAAAoFNAAAAAAACAVkAAAAAAAEBRQAAAAAAAQE1AAAAAAACAT0AAAAAAAOBRQAAAAAAAQE1AAAAAAACAUEAAAAAAAIBPQAAAAAAAoFJAAAAAAAAAU0AAAAAAAOBUQAAAAAAAgFFAAAAAAACAVUAAAAAAAMBRQAAAAAAAwE1AAAAAAADAVkAAAAAAAABZQAAAAAAAgFRAAAAAAACAUkAAAAAAAKBSQAAAAAAAAFJAAAAAAAAAVEAAAAAAAABUQAAAAAAA4FBAAAAAAABAU0AAAAAAAMBVQAAAAAAAgFFAAAAAAAAAVUAAAAAAAAA/QA==\"},\"shape\":[77],\"dtype\":\"float64\",\"order\":\"little\"}],[\"confidence when incorrect reject\",{\"type\":\"ndarray\",\"array\":{\"type\":\"bytes\",\"data\":\"AAAAAACASEAAAAAAAMBSQAAAAAAAgEpAAAAAAAAASUAAAAAAAAD4fwAAAAAAgE5AAAAAAAAANUAAAAAAAAA7QAAAAAAAAPh/AAAAAABAUEAAAAAAAEBKQAAAAAAAgEhAAAAAAAAAQkAAAAAAAKBQQAAAAAAAQElAAAAAAAAAS0AAAAAAAIBNQAAAAAAAAPh/AAAAAAAA+H8AAAAAAAA4QAAAAAAAwE9AAAAAAADAREAAAAAAAIBGQAAAAAAAQEVAAAAAAACASkAAAAAAAABUQAAAAAAAwFZAAAAAAAAAQEAAAAAAAKBTQAAAAAAAgEVAAAAAAAAAQkAAAAAAAAA9QAAAAAAAAEJAAAAAAAAAREAAAAAAAEBRQAAAAAAAQFJAAAAAAAAAUUAAAAAAAIBRQAAAAAAAQFBAAAAAAABAUEAAAAAAAIBOQAAAAAAAAERAAAAAAAAATkAAAAAAAABKQAAAAAAAwEpAAAAAAAAA+H8AAAAAAIBPQAAAAAAAoFFAAAAAAAAAREAAAAAAAMBVQAAAAAAAAPh/AAAAAABAUUAAAAAAAMBUQAAAAAAAQFBAAAAAAACATEAAAAAAAEBJQAAAAAAAwFRAAAAAAAAAMUAAAAAAAMBUQAAAAAAAgERAAAAAAACAUkAAAAAAAABNQAAAAAAAAElAAAAAAABAVkAAAAAAAABJQAAAAAAAgFRAAAAAAACATEAAAAAAAIBUQAAAAAAAgE9AAAAAAACATEAAAAAAAABUQAAAAAAAYFBAAAAAAABgU0AAAAAAAABUQAAAAAAAgE5AAAAAAAAASkAAAAAAAKBUQA==\"},\"shape\":[77],\"dtype\":\"float64\",\"order\":\"little\"}],[\"confidence when correct\",{\"type\":\"ndarray\",\"array\":{\"type\":\"bytes\",\"data\":\"AAAAAACASUAAAAAAAKBTQAAAAAAAgExAAAAAAAAATkAAAAAAAABUQAAAAAAAwFhAAAAAAACAU0AAAAAAAKBTQAAAAAAAgFZAAAAAAACAUUAAAAAAAIBSQAAAAAAAgEdAAAAAAAAASkAAAAAAAABVQAAAAAAAgE9AAAAAAAAAT0AAAAAAAMBNQAAAAAAA4FJAAAAAAACAU0AAAAAAAIBPQAAAAAAAQFRAAAAAAAAAOEAAAAAAAABJQAAAAAAAQFRAAAAAAADAUEAAAAAAAEBTQAAAAAAAAFlAAAAAAAAAUUAAAAAAAABIQAAAAAAAgFJAAAAAAACAVEAAAAAAAMBQQAAAAAAAoFRAAAAAAADAUEAAAAAAAABWQAAAAAAAwFRAAAAAAADAT0AAAAAAACBUQAAAAAAAwFFAAAAAAADAV0AAAAAAAKBTQAAAAAAAQEpAAAAAAABAUUAAAAAAAIBOQAAAAAAAgFBAAAAAAACAUkAAAAAAAABXQAAAAAAAAFRAAAAAAAAAV0AAAAAAAMBUQAAAAAAAQE5AAAAAAAAgUkAAAAAAAGBYQAAAAAAAAFFAAAAAAADAUEAAAAAAAEBQQAAAAAAAgFRAAAAAAADAUkAAAAAAAIBXQAAAAAAAQFNAAAAAAAAAV0AAAAAAAEBUQAAAAAAAAE1AAAAAAADgVkAAAAAAAABZQAAAAAAAQFVAAAAAAACAUkAAAAAAAOBTQAAAAAAAoFFAAAAAAAAAUkAAAAAAAEBVQAAAAAAAAFBAAAAAAABAU0AAAAAAAIBSQAAAAAAAQFBAAAAAAABAVEAAAAAAAEBUQA==\"},\"shape\":[77],\"dtype\":\"float64\",\"order\":\"little\"}],[\"confidence when incorrect\",{\"type\":\"ndarray\",\"array\":{\"type\":\"bytes\",\"data\":\"AAAAAACASEAAAAAAAMBQQAAAAAAAQEtAAAAAAAAASUAAAAAAAMBUQAAAAAAAQFBAAAAAAAAAQkAAAAAAAOBQQAAAAAAAAPh/AAAAAACAUUAAAAAAAMBLQAAAAAAAAEZAAAAAAAAAPUAAAAAAAEBLQAAAAAAAAElAAAAAAAAAS0AAAAAAAIBMQAAAAAAAwEFAAAAAAADAUEAAAAAAAIA4QAAAAAAAwE9AAAAAAACAQUAAAAAAAIBGQAAAAAAAAEtAAAAAAACASkAAAAAAAABVQAAAAAAAwFZAAAAAAAAAP0AAAAAAAIBJQAAAAAAAgEVAAAAAAACASEAAAAAAAAA9QAAAAAAAAFNAAAAAAAAAREAAAAAAAMBTQAAAAAAAwEtAAAAAAAAAUUAAAAAAAEBQQAAAAAAAAFFAAAAAAABAUEAAAAAAAABNQAAAAAAAgEFAAAAAAADATUAAAAAAAABJQAAAAAAAwEdAAAAAAAAA+H8AAAAAAGBSQAAAAAAAgFFAAAAAAAAAREAAAAAAAMBQQAAAAAAAAPh/AAAAAADATkAAAAAAAMBUQAAAAAAAAERAAAAAAACASkAAAAAAAIBLQAAAAAAAQFRAAAAAAAAAUEAAAAAAAMBRQAAAAAAAgE1AAAAAAADAUEAAAAAAAABNQAAAAAAAAElAAAAAAADAVkAAAAAAAABJQAAAAAAAQFVAAAAAAAAAUEAAAAAAAIBUQAAAAAAAwE1AAAAAAAAATkAAAAAAAMBSQAAAAAAAwE1AAAAAAACAUkAAAAAAAABUQAAAAAAAQFRAAAAAAACASUAAAAAAAEBSQA==\"},\"shape\":[77],\"dtype\":\"float64\",\"order\":\"little\"}],[\"sci\",{\"type\":\"ndarray\",\"array\":{\"type\":\"bytes\",\"data\":\"HQAAABMAAAAXAAAAGgAAABUAAAATAAAAHAAAAB0AAAARAAAAFgAAABwAAAAfAAAAHwAAACAAAAAZAAAAHgAAABwAAAAeAAAAFgAAABQAAAAaAAAAIAAAACAAAAAYAAAAGgAAAB4AAAAcAAAAFQAAAB0AAAAgAAAAGgAAABoAAAAXAAAAEgAAABYAAAAdAAAAFAAAABsAAAATAAAAHQAAABgAAAAdAAAAEQAAABoAAAAeAAAAEQAAABkAAAAfAAAAGwAAACAAAAAcAAAAGQAAAB4AAAAVAAAAHQAAABQAAAAWAAAAFwAAABQAAAARAAAAGwAAABsAAAAWAAAAGQAAAB4AAAAgAAAAHgAAACAAAAAcAAAAHwAAAB0AAAAaAAAAFAAAABMAAAAfAAAAFgAAABgAAAA=\"},\"shape\":[77],\"dtype\":\"int32\",\"order\":\"little\"}],[\"psqi\",{\"type\":\"ndarray\",\"array\":{\"type\":\"bytes\",\"data\":\"AQAAAAUAAAABAAAABQAAAAcAAAAHAAAAAwAAAAMAAAAKAAAABAAAAAUAAAACAAAAAgAAAAIAAAAFAAAAAgAAAAMAAAADAAAABAAAAAkAAAAFAAAAAgAAAAEAAAAEAAAACAAAAAIAAAACAAAABgAAAAMAAAABAAAABQAAAAcAAAADAAAABgAAAAYAAAABAAAABgAAAAQAAAAEAAAAAwAAAAUAAAACAAAABwAAAAQAAAAAAAAABQAAAAEAAAABAAAABAAAAAEAAAAIAAAABAAAAAIAAAAHAAAABAAAAAEAAAAHAAAABAAAAAUAAAAGAAAABAAAAAIAAAADAAAABAAAAAMAAAABAAAABQAAAAIAAAABAAAAAQAAAAMAAAAGAAAACAAAAAgAAAACAAAABAAAAAUAAAA=\"},\"shape\":[77],\"dtype\":\"int32\",\"order\":\"little\"}],[\"ess\",{\"type\":\"ndarray\",\"array\":{\"type\":\"bytes\",\"data\":\"BQAAAAEAAAADAAAABAAAAAUAAAAMAAAABAAAAAQAAAALAAAABgAAAAMAAAALAAAACgAAAAwAAAAGAAAADQAAAAwAAAAFAAAACgAAAAQAAAAEAAAABgAAAAMAAAAAAAAADAAAAAYAAAAFAAAACQAAAAcAAAAGAAAACgAAABIAAAALAAAACAAAABAAAAAHAAAACQAAAAsAAAAEAAAABwAAAAQAAAALAAAADAAAAAMAAAADAAAABAAAAAsAAAABAAAABAAAAAIAAAAJAAAAAQAAAAIAAAAMAAAABgAAAAUAAAAFAAAABAAAAAkAAAADAAAACAAAAAYAAAAKAAAAFQAAAAUAAAAFAAAACQAAAAEAAAAIAAAACwAAAAUAAAAHAAAACgAAAAcAAAAPAAAABwAAAAcAAAA=\"},\"shape\":[77],\"dtype\":\"int32\",\"order\":\"little\"}],[\"insomnia\",{\"type\":\"ndarray\",\"array\":{\"type\":\"bytes\",\"data\":\"AAAAAAAAAAAAAAAAAAAAAAAAAAAAAAAAAAAAAAAAAAAAAAAAAAAAAAAAAAAAAAAAAAAAAAAAAAAAAAAAAAAAAAAAAAAAAAAAAAAAAAA=\"},\"shape\":[77],\"dtype\":\"bool\",\"order\":\"little\"}]]}}},\"view\":{\"type\":\"object\",\"name\":\"CDSView\",\"id\":\"p4837\",\"attributes\":{\"filter\":{\"type\":\"object\",\"name\":\"AllIndices\",\"id\":\"p4838\"}}},\"glyph\":{\"type\":\"object\",\"name\":\"Circle\",\"id\":\"p4833\",\"attributes\":{\"x\":{\"type\":\"field\",\"field\":\"confidence when correct\"},\"y\":{\"type\":\"field\",\"field\":\"confidence when incorrect\"},\"size\":{\"type\":\"value\",\"value\":5},\"line_color\":{\"type\":\"value\",\"value\":\"#1f77b3\"},\"line_width\":{\"type\":\"value\",\"value\":0},\"fill_color\":{\"type\":\"value\",\"value\":\"#1f77b3\"},\"fill_alpha\":{\"type\":\"value\",\"value\":0.8},\"hatch_color\":{\"type\":\"value\",\"value\":\"#1f77b3\"}}},\"nonselection_glyph\":{\"type\":\"object\",\"name\":\"Circle\",\"id\":\"p4834\",\"attributes\":{\"x\":{\"type\":\"field\",\"field\":\"confidence when correct\"},\"y\":{\"type\":\"field\",\"field\":\"confidence when incorrect\"},\"size\":{\"type\":\"value\",\"value\":5},\"line_color\":{\"type\":\"value\",\"value\":\"#1f77b3\"},\"line_alpha\":{\"type\":\"value\",\"value\":0.1},\"line_width\":{\"type\":\"value\",\"value\":0},\"fill_color\":{\"type\":\"value\",\"value\":\"#1f77b3\"},\"fill_alpha\":{\"type\":\"value\",\"value\":0.1},\"hatch_color\":{\"type\":\"value\",\"value\":\"#1f77b3\"},\"hatch_alpha\":{\"type\":\"value\",\"value\":0.1}}},\"muted_glyph\":{\"type\":\"object\",\"name\":\"Circle\",\"id\":\"p4835\",\"attributes\":{\"x\":{\"type\":\"field\",\"field\":\"confidence when correct\"},\"y\":{\"type\":\"field\",\"field\":\"confidence when incorrect\"},\"size\":{\"type\":\"value\",\"value\":5},\"line_color\":{\"type\":\"value\",\"value\":\"#1f77b3\"},\"line_alpha\":{\"type\":\"value\",\"value\":0.2},\"line_width\":{\"type\":\"value\",\"value\":0},\"fill_color\":{\"type\":\"value\",\"value\":\"#1f77b3\"},\"fill_alpha\":{\"type\":\"value\",\"value\":0.2},\"hatch_color\":{\"type\":\"value\",\"value\":\"#1f77b3\"},\"hatch_alpha\":{\"type\":\"value\",\"value\":0.2}}}}},{\"type\":\"object\",\"name\":\"GlyphRenderer\",\"id\":\"p4845\",\"attributes\":{\"level\":\"overlay\",\"data_source\":{\"type\":\"object\",\"name\":\"ColumnDataSource\",\"id\":\"p3481\",\"attributes\":{\"selected\":{\"type\":\"object\",\"name\":\"Selection\",\"id\":\"p3482\",\"attributes\":{\"indices\":[],\"line_indices\":[]}},\"selection_policy\":{\"type\":\"object\",\"name\":\"UnionRenderers\",\"id\":\"p3483\"},\"data\":{\"type\":\"map\",\"entries\":[[\"index\",{\"type\":\"ndarray\",\"array\":{\"type\":\"bytes\",\"data\":\"AAAAAAEAAAACAAAAAwAAAAQAAAAFAAAABgAAAAcAAAAIAAAACQAAAAoAAAALAAAADAAAAA0AAAAOAAAADwAAABAAAAARAAAAEgAAABMAAAAUAAAAFQAAABYAAAAXAAAAGAAAAA==\"},\"shape\":[25],\"dtype\":\"int32\",\"order\":\"little\"}],[\"participant number\",{\"type\":\"ndarray\",\"array\":{\"type\":\"bytes\",\"data\":\"CAAAABAAAAASAAAAFgAAABsAAAAcAAAAHgAAACEAAAAiAAAAIwAAACYAAAApAAAALgAAADEAAAA3AAAARwAAAEwAAABNAAAATgAAAFAAAABZAAAAWgAAAF0AAABkAAAAZQAAAA==\"},\"shape\":[25],\"dtype\":\"int32\",\"order\":\"little\"}],[\"gender\",{\"type\":\"ndarray\",\"array\":[\"f\",\"m\",\"f\",\"f\",\"f\",\"f\",\"m\",\"m\",\"f\",\"f\",\"f\",\"f\",\"f\",\"f\",\"f\",\"f\",\"f\",\"f\",\"m\",\"m\",\"f\",\"m\",\"f\",\"f\",\"f\"],\"shape\":[25],\"dtype\":\"object\",\"order\":\"little\"}],[\"age\",{\"type\":\"ndarray\",\"array\":{\"type\":\"bytes\",\"data\":\"JwAAACoAAAAfAAAAIwAAAEoAAAA9AAAAIAAAAD4AAAAhAAAANQAAACkAAAAkAAAAKAAAABgAAAAgAAAAKAAAAD0AAAAqAAAAHwAAABwAAAAaAAAALQAAABwAAAAsAAAAHAAAAA==\"},\"shape\":[25],\"dtype\":\"int32\",\"order\":\"little\"}],[\"correct hit percentage\",{\"type\":\"ndarray\",\"array\":{\"type\":\"bytes\",\"data\":\"QQAAAFoAAABaAAAAZAAAADwAAABQAAAAWgAAAC0AAABQAAAAZAAAAEYAAABaAAAAXwAAAFUAAABLAAAAKAAAAGQAAABGAAAAZAAAAGQAAAA8AAAAZAAAAGQAAABBAAAAZAAAAA==\"},\"shape\":[25],\"dtype\":\"int32\",\"order\":\"little\"}],[\"correct reject percentage\",{\"type\":\"ndarray\",\"array\":{\"type\":\"bytes\",\"data\":\"UAAAAFoAAABfAAAASwAAAEEAAAAUAAAASwAAAFoAAABkAAAAMgAAADcAAABkAAAAQQAAAEsAAAA3AAAAZAAAACgAAABaAAAARgAAADIAAABQAAAAXwAAAEsAAAAZAAAAKAAAAA==\"},\"shape\":[25],\"dtype\":\"int32\",\"order\":\"little\"}],[\"percent correct\",{\"type\":\"ndarray\",\"array\":{\"type\":\"bytes\",\"data\":\"AAAAAAAgUkAAAAAAAIBWQAAAAAAAIFdAAAAAAADgVUAAAAAAAEBPQAAAAAAAAElAAAAAAACgVEAAAAAAAOBQQAAAAAAAgFZAAAAAAADAUkAAAAAAAEBPQAAAAAAAwFdAAAAAAAAAVEAAAAAAAABUQAAAAAAAQFBAAAAAAACAUUAAAAAAAIBRQAAAAAAAAFRAAAAAAABAVUAAAAAAAMBSQAAAAAAAgFFAAAAAAABgWEAAAAAAAOBVQAAAAAAAgEZAAAAAAACAUUA=\"},\"shape\":[25],\"dtype\":\"float64\",\"order\":\"little\"}],[\"confidence when correct hit\",{\"type\":\"ndarray\",\"array\":{\"type\":\"bytes\",\"data\":\"AAAAAADAVkAAAAAAAOBSQAAAAAAAYFZAAAAAAABgVkAAAAAAACBRQAAAAAAAwFFAAAAAAADAUEAAAAAAAABLQAAAAAAAoFFAAAAAAACgUkAAAAAAAIBUQAAAAAAAIFNAAAAAAAAAVEAAAAAAAABNQAAAAAAAQFVAAAAAAABAUUAAAAAAAGBRQAAAAAAAwFVAAAAAAAAAV0AAAAAAAABZQAAAAAAAgFFAAAAAAAAAWUAAAAAAAGBWQAAAAAAAAE9AAAAAAADAVUA=\"},\"shape\":[25],\"dtype\":\"float64\",\"order\":\"little\"}],[\"confidence when incorrect hit\",{\"type\":\"ndarray\",\"array\":{\"type\":\"bytes\",\"data\":\"AAAAAACAVkAAAAAAAMBLQAAAAAAAgFZAAAAAAAAA+H8AAAAAAIBIQAAAAAAAgE9AAAAAAABATEAAAAAAAIBCQAAAAAAAIFNAAAAAAAAA+H8AAAAAAMBOQAAAAAAA4FJAAAAAAABAVkAAAAAAAABJQAAAAAAAQFRAAAAAAAAATEAAAAAAAAD4fwAAAAAAAFJAAAAAAAAA+H8AAAAAAAD4fwAAAAAAQFNAAAAAAAAA+H8AAAAAAAD4fwAAAAAAAFJAAAAAAAAA+H8=\"},\"shape\":[25],\"dtype\":\"float64\",\"order\":\"little\"}],[\"confidence when correct reject\",{\"type\":\"ndarray\",\"array\":{\"type\":\"bytes\",\"data\":\"AAAAAABAV0AAAAAAAKBRQAAAAAAAgFVAAAAAAADAUUAAAAAAAIBOQAAAAAAAAD9AAAAAAACAUEAAAAAAAEBQQAAAAAAAIFBAAAAAAABATkAAAAAAAEBSQAAAAAAAwFJAAAAAAADAU0AAAAAAAIBIQAAAAAAAQFVAAAAAAACAUUAAAAAAAEBGQAAAAAAAoFZAAAAAAABAVEAAAAAAAABZQAAAAAAAgFRAAAAAAAAAWUAAAAAAAMBQQAAAAAAAwFVAAAAAAAAAUUA=\"},\"shape\":[25],\"dtype\":\"float64\",\"order\":\"little\"}],[\"confidence when incorrect reject\",{\"type\":\"ndarray\",\"array\":{\"type\":\"bytes\",\"data\":\"AAAAAADgVEAAAAAAAABJQAAAAAAAQFRAAAAAAAAAVEAAAAAAAIBIQAAAAAAAIFJAAAAAAABAUEAAAAAAAGBUQAAAAAAAAPh/AAAAAABAUEAAAAAAAEBRQAAAAAAAAPh/AAAAAABATUAAAAAAAABRQAAAAAAAgFVAAAAAAAAA+H8AAAAAAEBSQAAAAAAAwEVAAAAAAAAATkAAAAAAAABZQAAAAAAA4FBAAAAAAAAAWUAAAAAAAABOQAAAAAAAQFNAAAAAAAAAS0A=\"},\"shape\":[25],\"dtype\":\"float64\",\"order\":\"little\"}],[\"confidence when correct\",{\"type\":\"ndarray\",\"array\":{\"type\":\"bytes\",\"data\":\"AAAAAABAV0AAAAAAAMBSQAAAAAAAQFZAAAAAAAAAVkAAAAAAAEBQQAAAAAAAIFBAAAAAAACAUEAAAAAAAABPQAAAAAAAAFFAAAAAAADAUUAAAAAAAIBUQAAAAAAAAFNAAAAAAADgU0AAAAAAAIBLQAAAAAAAQFVAAAAAAACAUUAAAAAAAEBLQAAAAAAAIFZAAAAAAADgVUAAAAAAAABZQAAAAAAAQFNAAAAAAAAAWUAAAAAAAABUQAAAAAAAYFFAAAAAAABAVEA=\"},\"shape\":[25],\"dtype\":\"float64\",\"order\":\"little\"}],[\"confidence when incorrect\",{\"type\":\"ndarray\",\"array\":{\"type\":\"bytes\",\"data\":\"AAAAAACAVkAAAAAAAABJQAAAAAAAAFZAAAAAAAAAVEAAAAAAAIBIQAAAAAAAoFFAAAAAAAAAUEAAAAAAAIBOQAAAAAAAIFNAAAAAAABAUEAAAAAAAABQQAAAAAAA4FJAAAAAAACAT0AAAAAAAIBNQAAAAAAA4FRAAAAAAAAATEAAAAAAAEBSQAAAAAAAAFBAAAAAAAAATkAAAAAAAABZQAAAAAAAoFFAAAAAAAAAWUAAAAAAAABOQAAAAAAAYFJAAAAAAAAAS0A=\"},\"shape\":[25],\"dtype\":\"float64\",\"order\":\"little\"}],[\"sci\",{\"type\":\"ndarray\",\"array\":{\"type\":\"bytes\",\"data\":\"CQAAAAQAAAAKAAAADQAAAA0AAAAPAAAAEAAAAA4AAAAOAAAADgAAAA4AAAAPAAAACgAAAA4AAAAFAAAAAAAAABAAAAALAAAADgAAAAwAAAAOAAAADgAAABAAAAABAAAADgAAAA==\"},\"shape\":[25],\"dtype\":\"int32\",\"order\":\"little\"}],[\"psqi\",{\"type\":\"ndarray\",\"array\":{\"type\":\"bytes\",\"data\":\"DQAAAAsAAAAJAAAACAAAAAkAAAAOAAAACQAAAAkAAAAMAAAACAAAAAUAAAAHAAAADAAAAA0AAAANAAAACwAAAAQAAAAKAAAABgAAAAcAAAAIAAAACQAAAAcAAAAPAAAABwAAAA==\"},\"shape\":[25],\"dtype\":\"int32\",\"order\":\"little\"}],[\"ess\",{\"type\":\"ndarray\",\"array\":{\"type\":\"bytes\",\"data\":\"AgAAAAcAAAADAAAAFAAAAAwAAAACAAAAAwAAAAkAAAAKAAAABwAAABMAAAAAAAAACAAAAAQAAAAHAAAADgAAAAwAAAAKAAAACwAAAAwAAAABAAAABgAAAAQAAAAGAAAAAgAAAA==\"},\"shape\":[25],\"dtype\":\"int32\",\"order\":\"little\"}],[\"insomnia\",{\"type\":\"ndarray\",\"array\":{\"type\":\"bytes\",\"data\":\"AQEBAQEBAQEBAQEBAQEBAQEBAQEBAQEBAQ==\"},\"shape\":[25],\"dtype\":\"bool\",\"order\":\"little\"}]]}}},\"view\":{\"type\":\"object\",\"name\":\"CDSView\",\"id\":\"p4846\",\"attributes\":{\"filter\":{\"type\":\"object\",\"name\":\"AllIndices\",\"id\":\"p4847\"}}},\"glyph\":{\"type\":\"object\",\"name\":\"Circle\",\"id\":\"p4842\",\"attributes\":{\"x\":{\"type\":\"field\",\"field\":\"confidence when correct\"},\"y\":{\"type\":\"field\",\"field\":\"confidence when incorrect\"},\"size\":{\"type\":\"value\",\"value\":5},\"line_color\":{\"type\":\"value\",\"value\":\"#ff7e0e\"},\"line_width\":{\"type\":\"value\",\"value\":0},\"fill_color\":{\"type\":\"value\",\"value\":\"#ff7e0e\"},\"fill_alpha\":{\"type\":\"value\",\"value\":0.8},\"hatch_color\":{\"type\":\"value\",\"value\":\"#ff7e0e\"}}},\"nonselection_glyph\":{\"type\":\"object\",\"name\":\"Circle\",\"id\":\"p4843\",\"attributes\":{\"x\":{\"type\":\"field\",\"field\":\"confidence when correct\"},\"y\":{\"type\":\"field\",\"field\":\"confidence when incorrect\"},\"size\":{\"type\":\"value\",\"value\":5},\"line_color\":{\"type\":\"value\",\"value\":\"#ff7e0e\"},\"line_alpha\":{\"type\":\"value\",\"value\":0.1},\"line_width\":{\"type\":\"value\",\"value\":0},\"fill_color\":{\"type\":\"value\",\"value\":\"#ff7e0e\"},\"fill_alpha\":{\"type\":\"value\",\"value\":0.1},\"hatch_color\":{\"type\":\"value\",\"value\":\"#ff7e0e\"},\"hatch_alpha\":{\"type\":\"value\",\"value\":0.1}}},\"muted_glyph\":{\"type\":\"object\",\"name\":\"Circle\",\"id\":\"p4844\",\"attributes\":{\"x\":{\"type\":\"field\",\"field\":\"confidence when correct\"},\"y\":{\"type\":\"field\",\"field\":\"confidence when incorrect\"},\"size\":{\"type\":\"value\",\"value\":5},\"line_color\":{\"type\":\"value\",\"value\":\"#ff7e0e\"},\"line_alpha\":{\"type\":\"value\",\"value\":0.2},\"line_width\":{\"type\":\"value\",\"value\":0},\"fill_color\":{\"type\":\"value\",\"value\":\"#ff7e0e\"},\"fill_alpha\":{\"type\":\"value\",\"value\":0.2},\"hatch_color\":{\"type\":\"value\",\"value\":\"#ff7e0e\"},\"hatch_alpha\":{\"type\":\"value\",\"value\":0.2}}}}}],\"toolbar\":{\"type\":\"object\",\"name\":\"Toolbar\",\"id\":\"p4792\",\"attributes\":{\"tools\":[{\"type\":\"object\",\"name\":\"PanTool\",\"id\":\"p4815\"},{\"type\":\"object\",\"name\":\"WheelZoomTool\",\"id\":\"p4816\"},{\"type\":\"object\",\"name\":\"BoxZoomTool\",\"id\":\"p4817\",\"attributes\":{\"overlay\":{\"type\":\"object\",\"name\":\"BoxAnnotation\",\"id\":\"p4818\",\"attributes\":{\"syncable\":false,\"level\":\"overlay\",\"visible\":false,\"left_units\":\"canvas\",\"right_units\":\"canvas\",\"bottom_units\":\"canvas\",\"top_units\":\"canvas\",\"line_color\":\"black\",\"line_alpha\":1.0,\"line_width\":2,\"line_dash\":[4,4],\"fill_color\":\"lightgrey\",\"fill_alpha\":0.5}}}},{\"type\":\"object\",\"name\":\"SaveTool\",\"id\":\"p4819\"},{\"type\":\"object\",\"name\":\"ResetTool\",\"id\":\"p4820\"},{\"type\":\"object\",\"name\":\"HelpTool\",\"id\":\"p4821\"}]}},\"toolbar_location\":\"above\",\"left\":[{\"type\":\"object\",\"name\":\"LinearAxis\",\"id\":\"p4808\",\"attributes\":{\"level\":\"overlay\",\"ticker\":{\"type\":\"object\",\"name\":\"BasicTicker\",\"id\":\"p4809\",\"attributes\":{\"mantissas\":[1,2,5]}},\"formatter\":{\"type\":\"object\",\"name\":\"BasicTickFormatter\",\"id\":\"p4810\"},\"axis_label\":\"condifence when incorrect\",\"axis_label_text_font_size\":\"9pt\",\"axis_label_text_font_style\":\"bold\",\"major_label_policy\":{\"type\":\"object\",\"name\":\"AllLabels\",\"id\":\"p4811\"},\"major_label_text_font_size\":\"7.5pt\",\"axis_line_color\":\"dimgray\",\"major_tick_line_color\":\"dimgray\"}}],\"right\":[{\"type\":\"object\",\"name\":\"Legend\",\"id\":\"p4848\",\"attributes\":{\"level\":\"overlay\",\"title_text_font\":\"helvetica\",\"title_text_font_size\":\"8pt\",\"title_text_font_style\":\"bold\",\"border_line_color\":\"darkgray\",\"border_line_width\":0.75,\"background_fill_color\":\"#ffffff\",\"background_fill_alpha\":0.7,\"click_policy\":\"hide\",\"label_text_font\":\"helvetica\",\"label_text_font_size\":\"7.5pt\",\"items\":[{\"type\":\"object\",\"name\":\"LegendItem\",\"id\":\"p4849\",\"attributes\":{\"label\":{\"type\":\"value\",\"value\":\"normal\"},\"renderers\":[{\"id\":\"p4836\"}]}},{\"type\":\"object\",\"name\":\"LegendItem\",\"id\":\"p4850\",\"attributes\":{\"label\":{\"type\":\"value\",\"value\":\"insomnia\"},\"renderers\":[{\"id\":\"p4845\"}]}}]}}],\"below\":[{\"type\":\"object\",\"name\":\"LinearAxis\",\"id\":\"p4801\",\"attributes\":{\"level\":\"overlay\",\"ticker\":{\"type\":\"object\",\"name\":\"BasicTicker\",\"id\":\"p4802\",\"attributes\":{\"mantissas\":[1,2,5]}},\"formatter\":{\"type\":\"object\",\"name\":\"BasicTickFormatter\",\"id\":\"p4803\"},\"axis_label\":\"confidence when correct\",\"axis_label_text_font_size\":\"9pt\",\"axis_label_text_font_style\":\"bold\",\"major_label_policy\":{\"type\":\"object\",\"name\":\"AllLabels\",\"id\":\"p4804\"},\"major_label_text_font_size\":\"7.5pt\",\"axis_line_color\":\"dimgray\",\"major_tick_line_color\":\"dimgray\"}}],\"center\":[{\"type\":\"object\",\"name\":\"Grid\",\"id\":\"p4807\",\"attributes\":{\"level\":\"underlay\",\"axis\":{\"id\":\"p4801\"},\"grid_line_color\":\"lightgray\"}},{\"type\":\"object\",\"name\":\"Grid\",\"id\":\"p4814\",\"attributes\":{\"level\":\"underlay\",\"dimension\":1,\"axis\":{\"id\":\"p4808\"},\"grid_line_color\":\"lightgray\"}}],\"frame_width\":300,\"frame_height\":300}}],\"callbacks\":{\"type\":\"map\"}}};\n",
       "  const render_items = [{\"docid\":\"fec9a71c-cea1-41d1-b768-2a4626840b88\",\"roots\":{\"p4783\":\"b04fc952-75d9-492a-9716-3e2e2c77d725\"},\"root_ids\":[\"p4783\"]}];\n",
       "  root.Bokeh.embed.embed_items_notebook(docs_json, render_items);\n",
       "  }\n",
       "  if (root.Bokeh !== undefined) {\n",
       "    embed_document(root);\n",
       "  } else {\n",
       "    let attempts = 0;\n",
       "    const timer = setInterval(function(root) {\n",
       "      if (root.Bokeh !== undefined) {\n",
       "        clearInterval(timer);\n",
       "        embed_document(root);\n",
       "      } else {\n",
       "        attempts++;\n",
       "        if (attempts > 100) {\n",
       "          clearInterval(timer);\n",
       "          console.log(\"Bokeh: ERROR: Unable to run BokehJS code because BokehJS library is missing\");\n",
       "        }\n",
       "      }\n",
       "    }, 10, root)\n",
       "  }\n",
       "})(window);"
      ],
      "application/vnd.bokehjs_exec.v0+json": ""
     },
     "metadata": {
      "application/vnd.bokehjs_exec.v0+json": {
       "id": "p4783"
      }
     },
     "output_type": "display_data"
    }
   ],
   "source": [
    "jb_theme_dict = {\n",
    "    \"attrs\": {\n",
    "        \"Axis\": {\n",
    "            \"axis_line_color\": \"dimgray\",\n",
    "            \"major_tick_line_color\": \"dimgray\",\n",
    "            \"major_label_text_font_size\": \"7.5pt\",\n",
    "            \"axis_label_text_font_size\": \"9pt\",\n",
    "            \"axis_label_text_font_style\": \"bold\",\n",
    "        },\n",
    "        \"Circle\": {\n",
    "            \"size\": 5, \n",
    "            \"fill_alpha\": 0.8,\n",
    "            \"line_width\": 0,\n",
    "        },\n",
    "        \"figure\": {\n",
    "            \"frame_height\": 300,\n",
    "            \"frame_width\": 350,\n",
    "            \"toolbar_location\": \"above\",\n",
    "        },\n",
    "        \"Grid\": {\n",
    "            \"grid_line_color\": \"lightgray\",\n",
    "            \"level\": \"underlay\",\n",
    "        },\n",
    "        \"Legend\": {\n",
    "            \"border_line_color\": \"darkgray\",\n",
    "            \"border_line_width\": 0.75,\n",
    "            \"background_fill_color\": \"#ffffff\",\n",
    "            \"background_fill_alpha\": 0.7,\n",
    "            \"label_text_font\": \"helvetica\", \n",
    "            \"label_text_font_size\": \"7.5pt\",\n",
    "            \"title_text_font\": \"helvetica\", \n",
    "            \"title_text_font_size\": \"8pt\", \n",
    "            \"title_text_font_style\": \"bold\", \n",
    "        },\n",
    "        \"Renderer\": {\n",
    "            \"level\": \"overlay\"\n",
    "        },\n",
    "        \"Title\": {\n",
    "            \"text_font\": \"helvetica\",\n",
    "            \"text_font_size\": \"10pt\",\n",
    "            'text_font_style': 'bold',\n",
    "        },\n",
    "    }\n",
    "}\n",
    "\n",
    "jb_theme = bokeh.themes.Theme(json=jb_theme_dict)\n",
    "bokeh.io.curdoc().theme = jb_theme\n",
    "\n",
    "bokeh.io.show(gfmt_plot())"
   ]
  },
  {
   "cell_type": "markdown",
   "metadata": {},
   "source": [
    "Finally, if I were to make this particular plot, I would do it without a title and with axes leaving a little buffer."
   ]
  },
  {
   "cell_type": "code",
   "execution_count": 27,
   "metadata": {},
   "outputs": [
    {
     "data": {
      "text/html": [
       "\n",
       "  <div id=\"d0f3c886-339f-4e05-82b2-59e96fe07564\" data-root-id=\"p5226\" style=\"display: contents;\"></div>\n"
      ]
     },
     "metadata": {},
     "output_type": "display_data"
    },
    {
     "data": {
      "application/javascript": [
       "(function(root) {\n",
       "  function embed_document(root) {\n",
       "  const docs_json = {\"c3a2bdd8-9cba-476c-a345-39a11bc52239\":{\"version\":\"3.1.1\",\"title\":\"Bokeh Application\",\"defs\":[],\"roots\":[{\"type\":\"object\",\"name\":\"Figure\",\"id\":\"p5226\",\"attributes\":{\"x_range\":{\"type\":\"object\",\"name\":\"Range1d\",\"id\":\"p5235\",\"attributes\":{\"start\":-2.5,\"end\":102.5}},\"y_range\":{\"type\":\"object\",\"name\":\"Range1d\",\"id\":\"p5237\",\"attributes\":{\"start\":-2.5,\"end\":102.5}},\"x_scale\":{\"type\":\"object\",\"name\":\"LinearScale\",\"id\":\"p5239\"},\"y_scale\":{\"type\":\"object\",\"name\":\"LinearScale\",\"id\":\"p5241\"},\"title\":{\"type\":\"object\",\"name\":\"Title\",\"id\":\"p5230\",\"attributes\":{\"level\":\"overlay\",\"text_font\":\"helvetica\",\"text_font_size\":\"10pt\",\"text_font_style\":\"bold\"}},\"renderers\":[{\"type\":\"object\",\"name\":\"GlyphRenderer\",\"id\":\"p5278\",\"attributes\":{\"level\":\"overlay\",\"data_source\":{\"type\":\"object\",\"name\":\"ColumnDataSource\",\"id\":\"p3484\",\"attributes\":{\"selected\":{\"type\":\"object\",\"name\":\"Selection\",\"id\":\"p3485\",\"attributes\":{\"indices\":[],\"line_indices\":[]}},\"selection_policy\":{\"type\":\"object\",\"name\":\"UnionRenderers\",\"id\":\"p3486\"},\"data\":{\"type\":\"map\",\"entries\":[[\"index\",{\"type\":\"ndarray\",\"array\":{\"type\":\"bytes\",\"data\":\"GQAAABoAAAAbAAAAHAAAAB0AAAAeAAAAHwAAACAAAAAhAAAAIgAAACMAAAAkAAAAJQAAACYAAAAnAAAAKAAAACkAAAAqAAAAKwAAACwAAAAtAAAALgAAAC8AAAAwAAAAMQAAADIAAAAzAAAANAAAADUAAAA2AAAANwAAADgAAAA5AAAAOgAAADsAAAA8AAAAPQAAAD4AAAA/AAAAQAAAAEEAAABCAAAAQwAAAEQAAABFAAAARgAAAEcAAABIAAAASQAAAEoAAABLAAAATAAAAE0AAABOAAAATwAAAFAAAABRAAAAUgAAAFMAAABUAAAAVQAAAFYAAABXAAAAWAAAAFkAAABaAAAAWwAAAFwAAABdAAAAXgAAAF8AAABgAAAAYQAAAGIAAABjAAAAZAAAAGUAAAA=\"},\"shape\":[77],\"dtype\":\"int32\",\"order\":\"little\"}],[\"participant number\",{\"type\":\"ndarray\",\"array\":{\"type\":\"bytes\",\"data\":\"AQAAAAIAAAADAAAABAAAAAUAAAAGAAAABwAAAAkAAAAKAAAACwAAAAwAAAANAAAADgAAAA8AAAARAAAAEwAAABQAAAAVAAAAFwAAABgAAAAZAAAAGgAAAB0AAAAfAAAAIAAAACQAAAAlAAAAJwAAACgAAAAqAAAAKwAAACwAAAAtAAAAMAAAADIAAAAzAAAANAAAADUAAAA2AAAAOAAAADkAAAA6AAAAOwAAADwAAAA9AAAAPgAAAD8AAABAAAAAQQAAAEIAAABDAAAARAAAAEUAAABGAAAASAAAAEkAAABKAAAASwAAAE8AAABRAAAAUgAAAFMAAABUAAAAVQAAAFYAAABXAAAAWAAAAFsAAABcAAAAXgAAAF8AAABgAAAAYQAAAGIAAABjAAAAZgAAAGcAAAA=\"},\"shape\":[77],\"dtype\":\"int32\",\"order\":\"little\"}],[\"gender\",{\"type\":\"ndarray\",\"array\":[\"f\",\"f\",\"f\",\"f\",\"f\",\"f\",\"f\",\"m\",\"f\",\"f\",\"m\",\"m\",\"m\",\"f\",\"m\",\"f\",\"f\",\"m\",\"m\",\"f\",\"f\",\"m\",\"f\",\"m\",\"f\",\"m\",\"f\",\"f\",\"m\",\"m\",\"f\",\"f\",\"f\",\"f\",\"m\",\"f\",\"f\",\"f\",\"f\",\"m\",\"f\",\"f\",\"f\",\"m\",\"f\",\"f\",\"f\",\"f\",\"f\",\"f\",\"f\",\"f\",\"f\",\"f\",\"f\",\"f\",\"m\",\"f\",\"f\",\"m\",\"f\",\"f\",\"f\",\"f\",\"f\",\"m\",\"m\",\"m\",\"m\",\"f\",\"m\",\"f\",\"f\",\"f\",\"f\",\"f\",\"f\"],\"shape\":[77],\"dtype\":\"object\",\"order\":\"little\"}],[\"age\",{\"type\":\"ndarray\",\"array\":{\"type\":\"bytes\",\"data\":\"KgAAAC0AAAAQAAAAFQAAABIAAAAcAAAAJgAAABEAAAAZAAAAFgAAACkAAAA1AAAAKwAAABcAAAATAAAALQAAACsAAAAjAAAAGAAAAEAAAAAkAAAAIwAAACsAAAAsAAAAHQAAABYAAAAuAAAAIwAAADUAAAAdAAAAHwAAABUAAAAqAAAAFwAAADYAAAAYAAAAFQAAABUAAAArAAAAMgAAADUAAAAQAAAAQwAAACQAAAAiAAAAKgAAAC4AAABFAAAAHwAAACwAAAAZAAAALQAAAC8AAAAhAAAAEgAAAEoAAAAVAAAALQAAACUAAAApAAAAKQAAACIAAAAnAAAAEgAAAB8AAAAaAAAAQgAAAD4AAAAWAAAAKQAAAC4AAAA4AAAAFwAAAEYAAAAYAAAAKAAAACEAAAA=\"},\"shape\":[77],\"dtype\":\"int32\",\"order\":\"little\"}],[\"correct hit percentage\",{\"type\":\"ndarray\",\"array\":{\"type\":\"bytes\",\"data\":\"UAAAAFAAAABGAAAARgAAAFoAAABfAAAAWgAAAFoAAABkAAAAUAAAAFoAAABfAAAAXwAAAFoAAAA3AAAAZAAAAEEAAABaAAAANwAAAEsAAABkAAAARgAAAFoAAABfAAAAXwAAAEYAAABQAAAAMgAAAEEAAABkAAAAVQAAAFUAAABaAAAAWgAAAFoAAABVAAAAVQAAAFoAAABfAAAARgAAAF8AAABVAAAAXwAAAFoAAABaAAAAZAAAAFAAAABfAAAAZAAAAFoAAABkAAAARgAAAFoAAABVAAAAUAAAAFUAAAAoAAAAUAAAAFoAAABaAAAAUAAAAFoAAABLAAAAVQAAAGQAAABfAAAAPAAAAGQAAABVAAAAIwAAAF8AAABGAAAARgAAAFoAAABGAAAASwAAAFUAAAA=\"},\"shape\":[77],\"dtype\":\"int32\",\"order\":\"little\"}],[\"correct reject percentage\",{\"type\":\"ndarray\",\"array\":{\"type\":\"bytes\",\"data\":\"QQAAAFoAAABQAAAAQQAAAGQAAABQAAAAXwAAAFoAAABkAAAAPAAAAFAAAAA8AAAAWgAAAFAAAAA8AAAAVQAAAEEAAABkAAAAZAAAAFUAAABQAAAAWgAAAFUAAABaAAAANwAAAEEAAABLAAAAXwAAAFAAAABGAAAAWgAAAFoAAABaAAAAVQAAAEYAAABfAAAASwAAAFAAAABLAAAAVQAAAEsAAABVAAAASwAAAEEAAABaAAAAZAAAAFoAAABQAAAAXwAAAF8AAABkAAAAMgAAAGQAAABGAAAASwAAAFAAAAAoAAAAXwAAAFAAAABVAAAASwAAACMAAABGAAAAVQAAAFUAAABLAAAAVQAAAFAAAABfAAAASwAAAFAAAAAyAAAAVQAAAFUAAABQAAAAQQAAACgAAAA=\"},\"shape\":[77],\"dtype\":\"int32\",\"order\":\"little\"}],[\"percent correct\",{\"type\":\"ndarray\",\"array\":{\"type\":\"bytes\",\"data\":\"AAAAAAAgUkAAAAAAAEBVQAAAAAAAwFJAAAAAAADgUEAAAAAAAMBXQAAAAAAA4FVAAAAAAAAgV0AAAAAAAIBWQAAAAAAAAFlAAAAAAACAUUAAAAAAAEBVQAAAAAAAYFNAAAAAAAAgV0AAAAAAAEBVQAAAAAAAwExAAAAAAAAgV0AAAAAAAEBQQAAAAAAAwFdAAAAAAABgU0AAAAAAAABUQAAAAAAAgFZAAAAAAAAAVEAAAAAAAOBVQAAAAAAAIFdAAAAAAADAUkAAAAAAAOBQQAAAAAAAYFNAAAAAAAAgUkAAAAAAACBSQAAAAAAAQFVAAAAAAADgVUAAAAAAAOBVQAAAAAAAgFZAAAAAAADgVUAAAAAAAABUQAAAAAAAgFZAAAAAAAAAVEAAAAAAAEBVQAAAAAAAQFVAAAAAAABgU0AAAAAAAEBVQAAAAAAAQFVAAAAAAABAVUAAAAAAAGBTQAAAAAAAgFZAAAAAAAAAWUAAAAAAAEBVQAAAAAAA4FVAAAAAAABgWEAAAAAAACBXQAAAAAAAAFlAAAAAAAAATkAAAAAAAMBXQAAAAAAAYFNAAAAAAABgU0AAAAAAAKBUQAAAAAAAAERAAAAAAADgVUAAAAAAAEBVQAAAAAAA4FVAAAAAAABgU0AAAAAAAEBPQAAAAAAAIFJAAAAAAABAVUAAAAAAACBXQAAAAAAAQFVAAAAAAAAgUkAAAAAAAIBWQAAAAAAAgFZAAAAAAACAS0AAAAAAAOBVQAAAAAAAAE5AAAAAAABgU0AAAAAAAOBVQAAAAAAAwFJAAAAAAACAUUAAAAAAAEBPQA==\"},\"shape\":[77],\"dtype\":\"float64\",\"order\":\"little\"}],[\"confidence when correct hit\",{\"type\":\"ndarray\",\"array\":{\"type\":\"bytes\",\"data\":\"AAAAAADASUAAAAAAAMBSQAAAAAAAgFFAAAAAAADAT0AAAAAAACBTQAAAAAAAAFlAAAAAAABAU0AAAAAAACBUQAAAAAAAgFZAAAAAAACAUUAAAAAAACBTQAAAAAAAAERAAAAAAAAASkAAAAAAAABWQAAAAAAAAE9AAAAAAAAAUUAAAAAAAIBNQAAAAAAA4FJAAAAAAAAAUUAAAAAAAABJQAAAAAAAAFZAAAAAAACAPUAAAAAAAGBQQAAAAAAAwFRAAAAAAADAUEAAAAAAAIBTQAAAAAAAIFJAAAAAAABAT0AAAAAAAABLQAAAAAAAwFJAAAAAAACAVEAAAAAAAIBQQAAAAAAAwFRAAAAAAADAUEAAAAAAAIBWQAAAAAAAQFhAAAAAAABAUEAAAAAAAABVQAAAAAAAgFJAAAAAAAAgV0AAAAAAAABVQAAAAAAAgEtAAAAAAACAUUAAAAAAAOBQQAAAAAAAQE1AAAAAAACgUkAAAAAAAABXQAAAAAAAAFRAAAAAAACAWEAAAAAAAMBVQAAAAAAAwE5AAAAAAAAgVEAAAAAAAABZQAAAAAAAgFFAAAAAAADgUEAAAAAAAIBQQAAAAAAAoFZAAAAAAACAUkAAAAAAAOBXQAAAAAAAAFRAAAAAAACgV0AAAAAAAEBUQAAAAAAAgExAAAAAAABAV0AAAAAAAABZQAAAAAAAQFVAAAAAAADgUEAAAAAAAEBUQAAAAAAAgFBAAAAAAACAS0AAAAAAAIBWQAAAAAAAgE9AAAAAAABAU0AAAAAAAGBQQAAAAAAAwE5AAAAAAACASkAAAAAAAABUQA==\"},\"shape\":[77],\"dtype\":\"float64\",\"order\":\"little\"}],[\"confidence when incorrect hit\",{\"type\":\"ndarray\",\"array\":{\"type\":\"bytes\",\"data\":\"AAAAAABARkAAAAAAAMBLQAAAAAAAgExAAAAAAAAAUEAAAAAAAMBUQAAAAAAAQFVAAAAAAADARUAAAAAAAOBVQAAAAAAAAPh/AAAAAACAUUAAAAAAAMBLQAAAAAAAgEBAAAAAAAAAPUAAAAAAAABEQAAAAAAAAElAAAAAAAAA+H8AAAAAAIBLQAAAAAAAwEFAAAAAAADAUEAAAAAAAAA5QAAAAAAAAPh/AAAAAACAPEAAAAAAAAA7QAAAAAAAAExAAAAAAACASkAAAAAAAABWQAAAAAAAAFJAAAAAAAAAPUAAAAAAAABAQAAAAAAAAPh/AAAAAACASEAAAAAAAAA9QAAAAAAAwFRAAAAAAACAR0AAAAAAAOBUQAAAAAAAgERAAAAAAABAUkAAAAAAAMBLQAAAAAAAQFZAAAAAAAAgUkAAAAAAAIBLQAAAAAAAAD5AAAAAAAAAHEAAAAAAAIA8QAAAAAAAgEVAAAAAAAAA+H8AAAAAAOBSQAAAAAAAQFBAAAAAAAAA+H8AAAAAAMBHQAAAAAAAAPh/AAAAAADASUAAAAAAAAD4fwAAAAAAAENAAAAAAADASUAAAAAAAIBLQAAAAAAAAFRAAAAAAADAUEAAAAAAAABRQAAAAAAAwE1AAAAAAADATkAAAAAAAABKQAAAAAAAgExAAAAAAAAAV0AAAAAAAAD4fwAAAAAAAFZAAAAAAACAUEAAAAAAAAD4fwAAAAAAAExAAAAAAACATkAAAAAAAMBSQAAAAAAAQEpAAAAAAACgUEAAAAAAAGBVQAAAAAAAQFRAAAAAAACAQkAAAAAAAAA7QA==\"},\"shape\":[77],\"dtype\":\"float64\",\"order\":\"little\"}],[\"confidence when correct reject\",{\"type\":\"ndarray\",\"array\":{\"type\":\"bytes\",\"data\":\"AAAAAACARUAAAAAAAABUQAAAAAAAAEtAAAAAAAAASUAAAAAAAABUQAAAAAAAgFdAAAAAAADAU0AAAAAAACBTQAAAAAAAQFVAAAAAAACAUUAAAAAAAOBQQAAAAAAAAExAAAAAAACASEAAAAAAAKBRQAAAAAAAgFBAAAAAAACATkAAAAAAAABQQAAAAAAAoFJAAAAAAAAAVEAAAAAAAIBQQAAAAAAAgFBAAAAAAAAAM0AAAAAAAIBEQAAAAAAAwFNAAAAAAABAUEAAAAAAAEBTQAAAAAAAAFlAAAAAAABAU0AAAAAAAMBHQAAAAAAAIFBAAAAAAABAVEAAAAAAAIBRQAAAAAAAIFRAAAAAAABAUUAAAAAAAGBTQAAAAAAAgFJAAAAAAAAATEAAAAAAAGBSQAAAAAAAAFFAAAAAAADAV0AAAAAAAABRQAAAAAAAAElAAAAAAABAUUAAAAAAAIBLQAAAAAAAYFJAAAAAAACAUkAAAAAAAABXQAAAAAAAoFNAAAAAAACAVkAAAAAAAEBRQAAAAAAAQE1AAAAAAACAT0AAAAAAAOBRQAAAAAAAQE1AAAAAAACAUEAAAAAAAIBPQAAAAAAAoFJAAAAAAAAAU0AAAAAAAOBUQAAAAAAAgFFAAAAAAACAVUAAAAAAAMBRQAAAAAAAwE1AAAAAAADAVkAAAAAAAABZQAAAAAAAgFRAAAAAAACAUkAAAAAAAKBSQAAAAAAAAFJAAAAAAAAAVEAAAAAAAABUQAAAAAAA4FBAAAAAAABAU0AAAAAAAMBVQAAAAAAAgFFAAAAAAAAAVUAAAAAAAAA/QA==\"},\"shape\":[77],\"dtype\":\"float64\",\"order\":\"little\"}],[\"confidence when incorrect reject\",{\"type\":\"ndarray\",\"array\":{\"type\":\"bytes\",\"data\":\"AAAAAACASEAAAAAAAMBSQAAAAAAAgEpAAAAAAAAASUAAAAAAAAD4fwAAAAAAgE5AAAAAAAAANUAAAAAAAAA7QAAAAAAAAPh/AAAAAABAUEAAAAAAAEBKQAAAAAAAgEhAAAAAAAAAQkAAAAAAAKBQQAAAAAAAQElAAAAAAAAAS0AAAAAAAIBNQAAAAAAAAPh/AAAAAAAA+H8AAAAAAAA4QAAAAAAAwE9AAAAAAADAREAAAAAAAIBGQAAAAAAAQEVAAAAAAACASkAAAAAAAABUQAAAAAAAwFZAAAAAAAAAQEAAAAAAAKBTQAAAAAAAgEVAAAAAAAAAQkAAAAAAAAA9QAAAAAAAAEJAAAAAAAAAREAAAAAAAEBRQAAAAAAAQFJAAAAAAAAAUUAAAAAAAIBRQAAAAAAAQFBAAAAAAABAUEAAAAAAAIBOQAAAAAAAAERAAAAAAAAATkAAAAAAAABKQAAAAAAAwEpAAAAAAAAA+H8AAAAAAIBPQAAAAAAAoFFAAAAAAAAAREAAAAAAAMBVQAAAAAAAAPh/AAAAAABAUUAAAAAAAMBUQAAAAAAAQFBAAAAAAACATEAAAAAAAEBJQAAAAAAAwFRAAAAAAAAAMUAAAAAAAMBUQAAAAAAAgERAAAAAAACAUkAAAAAAAABNQAAAAAAAAElAAAAAAABAVkAAAAAAAABJQAAAAAAAgFRAAAAAAACATEAAAAAAAIBUQAAAAAAAgE9AAAAAAACATEAAAAAAAABUQAAAAAAAYFBAAAAAAABgU0AAAAAAAABUQAAAAAAAgE5AAAAAAAAASkAAAAAAAKBUQA==\"},\"shape\":[77],\"dtype\":\"float64\",\"order\":\"little\"}],[\"confidence when correct\",{\"type\":\"ndarray\",\"array\":{\"type\":\"bytes\",\"data\":\"AAAAAACASUAAAAAAAKBTQAAAAAAAgExAAAAAAAAATkAAAAAAAABUQAAAAAAAwFhAAAAAAACAU0AAAAAAAKBTQAAAAAAAgFZAAAAAAACAUUAAAAAAAIBSQAAAAAAAgEdAAAAAAAAASkAAAAAAAABVQAAAAAAAgE9AAAAAAAAAT0AAAAAAAMBNQAAAAAAA4FJAAAAAAACAU0AAAAAAAIBPQAAAAAAAQFRAAAAAAAAAOEAAAAAAAABJQAAAAAAAQFRAAAAAAADAUEAAAAAAAEBTQAAAAAAAAFlAAAAAAAAAUUAAAAAAAABIQAAAAAAAgFJAAAAAAACAVEAAAAAAAMBQQAAAAAAAoFRAAAAAAADAUEAAAAAAAABWQAAAAAAAwFRAAAAAAADAT0AAAAAAACBUQAAAAAAAwFFAAAAAAADAV0AAAAAAAKBTQAAAAAAAQEpAAAAAAABAUUAAAAAAAIBOQAAAAAAAgFBAAAAAAACAUkAAAAAAAABXQAAAAAAAAFRAAAAAAAAAV0AAAAAAAMBUQAAAAAAAQE5AAAAAAAAgUkAAAAAAAGBYQAAAAAAAAFFAAAAAAADAUEAAAAAAAEBQQAAAAAAAgFRAAAAAAADAUkAAAAAAAIBXQAAAAAAAQFNAAAAAAAAAV0AAAAAAAEBUQAAAAAAAAE1AAAAAAADgVkAAAAAAAABZQAAAAAAAQFVAAAAAAACAUkAAAAAAAOBTQAAAAAAAoFFAAAAAAAAAUkAAAAAAAEBVQAAAAAAAAFBAAAAAAABAU0AAAAAAAIBSQAAAAAAAQFBAAAAAAABAVEAAAAAAAEBUQA==\"},\"shape\":[77],\"dtype\":\"float64\",\"order\":\"little\"}],[\"confidence when incorrect\",{\"type\":\"ndarray\",\"array\":{\"type\":\"bytes\",\"data\":\"AAAAAACASEAAAAAAAMBQQAAAAAAAQEtAAAAAAAAASUAAAAAAAMBUQAAAAAAAQFBAAAAAAAAAQkAAAAAAAOBQQAAAAAAAAPh/AAAAAACAUUAAAAAAAMBLQAAAAAAAAEZAAAAAAAAAPUAAAAAAAEBLQAAAAAAAAElAAAAAAAAAS0AAAAAAAIBMQAAAAAAAwEFAAAAAAADAUEAAAAAAAIA4QAAAAAAAwE9AAAAAAACAQUAAAAAAAIBGQAAAAAAAAEtAAAAAAACASkAAAAAAAABVQAAAAAAAwFZAAAAAAAAAP0AAAAAAAIBJQAAAAAAAgEVAAAAAAACASEAAAAAAAAA9QAAAAAAAAFNAAAAAAAAAREAAAAAAAMBTQAAAAAAAwEtAAAAAAAAAUUAAAAAAAEBQQAAAAAAAAFFAAAAAAABAUEAAAAAAAABNQAAAAAAAgEFAAAAAAADATUAAAAAAAABJQAAAAAAAwEdAAAAAAAAA+H8AAAAAAGBSQAAAAAAAgFFAAAAAAAAAREAAAAAAAMBQQAAAAAAAAPh/AAAAAADATkAAAAAAAMBUQAAAAAAAAERAAAAAAACASkAAAAAAAIBLQAAAAAAAQFRAAAAAAAAAUEAAAAAAAMBRQAAAAAAAgE1AAAAAAADAUEAAAAAAAABNQAAAAAAAAElAAAAAAADAVkAAAAAAAABJQAAAAAAAQFVAAAAAAAAAUEAAAAAAAIBUQAAAAAAAwE1AAAAAAAAATkAAAAAAAMBSQAAAAAAAwE1AAAAAAACAUkAAAAAAAABUQAAAAAAAQFRAAAAAAACASUAAAAAAAEBSQA==\"},\"shape\":[77],\"dtype\":\"float64\",\"order\":\"little\"}],[\"sci\",{\"type\":\"ndarray\",\"array\":{\"type\":\"bytes\",\"data\":\"HQAAABMAAAAXAAAAGgAAABUAAAATAAAAHAAAAB0AAAARAAAAFgAAABwAAAAfAAAAHwAAACAAAAAZAAAAHgAAABwAAAAeAAAAFgAAABQAAAAaAAAAIAAAACAAAAAYAAAAGgAAAB4AAAAcAAAAFQAAAB0AAAAgAAAAGgAAABoAAAAXAAAAEgAAABYAAAAdAAAAFAAAABsAAAATAAAAHQAAABgAAAAdAAAAEQAAABoAAAAeAAAAEQAAABkAAAAfAAAAGwAAACAAAAAcAAAAGQAAAB4AAAAVAAAAHQAAABQAAAAWAAAAFwAAABQAAAARAAAAGwAAABsAAAAWAAAAGQAAAB4AAAAgAAAAHgAAACAAAAAcAAAAHwAAAB0AAAAaAAAAFAAAABMAAAAfAAAAFgAAABgAAAA=\"},\"shape\":[77],\"dtype\":\"int32\",\"order\":\"little\"}],[\"psqi\",{\"type\":\"ndarray\",\"array\":{\"type\":\"bytes\",\"data\":\"AQAAAAUAAAABAAAABQAAAAcAAAAHAAAAAwAAAAMAAAAKAAAABAAAAAUAAAACAAAAAgAAAAIAAAAFAAAAAgAAAAMAAAADAAAABAAAAAkAAAAFAAAAAgAAAAEAAAAEAAAACAAAAAIAAAACAAAABgAAAAMAAAABAAAABQAAAAcAAAADAAAABgAAAAYAAAABAAAABgAAAAQAAAAEAAAAAwAAAAUAAAACAAAABwAAAAQAAAAAAAAABQAAAAEAAAABAAAABAAAAAEAAAAIAAAABAAAAAIAAAAHAAAABAAAAAEAAAAHAAAABAAAAAUAAAAGAAAABAAAAAIAAAADAAAABAAAAAMAAAABAAAABQAAAAIAAAABAAAAAQAAAAMAAAAGAAAACAAAAAgAAAACAAAABAAAAAUAAAA=\"},\"shape\":[77],\"dtype\":\"int32\",\"order\":\"little\"}],[\"ess\",{\"type\":\"ndarray\",\"array\":{\"type\":\"bytes\",\"data\":\"BQAAAAEAAAADAAAABAAAAAUAAAAMAAAABAAAAAQAAAALAAAABgAAAAMAAAALAAAACgAAAAwAAAAGAAAADQAAAAwAAAAFAAAACgAAAAQAAAAEAAAABgAAAAMAAAAAAAAADAAAAAYAAAAFAAAACQAAAAcAAAAGAAAACgAAABIAAAALAAAACAAAABAAAAAHAAAACQAAAAsAAAAEAAAABwAAAAQAAAALAAAADAAAAAMAAAADAAAABAAAAAsAAAABAAAABAAAAAIAAAAJAAAAAQAAAAIAAAAMAAAABgAAAAUAAAAFAAAABAAAAAkAAAADAAAACAAAAAYAAAAKAAAAFQAAAAUAAAAFAAAACQAAAAEAAAAIAAAACwAAAAUAAAAHAAAACgAAAAcAAAAPAAAABwAAAAcAAAA=\"},\"shape\":[77],\"dtype\":\"int32\",\"order\":\"little\"}],[\"insomnia\",{\"type\":\"ndarray\",\"array\":{\"type\":\"bytes\",\"data\":\"AAAAAAAAAAAAAAAAAAAAAAAAAAAAAAAAAAAAAAAAAAAAAAAAAAAAAAAAAAAAAAAAAAAAAAAAAAAAAAAAAAAAAAAAAAAAAAAAAAAAAAA=\"},\"shape\":[77],\"dtype\":\"bool\",\"order\":\"little\"}]]}}},\"view\":{\"type\":\"object\",\"name\":\"CDSView\",\"id\":\"p5279\",\"attributes\":{\"filter\":{\"type\":\"object\",\"name\":\"AllIndices\",\"id\":\"p5280\"}}},\"glyph\":{\"type\":\"object\",\"name\":\"Circle\",\"id\":\"p5275\",\"attributes\":{\"x\":{\"type\":\"field\",\"field\":\"confidence when correct\"},\"y\":{\"type\":\"field\",\"field\":\"confidence when incorrect\"},\"size\":{\"type\":\"value\",\"value\":5},\"line_color\":{\"type\":\"value\",\"value\":\"#1f77b3\"},\"line_width\":{\"type\":\"value\",\"value\":0},\"fill_color\":{\"type\":\"value\",\"value\":\"#1f77b3\"},\"fill_alpha\":{\"type\":\"value\",\"value\":0.8},\"hatch_color\":{\"type\":\"value\",\"value\":\"#1f77b3\"}}},\"nonselection_glyph\":{\"type\":\"object\",\"name\":\"Circle\",\"id\":\"p5276\",\"attributes\":{\"x\":{\"type\":\"field\",\"field\":\"confidence when correct\"},\"y\":{\"type\":\"field\",\"field\":\"confidence when incorrect\"},\"size\":{\"type\":\"value\",\"value\":5},\"line_color\":{\"type\":\"value\",\"value\":\"#1f77b3\"},\"line_alpha\":{\"type\":\"value\",\"value\":0.1},\"line_width\":{\"type\":\"value\",\"value\":0},\"fill_color\":{\"type\":\"value\",\"value\":\"#1f77b3\"},\"fill_alpha\":{\"type\":\"value\",\"value\":0.1},\"hatch_color\":{\"type\":\"value\",\"value\":\"#1f77b3\"},\"hatch_alpha\":{\"type\":\"value\",\"value\":0.1}}},\"muted_glyph\":{\"type\":\"object\",\"name\":\"Circle\",\"id\":\"p5277\",\"attributes\":{\"x\":{\"type\":\"field\",\"field\":\"confidence when correct\"},\"y\":{\"type\":\"field\",\"field\":\"confidence when incorrect\"},\"size\":{\"type\":\"value\",\"value\":5},\"line_color\":{\"type\":\"value\",\"value\":\"#1f77b3\"},\"line_alpha\":{\"type\":\"value\",\"value\":0.2},\"line_width\":{\"type\":\"value\",\"value\":0},\"fill_color\":{\"type\":\"value\",\"value\":\"#1f77b3\"},\"fill_alpha\":{\"type\":\"value\",\"value\":0.2},\"hatch_color\":{\"type\":\"value\",\"value\":\"#1f77b3\"},\"hatch_alpha\":{\"type\":\"value\",\"value\":0.2}}}}},{\"type\":\"object\",\"name\":\"GlyphRenderer\",\"id\":\"p5287\",\"attributes\":{\"level\":\"overlay\",\"data_source\":{\"type\":\"object\",\"name\":\"ColumnDataSource\",\"id\":\"p3481\",\"attributes\":{\"selected\":{\"type\":\"object\",\"name\":\"Selection\",\"id\":\"p3482\",\"attributes\":{\"indices\":[],\"line_indices\":[]}},\"selection_policy\":{\"type\":\"object\",\"name\":\"UnionRenderers\",\"id\":\"p3483\"},\"data\":{\"type\":\"map\",\"entries\":[[\"index\",{\"type\":\"ndarray\",\"array\":{\"type\":\"bytes\",\"data\":\"AAAAAAEAAAACAAAAAwAAAAQAAAAFAAAABgAAAAcAAAAIAAAACQAAAAoAAAALAAAADAAAAA0AAAAOAAAADwAAABAAAAARAAAAEgAAABMAAAAUAAAAFQAAABYAAAAXAAAAGAAAAA==\"},\"shape\":[25],\"dtype\":\"int32\",\"order\":\"little\"}],[\"participant number\",{\"type\":\"ndarray\",\"array\":{\"type\":\"bytes\",\"data\":\"CAAAABAAAAASAAAAFgAAABsAAAAcAAAAHgAAACEAAAAiAAAAIwAAACYAAAApAAAALgAAADEAAAA3AAAARwAAAEwAAABNAAAATgAAAFAAAABZAAAAWgAAAF0AAABkAAAAZQAAAA==\"},\"shape\":[25],\"dtype\":\"int32\",\"order\":\"little\"}],[\"gender\",{\"type\":\"ndarray\",\"array\":[\"f\",\"m\",\"f\",\"f\",\"f\",\"f\",\"m\",\"m\",\"f\",\"f\",\"f\",\"f\",\"f\",\"f\",\"f\",\"f\",\"f\",\"f\",\"m\",\"m\",\"f\",\"m\",\"f\",\"f\",\"f\"],\"shape\":[25],\"dtype\":\"object\",\"order\":\"little\"}],[\"age\",{\"type\":\"ndarray\",\"array\":{\"type\":\"bytes\",\"data\":\"JwAAACoAAAAfAAAAIwAAAEoAAAA9AAAAIAAAAD4AAAAhAAAANQAAACkAAAAkAAAAKAAAABgAAAAgAAAAKAAAAD0AAAAqAAAAHwAAABwAAAAaAAAALQAAABwAAAAsAAAAHAAAAA==\"},\"shape\":[25],\"dtype\":\"int32\",\"order\":\"little\"}],[\"correct hit percentage\",{\"type\":\"ndarray\",\"array\":{\"type\":\"bytes\",\"data\":\"QQAAAFoAAABaAAAAZAAAADwAAABQAAAAWgAAAC0AAABQAAAAZAAAAEYAAABaAAAAXwAAAFUAAABLAAAAKAAAAGQAAABGAAAAZAAAAGQAAAA8AAAAZAAAAGQAAABBAAAAZAAAAA==\"},\"shape\":[25],\"dtype\":\"int32\",\"order\":\"little\"}],[\"correct reject percentage\",{\"type\":\"ndarray\",\"array\":{\"type\":\"bytes\",\"data\":\"UAAAAFoAAABfAAAASwAAAEEAAAAUAAAASwAAAFoAAABkAAAAMgAAADcAAABkAAAAQQAAAEsAAAA3AAAAZAAAACgAAABaAAAARgAAADIAAABQAAAAXwAAAEsAAAAZAAAAKAAAAA==\"},\"shape\":[25],\"dtype\":\"int32\",\"order\":\"little\"}],[\"percent correct\",{\"type\":\"ndarray\",\"array\":{\"type\":\"bytes\",\"data\":\"AAAAAAAgUkAAAAAAAIBWQAAAAAAAIFdAAAAAAADgVUAAAAAAAEBPQAAAAAAAAElAAAAAAACgVEAAAAAAAOBQQAAAAAAAgFZAAAAAAADAUkAAAAAAAEBPQAAAAAAAwFdAAAAAAAAAVEAAAAAAAABUQAAAAAAAQFBAAAAAAACAUUAAAAAAAIBRQAAAAAAAAFRAAAAAAABAVUAAAAAAAMBSQAAAAAAAgFFAAAAAAABgWEAAAAAAAOBVQAAAAAAAgEZAAAAAAACAUUA=\"},\"shape\":[25],\"dtype\":\"float64\",\"order\":\"little\"}],[\"confidence when correct hit\",{\"type\":\"ndarray\",\"array\":{\"type\":\"bytes\",\"data\":\"AAAAAADAVkAAAAAAAOBSQAAAAAAAYFZAAAAAAABgVkAAAAAAACBRQAAAAAAAwFFAAAAAAADAUEAAAAAAAABLQAAAAAAAoFFAAAAAAACgUkAAAAAAAIBUQAAAAAAAIFNAAAAAAAAAVEAAAAAAAABNQAAAAAAAQFVAAAAAAABAUUAAAAAAAGBRQAAAAAAAwFVAAAAAAAAAV0AAAAAAAABZQAAAAAAAgFFAAAAAAAAAWUAAAAAAAGBWQAAAAAAAAE9AAAAAAADAVUA=\"},\"shape\":[25],\"dtype\":\"float64\",\"order\":\"little\"}],[\"confidence when incorrect hit\",{\"type\":\"ndarray\",\"array\":{\"type\":\"bytes\",\"data\":\"AAAAAACAVkAAAAAAAMBLQAAAAAAAgFZAAAAAAAAA+H8AAAAAAIBIQAAAAAAAgE9AAAAAAABATEAAAAAAAIBCQAAAAAAAIFNAAAAAAAAA+H8AAAAAAMBOQAAAAAAA4FJAAAAAAABAVkAAAAAAAABJQAAAAAAAQFRAAAAAAAAATEAAAAAAAAD4fwAAAAAAAFJAAAAAAAAA+H8AAAAAAAD4fwAAAAAAQFNAAAAAAAAA+H8AAAAAAAD4fwAAAAAAAFJAAAAAAAAA+H8=\"},\"shape\":[25],\"dtype\":\"float64\",\"order\":\"little\"}],[\"confidence when correct reject\",{\"type\":\"ndarray\",\"array\":{\"type\":\"bytes\",\"data\":\"AAAAAABAV0AAAAAAAKBRQAAAAAAAgFVAAAAAAADAUUAAAAAAAIBOQAAAAAAAAD9AAAAAAACAUEAAAAAAAEBQQAAAAAAAIFBAAAAAAABATkAAAAAAAEBSQAAAAAAAwFJAAAAAAADAU0AAAAAAAIBIQAAAAAAAQFVAAAAAAACAUUAAAAAAAEBGQAAAAAAAoFZAAAAAAABAVEAAAAAAAABZQAAAAAAAgFRAAAAAAAAAWUAAAAAAAMBQQAAAAAAAwFVAAAAAAAAAUUA=\"},\"shape\":[25],\"dtype\":\"float64\",\"order\":\"little\"}],[\"confidence when incorrect reject\",{\"type\":\"ndarray\",\"array\":{\"type\":\"bytes\",\"data\":\"AAAAAADgVEAAAAAAAABJQAAAAAAAQFRAAAAAAAAAVEAAAAAAAIBIQAAAAAAAIFJAAAAAAABAUEAAAAAAAGBUQAAAAAAAAPh/AAAAAABAUEAAAAAAAEBRQAAAAAAAAPh/AAAAAABATUAAAAAAAABRQAAAAAAAgFVAAAAAAAAA+H8AAAAAAEBSQAAAAAAAwEVAAAAAAAAATkAAAAAAAABZQAAAAAAA4FBAAAAAAAAAWUAAAAAAAABOQAAAAAAAQFNAAAAAAAAAS0A=\"},\"shape\":[25],\"dtype\":\"float64\",\"order\":\"little\"}],[\"confidence when correct\",{\"type\":\"ndarray\",\"array\":{\"type\":\"bytes\",\"data\":\"AAAAAABAV0AAAAAAAMBSQAAAAAAAQFZAAAAAAAAAVkAAAAAAAEBQQAAAAAAAIFBAAAAAAACAUEAAAAAAAABPQAAAAAAAAFFAAAAAAADAUUAAAAAAAIBUQAAAAAAAAFNAAAAAAADgU0AAAAAAAIBLQAAAAAAAQFVAAAAAAACAUUAAAAAAAEBLQAAAAAAAIFZAAAAAAADgVUAAAAAAAABZQAAAAAAAQFNAAAAAAAAAWUAAAAAAAABUQAAAAAAAYFFAAAAAAABAVEA=\"},\"shape\":[25],\"dtype\":\"float64\",\"order\":\"little\"}],[\"confidence when incorrect\",{\"type\":\"ndarray\",\"array\":{\"type\":\"bytes\",\"data\":\"AAAAAACAVkAAAAAAAABJQAAAAAAAAFZAAAAAAAAAVEAAAAAAAIBIQAAAAAAAoFFAAAAAAAAAUEAAAAAAAIBOQAAAAAAAIFNAAAAAAABAUEAAAAAAAABQQAAAAAAA4FJAAAAAAACAT0AAAAAAAIBNQAAAAAAA4FRAAAAAAAAATEAAAAAAAEBSQAAAAAAAAFBAAAAAAAAATkAAAAAAAABZQAAAAAAAoFFAAAAAAAAAWUAAAAAAAABOQAAAAAAAYFJAAAAAAAAAS0A=\"},\"shape\":[25],\"dtype\":\"float64\",\"order\":\"little\"}],[\"sci\",{\"type\":\"ndarray\",\"array\":{\"type\":\"bytes\",\"data\":\"CQAAAAQAAAAKAAAADQAAAA0AAAAPAAAAEAAAAA4AAAAOAAAADgAAAA4AAAAPAAAACgAAAA4AAAAFAAAAAAAAABAAAAALAAAADgAAAAwAAAAOAAAADgAAABAAAAABAAAADgAAAA==\"},\"shape\":[25],\"dtype\":\"int32\",\"order\":\"little\"}],[\"psqi\",{\"type\":\"ndarray\",\"array\":{\"type\":\"bytes\",\"data\":\"DQAAAAsAAAAJAAAACAAAAAkAAAAOAAAACQAAAAkAAAAMAAAACAAAAAUAAAAHAAAADAAAAA0AAAANAAAACwAAAAQAAAAKAAAABgAAAAcAAAAIAAAACQAAAAcAAAAPAAAABwAAAA==\"},\"shape\":[25],\"dtype\":\"int32\",\"order\":\"little\"}],[\"ess\",{\"type\":\"ndarray\",\"array\":{\"type\":\"bytes\",\"data\":\"AgAAAAcAAAADAAAAFAAAAAwAAAACAAAAAwAAAAkAAAAKAAAABwAAABMAAAAAAAAACAAAAAQAAAAHAAAADgAAAAwAAAAKAAAACwAAAAwAAAABAAAABgAAAAQAAAAGAAAAAgAAAA==\"},\"shape\":[25],\"dtype\":\"int32\",\"order\":\"little\"}],[\"insomnia\",{\"type\":\"ndarray\",\"array\":{\"type\":\"bytes\",\"data\":\"AQEBAQEBAQEBAQEBAQEBAQEBAQEBAQEBAQ==\"},\"shape\":[25],\"dtype\":\"bool\",\"order\":\"little\"}]]}}},\"view\":{\"type\":\"object\",\"name\":\"CDSView\",\"id\":\"p5288\",\"attributes\":{\"filter\":{\"type\":\"object\",\"name\":\"AllIndices\",\"id\":\"p5289\"}}},\"glyph\":{\"type\":\"object\",\"name\":\"Circle\",\"id\":\"p5284\",\"attributes\":{\"x\":{\"type\":\"field\",\"field\":\"confidence when correct\"},\"y\":{\"type\":\"field\",\"field\":\"confidence when incorrect\"},\"size\":{\"type\":\"value\",\"value\":5},\"line_color\":{\"type\":\"value\",\"value\":\"#ff7e0e\"},\"line_width\":{\"type\":\"value\",\"value\":0},\"fill_color\":{\"type\":\"value\",\"value\":\"#ff7e0e\"},\"fill_alpha\":{\"type\":\"value\",\"value\":0.8},\"hatch_color\":{\"type\":\"value\",\"value\":\"#ff7e0e\"}}},\"nonselection_glyph\":{\"type\":\"object\",\"name\":\"Circle\",\"id\":\"p5285\",\"attributes\":{\"x\":{\"type\":\"field\",\"field\":\"confidence when correct\"},\"y\":{\"type\":\"field\",\"field\":\"confidence when incorrect\"},\"size\":{\"type\":\"value\",\"value\":5},\"line_color\":{\"type\":\"value\",\"value\":\"#ff7e0e\"},\"line_alpha\":{\"type\":\"value\",\"value\":0.1},\"line_width\":{\"type\":\"value\",\"value\":0},\"fill_color\":{\"type\":\"value\",\"value\":\"#ff7e0e\"},\"fill_alpha\":{\"type\":\"value\",\"value\":0.1},\"hatch_color\":{\"type\":\"value\",\"value\":\"#ff7e0e\"},\"hatch_alpha\":{\"type\":\"value\",\"value\":0.1}}},\"muted_glyph\":{\"type\":\"object\",\"name\":\"Circle\",\"id\":\"p5286\",\"attributes\":{\"x\":{\"type\":\"field\",\"field\":\"confidence when correct\"},\"y\":{\"type\":\"field\",\"field\":\"confidence when incorrect\"},\"size\":{\"type\":\"value\",\"value\":5},\"line_color\":{\"type\":\"value\",\"value\":\"#ff7e0e\"},\"line_alpha\":{\"type\":\"value\",\"value\":0.2},\"line_width\":{\"type\":\"value\",\"value\":0},\"fill_color\":{\"type\":\"value\",\"value\":\"#ff7e0e\"},\"fill_alpha\":{\"type\":\"value\",\"value\":0.2},\"hatch_color\":{\"type\":\"value\",\"value\":\"#ff7e0e\"},\"hatch_alpha\":{\"type\":\"value\",\"value\":0.2}}}}}],\"toolbar\":{\"type\":\"object\",\"name\":\"Toolbar\",\"id\":\"p5234\",\"attributes\":{\"tools\":[{\"type\":\"object\",\"name\":\"PanTool\",\"id\":\"p5257\"},{\"type\":\"object\",\"name\":\"WheelZoomTool\",\"id\":\"p5258\"},{\"type\":\"object\",\"name\":\"BoxZoomTool\",\"id\":\"p5259\",\"attributes\":{\"overlay\":{\"type\":\"object\",\"name\":\"BoxAnnotation\",\"id\":\"p5260\",\"attributes\":{\"syncable\":false,\"level\":\"overlay\",\"visible\":false,\"left_units\":\"canvas\",\"right_units\":\"canvas\",\"bottom_units\":\"canvas\",\"top_units\":\"canvas\",\"line_color\":\"black\",\"line_alpha\":1.0,\"line_width\":2,\"line_dash\":[4,4],\"fill_color\":\"lightgrey\",\"fill_alpha\":0.5}}}},{\"type\":\"object\",\"name\":\"SaveTool\",\"id\":\"p5261\"},{\"type\":\"object\",\"name\":\"ResetTool\",\"id\":\"p5262\"},{\"type\":\"object\",\"name\":\"HelpTool\",\"id\":\"p5263\"}]}},\"toolbar_location\":\"above\",\"left\":[{\"type\":\"object\",\"name\":\"LinearAxis\",\"id\":\"p5250\",\"attributes\":{\"level\":\"overlay\",\"ticker\":{\"type\":\"object\",\"name\":\"BasicTicker\",\"id\":\"p5251\",\"attributes\":{\"mantissas\":[1,2,5]}},\"formatter\":{\"type\":\"object\",\"name\":\"BasicTickFormatter\",\"id\":\"p5252\"},\"axis_label\":\"condifence when incorrect\",\"axis_label_text_font_size\":\"9pt\",\"axis_label_text_font_style\":\"bold\",\"major_label_policy\":{\"type\":\"object\",\"name\":\"AllLabels\",\"id\":\"p5253\"},\"major_label_text_font_size\":\"7.5pt\",\"axis_line_color\":\"dimgray\",\"major_tick_line_color\":\"dimgray\"}}],\"right\":[{\"type\":\"object\",\"name\":\"Legend\",\"id\":\"p5290\",\"attributes\":{\"level\":\"overlay\",\"title_text_font\":\"helvetica\",\"title_text_font_size\":\"8pt\",\"title_text_font_style\":\"bold\",\"border_line_color\":\"darkgray\",\"border_line_width\":0.75,\"background_fill_color\":\"#ffffff\",\"background_fill_alpha\":0.7,\"click_policy\":\"hide\",\"label_text_font\":\"helvetica\",\"label_text_font_size\":\"7.5pt\",\"items\":[{\"type\":\"object\",\"name\":\"LegendItem\",\"id\":\"p5291\",\"attributes\":{\"label\":{\"type\":\"value\",\"value\":\"normal\"},\"renderers\":[{\"id\":\"p5278\"}]}},{\"type\":\"object\",\"name\":\"LegendItem\",\"id\":\"p5292\",\"attributes\":{\"label\":{\"type\":\"value\",\"value\":\"insomnia\"},\"renderers\":[{\"id\":\"p5287\"}]}}]}}],\"below\":[{\"type\":\"object\",\"name\":\"LinearAxis\",\"id\":\"p5243\",\"attributes\":{\"level\":\"overlay\",\"ticker\":{\"type\":\"object\",\"name\":\"BasicTicker\",\"id\":\"p5244\",\"attributes\":{\"mantissas\":[1,2,5]}},\"formatter\":{\"type\":\"object\",\"name\":\"BasicTickFormatter\",\"id\":\"p5245\"},\"axis_label\":\"confidence when correct\",\"axis_label_text_font_size\":\"9pt\",\"axis_label_text_font_style\":\"bold\",\"major_label_policy\":{\"type\":\"object\",\"name\":\"AllLabels\",\"id\":\"p5246\"},\"major_label_text_font_size\":\"7.5pt\",\"axis_line_color\":\"dimgray\",\"major_tick_line_color\":\"dimgray\"}}],\"center\":[{\"type\":\"object\",\"name\":\"Grid\",\"id\":\"p5249\",\"attributes\":{\"level\":\"underlay\",\"axis\":{\"id\":\"p5243\"},\"grid_line_color\":\"lightgray\"}},{\"type\":\"object\",\"name\":\"Grid\",\"id\":\"p5256\",\"attributes\":{\"level\":\"underlay\",\"dimension\":1,\"axis\":{\"id\":\"p5250\"},\"grid_line_color\":\"lightgray\"}}],\"frame_width\":300,\"frame_height\":300}}],\"callbacks\":{\"type\":\"map\"}}};\n",
       "  const render_items = [{\"docid\":\"c3a2bdd8-9cba-476c-a345-39a11bc52239\",\"roots\":{\"p5226\":\"d0f3c886-339f-4e05-82b2-59e96fe07564\"},\"root_ids\":[\"p5226\"]}];\n",
       "  root.Bokeh.embed.embed_items_notebook(docs_json, render_items);\n",
       "  }\n",
       "  if (root.Bokeh !== undefined) {\n",
       "    embed_document(root);\n",
       "  } else {\n",
       "    let attempts = 0;\n",
       "    const timer = setInterval(function(root) {\n",
       "      if (root.Bokeh !== undefined) {\n",
       "        clearInterval(timer);\n",
       "        embed_document(root);\n",
       "      } else {\n",
       "        attempts++;\n",
       "        if (attempts > 100) {\n",
       "          clearInterval(timer);\n",
       "          console.log(\"Bokeh: ERROR: Unable to run BokehJS code because BokehJS library is missing\");\n",
       "        }\n",
       "      }\n",
       "    }, 10, root)\n",
       "  }\n",
       "})(window);"
      ],
      "application/vnd.bokehjs_exec.v0+json": ""
     },
     "metadata": {
      "application/vnd.bokehjs_exec.v0+json": {
       "id": "p5226"
      }
     },
     "output_type": "display_data"
    }
   ],
   "source": [
    "p = bokeh.plotting.figure(\n",
    "    frame_width=300,\n",
    "    frame_height=300,\n",
    "    x_axis_label=\"confidence when correct\",\n",
    "    y_axis_label=\"condifence when incorrect\",\n",
    "    x_range=[-2.5, 102.5],\n",
    "    y_range=[-2.5, 102.5],\n",
    ")\n",
    "\n",
    "normal_glyph = p.circle(\n",
    "    source=source_normal,\n",
    "    x=\"confidence when correct\",\n",
    "    y=\"confidence when incorrect\",\n",
    "    color=cat_colors[0],\n",
    ")\n",
    "\n",
    "insom_glyph = p.circle(\n",
    "    source=source_insomnia,\n",
    "    x=\"confidence when correct\",\n",
    "    y=\"confidence when incorrect\",\n",
    "    color=cat_colors[1],\n",
    ")\n",
    "\n",
    "# Construct legend items\n",
    "legend_items = [('normal', [normal_glyph]), ('insomnia', [insom_glyph])]\n",
    "\n",
    "# Instantiate legend\n",
    "legend = bokeh.models.Legend(items=legend_items, click_policy='hide')\n",
    "\n",
    "# Add the legend to the right of the plot\n",
    "p.add_layout(legend, 'right')\n",
    "\n",
    "bokeh.io.show(p)"
   ]
  },
  {
   "cell_type": "markdown",
   "metadata": {},
   "source": [
    "You can play with these themes and develop your own style as you see fit. As you can see, Bokeh is highly configurable, and you can really make the plots your own!"
   ]
  },
  {
   "cell_type": "markdown",
   "metadata": {},
   "source": [
    "## Computing environment"
   ]
  },
  {
   "cell_type": "code",
   "execution_count": 28,
   "metadata": {
    "tags": [
     "hide-input"
    ]
   },
   "outputs": [
    {
     "name": "stdout",
     "output_type": "stream",
     "text": [
      "Python implementation: CPython\n",
      "Python version       : 3.11.3\n",
      "IPython version      : 8.12.0\n",
      "\n",
      "numpy     : 1.24.3\n",
      "pandas    : 1.5.3\n",
      "bokeh     : 3.1.1\n",
      "iqplot    : 0.3.3\n",
      "jupyterlab: 3.6.3\n",
      "\n"
     ]
    }
   ],
   "source": [
    "%load_ext watermark\n",
    "%watermark -v -p numpy,pandas,bokeh,iqplot,jupyterlab"
   ]
  }
 ],
 "metadata": {
  "anaconda-cloud": {},
  "kernelspec": {
   "display_name": "Python 3 (ipykernel)",
   "language": "python",
   "name": "python3"
  },
  "language_info": {
   "codemirror_mode": {
    "name": "ipython",
    "version": 3
   },
   "file_extension": ".py",
   "mimetype": "text/x-python",
   "name": "python",
   "nbconvert_exporter": "python",
   "pygments_lexer": "ipython3",
   "version": "3.11.3"
  }
 },
 "nbformat": 4,
 "nbformat_minor": 4
}
