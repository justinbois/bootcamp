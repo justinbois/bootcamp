{
 "cells": [
  {
   "cell_type": "markdown",
   "metadata": {
    "nbpresent": {
     "id": "07219f40-fd67-4a28-aaeb-0d91472b54ed"
    },
    "slideshow": {
     "slide_type": "slide"
    }
   },
   "source": [
    "# Lesson 29: Bootcamp recap\n",
    "\n",
    "<hr>"
   ]
  },
  {
   "cell_type": "markdown",
   "metadata": {
    "nbpresent": {
     "id": "c8dd2242-aee1-452e-923e-6ac388411671"
    },
    "slideshow": {
     "slide_type": "slide"
    }
   },
   "source": [
    "## Your data\n",
    "\n",
    "- Organized\n",
    "- Tidy\n",
    "- Accessible\n",
    "\n",
    "...You now own it."
   ]
  },
  {
   "cell_type": "markdown",
   "metadata": {},
   "source": [
    "## Your tasks\n",
    "\n",
    "- Automated\n",
    "- Reproducible\n",
    "- Sharable"
   ]
  },
  {
   "cell_type": "markdown",
   "metadata": {
    "nbpresent": {
     "id": "46a881b6-110e-4ebe-8423-cbc79155fda9"
    },
    "slideshow": {
     "slide_type": "subslide"
    }
   },
   "source": [
    "## Your code\n",
    "\n",
    "- Under version control\n",
    "- Tested*\n",
    "\n",
    "...You can now sleep easy\n",
    "\n",
    "...and collaborate\n",
    "\n",
    "...and do better, reproducible, sharable science."
   ]
  },
  {
   "cell_type": "markdown",
   "metadata": {
    "slideshow": {
     "slide_type": "subslide"
    }
   },
   "source": [
    "## Your data visualization\n",
    "\n",
    "- Automatic\n",
    "- Grammatical\n",
    "- Reproducible\n",
    "- Interactive\n",
    "- Beautiful."
   ]
  },
  {
   "cell_type": "markdown",
   "metadata": {
    "nbpresent": {
     "id": "5c016583-0481-4b8f-b5bc-9a24fa3146e4"
    },
    "slideshow": {
     "slide_type": "slide"
    }
   },
   "source": [
    "## Your analysis\n",
    "\n",
    "- Tractable\n",
    "- Statistically sound\n",
    "- Understandable\n",
    "\n",
    "...all because you can write a little code."
   ]
  },
  {
   "cell_type": "markdown",
   "metadata": {
    "slideshow": {
     "slide_type": "subslide"
    }
   },
   "source": [
    "## You will never forget\n",
    "\n",
    "Explicit is better than implicit.\n",
    "\n",
    "The most important person in your life is future you.\n",
    "\n",
    "Premature optimization is the root of all evil.\n",
    "\n",
    "Plot all of your data.\n",
    "\n",
    "Readability matters."
   ]
  },
  {
   "cell_type": "markdown",
   "metadata": {
    "nbpresent": {
     "id": "fbb96fe1-d364-4a86-82b7-12555012d32e"
    },
    "slideshow": {
     "slide_type": "slide"
    }
   },
   "source": [
    "## This is the beginning!\n",
    "\n",
    "I look forward to seeing what you will do!"
   ]
  }
 ],
 "metadata": {
  "anaconda-cloud": {},
  "celltoolbar": "Slideshow",
  "kernelspec": {
   "display_name": "Python 3 (ipykernel)",
   "language": "python",
   "name": "python3"
  },
  "language_info": {
   "codemirror_mode": {
    "name": "ipython",
    "version": 3
   },
   "file_extension": ".py",
   "mimetype": "text/x-python",
   "name": "python",
   "nbconvert_exporter": "python",
   "pygments_lexer": "ipython3",
   "version": "3.9.12"
  }
 },
 "nbformat": 4,
 "nbformat_minor": 4
}
