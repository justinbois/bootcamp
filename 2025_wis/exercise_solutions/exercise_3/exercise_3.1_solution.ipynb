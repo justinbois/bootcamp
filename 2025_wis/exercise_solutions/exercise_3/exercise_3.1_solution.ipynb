{
 "cells": [
  {
   "cell_type": "markdown",
   "metadata": {},
   "source": [
    "# Exercise 3.1: Mastering filtering for Polars data frames\n",
    "\n",
    "<hr>"
   ]
  },
  {
   "cell_type": "markdown",
   "metadata": {},
   "source": [
    "Polars can be a bit frustrating during your first experiences with it. In this and the next few exercises, we will do our first practice with it. Stick with it! The more and more you use it, the more distant the memory of life without it will become.\n",
    "\n",
    "We will work with a data set from [Kleinteich and Gorb, *Sci. Rep.*, **4**, 5355, 2014](https://doi.org/10.1038/srep05225), and was [featured in the New York Times](http://www.nytimes.com/2014/08/25/science/a-frog-thats-a-living-breathing-pac-man.html). They measured several properties about the tongue strikes of horned frogs. Let's take a look at the data set, which is in the file `~/git/data/frog_tongue_adhesion.csv`."
   ]
  },
  {
   "cell_type": "code",
   "execution_count": 1,
   "metadata": {},
   "outputs": [
    {
     "name": "stdout",
     "output_type": "stream",
     "text": [
      "# These data are from the paper,\n",
      "#   Kleinteich and Gorb, Sci. Rep., 4, 5225, 2014.\n",
      "# It was featured in the New York Times.\n",
      "#    http://www.nytimes.com/2014/08/25/science/a-frog-thats-a-living-breathing-pac-man.html\n",
      "#\n",
      "# The authors included the data in their supplemental information.\n",
      "#\n",
      "# Importantly, the ID refers to the identifites of the frogs they tested.\n",
      "#   I:   adult, 63 mm snout-vent-length (SVL) and 63.1 g body weight,\n",
      "#        Ceratophrys cranwelli crossed with Ceratophrys cornuta\n",
      "#   II:  adult, 70 mm SVL and 72.7 g body weight,\n",
      "#        Ceratophrys cranwelli crossed with Ceratophrys cornuta\n",
      "#   III: juvenile, 28 mm SVL and 12.7 g body weight, Ceratophrys cranwelli\n",
      "#   IV:  juvenile, 31 mm SVL and 12.7 g body weight, Ceratophrys cranwelli\n",
      "date,ID,trial number,impact force (mN),impact time (ms),impact force / body weight,adhesive force (mN),time frog pulls on target (ms),adhesive force / body weight,adhesive impulse (N-s),total contact area (mm2),contact area without mucus (mm2),contact area with mucus / contact area without mucus,contact pressure (Pa),adhesive strength (Pa)\n",
      "2013_02_26,I,3,1205,46,1.95,-785,884,1.27,-0.290,387,70,0.82,3117,-2030\n",
      "2013_02_26,I,4,2527,44,4.08,-983,248,1.59,-0.181,101,94,0.07,24923,-9695\n",
      "2013_03_01,I,1,1745,34,2.82,-850,211,1.37,-0.157,83,79,0.05,21020,-10239\n",
      "2013_03_01,I,2,1556,41,2.51,-455,1025,0.74,-0.170,330,158,0.52,4718,-1381\n",
      "2013_03_01,I,3,493,36,0.80,-974,499,1.57,-0.423,245,216,0.12,2012,-3975\n"
     ]
    }
   ],
   "source": [
    "!head -20 data/frog_tongue_adhesion.csv"
   ]
  },
  {
   "cell_type": "markdown",
   "metadata": {},
   "source": [
    "The first lines all begin with `#` signs, signifying that they are comments and not data. They do give important information, though, such as the meaning of the ID data. The ID refers to which specific frog was tested.\n",
    "\n",
    "Immediately after the comments, we have a row of comma-separated headers. This row sets the number of columns in this data set and labels the meaning of the columns. So, we see that the first column is the date of the experiment, the second column is the ID of the frog, the third is the trial number, and so on.\n",
    "\n",
    "After this row, each row represents a single experiment where the frog struck the target. So, these data are already in tidy format. \n",
    "\n",
    "**a)** Load in the data set into a data frame. Be sure to use the appropriate value for the `comment_prefix` keyword argument of `pl.read_csv()`.\n",
    "\n",
    "**b)** Extract the impact time of all impacts that had an adhesive strength of magnitude greater than 2000 Pa. *Note*: The data in the `'adhesive strength (Pa)'` column is all negative. This is because the adhesive force is defined to be negative in the measurement. Without changing the data in the data frame, how can you check that the magnitude (the absolute value) is greater than 2000?\n",
    "\n",
    "**c)** Extract the impact force and adhesive force for all of Frog II's strikes.\n",
    "\n",
    "**d)** Extract the adhesive force and the time the frog pulls on the target for juvenile frogs (Frogs III and IV). *Hint*: We saw the `&` operator for Boolean indexing across more than one column. The `|` operator signifies OR, and works analogously. For technical reasons that we can discuss if you like, the Python operators `and` and `or` will **not** work for Boolean indexing of data frames."
   ]
  },
  {
   "cell_type": "markdown",
   "metadata": {},
   "source": [
    "<br />"
   ]
  },
  {
   "cell_type": "markdown",
   "metadata": {},
   "source": [
    "## Solution\n",
    "\n",
    "<hr>"
   ]
  },
  {
   "cell_type": "code",
   "execution_count": 2,
   "metadata": {},
   "outputs": [],
   "source": [
    "import numpy as np\n",
    "import polars as pl\n",
    "import polars.selectors as cs"
   ]
  },
  {
   "cell_type": "markdown",
   "metadata": {},
   "source": [
    "To read in the data frame, we use the `comment='#'` kwarg."
   ]
  },
  {
   "cell_type": "code",
   "execution_count": 3,
   "metadata": {},
   "outputs": [
    {
     "data": {
      "text/html": [
       "<div><style>\n",
       ".dataframe > thead > tr,\n",
       ".dataframe > tbody > tr {\n",
       "  text-align: right;\n",
       "  white-space: pre-wrap;\n",
       "}\n",
       "</style>\n",
       "<small>shape: (5, 15)</small><table border=\"1\" class=\"dataframe\"><thead><tr><th>date</th><th>ID</th><th>trial number</th><th>impact force (mN)</th><th>impact time (ms)</th><th>impact force / body weight</th><th>adhesive force (mN)</th><th>time frog pulls on target (ms)</th><th>adhesive force / body weight</th><th>adhesive impulse (N-s)</th><th>total contact area (mm2)</th><th>contact area without mucus (mm2)</th><th>contact area with mucus / contact area without mucus</th><th>contact pressure (Pa)</th><th>adhesive strength (Pa)</th></tr><tr><td>str</td><td>str</td><td>i64</td><td>i64</td><td>i64</td><td>f64</td><td>i64</td><td>i64</td><td>f64</td><td>f64</td><td>i64</td><td>i64</td><td>f64</td><td>i64</td><td>i64</td></tr></thead><tbody><tr><td>&quot;2013_02_26&quot;</td><td>&quot;I&quot;</td><td>3</td><td>1205</td><td>46</td><td>1.95</td><td>-785</td><td>884</td><td>1.27</td><td>-0.29</td><td>387</td><td>70</td><td>0.82</td><td>3117</td><td>-2030</td></tr><tr><td>&quot;2013_02_26&quot;</td><td>&quot;I&quot;</td><td>4</td><td>2527</td><td>44</td><td>4.08</td><td>-983</td><td>248</td><td>1.59</td><td>-0.181</td><td>101</td><td>94</td><td>0.07</td><td>24923</td><td>-9695</td></tr><tr><td>&quot;2013_03_01&quot;</td><td>&quot;I&quot;</td><td>1</td><td>1745</td><td>34</td><td>2.82</td><td>-850</td><td>211</td><td>1.37</td><td>-0.157</td><td>83</td><td>79</td><td>0.05</td><td>21020</td><td>-10239</td></tr><tr><td>&quot;2013_03_01&quot;</td><td>&quot;I&quot;</td><td>2</td><td>1556</td><td>41</td><td>2.51</td><td>-455</td><td>1025</td><td>0.74</td><td>-0.17</td><td>330</td><td>158</td><td>0.52</td><td>4718</td><td>-1381</td></tr><tr><td>&quot;2013_03_01&quot;</td><td>&quot;I&quot;</td><td>3</td><td>493</td><td>36</td><td>0.8</td><td>-974</td><td>499</td><td>1.57</td><td>-0.423</td><td>245</td><td>216</td><td>0.12</td><td>2012</td><td>-3975</td></tr></tbody></table></div>"
      ],
      "text/plain": [
       "shape: (5, 15)\n",
       "┌─────────────┬─────┬────────┬─────────────┬───┬────────────┬────────────┬────────────┬────────────┐\n",
       "│ date        ┆ ID  ┆ trial  ┆ impact      ┆ … ┆ contact    ┆ contact    ┆ contact    ┆ adhesive   │\n",
       "│ ---         ┆ --- ┆ number ┆ force (mN)  ┆   ┆ area       ┆ area with  ┆ pressure   ┆ strength   │\n",
       "│ str         ┆ str ┆ ---    ┆ ---         ┆   ┆ without    ┆ mucus /    ┆ (Pa)       ┆ (Pa)       │\n",
       "│             ┆     ┆ i64    ┆ i64         ┆   ┆ mucus (mm… ┆ cont…      ┆ ---        ┆ ---        │\n",
       "│             ┆     ┆        ┆             ┆   ┆ ---        ┆ ---        ┆ i64        ┆ i64        │\n",
       "│             ┆     ┆        ┆             ┆   ┆ i64        ┆ f64        ┆            ┆            │\n",
       "╞═════════════╪═════╪════════╪═════════════╪═══╪════════════╪════════════╪════════════╪════════════╡\n",
       "│ 2013_02_26  ┆ I   ┆ 3      ┆ 1205        ┆ … ┆ 70         ┆ 0.82       ┆ 3117       ┆ -2030      │\n",
       "│ 2013_02_26  ┆ I   ┆ 4      ┆ 2527        ┆ … ┆ 94         ┆ 0.07       ┆ 24923      ┆ -9695      │\n",
       "│ 2013_03_01  ┆ I   ┆ 1      ┆ 1745        ┆ … ┆ 79         ┆ 0.05       ┆ 21020      ┆ -10239     │\n",
       "│ 2013_03_01  ┆ I   ┆ 2      ┆ 1556        ┆ … ┆ 158        ┆ 0.52       ┆ 4718       ┆ -1381      │\n",
       "│ 2013_03_01  ┆ I   ┆ 3      ┆ 493         ┆ … ┆ 216        ┆ 0.12       ┆ 2012       ┆ -3975      │\n",
       "└─────────────┴─────┴────────┴─────────────┴───┴────────────┴────────────┴────────────┴────────────┘"
      ]
     },
     "execution_count": 3,
     "metadata": {},
     "output_type": "execute_result"
    }
   ],
   "source": [
    "df = pl.read_csv('data/frog_tongue_adhesion.csv', comment_prefix='#')\n",
    "\n",
    "# Take a look\n",
    "df.head()"
   ]
  },
  {
   "cell_type": "markdown",
   "metadata": {},
   "source": [
    "**b)** To extract the entries with strong adhesive strength, we need to use the `np.abs()` function to esure that the absolute value of the adhesive strength is above 2000."
   ]
  },
  {
   "cell_type": "code",
   "execution_count": 4,
   "metadata": {},
   "outputs": [
    {
     "data": {
      "text/html": [
       "<div><style>\n",
       ".dataframe > thead > tr,\n",
       ".dataframe > tbody > tr {\n",
       "  text-align: right;\n",
       "  white-space: pre-wrap;\n",
       "}\n",
       "</style>\n",
       "<small>shape: (48,)</small><table border=\"1\" class=\"dataframe\"><thead><tr><th>impact time (ms)</th></tr><tr><td>i64</td></tr></thead><tbody><tr><td>46</td></tr><tr><td>44</td></tr><tr><td>34</td></tr><tr><td>36</td></tr><tr><td>46</td></tr><tr><td>&hellip;</td></tr><tr><td>6</td></tr><tr><td>31</td></tr><tr><td>34</td></tr><tr><td>38</td></tr><tr><td>33</td></tr></tbody></table></div>"
      ],
      "text/plain": [
       "shape: (48,)\n",
       "Series: 'impact time (ms)' [i64]\n",
       "[\n",
       "\t46\n",
       "\t44\n",
       "\t34\n",
       "\t36\n",
       "\t46\n",
       "\t…\n",
       "\t6\n",
       "\t31\n",
       "\t34\n",
       "\t38\n",
       "\t33\n",
       "]"
      ]
     },
     "execution_count": 4,
     "metadata": {},
     "output_type": "execute_result"
    }
   ],
   "source": [
    "df.filter(pl.col('adhesive strength (Pa)').abs() > 2000)['impact time (ms)']"
   ]
  },
  {
   "cell_type": "code",
   "execution_count": 5,
   "metadata": {},
   "outputs": [
    {
     "data": {
      "text/html": [
       "<div><style>\n",
       ".dataframe > thead > tr,\n",
       ".dataframe > tbody > tr {\n",
       "  text-align: right;\n",
       "  white-space: pre-wrap;\n",
       "}\n",
       "</style>\n",
       "<small>shape: (20, 2)</small><table border=\"1\" class=\"dataframe\"><thead><tr><th>impact force (mN)</th><th>adhesive force (mN)</th></tr><tr><td>i64</td><td>i64</td></tr></thead><tbody><tr><td>1612</td><td>-655</td></tr><tr><td>605</td><td>-292</td></tr><tr><td>327</td><td>-246</td></tr><tr><td>946</td><td>-245</td></tr><tr><td>541</td><td>-553</td></tr><tr><td>&hellip;</td><td>&hellip;</td></tr><tr><td>515</td><td>-599</td></tr><tr><td>435</td><td>-364</td></tr><tr><td>383</td><td>-469</td></tr><tr><td>457</td><td>-844</td></tr><tr><td>730</td><td>-648</td></tr></tbody></table></div>"
      ],
      "text/plain": [
       "shape: (20, 2)\n",
       "┌───────────────────┬─────────────────────┐\n",
       "│ impact force (mN) ┆ adhesive force (mN) │\n",
       "│ ---               ┆ ---                 │\n",
       "│ i64               ┆ i64                 │\n",
       "╞═══════════════════╪═════════════════════╡\n",
       "│ 1612              ┆ -655                │\n",
       "│ 605               ┆ -292                │\n",
       "│ 327               ┆ -246                │\n",
       "│ 946               ┆ -245                │\n",
       "│ 541               ┆ -553                │\n",
       "│ …                 ┆ …                   │\n",
       "│ 515               ┆ -599                │\n",
       "│ 435               ┆ -364                │\n",
       "│ 383               ┆ -469                │\n",
       "│ 457               ┆ -844                │\n",
       "│ 730               ┆ -648                │\n",
       "└───────────────────┴─────────────────────┘"
      ]
     },
     "execution_count": 5,
     "metadata": {},
     "output_type": "execute_result"
    }
   ],
   "source": [
    "# c) Impact force and adhesive force for Frog II\n",
    "df.filter(pl.col('ID')=='II')[['impact force (mN)', 'adhesive force (mN)']]"
   ]
  },
  {
   "cell_type": "code",
   "execution_count": 6,
   "metadata": {},
   "outputs": [
    {
     "data": {
      "text/html": [
       "<div><style>\n",
       ".dataframe > thead > tr,\n",
       ".dataframe > tbody > tr {\n",
       "  text-align: right;\n",
       "  white-space: pre-wrap;\n",
       "}\n",
       "</style>\n",
       "<small>shape: (40, 2)</small><table border=\"1\" class=\"dataframe\"><thead><tr><th>adhesive force (mN)</th><th>time frog pulls on target (ms)</th></tr><tr><td>i64</td><td>i64</td></tr></thead><tbody><tr><td>-94</td><td>683</td></tr><tr><td>-163</td><td>245</td></tr><tr><td>-172</td><td>619</td></tr><tr><td>-225</td><td>1823</td></tr><tr><td>-301</td><td>918</td></tr><tr><td>&hellip;</td><td>&hellip;</td></tr><tr><td>-302</td><td>986</td></tr><tr><td>-216</td><td>1627</td></tr><tr><td>-163</td><td>2021</td></tr><tr><td>-367</td><td>1366</td></tr><tr><td>-218</td><td>1269</td></tr></tbody></table></div>"
      ],
      "text/plain": [
       "shape: (40, 2)\n",
       "┌─────────────────────┬────────────────────────────────┐\n",
       "│ adhesive force (mN) ┆ time frog pulls on target (ms) │\n",
       "│ ---                 ┆ ---                            │\n",
       "│ i64                 ┆ i64                            │\n",
       "╞═════════════════════╪════════════════════════════════╡\n",
       "│ -94                 ┆ 683                            │\n",
       "│ -163                ┆ 245                            │\n",
       "│ -172                ┆ 619                            │\n",
       "│ -225                ┆ 1823                           │\n",
       "│ -301                ┆ 918                            │\n",
       "│ …                   ┆ …                              │\n",
       "│ -302                ┆ 986                            │\n",
       "│ -216                ┆ 1627                           │\n",
       "│ -163                ┆ 2021                           │\n",
       "│ -367                ┆ 1366                           │\n",
       "│ -218                ┆ 1269                           │\n",
       "└─────────────────────┴────────────────────────────────┘"
      ]
     },
     "execution_count": 6,
     "metadata": {},
     "output_type": "execute_result"
    }
   ],
   "source": [
    "# d) Adhesive force and time frog pulls for frogs III and IV\n",
    "(\n",
    "    df\n",
    "    .filter(pl.col('ID').is_in(['III', 'IV']))\n",
    "    [[\"adhesive force (mN)\", \"time frog pulls on target (ms)\"]]\n",
    ")"
   ]
  },
  {
   "cell_type": "markdown",
   "metadata": {},
   "source": [
    "## Computing environment"
   ]
  },
  {
   "cell_type": "code",
   "execution_count": 7,
   "metadata": {
    "tags": [
     "hide-input"
    ]
   },
   "outputs": [
    {
     "name": "stdout",
     "output_type": "stream",
     "text": [
      "Python implementation: CPython\n",
      "Python version       : 3.13.5\n",
      "IPython version      : 9.4.0\n",
      "\n",
      "numpy     : 2.2.6\n",
      "polars    : 1.31.0\n",
      "jupyterlab: 4.4.5\n",
      "\n"
     ]
    }
   ],
   "source": [
    "%load_ext watermark\n",
    "%watermark -v -p numpy,polars,jupyterlab"
   ]
  }
 ],
 "metadata": {
  "anaconda-cloud": {},
  "kernelspec": {
   "display_name": "default",
   "language": "python",
   "name": "python3"
  },
  "language_info": {
   "codemirror_mode": {
    "name": "ipython",
    "version": 3
   },
   "file_extension": ".py",
   "mimetype": "text/x-python",
   "name": "python",
   "nbconvert_exporter": "python",
   "pygments_lexer": "ipython3",
   "version": "3.13.5"
  }
 },
 "nbformat": 4,
 "nbformat_minor": 4
}
