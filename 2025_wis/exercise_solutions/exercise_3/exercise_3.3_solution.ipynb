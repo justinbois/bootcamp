{
 "cells": [
  {
   "cell_type": "markdown",
   "metadata": {},
   "source": [
    "# Exercise 3.3: Adding data to a data frame\n",
    "\n",
    "<hr>"
   ]
  },
  {
   "cell_type": "code",
   "execution_count": 1,
   "metadata": {},
   "outputs": [],
   "source": [
    "import polars as pl"
   ]
  },
  {
   "cell_type": "markdown",
   "metadata": {},
   "source": [
    "<hr>\n",
    "\n",
    "We continue working with the frog tongue data. Recall that the header comments in the data file contained information about the frogs."
   ]
  },
  {
   "cell_type": "code",
   "execution_count": 2,
   "metadata": {},
   "outputs": [
    {
     "name": "stdout",
     "output_type": "stream",
     "text": [
      "# These data are from the paper,\n",
      "#   Kleinteich and Gorb, Sci. Rep., 4, 5225, 2014.\n",
      "# It was featured in the New York Times.\n",
      "#    http://www.nytimes.com/2014/08/25/science/a-frog-thats-a-living-breathing-pac-man.html\n",
      "#\n",
      "# The authors included the data in their supplemental information.\n",
      "#\n",
      "# Importantly, the ID refers to the identifites of the frogs they tested.\n",
      "#   I:   adult, 63 mm snout-vent-length (SVL) and 63.1 g body weight,\n",
      "#        Ceratophrys cranwelli crossed with Ceratophrys cornuta\n",
      "#   II:  adult, 70 mm SVL and 72.7 g body weight,\n",
      "#        Ceratophrys cranwelli crossed with Ceratophrys cornuta\n",
      "#   III: juvenile, 28 mm SVL and 12.7 g body weight, Ceratophrys cranwelli\n",
      "#   IV:  juvenile, 31 mm SVL and 12.7 g body weight, Ceratophrys cranwelli\n",
      "date,ID,trial number,impact force (mN),impact time (ms),impact force / body weight,adhesive force (mN),time frog pulls on target (ms),adhesive force / body weight,adhesive impulse (N-s),total contact area (mm2),contact area without mucus (mm2),contact area with mucus / contact area without mucus,contact pressure (Pa),adhesive strength (Pa)\n",
      "2013_02_26,I,3,1205,46,1.95,-785,884,1.27,-0.290,387,70,0.82,3117,-2030\n",
      "2013_02_26,I,4,2527,44,4.08,-983,248,1.59,-0.181,101,94,0.07,24923,-9695\n",
      "2013_03_01,I,1,1745,34,2.82,-850,211,1.37,-0.157,83,79,0.05,21020,-10239\n",
      "2013_03_01,I,2,1556,41,2.51,-455,1025,0.74,-0.170,330,158,0.52,4718,-1381\n",
      "2013_03_01,I,3,493,36,0.80,-974,499,1.57,-0.423,245,216,0.12,2012,-3975\n"
     ]
    }
   ],
   "source": [
    "!head -20 data/frog_tongue_adhesion.csv"
   ]
  },
  {
   "cell_type": "markdown",
   "metadata": {},
   "source": [
    "So, each frog has associated with it an age (adult or juvenile), snout-vent-length (SVL), body weight, and species (either cross or *cranwelli*). For a tidy data frame, we should have a column for each of these values. Your task is to load in the data, and then add these columns to the data frame. For convenience, here is a data frame with data about each frog."
   ]
  },
  {
   "cell_type": "code",
   "execution_count": 3,
   "metadata": {},
   "outputs": [],
   "source": [
    "df_frog = pl.DataFrame(\n",
    "    data={\n",
    "        \"ID\": [\"I\", \"II\", \"III\", \"IV\"],\n",
    "        \"age\": [\"adult\", \"adult\", \"juvenile\", \"juvenile\"],\n",
    "        \"SVL (mm)\": [63, 70, 28, 31],\n",
    "        \"weight (g)\": [63.1, 72.7, 12.7, 12.7],\n",
    "        \"species\": [\"cross\", \"cross\", \"cranwelli\", \"cranwelli\"],\n",
    "    }\n",
    ")"
   ]
  },
  {
   "cell_type": "markdown",
   "metadata": {},
   "source": [
    "Note: There are lots of ways to solve this problem. This is a good exercise in searching through the [Polars documentation](https://docs.pola.rs/) and other online resources. Until you have real mastery of a package, I  encourage you read the documentation instead of asking a chatbot to do it."
   ]
  },
  {
   "cell_type": "markdown",
   "metadata": {},
   "source": [
    "<br />"
   ]
  },
  {
   "cell_type": "markdown",
   "metadata": {},
   "source": [
    "## Solution\n",
    "\n",
    "<hr>"
   ]
  },
  {
   "cell_type": "markdown",
   "metadata": {},
   "source": [
    "The most direct way is to do a join. This function finds a common column between two `DataFrames`, and then uses that column to join them, filling in values that match in the common column. This is exactly what we want."
   ]
  },
  {
   "cell_type": "code",
   "execution_count": 4,
   "metadata": {},
   "outputs": [],
   "source": [
    "# Load the data\n",
    "df = pl.read_csv('data/frog_tongue_adhesion.csv', comment_prefix='#')\n",
    "\n",
    "# Perform merge\n",
    "df = df.join(df_frog, on='ID')"
   ]
  },
  {
   "cell_type": "markdown",
   "metadata": {},
   "source": [
    "Let's look at the `DataFrame` to make sure it has what we expect."
   ]
  },
  {
   "cell_type": "code",
   "execution_count": 5,
   "metadata": {},
   "outputs": [
    {
     "data": {
      "text/html": [
       "<div><style>\n",
       ".dataframe > thead > tr,\n",
       ".dataframe > tbody > tr {\n",
       "  text-align: right;\n",
       "  white-space: pre-wrap;\n",
       "}\n",
       "</style>\n",
       "<small>shape: (5, 19)</small><table border=\"1\" class=\"dataframe\"><thead><tr><th>date</th><th>ID</th><th>trial number</th><th>impact force (mN)</th><th>impact time (ms)</th><th>impact force / body weight</th><th>adhesive force (mN)</th><th>time frog pulls on target (ms)</th><th>adhesive force / body weight</th><th>adhesive impulse (N-s)</th><th>total contact area (mm2)</th><th>contact area without mucus (mm2)</th><th>contact area with mucus / contact area without mucus</th><th>contact pressure (Pa)</th><th>adhesive strength (Pa)</th><th>age</th><th>SVL (mm)</th><th>weight (g)</th><th>species</th></tr><tr><td>str</td><td>str</td><td>i64</td><td>i64</td><td>i64</td><td>f64</td><td>i64</td><td>i64</td><td>f64</td><td>f64</td><td>i64</td><td>i64</td><td>f64</td><td>i64</td><td>i64</td><td>str</td><td>i64</td><td>f64</td><td>str</td></tr></thead><tbody><tr><td>&quot;2013_02_26&quot;</td><td>&quot;I&quot;</td><td>3</td><td>1205</td><td>46</td><td>1.95</td><td>-785</td><td>884</td><td>1.27</td><td>-0.29</td><td>387</td><td>70</td><td>0.82</td><td>3117</td><td>-2030</td><td>&quot;adult&quot;</td><td>63</td><td>63.1</td><td>&quot;cross&quot;</td></tr><tr><td>&quot;2013_02_26&quot;</td><td>&quot;I&quot;</td><td>4</td><td>2527</td><td>44</td><td>4.08</td><td>-983</td><td>248</td><td>1.59</td><td>-0.181</td><td>101</td><td>94</td><td>0.07</td><td>24923</td><td>-9695</td><td>&quot;adult&quot;</td><td>63</td><td>63.1</td><td>&quot;cross&quot;</td></tr><tr><td>&quot;2013_03_01&quot;</td><td>&quot;I&quot;</td><td>1</td><td>1745</td><td>34</td><td>2.82</td><td>-850</td><td>211</td><td>1.37</td><td>-0.157</td><td>83</td><td>79</td><td>0.05</td><td>21020</td><td>-10239</td><td>&quot;adult&quot;</td><td>63</td><td>63.1</td><td>&quot;cross&quot;</td></tr><tr><td>&quot;2013_03_01&quot;</td><td>&quot;I&quot;</td><td>2</td><td>1556</td><td>41</td><td>2.51</td><td>-455</td><td>1025</td><td>0.74</td><td>-0.17</td><td>330</td><td>158</td><td>0.52</td><td>4718</td><td>-1381</td><td>&quot;adult&quot;</td><td>63</td><td>63.1</td><td>&quot;cross&quot;</td></tr><tr><td>&quot;2013_03_01&quot;</td><td>&quot;I&quot;</td><td>3</td><td>493</td><td>36</td><td>0.8</td><td>-974</td><td>499</td><td>1.57</td><td>-0.423</td><td>245</td><td>216</td><td>0.12</td><td>2012</td><td>-3975</td><td>&quot;adult&quot;</td><td>63</td><td>63.1</td><td>&quot;cross&quot;</td></tr></tbody></table></div>"
      ],
      "text/plain": [
       "shape: (5, 19)\n",
       "┌────────────┬─────┬──────────────┬──────────────┬───┬───────┬──────────┬────────────┬─────────┐\n",
       "│ date       ┆ ID  ┆ trial number ┆ impact force ┆ … ┆ age   ┆ SVL (mm) ┆ weight (g) ┆ species │\n",
       "│ ---        ┆ --- ┆ ---          ┆ (mN)         ┆   ┆ ---   ┆ ---      ┆ ---        ┆ ---     │\n",
       "│ str        ┆ str ┆ i64          ┆ ---          ┆   ┆ str   ┆ i64      ┆ f64        ┆ str     │\n",
       "│            ┆     ┆              ┆ i64          ┆   ┆       ┆          ┆            ┆         │\n",
       "╞════════════╪═════╪══════════════╪══════════════╪═══╪═══════╪══════════╪════════════╪═════════╡\n",
       "│ 2013_02_26 ┆ I   ┆ 3            ┆ 1205         ┆ … ┆ adult ┆ 63       ┆ 63.1       ┆ cross   │\n",
       "│ 2013_02_26 ┆ I   ┆ 4            ┆ 2527         ┆ … ┆ adult ┆ 63       ┆ 63.1       ┆ cross   │\n",
       "│ 2013_03_01 ┆ I   ┆ 1            ┆ 1745         ┆ … ┆ adult ┆ 63       ┆ 63.1       ┆ cross   │\n",
       "│ 2013_03_01 ┆ I   ┆ 2            ┆ 1556         ┆ … ┆ adult ┆ 63       ┆ 63.1       ┆ cross   │\n",
       "│ 2013_03_01 ┆ I   ┆ 3            ┆ 493          ┆ … ┆ adult ┆ 63       ┆ 63.1       ┆ cross   │\n",
       "└────────────┴─────┴──────────────┴──────────────┴───┴───────┴──────────┴────────────┴─────────┘"
      ]
     },
     "execution_count": 5,
     "metadata": {},
     "output_type": "execute_result"
    }
   ],
   "source": [
    "df.head()"
   ]
  },
  {
   "cell_type": "markdown",
   "metadata": {},
   "source": [
    "## Computing environment"
   ]
  },
  {
   "cell_type": "code",
   "execution_count": 6,
   "metadata": {
    "tags": [
     "hide-input"
    ]
   },
   "outputs": [
    {
     "name": "stdout",
     "output_type": "stream",
     "text": [
      "Python implementation: CPython\n",
      "Python version       : 3.13.5\n",
      "IPython version      : 9.4.0\n",
      "\n",
      "polars    : 1.31.0\n",
      "jupyterlab: 4.4.5\n",
      "\n"
     ]
    }
   ],
   "source": [
    "%load_ext watermark\n",
    "%watermark -v -p polars,jupyterlab"
   ]
  }
 ],
 "metadata": {
  "anaconda-cloud": {},
  "kernelspec": {
   "display_name": "default",
   "language": "python",
   "name": "python3"
  },
  "language_info": {
   "codemirror_mode": {
    "name": "ipython",
    "version": 3
   },
   "file_extension": ".py",
   "mimetype": "text/x-python",
   "name": "python",
   "nbconvert_exporter": "python",
   "pygments_lexer": "ipython3",
   "version": "3.13.5"
  }
 },
 "nbformat": 4,
 "nbformat_minor": 4
}
